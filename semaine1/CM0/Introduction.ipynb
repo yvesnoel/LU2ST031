{
 "cells": [
  {
   "cell_type": "markdown",
   "id": "b5c3ec27-0bfa-49d2-86f7-ca24797393d3",
   "metadata": {
    "tags": [],
    "user_expressions": []
   },
   "source": [
    "## Introduction\n",
    "### Syllabus\n",
    "### Les objectifs\n",
    "### L'évaluation\n",
    "### L'organisation pédagogique\n",
    "#### Le semainier\n",
    "#### Les différents types de séances\n",
    "#### Les différents supports\n",
    "##### Le cours (jupyter-book)\n",
    "##### Les questions de cours (quiz)\n",
    "##### les TP : notebooks, coderuner, spyder"
   ]
  }
 ],
 "metadata": {
  "kernelspec": {
   "display_name": "Python 3 (ipykernel)",
   "language": "python",
   "name": "python3"
  },
  "language_info": {
   "codemirror_mode": {
    "name": "ipython",
    "version": 3
   },
   "file_extension": ".py",
   "mimetype": "text/x-python",
   "name": "python",
   "nbconvert_exporter": "python",
   "pygments_lexer": "ipython3",
   "version": "3.9.13"
  }
 },
 "nbformat": 4,
 "nbformat_minor": 5
}

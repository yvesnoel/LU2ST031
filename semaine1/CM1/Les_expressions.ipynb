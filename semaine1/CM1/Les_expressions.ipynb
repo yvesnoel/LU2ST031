{
 "cells": [
  {
   "cell_type": "markdown",
   "id": "702bd92d-0b03-4bff-b756-ae1b34775eb2",
   "metadata": {
    "tags": [],
    "user_expressions": []
   },
   "source": [
    "# Cours n° 1\n",
    "## Les expressions Python\n",
    "```{note}\n",
    "Le cours de cette semaine est sous forme d'un notebook jupyter. Vous devez le lire intégralement puis répondre aux questions de cours qui le composent et soumettre votre travail.\n",
    "```"
   ]
  },
  {
   "cell_type": "markdown",
   "id": "343cc287-2af2-449d-811d-9a724496fadd",
   "metadata": {
    "tags": [],
    "user_expressions": []
   },
   "source": [
    "### Qu'est ce qu'une expression ?\n",
    "Une expression est un morceau de code qui est évalué par Python. L'interprétation de ce code donne une valeur. On parle d'expressions simples lorsqu'elles sont uniquement constituées d'une valeur. \n",
    "### Les différents types de valeurs\n",
    "On peut distinguer plusieurs types de valeurs :"
   ]
  },
  {
   "cell_type": "markdown",
   "id": "002d5318-296c-4013-8966-dd4ba535285b",
   "metadata": {
    "tags": [],
    "user_expressions": []
   },
   "source": [
    "- Des nombres entiers (*integers* en anglais, *int* pour Python)"
   ]
  },
  {
   "cell_type": "code",
   "execution_count": 1,
   "id": "8b919b5a-b568-422d-bdbe-d76c8f46931c",
   "metadata": {
    "tags": [],
    "user_expressions": []
   },
   "outputs": [
    {
     "data": {
      "text/plain": [
       "1789"
      ]
     },
     "execution_count": 1,
     "metadata": {},
     "output_type": "execute_result"
    }
   ],
   "source": [
    "1789"
   ]
  },
  {
   "cell_type": "markdown",
   "id": "81fa6bd2-ebe3-4bfe-a837-bc6afe973594",
   "metadata": {
    "tags": [],
    "user_expressions": []
   },
   "source": [
    "- Des nombres à virgule (*float* pour Python)"
   ]
  },
  {
   "cell_type": "code",
   "execution_count": 2,
   "id": "adc1ed4d-deba-4c0d-b2c2-cc48d9d2d15d",
   "metadata": {},
   "outputs": [
    {
     "data": {
      "text/plain": [
       "3.14159"
      ]
     },
     "execution_count": 2,
     "metadata": {},
     "output_type": "execute_result"
    }
   ],
   "source": [
    "3.14159"
   ]
  },
  {
   "cell_type": "markdown",
   "id": "983bc71a-cdbe-48b7-8966-f7f63715f7ef",
   "metadata": {
    "tags": [],
    "user_expressions": []
   },
   "source": [
    "```{admonition} Attention\n",
    ":class: caution\n",
    "En python le séparateur décimal est un point (`.`) et non une virgule (`,`)\n",
    "```"
   ]
  },
  {
   "cell_type": "markdown",
   "id": "ee941bef-2d01-4825-94a8-b07d3db1924b",
   "metadata": {
    "tags": [],
    "user_expressions": []
   },
   "source": [
    "- Du texte qu'on appellera chaine de caractères (*strings* en anglais, *str* pour Python)"
   ]
  },
  {
   "cell_type": "markdown",
   "id": "d60cd09a-f186-4bfc-980d-9f1697d32908",
   "metadata": {
    "tags": [],
    "user_expressions": []
   },
   "source": [
    "```{note}\n",
    "Les caractères qui forment une chaîne de caractères sont entourrés par des apostrophes (`'`). Ceci est nécessaire à Python pour que l'interpréteur reconnaisse l'expression comme une chaine.\n",
    "```"
   ]
  },
  {
   "cell_type": "code",
   "execution_count": 3,
   "id": "8dffe8d4-1918-41af-a057-61eeb9c1751b",
   "metadata": {},
   "outputs": [
    {
     "data": {
      "text/plain": [
       "'Hello !'"
      ]
     },
     "execution_count": 3,
     "metadata": {},
     "output_type": "execute_result"
    }
   ],
   "source": [
    "'Hello !'"
   ]
  },
  {
   "cell_type": "markdown",
   "id": "7f30487b-6f3c-471d-8d03-0dfedea0d6c3",
   "metadata": {
    "tags": [],
    "user_expressions": []
   },
   "source": [
    "- Une valeur booléenne (*logical* en anglais et en Python)"
   ]
  },
  {
   "cell_type": "code",
   "execution_count": 4,
   "id": "49885b32-2510-4a88-98bd-bd5be90f882d",
   "metadata": {},
   "outputs": [
    {
     "data": {
      "text/plain": [
       "True"
      ]
     },
     "execution_count": 4,
     "metadata": {},
     "output_type": "execute_result"
    }
   ],
   "source": [
    "True"
   ]
  },
  {
   "cell_type": "markdown",
   "id": "4f508c78-2bcc-4e8f-9c66-ec616835c127",
   "metadata": {
    "tags": [],
    "user_expressions": []
   },
   "source": [
    "```{note}\n",
    "Les valeurs booléennes ne peuvent prendre que 2 valeurs : vrai (`True`) ou faux (`False`). Nous reviendrons plus tard sur ce type de valeur.\n",
    "```"
   ]
  },
  {
   "cell_type": "markdown",
   "id": "4c40fc1f-7a33-492c-842c-a30afb0e3df6",
   "metadata": {
    "tags": [],
    "user_expressions": []
   },
   "source": [
    "Toutes les valeurs ci-dessus sont aussi des expressions que l'on appelle expressions simples. Il est aussi possible de construire des expressions plus complexes qui contiennent des opérations. Ces opérations s'appuient en général sur 2 valeurs (on parle d'opérateurs binaires) ou parfois un seule valeur (opérateur unaire). Evidemment la ou les valeurs utilisées par l'opérateur peuvent être de types variés."
   ]
  },
  {
   "cell_type": "markdown",
   "id": "7f4a614a-64c8-4c62-9bb9-819d2c8f6def",
   "metadata": {
    "tags": [],
    "user_expressions": []
   },
   "source": [
    "#### Exemples\n",
    "- une opération avec 2 entiers donnant un entier"
   ]
  },
  {
   "cell_type": "code",
   "execution_count": 5,
   "id": "6345c666-a42b-4987-be79-1af20b4697e4",
   "metadata": {},
   "outputs": [
    {
     "data": {
      "text/plain": [
       "5"
      ]
     },
     "execution_count": 5,
     "metadata": {},
     "output_type": "execute_result"
    }
   ],
   "source": [
    "2 + 3"
   ]
  },
  {
   "cell_type": "markdown",
   "id": "f3c3d4db-d69c-4a87-9de9-14ece2214afd",
   "metadata": {
    "tags": [],
    "user_expressions": []
   },
   "source": [
    "- une opération avec 2 entiers donnant un flottant"
   ]
  },
  {
   "cell_type": "code",
   "execution_count": 7,
   "id": "a1062d74-9d06-4d5d-a195-c244e6b61b37",
   "metadata": {},
   "outputs": [
    {
     "data": {
      "text/plain": [
       "2.0"
      ]
     },
     "execution_count": 7,
     "metadata": {},
     "output_type": "execute_result"
    }
   ],
   "source": [
    "8 / 4"
   ]
  },
  {
   "cell_type": "markdown",
   "id": "dcea5ee4-1bb1-4f7c-9963-b0d8d7d6c71c",
   "metadata": {
    "tags": [],
    "user_expressions": []
   },
   "source": [
    "- une opération avec un entier et un flottant donnant un flotant."
   ]
  },
  {
   "cell_type": "code",
   "execution_count": 14,
   "id": "9a6aeeb9-44db-42cf-805b-4e5bed67be2d",
   "metadata": {},
   "outputs": [
    {
     "data": {
      "text/plain": [
       "12.8"
      ]
     },
     "execution_count": 14,
     "metadata": {},
     "output_type": "execute_result"
    }
   ],
   "source": [
    "4 * 3.2"
   ]
  },
  {
   "cell_type": "markdown",
   "id": "657c3f97-c3f2-4c52-99ab-4ad215593848",
   "metadata": {
    "tags": [],
    "user_expressions": []
   },
   "source": [
    ":::{note}\n",
    "L'entier est en fait converti en flottant par python avant d'effectuer l'opération. Nous verrons les conversions de type plus tard dans le cours.\n",
    ":::"
   ]
  },
  {
   "cell_type": "markdown",
   "id": "7f98f118-2f4b-4632-a10a-4987f0c498f5",
   "metadata": {
    "tags": [],
    "user_expressions": []
   },
   "source": [
    "- une opération avec une seule valeur booléenne"
   ]
  },
  {
   "cell_type": "code",
   "execution_count": 12,
   "id": "23ec21c7-6b4c-4089-921f-ecac48a91b3c",
   "metadata": {},
   "outputs": [
    {
     "data": {
      "text/plain": [
       "True"
      ]
     },
     "execution_count": 12,
     "metadata": {},
     "output_type": "execute_result"
    }
   ],
   "source": [
    " not False"
   ]
  },
  {
   "cell_type": "code",
   "execution_count": null,
   "id": "1d24e313-dadb-4502-bd75-26e9afd1c9c6",
   "metadata": {},
   "outputs": [],
   "source": []
  }
 ],
 "metadata": {
  "kernelspec": {
   "display_name": "Python 3 (ipykernel)",
   "language": "python",
   "name": "python3"
  },
  "language_info": {
   "codemirror_mode": {
    "name": "ipython",
    "version": 3
   },
   "file_extension": ".py",
   "mimetype": "text/x-python",
   "name": "python",
   "nbconvert_exporter": "python",
   "pygments_lexer": "ipython3",
   "version": "3.9.2"
  },
  "toc-autonumbering": false,
  "toc-showcode": true,
  "toc-showmarkdowntxt": true
 },
 "nbformat": 4,
 "nbformat_minor": 5
}

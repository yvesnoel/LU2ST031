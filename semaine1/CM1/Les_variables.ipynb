{
 "cells": [
  {
   "cell_type": "markdown",
   "id": "a2ceb98d-3a47-4032-8ad9-b7fb28f42000",
   "metadata": {
    "tags": [],
    "user_expressions": []
   },
   "source": [
    "# Les variables\n",
    "[![Binder](https://mybinder.org/badge_logo.svg)](https://mybinder.org/v2/gh/yvesnoel/LU2ST031.git/master?labpath=semaine1%2FCM1%2FLes_variables.ipynb)\n",
    "```{admonition} Objectifs\n",
    ":class: hint\n",
    "A l'issue de ce chapître, vous serez capable \n",
    "- d'affecter le résultat d'une expression à une variable\n",
    "- d'utiliser le contenu d'une variable dans une expression\n",
    "- de reconnaître le type d'une variable déjà existante\n",
    "- de modifier le contenu d'une variable déjà existante\n",
    "\n",
    "```"
   ]
  },
  {
   "cell_type": "markdown",
   "id": "8b4d1ac4-e247-410f-8f54-29d727a52c06",
   "metadata": {
    "tags": [],
    "user_expressions": []
   },
   "source": [
    "## Le principe\n",
    "Une variable permet de repérer, à l'aide d'un nom, des zones de la mémoire de l'ordinateur où sont stockées des valeurs. On peut donc écrire une valeur dans une variable, on parle alors d'__affectation__. On peut aussi lire le contenu d'une variable pour l'utiliser dans une expression. Le type d'une variable correspond au type de l'expression qu'elle contient. Comme nous l'avons précédemment, les trois types principaux sont : les entiers (`integer`), les nombres à virgule (`float`), les chaines de caractères (`str`) et les booléens (`bool`)."
   ]
  },
  {
   "cell_type": "markdown",
   "id": "84baee88-7b9f-48ca-a09d-95d8b4c5a51c",
   "metadata": {
    "user_expressions": []
   },
   "source": [
    "## La syntaxe"
   ]
  },
  {
   "cell_type": "code",
   "execution_count": null,
   "id": "a97ccb55-1b5d-4e05-a790-41278d7d765f",
   "metadata": {},
   "outputs": [],
   "source": []
  }
 ],
 "metadata": {
  "kernelspec": {
   "display_name": "Python 3 (ipykernel)",
   "language": "python",
   "name": "python3"
  },
  "language_info": {
   "codemirror_mode": {
    "name": "ipython",
    "version": 3
   },
   "file_extension": ".py",
   "mimetype": "text/x-python",
   "name": "python",
   "nbconvert_exporter": "python",
   "pygments_lexer": "ipython3",
   "version": "3.9.13"
  }
 },
 "nbformat": 4,
 "nbformat_minor": 5
}

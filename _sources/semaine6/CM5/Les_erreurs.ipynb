{
 "cells": [
  {
   "cell_type": "markdown",
   "id": "67f33823-6df3-4a25-a4d2-acef7f45ea72",
   "metadata": {
    "user_expressions": []
   },
   "source": [
    "# Les messages d'erreur"
   ]
  },
  {
   "cell_type": "code",
   "execution_count": null,
   "id": "f3d80cfb-28cc-4a05-b665-6b4c12c75440",
   "metadata": {},
   "outputs": [],
   "source": []
  }
 ],
 "metadata": {
  "kernelspec": {
   "display_name": "Python 3 (ipykernel)",
   "language": "python",
   "name": "python3"
  },
  "language_info": {
   "codemirror_mode": {
    "name": "ipython",
    "version": 3
   },
   "file_extension": ".py",
   "mimetype": "text/x-python",
   "name": "python",
   "nbconvert_exporter": "python",
   "pygments_lexer": "ipython3",
   "version": "3.9.13"
  }
 },
 "nbformat": 4,
 "nbformat_minor": 5
}

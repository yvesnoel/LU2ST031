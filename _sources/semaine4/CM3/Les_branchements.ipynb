{
 "cells": [
  {
   "cell_type": "markdown",
   "id": "f6029584-2453-4014-8be5-785698c6b6fd",
   "metadata": {
    "tags": [],
    "user_expressions": []
   },
   "source": [
    "# `if` : l'instruction pour créer des branchements \n",
    "[![Binder](https://mybinder.org/badge_logo.svg)](https://mybinder.org/v2/gh/yvesnoel/LU2ST031.git/master?labpath=semaine4%2FCM3%2FLes_branchements.ipynb)\n",
    "```{admonition} Objectifs\n",
    ":class: hint\n",
    "A l'issue de ce chapître, vous serez capable de :\n",
    "- suivre le déroulement pas à pas d'un code Python contenant un ou plusieurs branchements\n",
    "- mettre en place un branchement (avec ou sans alternative) pour conditionner déroulement d'une partie de votre code Python\n",
    "- indenter votre code pour marquer des blocs (dont les blocs des branchements)\n",
    "- faire la différence entre des branchements imbriqués et des branchements consécutifs\n",
    "- mettre en place tous les tests nécessaires, correspondant à tous les chemins possibles, afin de verifier le bon déroulement de votre code Python\n",
    "```"
   ]
  },
  {
   "cell_type": "markdown",
   "id": "5c67a5a6-9e6d-4368-844b-2de0a68ac22e",
   "metadata": {
    "tags": [],
    "user_expressions": []
   },
   "source": [
    "```{admonition} Remarque\n",
    ":class: note\n",
    "Dans ce chapitre, des nuémros de ligne, sont insérés en tête de ligne à gauche de chaque morceau de code. Cela facilite les commentaires.\n",
    "```"
   ]
  },
  {
   "cell_type": "markdown",
   "id": "97d32572-e595-4770-a516-72918aa442f6",
   "metadata": {
    "tags": [],
    "user_expressions": []
   },
   "source": [
    "L'instruction `if` permet de créer des branchements dans votre code Python ; c'est à dire de conditionner l'execution d'une partie de votre code selon la valeur d'une [expression booléenne](L_expressionsBooleennes)."
   ]
  },
  {
   "cell_type": "code",
   "execution_count": 2,
   "id": "29cc2a3e-6662-4424-bea9-583b86a9a44a",
   "metadata": {
    "number_source_lines": true,
    "tags": []
   },
   "outputs": [
    {
     "name": "stdout",
     "output_type": "stream",
     "text": [
      "x est strictement plus grand que 5\n"
     ]
    }
   ],
   "source": [
    "x = 10\n",
    "if x > 5 :\n",
    "    print(\"x est strictement plus grand que 5\")"
   ]
  },
  {
   "cell_type": "markdown",
   "id": "559a5593-1df3-4723-8a5a-04bca96f5fcf",
   "metadata": {
    "tags": [],
    "user_expressions": []
   },
   "source": [
    "Dans le code ci-dessus, l'instruction `if` apparait à la ligne 2. Le `if` est suivi d'une expression booléenne `x > 5` et terminée par un `:`. \n",
    "Le bloc d'instructions qui sera exécuté si l'expression booléenne vaut `True` est uniquement composé de la ligne 3. \n",
    "Afin de spécifier, que l'instruction de la ligne 3 fait partie du bloc soumis à la condition de la ligne 2, une indentation doit être appliquée. \n",
    "Pour ce faire, il faut insérer une tabulation ou 4 espaces. \n",
    "Décrivons maintenant ce qui se passe lors de l'exécution du code Python ci-dessus. A la ligne 1, la valeur 10 est affectée à la variable `x`.\n",
    "Ligne 2 l'expression booléenne `x > 5` est évaluée : l'expression se ramène à la valeur `True` puisque 10 est plus grand que 5. Le code exécutera donc le bloc conditionnel qui est constitué d'un simple appel à la fonction `print` ce qui affiche à l'écran `x est strictement plus grand que 5`.\n",
    "\n",
    "Pour terminer le bloc conditionnel, et écrire une ligne de code qui soit exécutée sans condition, il suffit d'aligner à nouveau ligne de code avec le `if`."
   ]
  },
  {
   "cell_type": "code",
   "execution_count": 3,
   "id": "6f51e435-a9b0-45d0-a2b0-22015592e7cd",
   "metadata": {},
   "outputs": [
    {
     "name": "stdout",
     "output_type": "stream",
     "text": [
      "Ce message sera affiché quelque soit la valeur de x\n"
     ]
    }
   ],
   "source": [
    "x = 0\n",
    "if x > 5 :\n",
    "    print(\"x est strictement plus grand que 5\")\n",
    "    print(\"Deuxième message dans le bloc conditionnel\")\n",
    "print(\"Ce message sera affiché quelque soit la valeur de x\")"
   ]
  },
  {
   "cell_type": "code",
   "execution_count": null,
   "id": "5979394d-d300-41ce-a92c-77130816432c",
   "metadata": {},
   "outputs": [],
   "source": [
    "x = 10\n",
    "if x > 5 :\n",
    "    print(\"x est strictement plus grand que 5\")\n",
    "    print(\"Deuxième message dans le bloc conditionnel\")\n",
    "print(\"Ce message sera affiché quelque soit la valeur de x\")"
   ]
  },
  {
   "cell_type": "markdown",
   "id": "51925373-b594-45a1-9f99-1b101c1a1573",
   "metadata": {
    "tags": [],
    "user_expressions": []
   },
   "source": [
    "Il est aussi possible d'ajouter un bloc conditionnel qui sera éxecuté uniquement dans le cas où l'expression booléenne qui suit le `if` vaut `False` grâce à l'instruction `else`. Le bloc qui suit le `if`est appelé _bloc conséquent_ et le bloc qui suit le `else` est appelé _bloc alternant_."
   ]
  },
  {
   "cell_type": "code",
   "execution_count": 6,
   "id": "edacb82e-0c63-4a9d-9a2e-4d25251832ce",
   "metadata": {},
   "outputs": [
    {
     "name": "stdout",
     "output_type": "stream",
     "text": [
      "x est inférieur ou égal à 5\n",
      "Deuxième message dans le bloc alterant\n",
      "Ce message sera affiché quelque soit la valeur de x\n"
     ]
    }
   ],
   "source": [
    "x = 3\n",
    "if x > 5 :\n",
    "    print(\"x est strictement plus grand que 5\")\n",
    "    print(\"Deuxième message dans le bloc conséquent\")\n",
    "else :\n",
    "    print(\"x est inférieur ou égal à 5\")\n",
    "    print(\"Deuxième message dans le bloc alterant\")\n",
    "print(\"Ce message sera affiché quelque soit la valeur de x\")"
   ]
  },
  {
   "cell_type": "markdown",
   "id": "0f532141-a10a-4ba0-a73f-97911d21af88",
   "metadata": {
    "tags": [],
    "user_expressions": []
   },
   "source": [
    "```{admonition} À vous de jouer\n",
    ":class: question\n",
    "Créez un code qui affiche le message _\"Le nombre entier x est pair\"_ quand l'entier contenu dans la variable x est pair et le message _\"Le nombre entier x est impair\"_ dans le cas contraire. N'oubliez pas de tester le bon fonctionnement de votre code en affectant  différentes valeurs entières à la variable `x` au début de votre code.\n",
    "```"
   ]
  },
  {
   "cell_type": "code",
   "execution_count": null,
   "id": "02d673ce-e2b5-4554-8bd2-c4a0ebfd4be7",
   "metadata": {
    "mystnb": {
     "remove-input": true
    },
    "tags": [
     "remove-input"
    ]
   },
   "outputs": [],
   "source": [
    "x = 10\n",
    "if (x % 2) == 0 :\n",
    "    print(\"Le nombre entier x est pair\")\n",
    "else :\n",
    "    print(\"Le nombre entier x est impair\")"
   ]
  },
  {
   "cell_type": "markdown",
   "id": "441a23ad-5d58-45a7-b338-2620a519c299",
   "metadata": {
    "tags": [],
    "user_expressions": []
   },
   "source": [
    "On peut aussi créer des code Python plus complexes en utilsant d'autres `if` dans un bloc se situant lui aussi dans un autre `if`. On parle alors de _if imbriqués_."
   ]
  },
  {
   "cell_type": "code",
   "execution_count": 8,
   "id": "aca10e1e-22c7-4864-ad1c-9fe7b91d4689",
   "metadata": {},
   "outputs": [
    {
     "name": "stdout",
     "output_type": "stream",
     "text": [
      "n est strictement positif\n",
      "Ceci est un exemple de if imbriqués\n"
     ]
    }
   ],
   "source": [
    "n = 5\n",
    "if n > 0 :\n",
    "    print(\"n est strictement positif\")\n",
    "else :\n",
    "    if n < 0 :\n",
    "        print(\"n est strictement négatif\")\n",
    "    else :\n",
    "        print(\"n est nul\")\n",
    "print(\"Ceci est un exemple de if imbriqués\")     "
   ]
  },
  {
   "cell_type": "code",
   "execution_count": 9,
   "id": "9ddc8ff6-2b20-45d3-ac65-7845e0a3855d",
   "metadata": {},
   "outputs": [
    {
     "name": "stdout",
     "output_type": "stream",
     "text": [
      "n est strictement positif\n",
      "n est nul\n",
      "Ceci est un exemple de if successifs\n"
     ]
    }
   ],
   "source": [
    "n = 5\n",
    "if n > 0 :\n",
    "    print(\"n est strictement positif\")\n",
    "if n < 0 :\n",
    "    print(\"n est strictement négatif\")\n",
    "else :\n",
    "    print(\"n est nul\")\n",
    "print(\"Ceci est un exemple de if successifs\")     "
   ]
  },
  {
   "cell_type": "markdown",
   "id": "3ee3d816-2140-417c-9edb-c2d29a4ac29c",
   "metadata": {
    "tags": [],
    "user_expressions": []
   },
   "source": [
    "Le code ci-dessus ne se comporte pas comme on l'aurait voulu. Voici pourquoi :\\\n",
    "Ligne 2, l'expression n > 0 vaut True puisque 5 > 0. \n",
    "L'exécution se poursuit donc ligne 3, à l'intérieur du bloc conséquent du premier if et imprime à l'écran le message \"n est strictement positif\".\n",
    "Ligne 4, l'expression n < 0 vaut False puisque 5 < 0. \n",
    "L'exécution se poursuit donc ligne 7, à l'intérieur du bloc alternant du deuxième if et imprime à l'écran le message \"n est nul\".\n",
    "Enfin, on passe à la ligne 8 qui n'est pas soumise à condition et imprime le message \"Ceci est un exemple de if successifs\"."
   ]
  },
  {
   "cell_type": "markdown",
   "id": "603f9b74-d9c0-40bb-a634-cce2a23820de",
   "metadata": {
    "tags": [],
    "user_expressions": []
   },
   "source": [
    "```{admonition} À vous de jouer\n",
    ":class: question\n",
    "Créez un code qui affecte un nombre entier à la variable `v`. Puis : \n",
    "- lorsque ce nombre entier est un nombre pair, on lui ajoute 1 et vérifie si cette somme est un multiple de 3. Quand c'est le cas on le divise par 3. \n",
    "- lorsque le nombre entier de départ est impair, on lui ajoute 3. \n",
    "- Enfin on imprime à l'écran le nombre obtenu.\n",
    "```"
   ]
  },
  {
   "cell_type": "code",
   "execution_count": 14,
   "id": "44cdda79-dfd3-4692-9682-987e0f78221f",
   "metadata": {
    "tags": [
     "remove-input"
    ]
   },
   "outputs": [
    {
     "name": "stdout",
     "output_type": "stream",
     "text": [
      "7\n"
     ]
    }
   ],
   "source": [
    "v = 6\n",
    "if (v % 2) == 0 :\n",
    "    v += 1\n",
    "    if (v % 3 == 0) :\n",
    "        v//=3\n",
    "else :\n",
    "    v+=3\n",
    "print(v)\n",
    "        "
   ]
  }
 ],
 "metadata": {
  "kernelspec": {
   "display_name": "Python 3 (ipykernel)",
   "language": "python",
   "name": "python3"
  },
  "language_info": {
   "codemirror_mode": {
    "name": "ipython",
    "version": 3
   },
   "file_extension": ".py",
   "mimetype": "text/x-python",
   "name": "python",
   "nbconvert_exporter": "python",
   "pygments_lexer": "ipython3",
   "version": "3.9.13"
  },
  "mystnb": {
   "number_source_lines": true
  }
 },
 "nbformat": 4,
 "nbformat_minor": 5
}

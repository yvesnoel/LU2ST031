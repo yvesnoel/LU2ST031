{
 "cells": [
  {
   "cell_type": "markdown",
   "id": "b5c3ec27-0bfa-49d2-86f7-ca24797393d3",
   "metadata": {
    "tags": [],
    "user_expressions": []
   },
   "source": [
    "[![licence](https://img.shields.io/badge/License-CC%20BY--NC%204.0-lightgrey.svg)](https://creativecommons.org/licenses/by-nc-sa/4.0/deed.fr)\n",
    "\n",
    "```{image} ../../images/illustration.png\n",
    ":alt: digital-earth\n",
    ":class: bg-primary mb-1\n",
    ":width: 200px\n",
    ":align: center\n",
    "```\n",
    "\n",
    "# Introduction\n",
    "\n",
    "## Bienvenue\n",
    "Bienvenue dans le cours de Python pour les Géosciences. Ce cours a été conçu pour s'intégrer dans un enseignement de 2ème année de Licence de Sciences de la Terre à Sorbonne Université intitulé *Informatique pour les Géosciences (LU2ST031)*. Cette unité d'enseignement est proposée aux étudiants sous un format hybride. L'apprentissage des connaissances (classiquement appelée Cours Magistraux) s'appuie sur ce cours que les étudiants travaillent de manière autonome, chaque semaine. Ce cours est complété par des Travaux Pratiques hebdomadaires ainsi que des séances de tutorats pour les étdiants qui rencontrent le plus de difficultés.\n",
    "\n",
    "## Le support de ce cours\n",
    "[![jupyter](https://img.shields.io/badge/Made%20with-Jupyter-orange?style=flat&logo=Jupyter)](https://jupyter.org/try)\n",
    "Ce cours a été réalisé à l'aide de jupyter-book. Jupyterbook permet de transformer des notebooks Jupyter en pages web statiques. Il est toutefois possibles de les rendre à nouveau exécutables grâce à Binder ou Livecode ce qui vous permet de changer les exemples du cours pour vérifier que vous avez bien compris.\n",
    "\n",
    "## Pourquoi l'informatique en géosciences?\n",
    "A développer\n",
    "* En géosciences les données sont très présentes : issues d'appareils de mesure ou de bases de données. \n",
    "* Données souvent très voluminineuses donc traitement à la main ou tableur extrèmement difficile.\n",
    "* Données souvent bruitées donc nécessitant un pré-traitement\n",
    "* analyse des données\n",
    "* Représentation des données pour les comprendre\n",
    "* Utilisation et construction de modèles\n"
   ]
  },
  {
   "cell_type": "code",
   "execution_count": null,
   "id": "9debb402-db3d-4be3-8f2f-f5dfc48a9dcc",
   "metadata": {},
   "outputs": [],
   "source": []
  }
 ],
 "metadata": {
  "kernelspec": {
   "display_name": "Python 3 (ipykernel)",
   "language": "python",
   "name": "python3"
  },
  "language_info": {
   "codemirror_mode": {
    "name": "ipython",
    "version": 3
   },
   "file_extension": ".py",
   "mimetype": "text/x-python",
   "name": "python",
   "nbconvert_exporter": "python",
   "pygments_lexer": "ipython3",
   "version": "3.9.13"
  }
 },
 "nbformat": 4,
 "nbformat_minor": 5
}

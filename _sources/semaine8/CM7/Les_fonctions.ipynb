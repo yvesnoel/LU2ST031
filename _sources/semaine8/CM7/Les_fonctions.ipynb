{
 "cells": [
  {
   "cell_type": "markdown",
   "id": "641c5345-c5fe-4d64-9e60-a90d314decaa",
   "metadata": {
    "user_expressions": []
   },
   "source": [
    "# Les fonctions\n",
    "[![Binder](https://mybinder.org/badge_logo.svg)](https://mybinder.org/v2/gh/yvesnoel/LU2ST031.git/master?labpath=semaine8%2FCM7%2FLes_fonctions.ipynb)\n",
    "```{admonition} Objectifs\n",
    ":class: hint\n",
    "A l'issue de ce chapître, vous serez capable de :\n",
    "- appeler une fonction déjà définie\n",
    "- récupérer ce qui est renvoyé par une fonction\n",
    "- expliquer la différence entre définition et appel d'une fonction\n",
    "- écrire la définition d'une fonction simple (moins de 20 lignes) à partir d'un cahier des charges\n",
    "- élaborer des tests pour vérifier le bon comportement d'une fonction\n",
    "```"
   ]
  },
  {
   "cell_type": "markdown",
   "id": "211c4b5f-4117-4586-a7dd-c012b5b3e4ee",
   "metadata": {
    "tags": [],
    "user_expressions": []
   },
   "source": [
    "## Introduction\n",
    "Nous avons déjà vu dans les chapîtres précédents des fonctions Python comme `len`, `round`, `type` ou encore `print`. Même si ces fonctions vous apparaissent certainement pour le moment comme des boites noires, nous pouvons quand même faire quelques remarques.\n",
    "A chaque fois, pour les utiliser, on dit **appeler**, nous avons utilisé leur nom suivi d'une paire de parenthèses. A l'intérieur de ces parenthèses, nous avons spécifié ce que devait utiliser ces fonctions ; on appellera cela un **argument**. \n",
    "Une fonction peut aussi n'avoir aucun argument, ou même plusieurs arguments. Nous avons aussi constaté que les fonctions effectue une action et que la plupart (mais pas toutes) renvoie un objet (qui peut être de n'importe quel type).\n",
    "\n",
    "## Définition\n",
    "Une fonction est un bloc d'instructions qui est exécuté quand la fonction est appelée. La fonction \"communique\" avec le programme principal grâce aux arguments (en entrée) et grâce à ce qui est renvoyé (en sortie).\n",
    "\n",
    "## Appel de fonction\n",
    "Utilisons quelques exemples d'appels de fonctions et commentons les."
   ]
  },
  {
   "cell_type": "code",
   "execution_count": 1,
   "id": "8c06d797-8ae3-428b-8ae6-8a8af2e6d63a",
   "metadata": {},
   "outputs": [
    {
     "data": {
      "text/plain": [
       "6"
      ]
     },
     "execution_count": 1,
     "metadata": {},
     "output_type": "execute_result"
    }
   ],
   "source": [
    "len('coucou')"
   ]
  },
  {
   "cell_type": "markdown",
   "id": "c755bacc-6319-4edb-bea4-f3c3e4bf4b95",
   "metadata": {
    "tags": [],
    "user_expressions": []
   },
   "source": [
    "Ici, la fonction `len` a été appelée avec un seul argument de type `str`. \n",
    "Elle calcule la longueur de cette chaîne de caractères et renvoie ce nombre entier."
   ]
  },
  {
   "cell_type": "code",
   "execution_count": 10,
   "id": "6f58bedc-1ab1-4fc4-925d-fcb0fc6c1360",
   "metadata": {},
   "outputs": [
    {
     "data": {
      "text/plain": [
       "3.1416"
      ]
     },
     "execution_count": 10,
     "metadata": {},
     "output_type": "execute_result"
    }
   ],
   "source": [
    "import math\n",
    "round(math.pi,4)"
   ]
  },
  {
   "cell_type": "markdown",
   "id": "c194c3b4-09ac-40a8-ad1a-172ce1ca99b9",
   "metadata": {
    "tags": [],
    "user_expressions": []
   },
   "source": [
    "La fonction `round` est appelée **avec 2 arguments**. Le premier est de type `float` et le second est de type `int`. Elle calcule l'arrondi du premier argument où le nombre de chiffres après la virgule est indiqué par le deuxième argument. Elle renvoie le résultat sous la forme d'un `float`."
   ]
  },
  {
   "cell_type": "code",
   "execution_count": 17,
   "id": "dcc4607a-b978-496e-9e5e-96dde01c8a6e",
   "metadata": {},
   "outputs": [
    {
     "name": "stdout",
     "output_type": "stream",
     "text": [
      "True\n"
     ]
    }
   ],
   "source": [
    "print(math.pi>3)"
   ]
  },
  {
   "cell_type": "markdown",
   "id": "0d4a1a89-7c68-43ca-a24f-9f51fb385e79",
   "metadata": {
    "tags": [],
    "user_expressions": []
   },
   "source": [
    "La fonction `print` a été appelée avec un seul argument de type `bool`. \n",
    "Elle affiche à l'écran ce booléen et **ne renvoie rien**."
   ]
  },
  {
   "cell_type": "code",
   "execution_count": 16,
   "id": "644ee53f-bdbf-40e0-8114-c90ba878b204",
   "metadata": {},
   "outputs": [
    {
     "data": {
      "text/plain": [
       "0.3012841272105914"
      ]
     },
     "execution_count": 16,
     "metadata": {},
     "output_type": "execute_result"
    }
   ],
   "source": [
    "import random\n",
    "random.random()"
   ]
  },
  {
   "cell_type": "markdown",
   "id": "1b5334cd-ba85-4b2f-9e9e-d5eefd03c533",
   "metadata": {
    "tags": [],
    "user_expressions": []
   },
   "source": [
    "La fonction `random` (du module `random`) a été appelé **sans argument**. Elle génère un nombre aléatoire entre 0.0 et 1.0 et le renvoie ce `float`."
   ]
  },
  {
   "cell_type": "markdown",
   "id": "93acece2-1914-479e-81be-36e9ac8145f6",
   "metadata": {
    "user_expressions": []
   },
   "source": [
    "## Définition d'une fonction\n",
    "Jusqu'à présent nous avons vu des fonctions de base de Python. Mais il est aussi possible d'en créer. On appelle cela **définir** une fonction."
   ]
  },
  {
   "cell_type": "code",
   "execution_count": null,
   "id": "70e55f36-6eec-4f1f-9069-9ba61aad98ff",
   "metadata": {},
   "outputs": [],
   "source": []
  }
 ],
 "metadata": {
  "kernelspec": {
   "display_name": "Python 3 (ipykernel)",
   "language": "python",
   "name": "python3"
  },
  "language_info": {
   "codemirror_mode": {
    "name": "ipython",
    "version": 3
   },
   "file_extension": ".py",
   "mimetype": "text/x-python",
   "name": "python",
   "nbconvert_exporter": "python",
   "pygments_lexer": "ipython3",
   "version": "3.9.13"
  }
 },
 "nbformat": 4,
 "nbformat_minor": 5
}

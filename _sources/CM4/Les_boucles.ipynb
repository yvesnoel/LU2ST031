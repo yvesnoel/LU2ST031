{
 "cells": [
  {
   "cell_type": "markdown",
   "id": "503352e4-f517-4ee1-b472-c4578d5deb08",
   "metadata": {},
   "source": [
    "# Les boucles\n",
    "\n",
    "```{admonition} Objectifs\n",
    ":class: hint\n",
    "A l'issue de ce chapitre, vous serez capable de : \n",
    "- créer un script contenant une boucle utilisant le mot-clef `while`.\n",
    "- créer un script contenant une boucle utilisant le mot-clef `for`.\n",
    "- itérer sur une liste Python en utilisant `for`.\n",
    "- utiliser a fonction `range()` pour boucler un nombre prédéfini de fois.\n",
    "```\n",
    "\n",
    "## Une ... boucle?\n",
    "\n",
    "Un des intérêts majeurs des languages informatiques tels que Python est de réaliser des tâches répétitives et fastidieuses pour les humains. On appelle **boucler** une action la répéter plusieurs fois. L'objectif de ce cours est de se familiariser avec les différents moyens pour réaliser des boucles en python.\n",
    "\n",
    "## Boucle While\n",
    "\n",
    "Commençons par une opération très répétitive à faire à la main. Nous allons afficher tous les nombres pairs de 0 à 20:"
   ]
  },
  {
   "cell_type": "code",
   "execution_count": 9,
   "id": "c412119b-e831-47ef-8b47-2f726597380b",
   "metadata": {},
   "outputs": [
    {
     "name": "stdout",
     "output_type": "stream",
     "text": [
      "0\n",
      "1\n",
      "2\n",
      "3\n",
      "4\n",
      "5\n",
      "6\n",
      "7\n",
      "8\n",
      "9\n",
      "10\n"
     ]
    }
   ],
   "source": [
    "x = 1\n",
    "print(x*0)\n",
    "print(x*1)\n",
    "print(x*2)\n",
    "print(x*3)\n",
    "print(x*4)\n",
    "print(x*5)\n",
    "print(x*6)\n",
    "print(x*7)\n",
    "print(x*8)\n",
    "print(x*9)\n",
    "print(x*10)"
   ]
  },
  {
   "cell_type": "markdown",
   "id": "79a33c56-df99-4bcb-b1c9-9539df555956",
   "metadata": {},
   "source": [
    "Ce code est valide mais il n'est pas pratique. Il est répétitif et difficile à modifier. Le mot clé `while` (\"tant que\" en anglais) est le premier mot clé que nous allons apprendre pour répéter une action en boucle. `while` permet de répéter une action tant qu'une condition n'est pas remplie. La syntaxe est la suivante:\n",
    "\n",
    "```\n",
    "while condition:\n",
    "    # instruction 1\n",
    "    # instruction 2\n",
    "```"
   ]
  },
  {
   "cell_type": "markdown",
   "id": "04f6c8a4-c40e-49ae-842b-15d6472a6b7a",
   "metadata": {},
   "source": [
    "On commence par le mot clé while suivi d'une condition à remplir, généralement un test, c'est à dire une expression renvoyant `True` ou `False` (voir partie [expressions booléennes](https://yvesnoel.github.io/LU2ST031/semaine2/CM1/Les_expressions.html#les-expressions-booleennes)), puis de deux points, obligatoires (s'ils manquent, une erreur est renvoyée). \n",
    "\n",
    "Voici un exemple d'utilisation du while pour résoudre le problème ci dessus:"
   ]
  },
  {
   "cell_type": "code",
   "execution_count": 15,
   "id": "468731f3-c067-4fc4-9dd5-794997d292f2",
   "metadata": {},
   "outputs": [
    {
     "name": "stdout",
     "output_type": "stream",
     "text": [
      "2\n",
      "4\n",
      "6\n",
      "8\n",
      "10\n",
      "12\n",
      "14\n",
      "16\n",
      "18\n",
      "20\n"
     ]
    }
   ],
   "source": [
    "x = 0  # On créé une variable x qui vaut 0\n",
    "\n",
    "while x != 20:  # tant que x est différent de 20, répéter le bloc ci-dessous\n",
    "    x += 2  # ajouter 2 à x\n",
    "    print(x)"
   ]
  },
  {
   "cell_type": "markdown",
   "id": "f7d2ca2b-942a-4072-8456-6e53b638cca3",
   "metadata": {},
   "source": [
    "Les instructions sont répétées tant que `x =! 20` est vrai. Le résultat est exactement le même, mais le code est modifiable très aisément, et beaucoup plus court. Voici l'explication de ce code ligne par ligne:\n",
    "1. On créé la variable x qui vaut 0.\n",
    "2. On créé une boucle while: tant que x est différent de 20, on répète le bloc instruction.\n",
    "3. Bloc d'instructions. C'est l'indentation qui permet d'indiquer le bloc. Ici le bloc consiste à afficher x, puis à lui ajouter 2. C'est cette instruction qui va \"boucler\", c'est à dire être répétée, jusqu'à ce que x soit égal à 20.\n",
    "\n",
    "```{admonition} À vous de jouer\n",
    ":class: question\n",
    "L'indentation est le seul signe du bloc d'instructions. Dès que l'on veut sortir du bloc à répéter, il suffit d'écrire la ligne suivante sans indentation. Celle-ci n'est donc pas cosmétique: elle fait partie de la syntaxe. Par exemple, si on veut réinitialiser x à la fin:\n",
    "```"
   ]
  },
  {
   "cell_type": "code",
   "execution_count": 16,
   "id": "e64ef464-f534-4b10-8a6c-485ab262584d",
   "metadata": {},
   "outputs": [
    {
     "name": "stdout",
     "output_type": "stream",
     "text": [
      "2\n",
      "4\n",
      "6\n",
      "8\n",
      "10\n",
      "12\n",
      "14\n",
      "16\n",
      "18\n",
      "20\n"
     ]
    }
   ],
   "source": [
    "x = 0\n",
    "\n",
    "while x != 20:\n",
    "    x = x + 2\n",
    "    print(x)\n",
    "    \n",
    "x = 0 # x est remis à zéro après le bloc."
   ]
  },
  {
   "cell_type": "markdown",
   "id": "e501b2e1-f624-4930-873a-e9680be80055",
   "metadata": {},
   "source": [
    "Le résultat est une répétition de la procédure: 20 fois, x va être affiché puis incrémenté (sa valeur va augmenter) de 2.\n",
    "\n",
    "```{admonition} Attention\n",
    ":class: warning\n",
    "Si la condition ne devient jamais fausse, on génère alors une boucle infinie. Il faut alors manuellement arrêter le script. C'est toujours au programmeur de vérifier que la condition va finir par devenir fausse. Ce type de bug ne provoque même pas de message d'erreur et peut être difficile à détecter.\n",
    "```\n",
    "\n",
    "```{admonition} À vous de jouer\n",
    ":class: question\n",
    "Essayez maintenant de modifier ce code pour afficher tous les multiples de 7 à la place.\n",
    "```"
   ]
  },
  {
   "cell_type": "code",
   "execution_count": 17,
   "id": "2464a307-f6f6-452b-9635-8a980c420dd0",
   "metadata": {},
   "outputs": [
    {
     "name": "stdout",
     "output_type": "stream",
     "text": [
      "7\n",
      "14\n",
      "21\n",
      "28\n",
      "35\n",
      "42\n",
      "49\n",
      "56\n",
      "63\n",
      "70\n"
     ]
    }
   ],
   "source": [
    "##SOLUTION\n",
    "x = 0\n",
    "\n",
    "while x != 70:\n",
    "    x = x + 7\n",
    "    print(x)"
   ]
  },
  {
   "cell_type": "markdown",
   "id": "21b71589-4ae4-4582-bc61-50261447008a",
   "metadata": {},
   "source": [
    "## Boucle For\n",
    "\n",
    "Une autre tâche répétitive est de parcourir tous les éléments d'une séquence et d'y appliquer la même action. Un objet est dit **itérable** s'il comporte plusieurs éléments et que l'on peut réaliser des actions sur chacun de ces élements. Nous avons vu précédemment les listes, qui sont des objets itérables. Mettons que l'on veuille réaliser une action sur chaque élement d'une' liste. Pour cela, un nouveau mot clé est indispensable: `for`.\n",
    "\n",
    "Dans l'exemple ci-dessous, on a une liste de valeurs correspondant à des tailles d'ammonites en centimètres. Nous devons convertir ces valeurs en millimètres:"
   ]
  },
  {
   "cell_type": "code",
   "execution_count": 18,
   "id": "310379e0-55ba-4d62-980d-200e55b0fab9",
   "metadata": {},
   "outputs": [
    {
     "name": "stdout",
     "output_type": "stream",
     "text": [
      "[15.4, 58.7, 94.5, 42.5]\n"
     ]
    }
   ],
   "source": [
    "liste_cm = [1.54,5.87,9.45,4.25]  # liste des valeurs en cm\n",
    "liste_mm = []  # nouvelle liste à remplir\n",
    "\n",
    "for i in liste_cm: # pour chaque élément de liste_cm appelé i\n",
    "    liste_mm.append(i*10)  # on multiplie par 10 i et on l'ajoute à la nouvelle liste. Cette action se répéte pour chaque valeur i de liste_cm\n",
    "\n",
    "print(liste_mm)  #affiche la nouvelle liste"
   ]
  },
  {
   "cell_type": "markdown",
   "id": "46448eb9-1b21-4715-96dc-26ec466daddb",
   "metadata": {},
   "source": [
    "Ce code ressemble beaucoup au while, avec son indentation qui distingue le bloc d'instructions. Cependant, le fonctionnement y est ici différent. `liste_cm` est la liste sur laquelle nous itérons. `for i in liste_cm` peut être traduit en : pour chaque élément dénoté `i` de `liste_cm`, réaliser le bloc d'instructions. Le code va répéter le bloc d'instructions pour chaque élément de la liste. A chaque itération, le nouvel élément courant de la liste prendra le nom `i` (`i` va donc changer à chaque boucle). C'est un outil puissant pour automatiser des actions à répéter!"
   ]
  },
  {
   "cell_type": "code",
   "execution_count": null,
   "id": "2f72b8f0-20ac-4888-9a58-868fd53aa6ff",
   "metadata": {},
   "outputs": [],
   "source": [
    "liste_cm = [1.54,5.87,9.45,4.25]  # liste des valeurs en cm\n",
    "liste_mm = []  # nouvelle liste à remplir\n",
    "\n",
    "for i in liste_cm: # pour chaque élément de liste_cm appelé i\n",
    "    liste_mm.append(i*10)  # on multiplie par 10 i et on l'ajoute à la nouvelle liste. Cette action se répéte pour chaque valeur i de liste_cm\n",
    "\n",
    "print(liste_mm)  #affiche la nouvelle liste"
   ]
  },
  {
   "cell_type": "markdown",
   "id": "25b55494-d332-4113-85f6-3a49e5da2ff7",
   "metadata": {},
   "source": [
    "```{admonition} Attention\n",
    ":class: warning\n",
    "Il ne faut jamais modifier une liste lorsque l'on boucle dessus, car c'est une source majeure d'erreurs. Préférez toujours créer une nouvelle liste pour que les éléments de la liste ne soient pas modifiés et puissent continuer à être itérer.\n",
    "```\n",
    "\n",
    "A retenir: while sert à répéter une action jusqu'à ce qu'une condition ne soit plus satisfaite. for sert à répéter une action sur chaque élément d'une liste ou d'un autre objet itérable. En général, on utilise plutôt for quand on sait combien de fois il va falloir répéter le bloc d'instructions. Si ce nombre n'est pas connu, on se reporte vers while.\n",
    "\n",
    "On utilise souvent une variable qui va servir de **compteur** et qui est notée `i` par convention. Mettons que l'on veuille reproduire une action dix fois. Il est possible d'utiliser un compteur avec while:"
   ]
  },
  {
   "cell_type": "code",
   "execution_count": null,
   "id": "96c47a07-0c23-4d37-a928-85400fbe23d6",
   "metadata": {},
   "outputs": [],
   "source": [
    "i = 0  # en règle générale, on compte à partir de zéro en python\n",
    "\n",
    "while i =! 10:  # tant que i ne vaut pas dix, répéter\n",
    "    print('infogeol')\n",
    "    i += 1  # incrémenter le compteur de 1"
   ]
  },
  {
   "cell_type": "markdown",
   "id": "d4c0725e-6912-4604-953c-ff1a528cb12e",
   "metadata": {},
   "source": [
    "Il est également possible d'utiliser l'instruction `range` pour générer une suite de nombres, ce qui est très utile pour itérer sans avoir de liste. Cette instruction s’utilise de la manière suivante :\n",
    "\n",
    "`range(start, stop, step)`\n",
    "\n",
    "Ce qui créé une suite de nombres allant de start (inclus) à stop (exclu) avec un pas de step (cet argument est optionnel). `range(0,1000)` permet de générer tous les nombres de 0 à 999. Il est possible d'utiliser ce résultat directement dans une boucle `for`. Par exemple, si l'on souhaite afficher dix fois un texte:"
   ]
  },
  {
   "cell_type": "code",
   "execution_count": null,
   "id": "28013135-9450-4f08-8998-166c43dda890",
   "metadata": {},
   "outputs": [],
   "source": [
    "for i in range(0,10): # pour chaque élément i de 0 à 9\n",
    "    print('infogeol') # bloc d'instructions"
   ]
  },
  {
   "cell_type": "markdown",
   "id": "29c9d496-f119-4548-bc4d-0bb37539431d",
   "metadata": {},
   "source": [
    "i va prendre toutes les valeurs de 0 à 9. Il peut être utilisé mais ce n'est pas le cas ici, car on souhaite uniquement répéter le même élément à chaque fois.\n",
    "\n",
    "```{admonition} À vous de jouer\n",
    ":class: question\n",
    "Essayez maintenant d'afficher tous les résultats de la table de 8 en utilisant `for` et `range`.\n",
    "```\n"
   ]
  },
  {
   "cell_type": "code",
   "execution_count": 21,
   "id": "48f991c5-e9d0-4b69-b873-9827c7dd0be6",
   "metadata": {},
   "outputs": [
    {
     "name": "stdout",
     "output_type": "stream",
     "text": [
      "8\n",
      "16\n",
      "24\n",
      "32\n",
      "40\n",
      "48\n",
      "56\n",
      "64\n",
      "72\n",
      "80\n"
     ]
    }
   ],
   "source": [
    "##SOLUTION\n",
    "for i in range(1,11): # pour chaque élément i de 0 à 9\n",
    "    print(i*8) # bloc d'instructions"
   ]
  },
  {
   "cell_type": "markdown",
   "id": "189dcd15-74ee-4ce7-a963-88a028b34bd6",
   "metadata": {},
   "source": [
    "## 🚀 Pour aller plus loin: listes en intension\n",
    "\n",
    "Reprenons l'exemple:"
   ]
  },
  {
   "cell_type": "code",
   "execution_count": null,
   "id": "509a46bb-364c-4444-a44b-1cd786a30560",
   "metadata": {},
   "outputs": [],
   "source": [
    "liste_cm = [1.54,5.87,9.45,4.25]  # liste des valeurs en cm\n",
    "liste_mm = []  # nouvelle liste à remplir\n",
    "\n",
    "for i in liste_cm: # pour chaque élément de liste_cm appelé i\n",
    "    liste_mm.append(i*10)  # on multiplie par 10 i et on l'ajoute à la nouvelle liste. Cette action se répéte pour chaque valeur i de liste_cm\n",
    "\n",
    "print(liste_mm)  #affiche la nouvelle liste"
   ]
  },
  {
   "cell_type": "markdown",
   "id": "e008233e-c02d-46c2-af14-fd5052fa546e",
   "metadata": {},
   "source": [
    "Les listes en intension sont une forme encore plus puissante et synthétique de créer des listes:"
   ]
  },
  {
   "cell_type": "code",
   "execution_count": null,
   "id": "dc2782c3-e7f1-4e42-9c5e-06b37622abbb",
   "metadata": {},
   "outputs": [],
   "source": [
    "liste_mm = [i*10 for i in liste_cm]"
   ]
  },
  {
   "cell_type": "markdown",
   "id": "2f9bf0e1-266d-41ac-9e08-79f7bf1b8fdc",
   "metadata": {},
   "source": [
    "Ici, plus de bloc, la création de liste tient en une ligne, sans avoir à écrire toutes les valeurs. Il s'agit d'une **liste en intension**. Les listes en intension sont un moyen très efficace de transformer toute une liste. Il est possible par exemple de jouer avec les types:"
   ]
  },
  {
   "cell_type": "code",
   "execution_count": null,
   "id": "7b52ab56-6ec0-452a-9534-34dda3417410",
   "metadata": {},
   "outputs": [],
   "source": [
    "liste_mm = [str(i*10) for i in liste_cm]"
   ]
  },
  {
   "cell_type": "markdown",
   "id": "7931acd6-3629-4167-9ce2-f4428195cd8a",
   "metadata": {},
   "source": [
    "Et même de filtrer des éléments d'une liste en y ajoutant, de manière très intuitive, une condition:"
   ]
  },
  {
   "cell_type": "code",
   "execution_count": null,
   "id": "be9dfb9f-f23a-41ad-ab75-4c31db9786a6",
   "metadata": {},
   "outputs": [],
   "source": [
    "liste_mm = [i*10 for i in liste_cm if i > 5]"
   ]
  },
  {
   "cell_type": "markdown",
   "id": "b0691fc4-3a22-4551-a6a2-df964291401a",
   "metadata": {},
   "source": [
    "est équivalent à:"
   ]
  },
  {
   "cell_type": "code",
   "execution_count": null,
   "id": "bf8643b2-377e-4112-9c86-9043a1a96dea",
   "metadata": {},
   "outputs": [],
   "source": [
    "for i in liste_cm: \n",
    "    if i > 5:  # on filtre les valeurs supérieures à 5\n",
    "        liste_mm.append(i*10) "
   ]
  }
 ],
 "metadata": {
  "kernelspec": {
   "display_name": "Python 3 (ipykernel)",
   "language": "python",
   "name": "python3"
  },
  "language_info": {
   "codemirror_mode": {
    "name": "ipython",
    "version": 3
   },
   "file_extension": ".py",
   "mimetype": "text/x-python",
   "name": "python",
   "nbconvert_exporter": "python",
   "pygments_lexer": "ipython3",
   "version": "3.9.13"
  }
 },
 "nbformat": 4,
 "nbformat_minor": 5
}

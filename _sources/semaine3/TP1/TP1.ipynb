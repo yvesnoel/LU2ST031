{
 "cells": [
  {
   "cell_type": "markdown",
   "id": "5c61ac7a-6a5a-4864-bafe-8e66f47067a4",
   "metadata": {
    "tags": [],
    "user_expressions": []
   },
   "source": [
    "# TP 1"
   ]
  },
  {
   "cell_type": "markdown",
   "id": "dabe7a4e-8df0-45ee-adab-ef501f9bc120",
   "metadata": {
    "tags": [],
    "user_expressions": []
   },
   "source": [
    "## Introduction\n",
    "Bienvenue sur JupyterHub. Vous êtes dans le notebook du TP n°1. \n",
    "[Nous avons vu](https://yvesnoel.github.io/LU2ST031/semaine1/CM0/Introduction.html) qu'un notebook est constitué de cellules. \n",
    "Ces cellules peuvent contenir du code Python ou bien du text Markdown ([mémo Markdown ici](https://www.markdownguide.org/cheat-sheet/)). \n",
    "Dans les notebooks de cours, vous trouverez une alternance de textes (introduction, énoncés, explications) \n",
    "et de code Python (exemples, code à compléter ou modifier, ou code à créer complètement.\n",
    "Certaines cellules ne sont pas modifiables, d'autres le sont si vous le désirez et d'autres encore DOIVENT être complétez (et seront évaluées).\n",
    "Lorsque vous aurez terminé ce TP, vous le soumettrez grâce à Jupyterhub (cf procédure ici). \n",
    "Votre enseignant pourra alors le récupérer, le corriger si besoin et faire des remarques éventuelles. \n",
    "\n",
    "Lors de cette séance vous allez découvrir l'environement que nous utiliserons tout au long du semestre.\n",
    "Vous êt"
   ]
  }
 ],
 "metadata": {
  "kernelspec": {
   "display_name": "Python 3 (ipykernel)",
   "language": "python",
   "name": "python3"
  },
  "language_info": {
   "codemirror_mode": {
    "name": "ipython",
    "version": 3
   },
   "file_extension": ".py",
   "mimetype": "text/x-python",
   "name": "python",
   "nbconvert_exporter": "python",
   "pygments_lexer": "ipython3",
   "version": "3.9.13"
  }
 },
 "nbformat": 4,
 "nbformat_minor": 5
}

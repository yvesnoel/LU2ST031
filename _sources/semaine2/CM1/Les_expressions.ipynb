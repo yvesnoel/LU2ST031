{
 "cells": [
  {
   "cell_type": "markdown",
   "id": "702bd92d-0b03-4bff-b756-ae1b34775eb2",
   "metadata": {
    "tags": [],
    "user_expressions": []
   },
   "source": [
    "#  Les expressions \n",
    "```{admonition} Objectifs\n",
    ":class: hint\n",
    "A l'issue de ce chapître, vous serez capable de :\n",
    "- reconnaître le type d'une expression\n",
    "- évaluer une expression comme le ferait Python en appliquant les règles de priorité\n",
    "- traduire une expression mathématique relativement simple en une expression Python\n",
    "```"
   ]
  },
  {
   "cell_type": "markdown",
   "id": "e9e9c1a4-89bd-4601-9c22-518ef8261d2c",
   "metadata": {
    "user_expressions": []
   },
   "source": [
    "## Qu'est ce qu'une expression Python ?\n",
    "Une expression est un morceau de code qui est évalué par Python et dont l'interprétation donne une **valeur**. On parle d'expressions simples lorsqu'elles sont uniquement constituées d'une valeur. Les expressions complexes quant à elles combinent des valeurs, des opérateurs ou des fonctions (nous aborerons les fonctions plus tard dans le cours). "
   ]
  },
  {
   "cell_type": "markdown",
   "id": "343cc287-2af2-449d-811d-9a724496fadd",
   "metadata": {
    "tags": [],
    "user_expressions": []
   },
   "source": [
    "## Affichage d'une expression\n",
    "Lorsque Python interprète un code (ou une cellule d'un notebook) il affiche le resultat de la dernière expression du code. Dans la majorité des exemples de ce chapitre nous utilisons cette propriété pour visualiser le résultat de chaque expression en ne mettant qu'une seule expression par cellule. Dans le cas où l'on voudrait afficher le contenu de plusieurs expressions d'un même code ou cellule, on est obligé de passer par une fonction Python qui \"imprime vers l'écran\" (*print* en anglais) une valeur. Cette fonction est la fonction `print()`. Les 4 exemples à suivre illustrent ces subtilités à propos de l'affichage des valeurs issues d'une expression."
   ]
  },
  {
   "cell_type": "code",
   "execution_count": 9,
   "id": "80e6a4f4-59ed-4fd2-8d36-47a123fbe315",
   "metadata": {},
   "outputs": [
    {
     "data": {
      "text/plain": [
       "123.456"
      ]
     },
     "execution_count": 9,
     "metadata": {},
     "output_type": "execute_result"
    }
   ],
   "source": [
    "123.456"
   ]
  },
  {
   "cell_type": "code",
   "execution_count": 10,
   "id": "c51e4774-9135-40ee-8d04-095e2320b566",
   "metadata": {},
   "outputs": [
    {
     "name": "stdout",
     "output_type": "stream",
     "text": [
      "123.456\n"
     ]
    }
   ],
   "source": [
    "print(123.456)"
   ]
  },
  {
   "cell_type": "code",
   "execution_count": 11,
   "id": "69fa1ed0-7604-4513-952a-068a1d70dfce",
   "metadata": {},
   "outputs": [
    {
     "data": {
      "text/plain": [
       "789"
      ]
     },
     "execution_count": 11,
     "metadata": {},
     "output_type": "execute_result"
    }
   ],
   "source": [
    "123.456\n",
    "789"
   ]
  },
  {
   "cell_type": "code",
   "execution_count": 12,
   "id": "bd277e4a-749b-4dbd-8851-81a1d8d51178",
   "metadata": {},
   "outputs": [
    {
     "name": "stdout",
     "output_type": "stream",
     "text": [
      "123.456\n",
      "789\n"
     ]
    }
   ],
   "source": [
    "print(123.456)\n",
    "print(789)"
   ]
  },
  {
   "cell_type": "markdown",
   "id": "6fb7cf79-eb0a-4c99-bfe4-47d80ddd1fe1",
   "metadata": {
    "tags": [],
    "user_expressions": []
   },
   "source": [
    "## Types de valeurs\n",
    "### Les types de base\n",
    "On peut distinguer plusieurs types de valeurs :"
   ]
  },
  {
   "cell_type": "markdown",
   "id": "002d5318-296c-4013-8966-dd4ba535285b",
   "metadata": {
    "tags": [],
    "user_expressions": []
   },
   "source": [
    "- Des nombres entiers (*integers* en anglais, `int` pour Python)"
   ]
  },
  {
   "cell_type": "code",
   "execution_count": 2,
   "id": "8b919b5a-b568-422d-bdbe-d76c8f46931c",
   "metadata": {
    "tags": [],
    "user_expressions": []
   },
   "outputs": [
    {
     "data": {
      "text/plain": [
       "1789"
      ]
     },
     "execution_count": 2,
     "metadata": {},
     "output_type": "execute_result"
    }
   ],
   "source": [
    "1789"
   ]
  },
  {
   "cell_type": "markdown",
   "id": "81fa6bd2-ebe3-4bfe-a837-bc6afe973594",
   "metadata": {
    "tags": [],
    "user_expressions": []
   },
   "source": [
    "- Des nombres à virgule (`float` pour Python). Ces nombres sont appelés communément **flottants**."
   ]
  },
  {
   "cell_type": "code",
   "execution_count": 28,
   "id": "adc1ed4d-deba-4c0d-b2c2-cc48d9d2d15d",
   "metadata": {},
   "outputs": [
    {
     "data": {
      "text/plain": [
       "3.14159"
      ]
     },
     "execution_count": 28,
     "metadata": {},
     "output_type": "execute_result"
    }
   ],
   "source": [
    "3.14159"
   ]
  },
  {
   "cell_type": "markdown",
   "id": "983bc71a-cdbe-48b7-8966-f7f63715f7ef",
   "metadata": {
    "tags": [],
    "user_expressions": []
   },
   "source": [
    "```{admonition} Attention\n",
    ":class: caution\n",
    "En Python le séparateur décimal est un point (`.`) et non une virgule (`,`)\n",
    "```"
   ]
  },
  {
   "cell_type": "markdown",
   "id": "8593d254-5bc1-44ab-a118-316e565ceeca",
   "metadata": {
    "tags": [],
    "user_expressions": []
   },
   "source": [
    "```{admonition} Remarque\n",
    ":class: note\n",
    "Python lors de l'évaluation d'une expression ce ramenant à une valeur de type `float` (nombre à virgule), indiquera toujours au moins une décimale même si le nombre est un entier. C'est d'ailleurs de cette façon que l'on peut simplement déduire le type d'un nombre (`int` ou `float`)\n",
    "```"
   ]
  },
  {
   "cell_type": "code",
   "execution_count": 29,
   "id": "3d8ae993-dd72-4a6e-8dad-ce0288383e8b",
   "metadata": {
    "tags": []
   },
   "outputs": [
    {
     "data": {
      "text/plain": [
       "1789.0"
      ]
     },
     "execution_count": 29,
     "metadata": {},
     "output_type": "execute_result"
    }
   ],
   "source": [
    "1789.0000000000"
   ]
  },
  {
   "cell_type": "markdown",
   "id": "959e6964-44cb-4dcf-ae1a-3556aa3162bc",
   "metadata": {},
   "source": [
    "On peut utiliser la notation scientifique :"
   ]
  },
  {
   "cell_type": "code",
   "execution_count": 80,
   "id": "a7556c7f-3836-40f0-aa0b-9178d91e64dd",
   "metadata": {},
   "outputs": [
    {
     "data": {
      "text/plain": [
       "1.2345e-05"
      ]
     },
     "execution_count": 80,
     "metadata": {},
     "output_type": "execute_result"
    }
   ],
   "source": [
    "12.345e-6"
   ]
  },
  {
   "cell_type": "markdown",
   "id": "ee941bef-2d01-4825-94a8-b07d3db1924b",
   "metadata": {
    "tags": [],
    "user_expressions": []
   },
   "source": [
    "- Du texte qu'on appellera chaine de caractères (*strings* en anglais, `str` pour Python)"
   ]
  },
  {
   "cell_type": "markdown",
   "id": "d60cd09a-f186-4bfc-980d-9f1697d32908",
   "metadata": {
    "tags": [],
    "user_expressions": []
   },
   "source": [
    "```{note}\n",
    "Les caractères qui forment une chaîne de caractères sont entourrés par des apostrophes (`'`) ou des guillemets (`\"`). Ceci est nécessaire à Python pour que l'interpréteur reconnaisse l'expression comme une chaine.\n",
    "```"
   ]
  },
  {
   "cell_type": "code",
   "execution_count": 4,
   "id": "8dffe8d4-1918-41af-a057-61eeb9c1751b",
   "metadata": {},
   "outputs": [
    {
     "data": {
      "text/plain": [
       "'Hello !'"
      ]
     },
     "execution_count": 4,
     "metadata": {},
     "output_type": "execute_result"
    }
   ],
   "source": [
    "'Hello !'"
   ]
  },
  {
   "cell_type": "markdown",
   "id": "7f30487b-6f3c-471d-8d03-0dfedea0d6c3",
   "metadata": {
    "tags": [],
    "user_expressions": []
   },
   "source": [
    "- Une valeur booléenne (*boolean* en anglais et `bool` en Python)"
   ]
  },
  {
   "cell_type": "code",
   "execution_count": 4,
   "id": "49885b32-2510-4a88-98bd-bd5be90f882d",
   "metadata": {},
   "outputs": [
    {
     "data": {
      "text/plain": [
       "True"
      ]
     },
     "execution_count": 4,
     "metadata": {},
     "output_type": "execute_result"
    }
   ],
   "source": [
    "True"
   ]
  },
  {
   "cell_type": "markdown",
   "id": "4f508c78-2bcc-4e8f-9c66-ec616835c127",
   "metadata": {
    "tags": [],
    "user_expressions": []
   },
   "source": [
    "Les valeurs booléennes ne peuvent prendre que 2 valeurs : \n",
    "- vrai : `True`\n",
    "- faux : `False`\n",
    ". Nous reviendrons plus tard sur ce type de valeur.\n",
    "```{admonition} Attention\n",
    ":class: caution\n",
    "Pour que Python reconnaisse bien les valeurs booléennes `True` et `False`, il ne faut pas oublier qu'elles commencent par une majuscule (C'est à dire que `true` est incorrect)\n",
    "```"
   ]
  },
  {
   "cell_type": "markdown",
   "id": "3854929b-61de-48d5-8f7a-50a9b7ee7cae",
   "metadata": {
    "tags": [],
    "user_expressions": []
   },
   "source": [
    "### Récupérer le type d'une valeur\n",
    "Il est possible de connaitre le type de la valeur issue d'une expression en utilisant la fonction `type`. Nous reviendrons plus tard dans le cours sur la notion de fonction."
   ]
  },
  {
   "cell_type": "code",
   "execution_count": 31,
   "id": "a614a9ff-d0cc-44c3-b2b6-fda17b365c69",
   "metadata": {},
   "outputs": [
    {
     "data": {
      "text/plain": [
       "str"
      ]
     },
     "execution_count": 31,
     "metadata": {},
     "output_type": "execute_result"
    }
   ],
   "source": [
    "type('Coucou. Comment ça va ?')"
   ]
  },
  {
   "cell_type": "code",
   "execution_count": 30,
   "id": "9ddcd9bc-609f-4abf-ae5f-d0eae2f0edf1",
   "metadata": {},
   "outputs": [
    {
     "data": {
      "text/plain": [
       "float"
      ]
     },
     "execution_count": 30,
     "metadata": {},
     "output_type": "execute_result"
    }
   ],
   "source": [
    "type(1789.0000)"
   ]
  },
  {
   "cell_type": "markdown",
   "id": "39f82e09-a34f-4dc0-9cc4-2cfcdf8f3433",
   "metadata": {
    "tags": [],
    "user_expressions": []
   },
   "source": [
    "### Conversion de type\n",
    "Il est possible de changer le type d'une valeur en utilisant les fonctions `int()` `float()` `bool()` `str()`."
   ]
  },
  {
   "cell_type": "code",
   "execution_count": 40,
   "id": "4891052e-1b81-4c5f-8f34-48e99b9292e6",
   "metadata": {},
   "outputs": [
    {
     "data": {
      "text/plain": [
       "-34"
      ]
     },
     "execution_count": 40,
     "metadata": {},
     "output_type": "execute_result"
    }
   ],
   "source": [
    "int(-34.56)"
   ]
  },
  {
   "cell_type": "code",
   "execution_count": 41,
   "id": "8a6d2bfb-00ee-42b0-aa2b-ab7435fb0c71",
   "metadata": {},
   "outputs": [
    {
     "data": {
      "text/plain": [
       "1789.0"
      ]
     },
     "execution_count": 41,
     "metadata": {},
     "output_type": "execute_result"
    }
   ],
   "source": [
    "float(1789)"
   ]
  },
  {
   "cell_type": "code",
   "execution_count": 42,
   "id": "46baf85c-ca1d-4d7d-80e7-76a17f950772",
   "metadata": {},
   "outputs": [
    {
     "data": {
      "text/plain": [
       "False"
      ]
     },
     "execution_count": 42,
     "metadata": {},
     "output_type": "execute_result"
    }
   ],
   "source": [
    "bool(0)"
   ]
  },
  {
   "cell_type": "code",
   "execution_count": 44,
   "id": "4f1b4ec8-fe6e-4903-844a-746266b7fa51",
   "metadata": {},
   "outputs": [
    {
     "data": {
      "text/plain": [
       "'12.3'"
      ]
     },
     "execution_count": 44,
     "metadata": {},
     "output_type": "execute_result"
    }
   ],
   "source": [
    "str(12.3)"
   ]
  },
  {
   "cell_type": "markdown",
   "id": "4c40fc1f-7a33-492c-842c-a30afb0e3df6",
   "metadata": {
    "tags": [],
    "user_expressions": []
   },
   "source": [
    "## Les expressions complexes\n",
    "Dans tous les exemples ci-dessus, nous avions à faire à des expressions simples mais il est aussi possible de construire des expressions plus complexes qui contiennent des opérations. Ces opérations s'appuient en général sur 2 valeurs (on parle d'opérateurs binaires) ou parfois un seule valeur (opérateur unaire). Les valeurs sur lesquelles s'appuie l'opérateur pour calculer l'opération, s'appellent des opérandes.\n",
    "\n",
    "Evidemment, la ou les opérandes peuvent être de types variés. La valeur du résultat de l'opération peut aussi être de type varié."
   ]
  },
  {
   "cell_type": "markdown",
   "id": "7f4a614a-64c8-4c62-9bb9-819d2c8f6def",
   "metadata": {
    "tags": [],
    "user_expressions": []
   },
   "source": [
    "### Les expressions numériques \n",
    "Vous avez déjà l'habitude d'utiliser votre calculatrice pour effectuer des opérations sur des nombres, voici la liste des opérations connues de python :\n",
    "\n",
    "|Symbole | Description   |\n",
    "| :----: | :-----------: |\n",
    "| \\+     | addition      |\n",
    "| \\-     | soustraction  |\n",
    "| \\*     |multiplicaction|\n",
    "| \\/     |division       |\n",
    "| \\/\\/   |division entière|\n",
    "| % | modulo|\n",
    "| ** | puissance |\n",
    "\n",
    "```{admonition} Remarque\n",
    ":class: note\n",
    "Dans tous les cas (sauf pour la division) si les deux opérandes sont de type entier (`int`), alors le résultat sera de type entier mais si l'un des deux opérandes est de type flottant (`float`) alors le résultat sera de type flottant. La division (`/`) est une exception : même si les deux opérandes sont des entiers, le résultat sera toujours de type flottant.\n",
    "```"
   ]
  },
  {
   "cell_type": "markdown",
   "id": "5dcefb30-dec6-461e-89d2-983795844bc0",
   "metadata": {
    "tags": [],
    "user_expressions": []
   },
   "source": [
    "##### Exemples d'expressions utilisant des opérateurs numériques\n",
    "- une addition avec 2 entiers donne un entier"
   ]
  },
  {
   "cell_type": "code",
   "execution_count": 11,
   "id": "6345c666-a42b-4987-be79-1af20b4697e4",
   "metadata": {},
   "outputs": [
    {
     "data": {
      "text/plain": [
       "5"
      ]
     },
     "execution_count": 11,
     "metadata": {},
     "output_type": "execute_result"
    }
   ],
   "source": [
    "2 + 3"
   ]
  },
  {
   "cell_type": "markdown",
   "id": "f3c3d4db-d69c-4a87-9de9-14ece2214afd",
   "metadata": {
    "tags": [],
    "user_expressions": []
   },
   "source": [
    "- une division simple avec 2 entiers donne quand même un flottant"
   ]
  },
  {
   "cell_type": "code",
   "execution_count": 12,
   "id": "a1062d74-9d06-4d5d-a195-c244e6b61b37",
   "metadata": {},
   "outputs": [
    {
     "data": {
      "text/plain": [
       "2.0"
      ]
     },
     "execution_count": 12,
     "metadata": {},
     "output_type": "execute_result"
    }
   ],
   "source": [
    "8 / 4"
   ]
  },
  {
   "cell_type": "markdown",
   "id": "ed618953-a8cb-4edf-b6b4-feaf98204634",
   "metadata": {
    "tags": [],
    "user_expressions": []
   },
   "source": [
    "- une division entière avec 2 entiers donne un entier"
   ]
  },
  {
   "cell_type": "code",
   "execution_count": 13,
   "id": "672b83ea-3cdd-4ca7-893f-230cd0d6916d",
   "metadata": {},
   "outputs": [
    {
     "data": {
      "text/plain": [
       "2"
      ]
     },
     "execution_count": 13,
     "metadata": {},
     "output_type": "execute_result"
    }
   ],
   "source": [
    "8 // 4"
   ]
  },
  {
   "cell_type": "markdown",
   "id": "1b06bc67-662d-4a44-9243-bf9d33bac743",
   "metadata": {
    "tags": [],
    "user_expressions": []
   },
   "source": [
    "- une division entière avec au moins un flottant donne un flottant (même si ce nombre est une valeur entière il est codé comme étant de type flottant)"
   ]
  },
  {
   "cell_type": "code",
   "execution_count": 14,
   "id": "de1df0d7-2561-414c-b0b3-5d1773f16b65",
   "metadata": {},
   "outputs": [
    {
     "data": {
      "text/plain": [
       "2.0"
      ]
     },
     "execution_count": 14,
     "metadata": {},
     "output_type": "execute_result"
    }
   ],
   "source": [
    "8.4 // 4"
   ]
  },
  {
   "cell_type": "markdown",
   "id": "dcea5ee4-1bb1-4f7c-9963-b0d8d7d6c71c",
   "metadata": {
    "tags": [],
    "user_expressions": []
   },
   "source": [
    "- une opération avec un entier et un flottant donne un flotant (sauf pour la division simple)."
   ]
  },
  {
   "cell_type": "code",
   "execution_count": 15,
   "id": "9a6aeeb9-44db-42cf-805b-4e5bed67be2d",
   "metadata": {},
   "outputs": [
    {
     "data": {
      "text/plain": [
       "12.0"
      ]
     },
     "execution_count": 15,
     "metadata": {},
     "output_type": "execute_result"
    }
   ],
   "source": [
    "4 * 3.0"
   ]
  },
  {
   "cell_type": "markdown",
   "id": "ed9ac188-007d-437d-b83d-57a6ff13fa31",
   "metadata": {
    "tags": [],
    "user_expressions": []
   },
   "source": [
    "- une opération avec un entier et un flottant donne un flotant (sauf pour la division simple)."
   ]
  },
  {
   "cell_type": "code",
   "execution_count": 16,
   "id": "2db12e0c-aa49-4723-b48a-3caf7ee4400b",
   "metadata": {
    "tags": [],
    "user_expressions": []
   },
   "outputs": [
    {
     "data": {
      "text/plain": [
       "2.0"
      ]
     },
     "execution_count": 16,
     "metadata": {},
     "output_type": "execute_result"
    }
   ],
   "source": [
    "4**0.5"
   ]
  },
  {
   "cell_type": "markdown",
   "id": "6856a2d9-4b62-4c1b-8bc4-01e626e2090d",
   "metadata": {
    "tags": [],
    "user_expressions": []
   },
   "source": [
    "- le modulo avec des entiers peut être vu comme le reste de la division entière."
   ]
  },
  {
   "cell_type": "code",
   "execution_count": 17,
   "id": "332fec20-5de5-4b88-bc96-2a28db5ffe3b",
   "metadata": {},
   "outputs": [
    {
     "data": {
      "text/plain": [
       "3"
      ]
     },
     "execution_count": 17,
     "metadata": {},
     "output_type": "execute_result"
    }
   ],
   "source": [
    "23 % 5"
   ]
  },
  {
   "cell_type": "markdown",
   "id": "2521347d-ba77-4855-92fc-679cf6fa38ee",
   "metadata": {
    "tags": [],
    "user_expressions": []
   },
   "source": [
    "- l'exemple ci-dessous qui fait appel à la division entière et au modulo et peut s'expliquer de la manière suivante : $$5,55 = 4 \\times 1,2 + 0,75 $$\n"
   ]
  },
  {
   "cell_type": "code",
   "execution_count": 18,
   "id": "4ceaf437-752f-497a-8378-5e427f5dad0f",
   "metadata": {},
   "outputs": [
    {
     "name": "stdout",
     "output_type": "stream",
     "text": [
      "4.0\n",
      "0.75\n"
     ]
    }
   ],
   "source": [
    "print(5.55 // 1.20)\n",
    "print(5.55 % 1.20)"
   ]
  },
  {
   "cell_type": "markdown",
   "id": "a6971d72-8ea9-4fd9-ada5-c32bd0461afc",
   "metadata": {
    "tags": [],
    "user_expressions": []
   },
   "source": [
    "On pourrait l'illustrer par la situation suivante : \"Je dispose de 5,55€, combien de croissants à 1,20 € pièce puis je acheter ? combien me restera-t-il ?\". La réponse est : \"Je peux acheter 4 croissants et il me reste 0,75€\"."
   ]
  },
  {
   "cell_type": "markdown",
   "id": "f0089bd0-3bf2-4d50-b184-1bf37a46b31e",
   "metadata": {
    "tags": [],
    "user_expressions": []
   },
   "source": [
    "#### Les règles de priorité"
   ]
  },
  {
   "cell_type": "markdown",
   "id": "c2376ce9-b5b6-4516-acf7-420e3db303fa",
   "metadata": {
    "tags": [],
    "user_expressions": []
   },
   "source": [
    "Dans une expression numérique sans parenthèse, la priorité va d'abord sur les puissances puis sur multiplications et divisons, et enfin sur les additions et soustractions. Le parenthèses permettent d'indiquer précisément comment une expression doit être calculée."
   ]
  },
  {
   "cell_type": "code",
   "execution_count": 34,
   "id": "f1b6aa86-0cef-4b11-be36-d2a8bf1fe835",
   "metadata": {},
   "outputs": [
    {
     "data": {
      "text/plain": [
       "17"
      ]
     },
     "execution_count": 34,
     "metadata": {},
     "output_type": "execute_result"
    }
   ],
   "source": [
    "2 + 3 * 5"
   ]
  },
  {
   "cell_type": "code",
   "execution_count": 41,
   "id": "99a54eea-a3d2-4a70-9650-542251ce89a2",
   "metadata": {},
   "outputs": [
    {
     "data": {
      "text/plain": [
       "6"
      ]
     },
     "execution_count": 41,
     "metadata": {},
     "output_type": "execute_result"
    }
   ],
   "source": [
    "3 + 7 // 2"
   ]
  },
  {
   "cell_type": "code",
   "execution_count": 42,
   "id": "21f4042b-8355-43be-91ba-7de0d59f5d82",
   "metadata": {},
   "outputs": [
    {
     "data": {
      "text/plain": [
       "5"
      ]
     },
     "execution_count": 42,
     "metadata": {},
     "output_type": "execute_result"
    }
   ],
   "source": [
    "(3 + 7) // 2"
   ]
  },
  {
   "cell_type": "code",
   "execution_count": 38,
   "id": "1f3965b9-4a33-4bfc-a3a0-64fec45897e0",
   "metadata": {},
   "outputs": [
    {
     "data": {
      "text/plain": [
       "36"
      ]
     },
     "execution_count": 38,
     "metadata": {},
     "output_type": "execute_result"
    }
   ],
   "source": [
    "2 * 3 ** 2 * 2"
   ]
  },
  {
   "cell_type": "code",
   "execution_count": 39,
   "id": "b91548f2-c188-4436-acb5-f96598ba5ebd",
   "metadata": {},
   "outputs": [
    {
     "data": {
      "text/plain": [
       "36"
      ]
     },
     "execution_count": 39,
     "metadata": {},
     "output_type": "execute_result"
    }
   ],
   "source": [
    "2 * (3 ** 2) * 2"
   ]
  },
  {
   "cell_type": "markdown",
   "id": "cd5556cf-19c9-42b1-a26e-7f64fd32f1b3",
   "metadata": {
    "tags": [],
    "user_expressions": []
   },
   "source": [
    "```{admonition} Remarque\n",
    ":class: note\n",
    "Python n'intègre pas dans ses commandes de base les constantes et fonction mathématiques usuelles (à part `abs` pour la valeur absolue). Pour les utiliser il faut importer un module spécifique : le module math. Nous reviendrons plus loin dans ce cours sur les modules et la façon de les importer mais l'exemple ci-dessous vous permet d'ores et déjà de les utiliser.\n",
    "```"
   ]
  },
  {
   "cell_type": "code",
   "execution_count": 23,
   "id": "0e9a536c-65cf-4d38-8e98-32d0506249a4",
   "metadata": {},
   "outputs": [
    {
     "name": "stdout",
     "output_type": "stream",
     "text": [
      "2.0\n",
      "24\n",
      "5.559513241650146e-06\n",
      "3.1354942159291497\n"
     ]
    },
    {
     "data": {
      "text/plain": [
       "1.0"
      ]
     },
     "execution_count": 23,
     "metadata": {},
     "output_type": "execute_result"
    }
   ],
   "source": [
    "import math\n",
    "print(math.sqrt(4))\n",
    "print(math.factorial(4))\n",
    "print(math.exp(-12.1))\n",
    "print(math.log(23))\n",
    "math.sin(math.pi/2)"
   ]
  },
  {
   "cell_type": "markdown",
   "id": "12840e38-2783-421f-ac95-547a47397478",
   "metadata": {
    "tags": [],
    "user_expressions": []
   },
   "source": [
    "(L_expressionsBooleennes)=\n",
    "### Les expressions booléennes "
   ]
  },
  {
   "cell_type": "markdown",
   "id": "6f724f2c-2bfe-46f8-af1c-c05e67abece4",
   "metadata": {
    "tags": [],
    "user_expressions": []
   },
   "source": [
    "#### Les opérateurs ayant pour résultat une valeur booléenne\n",
    "| Symbole | Description |\n",
    "| :---:| :--- |\n",
    "| \\> | strictement supérieur à|\n",
    "| \\>=|  supérieur ou égal à|\n",
    "| <| strictement inférieur à|\n",
    "| <=|  inférieur ou égal à|\n",
    "| ==| égal à |\n",
    "| !=| différent de |"
   ]
  },
  {
   "cell_type": "code",
   "execution_count": 19,
   "id": "65ad1f61-7257-4f91-aa49-98ba044033b7",
   "metadata": {},
   "outputs": [
    {
     "data": {
      "text/plain": [
       "False"
      ]
     },
     "execution_count": 19,
     "metadata": {},
     "output_type": "execute_result"
    }
   ],
   "source": [
    "4 > 10"
   ]
  },
  {
   "cell_type": "code",
   "execution_count": 1,
   "id": "7e3259b2-23b2-4f46-bf7c-62da41859f70",
   "metadata": {},
   "outputs": [
    {
     "data": {
      "text/plain": [
       "False"
      ]
     },
     "execution_count": 1,
     "metadata": {},
     "output_type": "execute_result"
    }
   ],
   "source": [
    "3 // 2 != 2 + 6 - 7"
   ]
  },
  {
   "cell_type": "code",
   "execution_count": 7,
   "id": "0beed4b7-7a93-485d-88b6-a1ced48a9d32",
   "metadata": {},
   "outputs": [
    {
     "data": {
      "text/plain": [
       "True"
      ]
     },
     "execution_count": 7,
     "metadata": {},
     "output_type": "execute_result"
    }
   ],
   "source": [
    "2*2 == 16**0.5"
   ]
  },
  {
   "cell_type": "code",
   "execution_count": 5,
   "id": "58ac877a-80cf-4244-9356-c7b192f212b1",
   "metadata": {},
   "outputs": [
    {
     "data": {
      "text/plain": [
       "True"
      ]
     },
     "execution_count": 5,
     "metadata": {},
     "output_type": "execute_result"
    }
   ],
   "source": [
    "-3.5 / 1.3 <= 2.1 *3"
   ]
  },
  {
   "cell_type": "markdown",
   "id": "608beab8-4e12-4f07-a319-a92715346097",
   "metadata": {
    "tags": [],
    "user_expressions": []
   },
   "source": [
    "```{admonition} Remarque\n",
    ":class: note\n",
    "Les nombres flottants ne sont pas mémorisés avec une précision infinie. Ils sont mémorisés avec un certain nombre de décimales. Dans l'exemple ci-dessous, on peut s'en apercevoir.\n",
    "```"
   ]
  },
  {
   "cell_type": "code",
   "execution_count": 73,
   "id": "557da6fa-3b6b-43d9-967c-49e06da21a48",
   "metadata": {},
   "outputs": [
    {
     "data": {
      "text/plain": [
       "0.2999999999999998"
      ]
     },
     "execution_count": 73,
     "metadata": {},
     "output_type": "execute_result"
    }
   ],
   "source": [
    "3.0 - 2.7"
   ]
  },
  {
   "cell_type": "markdown",
   "id": "dd237a5c-4d34-42b6-89a8-cc6a7928d67a",
   "metadata": {
    "user_expressions": []
   },
   "source": [
    "Du coup si on effectue la comparaison suivante le résultat ne sera pas celui auquel on aurait pu s'attendre :"
   ]
  },
  {
   "cell_type": "code",
   "execution_count": 81,
   "id": "322e3aba-ea7e-48ec-a777-740075527b1a",
   "metadata": {},
   "outputs": [
    {
     "data": {
      "text/plain": [
       "False"
      ]
     },
     "execution_count": 81,
     "metadata": {},
     "output_type": "execute_result"
    }
   ],
   "source": [
    "(3.0 - 2.7) == 0.3"
   ]
  },
  {
   "cell_type": "markdown",
   "id": "b322968a-a67e-4359-943a-aea95e467b94",
   "metadata": {
    "tags": [],
    "user_expressions": []
   },
   "source": [
    "Ceci peut être généralisé pour tous les flottants : Il ne faut pas tester l'égalité stricte entre deux nombres flottants. Il faut tester leur égalité, à une certaine précision de la manière suivante :\\\n",
    "**`abs(flottant_1 - flottant_2) < precision`** \\\n",
    "Par exemple, si je veux tester si 3.0 -2.7 est égal à 0.3 à 10{sup}`-6` près il faut écrire :"
   ]
  },
  {
   "cell_type": "code",
   "execution_count": 83,
   "id": "95d3e037-9cbc-46d8-9ab2-ebd11d4388ab",
   "metadata": {},
   "outputs": [
    {
     "data": {
      "text/plain": [
       "True"
      ]
     },
     "execution_count": 83,
     "metadata": {},
     "output_type": "execute_result"
    }
   ],
   "source": [
    "abs((3.0 - 2.7) -0.3) < 1e-6"
   ]
  },
  {
   "cell_type": "markdown",
   "id": "08673e54-db96-443d-879b-dd2ff58f4c7e",
   "metadata": {
    "tags": [],
    "user_expressions": []
   },
   "source": [
    "3.0 - 2.7 et 0.3 sont donc égaux à 10{sup}`-6` près"
   ]
  },
  {
   "cell_type": "markdown",
   "id": "baef6c8b-387a-4b5f-86c1-d551e7915dc5",
   "metadata": {
    "tags": [],
    "user_expressions": []
   },
   "source": [
    "#### Les principaux opérateurs booléennes\n",
    "Il existe plusieurs opérateurs, voici les principaux :\n",
    "- `not` : `not` est un opérateur unaire. Le résultat de cet opérateur sur une valeur booléenne est le contraire de cette valeur. Le contraire de `True` est `False` et le contraire de `False` est `True`.\n",
    "- `and` : fait un ET logique des booléens à gauche et droite du `and`\n",
    "- `or` : fait un OU logique des booléens à gauche et droite du `or`\n",
    "\n",
    "Soient a et b deux booléens. On peut résumer le comportement des ET et OU logiques dans le tableau suivant (appelé Table de vérité):\n",
    "|   a   |   b   | a and b | a or b |\n",
    "| :---  | ---   | ---     |   ---: |\n",
    "| True  | True  |  True   |  True  |\n",
    "| True  | False |  False  |  True  |\n",
    "| False | True  |  False  |  True  |\n",
    "| False | False |  False  |  False |\n"
   ]
  },
  {
   "cell_type": "markdown",
   "id": "7f98f118-2f4b-4632-a10a-4987f0c498f5",
   "metadata": {
    "tags": [],
    "user_expressions": []
   },
   "source": [
    "- une opération unaire sur une seule valeur booléenne (l'opérateur `not` donne le booléen contraire à celui de l'opérande)"
   ]
  },
  {
   "cell_type": "code",
   "execution_count": 12,
   "id": "23ec21c7-6b4c-4089-921f-ecac48a91b3c",
   "metadata": {},
   "outputs": [
    {
     "data": {
      "text/plain": [
       "True"
      ]
     },
     "execution_count": 12,
     "metadata": {},
     "output_type": "execute_result"
    }
   ],
   "source": [
    "not False"
   ]
  },
  {
   "cell_type": "markdown",
   "id": "e731c827-97d8-472c-aa52-e3d14f0c01bb",
   "metadata": {
    "tags": [],
    "user_expressions": []
   },
   "source": [
    "- Le \"et logique\" fait appel à deux valeurs booléennes et son résultat est une valeur booléenne. Nous verrons plus loin "
   ]
  },
  {
   "cell_type": "code",
   "execution_count": 2,
   "id": "5ff9ec28-de06-48f0-901a-5278153c606d",
   "metadata": {},
   "outputs": [
    {
     "data": {
      "text/plain": [
       "False"
      ]
     },
     "execution_count": 2,
     "metadata": {},
     "output_type": "execute_result"
    }
   ],
   "source": [
    "True and False"
   ]
  },
  {
   "cell_type": "markdown",
   "id": "ca75e558-9eea-485d-a23a-41752ab8f42c",
   "metadata": {
    "user_expressions": []
   },
   "source": [
    "### Les chaînes de caractères"
   ]
  },
  {
   "cell_type": "markdown",
   "id": "830ba338-9956-4760-9159-4d92d0e13b73",
   "metadata": {
    "user_expressions": []
   },
   "source": [
    "Les chaînes de caractères acceptent quelques opérateurs.\n",
    "- `len` : Cette fonction donne la longueur, c'est à dire le nombre de caractères d'une chaîne"
   ]
  },
  {
   "cell_type": "code",
   "execution_count": 1,
   "id": "72ba5812-ee1a-4170-968d-9c1531075e14",
   "metadata": {},
   "outputs": [
    {
     "data": {
      "text/plain": [
       "11"
      ]
     },
     "execution_count": 1,
     "metadata": {},
     "output_type": "execute_result"
    }
   ],
   "source": [
    "len(\"Lorem ipsum\")"
   ]
  },
  {
   "cell_type": "markdown",
   "id": "14e746ce-5deb-4394-9bc3-81965155324d",
   "metadata": {
    "user_expressions": []
   },
   "source": [
    "- `+` : Opérateur de concaténation. Il permet de \"coller\" 2 chaînes. "
   ]
  },
  {
   "cell_type": "code",
   "execution_count": 3,
   "id": "7cae5409-fffe-4d95-9394-41308ad79537",
   "metadata": {},
   "outputs": [
    {
     "data": {
      "text/plain": [
       "'Bonjour à toutes et tous'"
      ]
     },
     "execution_count": 3,
     "metadata": {},
     "output_type": "execute_result"
    }
   ],
   "source": [
    "\"Bonjour\" + \" à toutes et tous\""
   ]
  },
  {
   "cell_type": "markdown",
   "id": "074d0733-0155-462e-820c-75a311479e6c",
   "metadata": {
    "tags": [],
    "user_expressions": []
   },
   "source": [
    "- `*` : Opérateur de répétition. Il permet de répéter la chaine qui le précède le nombre de fois qui sui l'étoile (nécessairement entier)"
   ]
  },
  {
   "cell_type": "code",
   "execution_count": 20,
   "id": "38afefc8-b0d9-464f-9a6e-f958ad7571d8",
   "metadata": {},
   "outputs": [
    {
     "name": "stdout",
     "output_type": "stream",
     "text": [
      "hophophop\n",
      "Pom Pom Pom Pom Pom \n"
     ]
    }
   ],
   "source": [
    "print(\"hop\" * 3)\n",
    "print(\"Pom \" * (3 + 2))"
   ]
  },
  {
   "cell_type": "markdown",
   "id": "996d0569-1d24-4f75-a012-6033669153c8",
   "metadata": {
    "user_expressions": []
   },
   "source": [
    "- `in` : Indique si une chaîne est incluse dans une autre. Il existe aussi `not in`."
   ]
  },
  {
   "cell_type": "code",
   "execution_count": 10,
   "id": "38a64730-f647-4408-8820-3b5fc5b9ebf1",
   "metadata": {},
   "outputs": [
    {
     "name": "stdout",
     "output_type": "stream",
     "text": [
      "True\n",
      "True\n",
      "True\n"
     ]
    }
   ],
   "source": [
    "print(\"tout\" in \"Bonjour à toutes et tous\")\n",
    "print( \"ph\" in \"hop\"*3)\n",
    "print(\"sorbonne\" not in \"Sorbonne Université\")"
   ]
  }
 ],
 "metadata": {
  "kernelspec": {
   "display_name": "Python 3 (ipykernel)",
   "language": "python",
   "name": "python3"
  },
  "language_info": {
   "codemirror_mode": {
    "name": "ipython",
    "version": 3
   },
   "file_extension": ".py",
   "mimetype": "text/x-python",
   "name": "python",
   "nbconvert_exporter": "python",
   "pygments_lexer": "ipython3",
   "version": "3.9.13"
  },
  "toc-autonumbering": false,
  "toc-showcode": true,
  "toc-showmarkdowntxt": true
 },
 "nbformat": 4,
 "nbformat_minor": 5
}

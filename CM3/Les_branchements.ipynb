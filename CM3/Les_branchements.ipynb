{
 "cells": [
  {
   "cell_type": "markdown",
   "id": "f6029584-2453-4014-8be5-785698c6b6fd",
   "metadata": {
    "tags": [],
    "user_expressions": []
   },
   "source": [
    "# Les branchements \n",
    "Temps approximatif : 45min\n",
    "```{admonition} Objectifs\n",
    ":class: hint\n",
    "A l'issue de ce chapître, vous serez capable de :\n",
    "- suivre le déroulement pas à pas d'un code Python contenant un ou plusieurs branchements\n",
    "- mettre en place un branchement (avec ou sans alternative) pour conditionner déroulement d'une partie de votre code Python\n",
    "- indenter votre code pour marquer des blocs (dont les blocs des branchements)\n",
    "- faire la différence entre des branchements imbriqués et des branchements consécutifs\n",
    "- mettre en place tous les tests nécessaires, correspondant à tous les chemins possibles, afin de verifier le bon déroulement de votre code Python\n",
    "```"
   ]
  },
  {
   "cell_type": "markdown",
   "id": "5c67a5a6-9e6d-4368-844b-2de0a68ac22e",
   "metadata": {
    "tags": [],
    "user_expressions": []
   },
   "source": [
    "```{admonition} Remarque\n",
    ":class: note\n",
    "A partir de ce chapitre, des numéros de ligne, sont insérés en tête de ligne à gauche de chaque morceau de code. Cela facilite les commentaires.\n",
    "```"
   ]
  },
  {
   "cell_type": "markdown",
   "id": "97d32572-e595-4770-a516-72918aa442f6",
   "metadata": {
    "tags": [],
    "user_expressions": []
   },
   "source": [
    "## Principes de base\n",
    "L'instruction `if` permet de créer des branchements dans votre code Python ; c'est à dire de conditionner l'execution d'une partie de votre code selon la valeur d'une [expression booléenne](L_expressionsBooleennes)."
   ]
  },
  {
   "cell_type": "code",
   "execution_count": 40,
   "id": "29cc2a3e-6662-4424-bea9-583b86a9a44a",
   "metadata": {
    "number_source_lines": true,
    "tags": []
   },
   "outputs": [
    {
     "name": "stdout",
     "output_type": "stream",
     "text": [
      "x est strictement plus grand que 5\n"
     ]
    }
   ],
   "source": [
    "x = 10\n",
    "if x > 5 :\n",
    "    print(\"x est strictement plus grand que 5\")"
   ]
  },
  {
   "cell_type": "markdown",
   "id": "559a5593-1df3-4723-8a5a-04bca96f5fcf",
   "metadata": {
    "tags": [],
    "user_expressions": []
   },
   "source": [
    "Dans le code ci-dessus, l'instruction `if` apparait à la ligne 2. Le `if` est suivi d'une expression booléenne `x > 5` et terminée par un `:`. \n",
    "Le bloc d'instructions qui sera exécuté si l'expression booléenne vaut `True` est uniquement composé de la ligne 3. \n",
    "Afin de spécifier, que l'instruction de la ligne 3 fait partie du bloc soumis à la condition de la ligne 2, une indentation doit être appliquée. \n",
    "Pour ce faire, il faut insérer une tabulation ou 4 espaces. \n",
    "Décrivons maintenant ce qui se passe lors de l'exécution du code Python ci-dessus. A la ligne 1, la valeur 10 est affectée à la variable `x`.\n",
    "Ligne 2 l'expression booléenne `x > 5` est évaluée : l'expression se ramène à la valeur `True` puisque 10 est plus grand que 5. Le code exécutera donc le bloc conditionnel qui est constitué d'un simple appel à la fonction `print` ce qui affiche à l'écran `x est strictement plus grand que 5`.\n",
    "\n",
    "Pour terminer le bloc conditionnel, et écrire une ligne de code qui soit exécutée sans condition, il suffit d'aligner à nouveau ligne de code avec le `if`."
   ]
  },
  {
   "cell_type": "code",
   "execution_count": 41,
   "id": "6f51e435-a9b0-45d0-a2b0-22015592e7cd",
   "metadata": {},
   "outputs": [
    {
     "name": "stdout",
     "output_type": "stream",
     "text": [
      "Ce message sera affiché quelque soit la valeur de x\n"
     ]
    }
   ],
   "source": [
    "x = 0\n",
    "if x > 5 :\n",
    "    print(\"x est strictement plus grand que 5\")\n",
    "    print(\"Deuxième message dans le bloc conditionnel\")\n",
    "print(\"Ce message sera affiché quelque soit la valeur de x\")"
   ]
  },
  {
   "cell_type": "code",
   "execution_count": 42,
   "id": "5979394d-d300-41ce-a92c-77130816432c",
   "metadata": {},
   "outputs": [
    {
     "name": "stdout",
     "output_type": "stream",
     "text": [
      "x est strictement plus grand que 5\n",
      "Deuxième message dans le bloc conditionnel\n",
      "Ce message sera affiché quelque soit la valeur de x\n"
     ]
    }
   ],
   "source": [
    "x = 10\n",
    "if x > 5 :\n",
    "    print(\"x est strictement plus grand que 5\")\n",
    "    print(\"Deuxième message dans le bloc conditionnel\")\n",
    "print(\"Ce message sera affiché quelque soit la valeur de x\")"
   ]
  },
  {
   "cell_type": "markdown",
   "id": "51925373-b594-45a1-9f99-1b101c1a1573",
   "metadata": {
    "tags": [],
    "user_expressions": []
   },
   "source": [
    "Il est aussi possible d'ajouter un bloc conditionnel qui sera éxecuté uniquement dans le cas où l'expression booléenne qui suit le `if` vaut `False` grâce à l'instruction `else`. On parle alors d'alternative. Le bloc qui suit le `if`est appelé _bloc conséquent_ et le bloc qui suit le `else` est appelé _bloc alternant_."
   ]
  },
  {
   "cell_type": "code",
   "execution_count": 43,
   "id": "edacb82e-0c63-4a9d-9a2e-4d25251832ce",
   "metadata": {},
   "outputs": [
    {
     "name": "stdout",
     "output_type": "stream",
     "text": [
      "x est inférieur ou égal à 5\n",
      "Deuxième message dans le bloc alterant\n",
      "Ce message sera affiché quelque soit la valeur de x\n"
     ]
    }
   ],
   "source": [
    "x = 3\n",
    "if x > 5 :\n",
    "    print(\"x est strictement plus grand que 5\")\n",
    "    print(\"Deuxième message dans le bloc conséquent\")\n",
    "else :\n",
    "    print(\"x est inférieur ou égal à 5\")\n",
    "    print(\"Deuxième message dans le bloc alterant\")\n",
    "print(\"Ce message sera affiché quelque soit la valeur de x\")"
   ]
  },
  {
   "cell_type": "markdown",
   "id": "0f532141-a10a-4ba0-a73f-97911d21af88",
   "metadata": {
    "tags": [],
    "user_expressions": []
   },
   "source": [
    "```{admonition} À vous de jouer\n",
    ":class: question\n",
    "Créez un code qui affiche le message _\"Le nombre entier x est pair\"_ quand l'entier contenu dans la variable x est pair et le message _\"Le nombre entier x est impair\"_ dans le cas contraire. N'oubliez pas de tester le bon fonctionnement de votre code en affectant  différentes valeurs entières à la variable `x` au début de votre code.\n",
    "```"
   ]
  },
  {
   "cell_type": "code",
   "execution_count": 44,
   "id": "02d673ce-e2b5-4554-8bd2-c4a0ebfd4be7",
   "metadata": {
    "mystnb": {
     "remove-input": true
    },
    "tags": [
     "hide-input"
    ]
   },
   "outputs": [
    {
     "name": "stdout",
     "output_type": "stream",
     "text": [
      "Le nombre entier x est pair\n"
     ]
    }
   ],
   "source": [
    "## SOLUTION\n",
    "x = 10\n",
    "if (x % 2) == 0 :\n",
    "    print(\"Le nombre entier x est pair\")\n",
    "else :\n",
    "    print(\"Le nombre entier x est impair\")"
   ]
  },
  {
   "cell_type": "markdown",
   "id": "441a23ad-5d58-45a7-b338-2620a519c299",
   "metadata": {
    "tags": [],
    "user_expressions": []
   },
   "source": [
    "## `if` imbriqués ou successifs\n",
    "On peut aussi créer des code Python plus complexes en utilsant d'autres `if` dans un bloc se situant lui aussi dans un autre `if`. On parle alors de _if imbriqués_."
   ]
  },
  {
   "cell_type": "code",
   "execution_count": 45,
   "id": "aca10e1e-22c7-4864-ad1c-9fe7b91d4689",
   "metadata": {},
   "outputs": [
    {
     "name": "stdout",
     "output_type": "stream",
     "text": [
      "n est strictement positif\n",
      "Ceci est un exemple de if imbriqués\n"
     ]
    }
   ],
   "source": [
    "n = 5\n",
    "if n > 0 :\n",
    "    print(\"n est strictement positif\")\n",
    "else :\n",
    "    if n < 0 :\n",
    "        print(\"n est strictement négatif\")\n",
    "    else :\n",
    "        print(\"n est nul\")\n",
    "print(\"Ceci est un exemple de if imbriqués\")     "
   ]
  },
  {
   "cell_type": "code",
   "execution_count": 46,
   "id": "9ddc8ff6-2b20-45d3-ac65-7845e0a3855d",
   "metadata": {},
   "outputs": [
    {
     "name": "stdout",
     "output_type": "stream",
     "text": [
      "n est strictement positif\n",
      "n est nul\n",
      "Ceci est un exemple de if successifs\n"
     ]
    }
   ],
   "source": [
    "n = 5\n",
    "if n > 0 :\n",
    "    print(\"n est strictement positif\")\n",
    "if n < 0 :\n",
    "    print(\"n est strictement négatif\")\n",
    "else :\n",
    "    print(\"n est nul\")\n",
    "print(\"Ceci est un exemple de if successifs\")     "
   ]
  },
  {
   "cell_type": "markdown",
   "id": "3ee3d816-2140-417c-9edb-c2d29a4ac29c",
   "metadata": {
    "tags": [],
    "user_expressions": []
   },
   "source": [
    "Le code ci-dessus ne se comporte pas comme on l'aurait voulu. Voici pourquoi :\\\n",
    "Ligne 2, l'expression `n > 0` vaut True puisque 5 > 0. \n",
    "L'exécution se poursuit donc ligne 3, à l'intérieur du bloc conséquent du premier `if` et imprime à l'écran le message \"n est strictement positif\".\n",
    "Ligne 4, l'expression `n < 0` vaut False puisque 5 < 0. \n",
    "L'exécution se poursuit donc ligne 7, à l'intérieur du bloc alternant du deuxième `if` et imprime à l'écran le message \"n est nul\".\n",
    "Enfin, on passe à la ligne 8 qui n'est pas soumise à condition et imprime le message \"Ceci est un exemple de if successifs\"."
   ]
  },
  {
   "cell_type": "markdown",
   "id": "603f9b74-d9c0-40bb-a634-cce2a23820de",
   "metadata": {
    "tags": [],
    "user_expressions": []
   },
   "source": [
    "```{admonition} À vous de jouer\n",
    ":class: question\n",
    "Créez un code qui affecte un nombre entier à la variable `v`. Puis : \n",
    "- lorsque ce nombre entier est un nombre pair, on lui ajoute 1 et vérifie si cette somme est un multiple de 3. Quand c'est le cas on le divise par 3. \n",
    "- lorsque le nombre entier de départ est impair, on lui ajoute 3. \n",
    "- Enfin on imprime à l'écran le nombre obtenu.\n",
    "\n",
    "Afin de tester  le bon fonctionnement de votre code vous le testerez avec différentes valeurs de `v` qui correspondent à tous les chemins possibles.\n",
    "```"
   ]
  },
  {
   "cell_type": "code",
   "execution_count": 47,
   "id": "44cdda79-dfd3-4692-9682-987e0f78221f",
   "metadata": {
    "tags": [
     "hide-input"
    ]
   },
   "outputs": [
    {
     "name": "stdout",
     "output_type": "stream",
     "text": [
      "7\n"
     ]
    }
   ],
   "source": [
    "##SOLUTION\n",
    "v = 6 # Valeurs à tester 3, 6 et 8\n",
    "if (v % 2) == 0 :\n",
    "    v += 1\n",
    "    if (v % 3 == 0) :\n",
    "        v//=3\n",
    "else :\n",
    "    v+=3\n",
    "print(v)\n",
    "        "
   ]
  },
  {
   "cell_type": "markdown",
   "id": "529246f0-1774-4382-84d8-85345f128e15",
   "metadata": {
    "tags": [],
    "user_expressions": []
   },
   "source": [
    "## L'instruction `elif`\n",
    "Il est aussi possible d'utiliser l'instruction `elif` qui est une contraction de _\"else if\"_. Après un bloc `if`, cela permet de mettre une alternative contenant une nouvelle condition. On peut en enchaîner plusieurs et même terminer par un simple `else`."
   ]
  },
  {
   "cell_type": "code",
   "execution_count": 48,
   "id": "72bb97f8-8f02-4e09-8c91-eb420be5edb0",
   "metadata": {
    "user_expressions": []
   },
   "outputs": [
    {
     "name": "stdout",
     "output_type": "stream",
     "text": [
      "pyrope est un grenat\n",
      "Fin de mon enchaînement de tests\n"
     ]
    }
   ],
   "source": [
    "mineral=\"pyrope\"\n",
    "if mineral in {\"biotite\",\"muscovite\",\"phlogopite\"} :\n",
    "    print(mineral + \" est un mica\")\n",
    "elif mineral in {\"grossulaire\",\"almandin\",\"pyrope\",\"spessartite\"} :\n",
    "    print(mineral + \" est un grenat\")\n",
    "elif mineral in {\"diopside\",\"hedenbergite\",\"clinoferrosilite\",\"clinoenstatite\"} :\n",
    "    print(mineral + \" est un clinopyroxène\")\n",
    "elif mineral in {\"trémolite\",\"actinote\"} :\n",
    "    print(mineral + \" est une amphibole\")\n",
    "else :\n",
    "    print (\"Je ne sais pas à quelle famille appartient \" + mineral)\n",
    "print(\"Fin de mon enchaînement de tests\")"
   ]
  },
  {
   "cell_type": "markdown",
   "id": "f94ffef2-7a2a-4ba0-8795-cc00cde2827a",
   "metadata": {
    "user_expressions": []
   },
   "source": [
    "Commentaire du code ci-dessus. \\\n",
    "Le test de la ligne 2 est `False`, puisque la chaîne \"pyrope\" n'apparaît pas dans le premier set. L'exécution du code passe donc à la ligne 4.\\\n",
    "Le test de la ligne 4 est `True`, puisque la chaîne \"pyrope\" apparaît pas dans le deuxième set. L'exécution du code passe donc à la ligne 12.\\\n",
    "Le message final est enfin imprimer à l'écran."
   ]
  },
  {
   "cell_type": "markdown",
   "id": "df09c1aa-e75f-4a77-9f8d-8decf5ba59de",
   "metadata": {
    "user_expressions": []
   },
   "source": [
    "## 🚀 Pour aller plus loin \n",
    "(L_ifRaccourcis)=\n",
    "### Les raccourcis"
   ]
  },
  {
   "cell_type": "markdown",
   "id": "e01b0bcc-a460-42ca-9504-c2502fb27b6d",
   "metadata": {
    "user_expressions": []
   },
   "source": [
    "Si le bloc conséquent d'un `if` ne contient qu'une ligne, il est possible d'utiliser un raccourci en mettant tout sur une seule ligne. Cela rend aussi votre code plus lisible."
   ]
  },
  {
   "cell_type": "code",
   "execution_count": 49,
   "id": "b87982c3-15ab-4556-9ac4-0529dae0b477",
   "metadata": {},
   "outputs": [
    {
     "name": "stdout",
     "output_type": "stream",
     "text": [
      "x est strictement plus grand que 5\n"
     ]
    }
   ],
   "source": [
    "x = 10\n",
    "if x > 5 : print(\"x est strictement plus grand que 5\")"
   ]
  },
  {
   "cell_type": "markdown",
   "id": "cecce572-6da0-4d2c-ba94-3f5afd59695e",
   "metadata": {
    "tags": [],
    "user_expressions": []
   },
   "source": [
    "Si il y a une alternative en une ligne aussi, il est aussi possible d'utiliser une notation raccourcie mais il faut faire attention à l'ordre des instructions."
   ]
  },
  {
   "cell_type": "code",
   "execution_count": 50,
   "id": "104d88ff-228b-43bf-9c7b-ddb25dcd3758",
   "metadata": {},
   "outputs": [
    {
     "name": "stdout",
     "output_type": "stream",
     "text": [
      "x est inférieur ou égal à 5\n",
      "Ce message sera affiché quelque soit la valeur de x\n"
     ]
    }
   ],
   "source": [
    "x = 3\n",
    "print(\"x est strictement plus grand que 5\") if x > 5 else print(\"x est inférieur ou égal à 5\")\n",
    "print(\"Ce message sera affiché quelque soit la valeur de x\")"
   ]
  },
  {
   "cell_type": "markdown",
   "id": "8966a184-8499-4c2b-a871-eb6542a1217b",
   "metadata": {
    "user_expressions": []
   },
   "source": [
    "Des raccourcis plus complexes sont possibles mais, très vite, ils perdent en lisibilité."
   ]
  },
  {
   "cell_type": "code",
   "execution_count": 51,
   "id": "70e35690-0205-442e-8d61-10c7d49990ea",
   "metadata": {},
   "outputs": [
    {
     "name": "stdout",
     "output_type": "stream",
     "text": [
      "n est strictement positif\n",
      "Ceci est un exemple de if imbriqués\n"
     ]
    }
   ],
   "source": [
    "n = 5\n",
    "print(\"n est strictement positif\") if n > 0 else print(\"n est strictement négatif\") if n < 0 else print(\"n est nul\")\n",
    "print(\"Ceci est un exemple de if imbriqués\")    "
   ]
  },
  {
   "cell_type": "markdown",
   "id": "e89c7d29-9eaa-4e9c-bd1a-51be90eb20ea",
   "metadata": {
    "tags": [],
    "user_expressions": []
   },
   "source": [
    "```{admonition} À vous de jouer\n",
    ":class: question\n",
    "Transformez les lignes 3 à 6 du code ci dessous en en une seule ligne.\n",
    "```"
   ]
  },
  {
   "cell_type": "code",
   "execution_count": 52,
   "id": "51b4831b-f029-4784-8fc0-9717fbf9a6ab",
   "metadata": {},
   "outputs": [
    {
     "name": "stdout",
     "output_type": "stream",
     "text": [
      "Il s'agit du mois de août\n"
     ]
    }
   ],
   "source": [
    "mois=[\"janvier\",\"février\",\"mars\",\"avril\",\"mai\",\"juin\",\"juillet\",\"août\",\"septembre\",\"octobre\",\"novembre\",\"décembre\"]\n",
    "m = 8\n",
    "if 1 <= m and m <= len(mois) :\n",
    "    print(\"Il s'agit du mois de \" + mois[m-1])\n",
    "else :\n",
    "    print(\"le numéro du mois est invalide\")"
   ]
  },
  {
   "cell_type": "code",
   "execution_count": 53,
   "id": "7ae3abf3-5ded-4ade-a881-770fda07c059",
   "metadata": {
    "tags": [
     "hide-input"
    ]
   },
   "outputs": [
    {
     "name": "stdout",
     "output_type": "stream",
     "text": [
      "Il s'agit du mois de août\n"
     ]
    }
   ],
   "source": [
    "## SOLUTION\n",
    "mois=[\"janvier\",\"février\",\"mars\",\"avril\",\"mai\",\"juin\",\"juillet\",\"août\",\"septembre\",\"octobre\",\"novembre\",\"décembre\"]\n",
    "m = 8\n",
    "print(\"Il s'agit du mois de \" + mois[m-1]) if 1 <= m and m <= len(mois) else print(\"le numéro du mois est invalide\")"
   ]
  }
 ],
 "metadata": {
  "kernelspec": {
   "display_name": "Python 3 (ipykernel)",
   "language": "python",
   "name": "python3"
  },
  "language_info": {
   "codemirror_mode": {
    "name": "ipython",
    "version": 3
   },
   "file_extension": ".py",
   "mimetype": "text/x-python",
   "name": "python",
   "nbconvert_exporter": "python",
   "pygments_lexer": "ipython3",
   "version": "3.9.18"
  },
  "mystnb": {
   "number_source_lines": true
  }
 },
 "nbformat": 4,
 "nbformat_minor": 5
}

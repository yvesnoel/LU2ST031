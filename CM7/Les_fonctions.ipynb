{
 "cells": [
  {
   "cell_type": "markdown",
   "id": "641c5345-c5fe-4d64-9e60-a90d314decaa",
   "metadata": {
    "user_expressions": []
   },
   "source": [
    "# Les fonctions\n",
    "```{admonition} Objectifs\n",
    ":class: hint\n",
    "A l'issue de ce chapître, vous serez capable de :\n",
    "- appeler une fonction déjà définie\n",
    "- récupérer ce qui est renvoyé par une fonction\n",
    "- expliquer la différence entre définition et appel d'une fonction\n",
    "- écrire la définition d'une fonction simple (moins de 20 lignes) à partir d'un cahier des charges\n",
    "- élaborer des tests pour vérifier le bon comportement d'une fonction\n",
    "```"
   ]
  },
  {
   "cell_type": "markdown",
   "id": "211c4b5f-4117-4586-a7dd-c012b5b3e4ee",
   "metadata": {
    "tags": []
   },
   "source": [
    "## Introduction\n",
    "Nous avons déjà vu dans les chapîtres précédents des fonctions Python comme `len`, `round`, `type` ou encore `print`. Même si ces fonctions vous apparaissent certainement pour le moment comme des boites noires, nous pouvons quand même faire quelques remarques.\n",
    "A chaque fois, pour les utiliser, on dit **appeler**, nous avons utilisé leur nom suivi d'une paire de parenthèses. A l'intérieur de ces parenthèses, nous avons spécifié ce que devait utiliser ces fonctions ; on appellera cela un **argument**. \n",
    "Une fonction peut aussi n'avoir aucun argument, ou plusieurs arguments. Nous avons aussi constaté que les fonctions effectue une action et que la plupart (mais pas toutes) renvoie un objet (qui peut être de n'importe quel type).\n",
    "\n",
    "```{admonition} En résumé\n",
    ":class: tip\n",
    "Une fonction est un bloc d'instructions qui est exécuté quand la fonction est appelée. La fonction \"communique\" avec le programme principal grâce aux **arguments** (en entrée) et grâce à ce qui est renvoyé (en sortie).\n",
    "```\n",
    "## Appel de fonction\n",
    "Utilisons quelques exemples d'appels de fonctions et commentons les."
   ]
  },
  {
   "cell_type": "code",
   "execution_count": null,
   "id": "8c06d797-8ae3-428b-8ae6-8a8af2e6d63a",
   "metadata": {},
   "outputs": [
    {
     "data": {
      "text/plain": [
       "6"
      ]
     },
     "execution_count": 1,
     "metadata": {},
     "output_type": "execute_result"
    }
   ],
   "source": [
    "len('coucou')"
   ]
  },
  {
   "cell_type": "markdown",
   "id": "c755bacc-6319-4edb-bea4-f3c3e4bf4b95",
   "metadata": {
    "tags": [],
    "user_expressions": []
   },
   "source": [
    "Ici, la fonction `len` a été appelée avec un seul argument de type `str`. \n",
    "Elle calcule la longueur de cette chaîne de caractères et renvoie ce nombre (type `int`)."
   ]
  },
  {
   "cell_type": "code",
   "execution_count": null,
   "id": "6f58bedc-1ab1-4fc4-925d-fcb0fc6c1360",
   "metadata": {},
   "outputs": [
    {
     "data": {
      "text/plain": [
       "3.1416"
      ]
     },
     "execution_count": 38,
     "metadata": {},
     "output_type": "execute_result"
    }
   ],
   "source": [
    "import math\n",
    "round(math.pi,4)"
   ]
  },
  {
   "cell_type": "markdown",
   "id": "c194c3b4-09ac-40a8-ad1a-172ce1ca99b9",
   "metadata": {
    "tags": [],
    "user_expressions": []
   },
   "source": [
    "La fonction `round` est appelée **avec 2 arguments**. Le premier est de type `float` et le second est de type `int`. Elle calcule l'arrondi du premier argument où le nombre de chiffres après la virgule est indiqué par le deuxième argument. Elle renvoie le résultat sous la forme d'un `float`."
   ]
  },
  {
   "cell_type": "code",
   "execution_count": null,
   "id": "dcc4607a-b978-496e-9e5e-96dde01c8a6e",
   "metadata": {},
   "outputs": [
    {
     "name": "stdout",
     "output_type": "stream",
     "text": [
      "True\n"
     ]
    }
   ],
   "source": [
    "print(math.pi>3)"
   ]
  },
  {
   "cell_type": "markdown",
   "id": "0d4a1a89-7c68-43ca-a24f-9f51fb385e79",
   "metadata": {
    "tags": [],
    "user_expressions": []
   },
   "source": [
    "La fonction `print` a été appelée avec un seul argument ; ici de type `bool`. \n",
    "Elle affiche à l'écran ce booléen et **ne renvoie rien**."
   ]
  },
  {
   "cell_type": "code",
   "execution_count": null,
   "id": "644ee53f-bdbf-40e0-8114-c90ba878b204",
   "metadata": {},
   "outputs": [
    {
     "data": {
      "text/plain": [
       "0.48979879496209555"
      ]
     },
     "execution_count": 34,
     "metadata": {},
     "output_type": "execute_result"
    }
   ],
   "source": [
    "import random\n",
    "random.random()"
   ]
  },
  {
   "cell_type": "markdown",
   "id": "1b5334cd-ba85-4b2f-9e9e-d5eefd03c533",
   "metadata": {
    "tags": [],
    "user_expressions": []
   },
   "source": [
    "La fonction `random` (du module `random`) a été appelé **sans argument**. Elle génère un nombre aléatoire entre 0.0 et 1.0 et le renvoie (type `float`)."
   ]
  },
  {
   "cell_type": "markdown",
   "id": "c1f6712b-ca9f-4913-b442-67afd4844763",
   "metadata": {
    "user_expressions": []
   },
   "source": [
    "La valeur renvoyée par une fonction peut être affectée dans une variable :"
   ]
  },
  {
   "cell_type": "code",
   "execution_count": 31,
   "id": "abc36048-72aa-42b2-b529-86b5f55e6de1",
   "metadata": {
    "tags": []
   },
   "outputs": [
    {
     "name": "stdout",
     "output_type": "stream",
     "text": [
      "19.76\n"
     ]
    }
   ],
   "source": [
    "n = round( 9.8765,2)\n",
    "print(n * 2)"
   ]
  },
  {
   "cell_type": "markdown",
   "id": "f54ca9dd-503a-4f8c-81fc-08fccfb5913f",
   "metadata": {
    "user_expressions": []
   },
   "source": [
    "Ou alors être utilisé dans une expression :"
   ]
  },
  {
   "cell_type": "code",
   "execution_count": null,
   "id": "ad85cfea-5963-483b-b216-7fdeeefd9867",
   "metadata": {},
   "outputs": [
    {
     "name": "stdout",
     "output_type": "stream",
     "text": [
      "13.47213595499958\n"
     ]
    }
   ],
   "source": [
    "print(math.sqrt(20)+9)"
   ]
  },
  {
   "cell_type": "markdown",
   "id": "f461bda0-1bde-407a-9b26-79912ddf8ed8",
   "metadata": {
    "user_expressions": []
   },
   "source": [
    "```{admonition} À vous de jouer\n",
    ":class: seealso\n",
    "Affectez la valeur arrondie à 2 décimales de $\\sin(\\frac{2\\pi}{3})$, à la variable `x` en appelant la fonction `sin` (du module `math`). Affichez le contenu de `x`.\n",
    "```"
   ]
  },
  {
   "cell_type": "code",
   "execution_count": null,
   "id": "29e6599d-87fd-4f8a-9d4d-0de319220170",
   "metadata": {
    "tags": [
     "hide-input"
    ]
   },
   "outputs": [
    {
     "name": "stdout",
     "output_type": "stream",
     "text": [
      "0.87\n"
     ]
    }
   ],
   "source": [
    "# SOLUTION\n",
    "import math\n",
    "x = round(math.sin(2*math.pi/3),2)\n",
    "print(x)"
   ]
  },
  {
   "cell_type": "markdown",
   "id": "93acece2-1914-479e-81be-36e9ac8145f6",
   "metadata": {
    "tags": [],
    "user_expressions": []
   },
   "source": [
    "## Définition d'une fonction\n",
    "Jusqu'à présent nous avons vu des fonctions de base de Python. Mais il est aussi possible d'en créer. On appelle cela **définir** une fonction. Pour définir une fonction il faut suivre la syntaxe suivante :\n",
    "la première ligne de la définition d'un fonction commence par le mot-clé `def`. Il est suivi, après un espace, par le nom de la fonction. On trouve ensuite une paire de parenthèses encadrant une liste de paramètres (ils sont séparés par des virgules). Les paramètres sont des noms de variables qui seront utilisés dans le corps de la fonction. Lors de l'appel d'une fonction, ces paramètres prennent les valeurs données en arguments. Pour finir, la première ligne se termine par le symbole `:`\n",
    "Après la première ligne se trouve le bloc qui forme le corps de la fonction. Puisqu'il s'agit d'un bloc, il doit être indenté par rapport à la première ligne. Lorsque la fonction renvoie quelque chose, elle doit comporter une ligne avec l'instruction `return` suivie de l'expression dont la valeur doit être renvoyée."
   ]
  },
  {
   "cell_type": "markdown",
   "id": "6dd606cf-d28c-43ee-a965-64c7b30d80f6",
   "metadata": {
    "tags": [],
    "user_expressions": []
   },
   "source": [
    "```{admonition} En résumé\n",
    ":class: tip\n",
    "la syntaxe pour la définition d'une fonction est \n",
    "```python\n",
    "def nom_de_la_fonction ( parametre_1, parametre_2 ) :\n",
    "    # Ceci est un exemple pour 2 paramètres\n",
    "    corps_de_la_fonction\n",
    "    return a_renvoyer\n",
    "```"
   ]
  },
  {
   "cell_type": "markdown",
   "id": "7f3b4861-7dbf-4210-98d8-59dfe939595d",
   "metadata": {
    "user_expressions": []
   },
   "source": [
    "Dans l'exemple ci-dessous vous trouverez la définition d'une fonction `estpair` qui à partir d'un nombre, `nb`, renvoie `True` quand il est un entier pair et `False` dans le cas contraire (entier impair et non entier)."
   ]
  },
  {
   "cell_type": "code",
   "execution_count": null,
   "id": "30c9f1b3-726c-413a-9b1f-4ee8b537a306",
   "metadata": {},
   "outputs": [],
   "source": [
    "def estpair(nb) :\n",
    "    if (type(nb) == int) and (nb % 2 == 0) :\n",
    "        return True\n",
    "    else :\n",
    "        return False"
   ]
  },
  {
   "cell_type": "markdown",
   "id": "09411400-fa07-4396-9fac-382c2b41de0e",
   "metadata": {
    "user_expressions": []
   },
   "source": [
    "Il était aussi possible de définir cette fonction de la manière suivante :"
   ]
  },
  {
   "cell_type": "code",
   "execution_count": null,
   "id": "2023354b-b73e-454b-a52a-fa6ec4ecbd70",
   "metadata": {},
   "outputs": [],
   "source": [
    "def estpair(nb) :\n",
    "    return (type(nb)) == int and (nb % 2 == 0) "
   ]
  },
  {
   "cell_type": "markdown",
   "id": "f867ef65-9c81-4986-8ced-52f8c6156461",
   "metadata": {
    "user_expressions": []
   },
   "source": [
    "Une fois cette fonction définie, nous pouvons l'appeler."
   ]
  },
  {
   "cell_type": "code",
   "execution_count": null,
   "id": "5a035668-2070-4919-923d-06dcdbe4e7c1",
   "metadata": {},
   "outputs": [
    {
     "name": "stdout",
     "output_type": "stream",
     "text": [
      "True\n",
      "False\n",
      "False\n"
     ]
    }
   ],
   "source": [
    "print(estpair(18))\n",
    "print(estpair(17))\n",
    "print(estpair(18.0))"
   ]
  },
  {
   "cell_type": "code",
   "execution_count": null,
   "id": "e97c8b72-eb94-43f8-92dd-4a4df97d14cf",
   "metadata": {
    "tags": [
     "hide-input"
    ]
   },
   "outputs": [],
   "source": [
    "# SOLUTION\n",
    "def maFonction(n):\n",
    "    return n/10 if n>10 else n+1"
   ]
  },
  {
   "cell_type": "code",
   "execution_count": null,
   "id": "9591afdd-bd49-46a7-8c2b-6e4a90d97693",
   "metadata": {},
   "outputs": [
    {
     "name": "stdout",
     "output_type": "stream",
     "text": [
      "2.3\n",
      "9.2\n"
     ]
    }
   ],
   "source": [
    "print(maFonction(23))\n",
    "print(maFonction(8.2))"
   ]
  },
  {
   "cell_type": "markdown",
   "id": "99cf193f-0bbd-47bb-91f9-2a65e319f462",
   "metadata": {
    "user_expressions": []
   },
   "source": [
    "```{admonition} À vous de jouer\n",
    ":class: seealso\n",
    "Définissez une fonction dont nom est `maFonction` qui n'a qu'un seul paramètre, `n`. Si ce paramètre est strictement plus grand  que 10, elle le divise par 10, sinon elle l'incrémente de 1. Elle renvoie dans tous les cas le nombre ainsi obtenu.\n",
    "```"
   ]
  },
  {
   "cell_type": "markdown",
   "id": "467743b2-c93b-4bd0-983b-b22a5a809765",
   "metadata": {},
   "source": [
    "## Portée des varaiables"
   ]
  },
  {
   "cell_type": "markdown",
   "id": "34ec93c1-48b1-4e11-8ae9-bb3a8f280fc5",
   "metadata": {},
   "source": [
    "L'expression _portée des variables_ signifie que les variables sont accessibles (c'est à dire utilisables) que dans certains espaces de votre script et pas dans d'autres. Il existe des variables locales et des variables globales mais ici nous n'aborderons que les variables locales. Les variables utilisées dans l'espaces de définition d'une fonction sont des vartiables locales à la fonction et ne sont pas accessibles à l'extérieur de cette fonction (par exemple dans le script qui appelle cette fonction). Réciproquement, les variables utilisées dans l'espace de votre script sont inaccessibles à l'intérieur de l'espace de définition de la fonction. La seule façon de communiquer entre une fonction et le script, c'est à travers les arguments d'entrée et les valeurs de retour de la fonction."
   ]
  },
  {
   "cell_type": "code",
   "execution_count": 31,
   "id": "4408593a-1ff1-4000-b924-2c2941609292",
   "metadata": {
    "tags": []
   },
   "outputs": [],
   "source": [
    "def fonc_bidon(x) :\n",
    "#   ICI ON EST DANS L'ESPACE DE LA FONCTION\n",
    "    a = 2 * x\n",
    "    print('Dans la fonction la variable x vaut : '+str(x))\n",
    "    print('Dans la fonction la variable a vaut : '+str(a))\n",
    "    return a"
   ]
  },
  {
   "cell_type": "code",
   "execution_count": 10,
   "id": "044c523f-eee5-4b17-8502-2ec4a591a24f",
   "metadata": {
    "tags": []
   },
   "outputs": [
    {
     "name": "stdout",
     "output_type": "stream",
     "text": [
      "Dans le script la variable a vaut : 5\n",
      "Dans la fonction la variable a vaut : 8\n",
      "Dans le script la variable a vaut toujours : 5\n",
      "Dans le script la variable b vaut : 10\n",
      "Dans le script la variable x n'est pas définie\n"
     ]
    }
   ],
   "source": [
    "# ICI ON EST DANS L'ESPACE DU SCRIPT\n",
    "a = 5\n",
    "print('Dans le script la variable a vaut : '+str(a))\n",
    "b = fonc_bidon(4) + 2\n",
    "print('Dans le script la variable a vaut toujours : '+str(a))\n",
    "print('Dans le script la variable b vaut : '+str(b))\n",
    "try :\n",
    "    print('Dans le script la variable x vaut : '+str(x))\n",
    "except (NameError) :\n",
    "    print(\"Dans le script la variable x n'est pas définie\")"
   ]
  },
  {
   "cell_type": "markdown",
   "id": "7aeed4e6-1fd0-425d-ad1b-870db3c0981e",
   "metadata": {},
   "source": [
    "### Arguments et paramètres d'une fonction\n",
    "Nous avons vu précédemment qu'un seul moyen de transmettre des valeurs de l'espace du script à celui de la fonction : définir un ou des paramètres et donner des valeurs en argument lors de l'appel de la fonction à partir du script. C'est à dire que d'une part on définit des noms de variable dans la définition de la fonction, que l'on peut utiliser dans la fonction et d'autre part on fournit des valeurs, c'est à dire une expression, en argument lors de l'appel de la fonction. L'expression fournie en argument lors de l'appel peut se résumer à une variable, c'est à dire la valeur contenue dans cette variable. Tous les paramètres prévus dans la définition de la fonction doivent correspondre à des valeurs (arguments) lors de l'appelc (dans le cas contraire une exception de type `TypeError` est signalée). \n",
    "```{admonition} Attention : \n",
    ":class: caution\n",
    "C'est l'ordre des arguments qui permet des les relier aux paramètres de la fonction.\n",
    "```"
   ]
  },
  {
   "cell_type": "code",
   "execution_count": 14,
   "id": "4c00474c-1a7e-4f82-89c9-fe0b200e5622",
   "metadata": {
    "tags": []
   },
   "outputs": [],
   "source": [
    "def fdiff(a,b) :\n",
    "# DEFINITION DE LA FONCTION\n",
    "    return b-a"
   ]
  },
  {
   "cell_type": "code",
   "execution_count": 7,
   "id": "18dde338-4f15-462b-a068-7e8dab9d16b3",
   "metadata": {
    "tags": []
   },
   "outputs": [
    {
     "data": {
      "text/plain": [
       "5"
      ]
     },
     "execution_count": 7,
     "metadata": {},
     "output_type": "execute_result"
    }
   ],
   "source": [
    "fdiff(3,8)"
   ]
  },
  {
   "cell_type": "code",
   "execution_count": 8,
   "id": "6d41c73a-0a48-43b7-aa37-fe646411d776",
   "metadata": {
    "tags": []
   },
   "outputs": [
    {
     "data": {
      "text/plain": [
       "6"
      ]
     },
     "execution_count": 8,
     "metadata": {},
     "output_type": "execute_result"
    }
   ],
   "source": [
    "x = 4\n",
    "y = 10\n",
    "fdiff(x,y)"
   ]
  },
  {
   "cell_type": "code",
   "execution_count": 9,
   "id": "23a236b7-7a32-4996-a3ec-c2ad3b4eede8",
   "metadata": {
    "tags": []
   },
   "outputs": [
    {
     "data": {
      "text/plain": [
       "-6"
      ]
     },
     "execution_count": 9,
     "metadata": {},
     "output_type": "execute_result"
    }
   ],
   "source": [
    "fdiff(y,x)"
   ]
  },
  {
   "cell_type": "markdown",
   "id": "2f120ce6-f330-4a9b-a7fd-fe6f81c6b7f7",
   "metadata": {},
   "source": [
    "Dans l'exemple ci-dessus, on constate bien qu'il n'y a pas de \"lien\" entre `x` et `a`. C'est bien la position des arguments qui compte. `y`est en première position : sa valeur est affectée à `a` et `x` est en deuxième position : sa valeur est affectée à `b`."
   ]
  },
  {
   "cell_type": "code",
   "execution_count": 12,
   "id": "1452f5aa-a966-4aa9-9ed8-90f1bb1cd965",
   "metadata": {
    "tags": []
   },
   "outputs": [
    {
     "data": {
      "text/plain": [
       "0"
      ]
     },
     "execution_count": 12,
     "metadata": {},
     "output_type": "execute_result"
    }
   ],
   "source": [
    "fdiff(x,x)"
   ]
  },
  {
   "cell_type": "code",
   "execution_count": 13,
   "id": "f125f726-b235-4bb1-873a-42c88e11149f",
   "metadata": {
    "tags": []
   },
   "outputs": [
    {
     "data": {
      "text/plain": [
       "20"
      ]
     },
     "execution_count": 13,
     "metadata": {},
     "output_type": "execute_result"
    }
   ],
   "source": [
    "fdiff(x+2,y*3-4)"
   ]
  },
  {
   "cell_type": "markdown",
   "id": "e49c3f16-0e6c-42d7-953e-60415ca93734",
   "metadata": {},
   "source": [
    "L'exemple ci-dessus, montre qu'on ne fournit pas des noms de variable en arguments, lors de l'appel d'une fonction, mais bien des expressions."
   ]
  },
  {
   "cell_type": "code",
   "execution_count": 10,
   "id": "89479374-0f6f-44f1-8718-ae1ab0af77b5",
   "metadata": {
    "tags": []
   },
   "outputs": [
    {
     "data": {
      "text/plain": [
       "5"
      ]
     },
     "execution_count": 10,
     "metadata": {},
     "output_type": "execute_result"
    }
   ],
   "source": [
    "a = 8\n",
    "b = 3\n",
    "fdiff(b,a)"
   ]
  },
  {
   "cell_type": "markdown",
   "id": "ae56fc11-94a8-4396-9e4d-e4e0559489f8",
   "metadata": {},
   "source": [
    "Dans l'exemple ci-dessus, on constate bien que le nom des varaibles utilisées dans les expressions fournies comme arguments lors de l'appel à `fdiff`, est indépendant des noms utilisés comme paramètres dans la définition de `fdiff`."
   ]
  },
  {
   "cell_type": "code",
   "execution_count": 11,
   "id": "b6eb1129-b983-4883-8c4b-13094c857ab5",
   "metadata": {
    "tags": [
     "raises-exception"
    ]
   },
   "outputs": [
    {
     "ename": "TypeError",
     "evalue": "fdiff() missing 1 required positional argument: 'b'",
     "output_type": "error",
     "traceback": [
      "\u001b[1;31m---------------------------------------------------------------------------\u001b[0m",
      "\u001b[1;31mTypeError\u001b[0m                                 Traceback (most recent call last)",
      "Cell \u001b[1;32mIn[11], line 1\u001b[0m\n\u001b[1;32m----> 1\u001b[0m fdiff(\u001b[38;5;241m3\u001b[39m)\n",
      "\u001b[1;31mTypeError\u001b[0m: fdiff() missing 1 required positional argument: 'b'"
     ]
    }
   ],
   "source": [
    "fdiff(3)"
   ]
  },
  {
   "cell_type": "markdown",
   "id": "b4537d96-50ff-429f-9e5d-7b5bca5920c6",
   "metadata": {},
   "source": [
    "Dans l'exemple ci-dessus, une exception est signalée car il manque une valeur pour le 2ème paramètre (`b`) de `fdiff`."
   ]
  },
  {
   "cell_type": "markdown",
   "id": "7b0069fa-15d0-4f39-b83f-ac24991fe6d1",
   "metadata": {},
   "source": [
    "## Zones mémoires et arguments de fonction\n",
    "Lors de l'appel d'une fonction, c'est l'id de la zone mémoire qui est passée et non la valeur. C'est très important si par exemple on modifie le contenu d'une variable dans la fonction, cela modifie aussi la variable dans le script.\n",
    "\n",
    "Dans l'exemple ci-dessous, on affiche à chaque étape l'id (c'est à dire l'adresse mémoire) des variables dans l'espace de de la fonction et dans l'espace du script. On voit que l'adresse mémoire est toujours la même, des variables différentes pointent vers la même zone mémoire. Une modification du contenu d'une de ces variables affecte donc les autres."
   ]
  },
  {
   "cell_type": "code",
   "execution_count": 8,
   "id": "c79469f9-81f5-42e6-ad96-82f837aabe28",
   "metadata": {
    "tags": []
   },
   "outputs": [
    {
     "name": "stdout",
     "output_type": "stream",
     "text": [
      "[1, 2, 3] [4, 5, 6]\n",
      "Dans le script avant l'appel, l'id de c est :3190051832064\n",
      "Dans le script avant l'appel, l'id de a est :3190069094464\n",
      "Dans la fonction l'id de b avant append est :3190051832064\n",
      "Dans la fonction l'id de b après append est :3190051832064\n",
      "Dans la fonction l'id de a après append est :3190069094464\n",
      "Dans le script après l'appel, l'id de c est :3190051832064\n",
      "[1, -2, 3] [4, 5, 6]\n"
     ]
    }
   ],
   "source": [
    "def suivi_id(b):\n",
    "    print(\"Dans la fonction l'id de b avant append est :\"+str(id(b)))\n",
    "    b[1]=-2\n",
    "    print(\"Dans la fonction l'id de b après append est :\"+str(id(b)))\n",
    "    print(\"Dans la fonction l'id de a après append est :\"+str(id(a)))\n",
    "    b=a+[7]\n",
    "\n",
    "#\n",
    "c=[1,2,3]\n",
    "a= [4,5,6]\n",
    "#\n",
    "print(c,a)\n",
    "print(\"Dans le script avant l'appel, l'id de c est :\"+str(id(c)))\n",
    "print(\"Dans le script avant l'appel, l'id de a est :\"+str(id(a)))\n",
    "#\n",
    "suivi_id(c)\n",
    "#\n",
    "print(\"Dans le script après l'appel, l'id de c est :\"+str(id(c)))\n",
    "print(c,a)"
   ]
  },
  {
   "cell_type": "code",
   "execution_count": null,
   "id": "7de7e890-75e8-4a35-bff4-042f9b07ba12",
   "metadata": {},
   "outputs": [],
   "source": []
  },
  {
   "cell_type": "code",
   "execution_count": 20,
   "id": "47efa36c-ef48-47ad-acab-16fb09d4792f",
   "metadata": {
    "tags": []
   },
   "outputs": [
    {
     "name": "stdout",
     "output_type": "stream",
     "text": [
      "Dans le script 3115569738880\n",
      "Dans le script 3115587276160\n",
      "Dans la fonction 3115569738880\n",
      "Dans la fonction 3115587276160\n",
      "Dans la fonction 3115569738880\n",
      "True\n"
     ]
    }
   ],
   "source": [
    "def suivi_id(a,b):\n",
    "    print('Dans la fonction '+str(id(a)))\n",
    "    print('Dans la fonction '+str(id(b)))\n",
    "    a.append(4)\n",
    "    print('Dans la fonction '+str(id(a)))    \n",
    "    return a,b\n",
    "c=[1,2,3]\n",
    "d=[4,5,6]\n",
    "print('Dans le script '+str(id(c)))\n",
    "print('Dans le script '+str(id(d)))\n",
    "print(suivi_id(c,d)[0] is c)"
   ]
  },
  {
   "cell_type": "markdown",
   "id": "0cfa0a73-b785-4a0a-b3ad-84f811d044eb",
   "metadata": {
    "tags": []
   },
   "source": [
    "## 🚀 Pour aller plus loin \n",
    "### Les fonctions `lambda`\n",
    "Il est possible de définir des fonctions à partir d'une autre fonction, appelée `lambda`, qui est composée d'une seul instruction (une seule ligne). La syntaxe est :\n",
    "```python\n",
    "nom_de_la_fonction = lambda parametre_1, parametre_2, ... : valeur_renvoyee"
   ]
  },
  {
   "cell_type": "code",
   "execution_count": null,
   "id": "0e65305b-10c2-420c-85f9-a0405c2c4d47",
   "metadata": {},
   "outputs": [
    {
     "name": "stdout",
     "output_type": "stream",
     "text": [
      "[10, 50]\n",
      "[8, 10]\n"
     ]
    }
   ],
   "source": [
    "ordonne = lambda a,b : [a,b] if a<b else [b,a]\n",
    "print(ordonne(50,10))\n",
    "print(ordonne(8,10))"
   ]
  },
  {
   "cell_type": "markdown",
   "id": "4ff29be1-bfea-4009-b556-29740489f5b5",
   "metadata": {
    "user_expressions": []
   },
   "source": [
    "Dans l'exemple ci-dessus, ligne 1, la fonction `lambda` est définie comme prenant 2 arguments (`a`et `b`). Elle renvoie la liste composée `[a, b]` lorsque `a` est inférieur à `b` ou alors la liste `[b, a]` dans le cas contraire (il s'agit d'[un `if` raccourci](L_syntaxeAffectation)). Cette fonction définie \"à la volée\" est affectée à `ordonne` ; c'est à dire que ordonne est maintenant une fonction qui se comporte exactement comme la fonction `lambda` définie ligne 1. Les lignes 2 et 3 montrent 2 appels à la fonction `ordonne`."
   ]
  },
  {
   "cell_type": "code",
   "execution_count": null,
   "id": "5160824d-741f-470c-85df-447cf3ca82f9",
   "metadata": {},
   "outputs": [
    {
     "name": "stdout",
     "output_type": "stream",
     "text": [
      "5 12\n"
     ]
    }
   ],
   "source": [
    "(a,b)=ordonne(12,5)\n",
    "print(a,b)"
   ]
  },
  {
   "cell_type": "markdown",
   "id": "11c09c16-2944-464d-824a-1c969918f6b3",
   "metadata": {
    "tags": []
   },
   "source": [
    "### Valeurs par défaut pour les paramètres\n",
    "Il est possible de rendre optionnels certains arguments lors de l'appel d'une fonction. Pour cela il suffit d'indiquer une valeur par défaut pour les paramètres concernés."
   ]
  },
  {
   "cell_type": "code",
   "execution_count": 21,
   "id": "464f5e40-c74d-43d6-b104-6c0a5ca2c9d2",
   "metadata": {
    "tags": []
   },
   "outputs": [],
   "source": [
    "def perimetre(long=2,larg=1) :\n",
    "    return 2*(long+larg)"
   ]
  },
  {
   "cell_type": "code",
   "execution_count": 22,
   "id": "c709d4ae-4ddf-4723-a100-171f39911ee7",
   "metadata": {
    "tags": []
   },
   "outputs": [
    {
     "data": {
      "text/plain": [
       "30"
      ]
     },
     "execution_count": 22,
     "metadata": {},
     "output_type": "execute_result"
    }
   ],
   "source": [
    "perimetre(10,5)"
   ]
  },
  {
   "cell_type": "markdown",
   "id": "0132ad1c-9a42-4355-a847-35be3c5b53d7",
   "metadata": {},
   "source": [
    "Dans l'exemple ci-dessus tous les arguments ont été spécifiés, les valeurs par défaut ne sont pas utilisés."
   ]
  },
  {
   "cell_type": "code",
   "execution_count": 23,
   "id": "c14fd0b4-1605-462d-b901-ba9be4735ab6",
   "metadata": {
    "tags": []
   },
   "outputs": [
    {
     "data": {
      "text/plain": [
       "42"
      ]
     },
     "execution_count": 23,
     "metadata": {},
     "output_type": "execute_result"
    }
   ],
   "source": [
    "perimetre(20)"
   ]
  },
  {
   "cell_type": "code",
   "execution_count": 25,
   "id": "667761ac-c245-445b-8154-5566cec2485a",
   "metadata": {
    "tags": []
   },
   "outputs": [
    {
     "data": {
      "text/plain": [
       "6"
      ]
     },
     "execution_count": 25,
     "metadata": {},
     "output_type": "execute_result"
    }
   ],
   "source": [
    "perimetre()"
   ]
  },
  {
   "cell_type": "code",
   "execution_count": 27,
   "id": "3479f1f7-6d47-48c5-a39c-14b70b9a2737",
   "metadata": {
    "tags": []
   },
   "outputs": [
    {
     "data": {
      "text/plain": [
       "10"
      ]
     },
     "execution_count": 27,
     "metadata": {},
     "output_type": "execute_result"
    }
   ],
   "source": [
    "perimetre(larg=3)"
   ]
  },
  {
   "cell_type": "markdown",
   "id": "127d9003-ad3b-4d90-af09-da27678cf1f4",
   "metadata": {},
   "source": [
    "Le dernier exemple nous montre que si l'on souhaite omettre un argument mais en spécifier d'autres qui se situent après, on doit indiquer la correspondance explicitement entre paramètre (`larg`) et argument (`3`)"
   ]
  },
  {
   "cell_type": "code",
   "execution_count": 29,
   "id": "3bca57aa-826c-408c-a561-e16d91f9cae0",
   "metadata": {
    "tags": []
   },
   "outputs": [
    {
     "data": {
      "text/plain": [
       "16"
      ]
     },
     "execution_count": 29,
     "metadata": {},
     "output_type": "execute_result"
    }
   ],
   "source": [
    "perimetre(larg=3,long=5)"
   ]
  },
  {
   "cell_type": "markdown",
   "id": "22368a52-9333-40e9-8993-1023eaac26a9",
   "metadata": {},
   "source": [
    "lorsque l'on donne la correspondance explicite comme dans l'exemple ci-dessus, il n'est plus nécessaire de respecter l'ordre des paramètres."
   ]
  }
 ],
 "metadata": {
  "kernelspec": {
   "display_name": "Python 3 (ipykernel)",
   "language": "python",
   "name": "python3"
  },
  "language_info": {
   "codemirror_mode": {
    "name": "ipython",
    "version": 3
   },
   "file_extension": ".py",
   "mimetype": "text/x-python",
   "name": "python",
   "nbconvert_exporter": "python",
   "pygments_lexer": "ipython3",
   "version": "3.11.6"
  }
 },
 "nbformat": 4,
 "nbformat_minor": 5
}

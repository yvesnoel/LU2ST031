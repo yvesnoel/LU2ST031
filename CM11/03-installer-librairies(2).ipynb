{
  "metadata": {
    "celltoolbar": "Tags",
    "interpreter": {
      "hash": "7e1f28879991ede76d46e9c7fb47f802595d36e9b3f8686cb619aadab09304b5"
    },
    "kernelspec": {
      "name": "python",
      "display_name": "Python (Pyodide)",
      "language": "python"
    },
    "language_info": {
      "codemirror_mode": {
        "name": "python",
        "version": 3
      },
      "file_extension": ".py",
      "mimetype": "text/x-python",
      "name": "python",
      "nbconvert_exporter": "python",
      "pygments_lexer": "ipython3",
      "version": "3.8"
    }
  },
  "nbformat_minor": 4,
  "nbformat": 4,
  "cells": [
    {
      "cell_type": "markdown",
      "source": "# Installer une librairie Python\nTemps approximatif 20min\n```{admonition} Objectifs\n:class: hint\nA l'issue de ce chapitre, vous serez capable de : \n- installer une librairie python sur votre ordinateur en utilisant la commande pip,\n- installer une librairie python sur votre ordinateur en utilisant la commande conda sur spyder.\n\n```\n\nNous avons déjà vu les librairies `Matplotlib` et `Pandas`. Ces librairies sont souvent préinstallées, par exemple avec `Spyder`, ce qui fait qu'il suffit d'utiliser `import` pour les utiliser. Dans certains cas, il faut d'abord télécharger la librairie avant de pouvoir l'importer dans son script.",
      "metadata": {
        "user_expressions": [],
        "trusted": true
      }
    },
    {
      "cell_type": "code",
      "source": "import seaborn",
      "metadata": {
        "trusted": true
      },
      "execution_count": 11,
      "outputs": [
        {
          "ename": "<class 'ModuleNotFoundError'>",
          "evalue": "No module named 'seaborn'",
          "traceback": [
            "\u001b[0;31m---------------------------------------------------------------------------\u001b[0m",
            "\u001b[0;31mModuleNotFoundError\u001b[0m                       Traceback (most recent call last)",
            "Cell \u001b[0;32mIn[4], line 1\u001b[0m\n\u001b[0;32m----> 1\u001b[0m \u001b[38;5;28;01mimport\u001b[39;00m \u001b[38;5;21;01mseaborn\u001b[39;00m\n",
            "\u001b[0;31mModuleNotFoundError\u001b[0m: No module named 'seaborn'"
          ],
          "output_type": "error"
        }
      ]
    },
    {
      "cell_type": "markdown",
      "source": "Ici, la librairie `seaborn` qui permet de réaliser de nombreux types de graphiques comme `Matplotlib`, n'est visiblement pas installée. Pourtant, [elle existe](https://seaborn.pydata.org/)! Il faut donc l'installer. Nous allons voir deux solutions.\n\nLes outils standard d'installation sont concus pour être utilisés à partir de lignes de commande. Cependant, ces lignes de commande ne sont pas des lignes de code Python, mais des lignes de code pour installer des librairies Python. Il ne s'agit donc pas du même language. Il faut donc ouvrir une fenêtre permettant d'écrire des lignes de commande, ce qui dépend de l'OS:\n\n- Pour windows, l'invite de commande peut être ouverte en effectuant une recherche (touche Windows) et en tapant `cmd`.\n- Pour Mac, le terminal s'ouvre avec le raccourci Commande + T. Le terminal se trouve également en ouvrant le panneau Dock, le panneau d'applications, et en recerchant dans le dossier Utilities.\n- Pour Linux, le terminal s'ouvre avec le raccourci Ctrl+Alt+T.\n\nEnsuite, Python doit déjà avoir été installé sur votre ordinateur: https://www.python.org/downloads/. \n\nAssurez vous que python puisse être appelé directement en cliquant sur 'Add Python 3 to PATH' lors de l'installation de Python pour la première fois. Si tapper 'pip' ou 'python' ne fonctionne pas dans l'invite de commande, réinstallez Python en cliquant sur cette option.\n\nUne fois réalisé, la commande 'pip' peut être utilisée dans le terminal (cela ne fonctionnera pas dans un script Python!):",
      "metadata": {
        "user_expressions": [],
        "trusted": true
      }
    },
    {
      "cell_type": "code",
      "source": "%pip install seaborn",
      "metadata": {
        "trusted": true
      },
      "execution_count": 20,
      "outputs": []
    },
    {
      "cell_type": "markdown",
      "source": "Et seaborn est opérationnel!",
      "metadata": {
        "user_expressions": [],
        "trusted": true
      }
    },
    {
      "cell_type": "code",
      "source": "import seaborn",
      "metadata": {
        "trusted": true
      },
      "execution_count": 18,
      "outputs": []
    },
    {
      "cell_type": "markdown",
      "source": "Notez l'utilisation du symbole %. Ce symbole doit être ajouté à la ligne pour être utilisable directement dans un notebook Jupyter, mais également dans Spyder.\nDans certains cas, il est plutôt recommandé d'utiliser 'conda' à la place de 'pip'. Spyder par exemple fonctionne souvent mieux avec conda.",
      "metadata": {
        "user_expressions": [],
        "trusted": true
      }
    },
    {
      "cell_type": "code",
      "source": "",
      "metadata": {},
      "execution_count": null,
      "outputs": []
    }
  ]
}
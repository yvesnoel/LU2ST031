{
 "cells": [
  {
   "cell_type": "markdown",
   "id": "a2ceb98d-3a47-4032-8ad9-b7fb28f42000",
   "metadata": {
    "tags": []
   },
   "source": [
    "# Les variables \n",
    "temps approximatif : 30min\n",
    "```{admonition} Objectifs\n",
    ":class: hint\n",
    "A l'issue de ce chapître, vous serez capable de :\n",
    "- affecter le résultat d'une expression à une variable\n",
    "- utiliser le contenu d'une variable dans une expression\n",
    "- reconnaître le type d'une variable déjà existante\n",
    "- modifier le contenu d'une variable déjà existante\n",
    "\n",
    "```"
   ]
  },
  {
   "cell_type": "markdown",
   "id": "8b4d1ac4-e247-410f-8f54-29d727a52c06",
   "metadata": {
    "tags": []
   },
   "source": [
    "### Le principe\n",
    "Une variable permet de repérer, à l'aide d'un nom, des zones de la mémoire de l'ordinateur où sont stockées des valeurs. \n",
    "De la même façon que, chez soi, on peut ranger un objet dans dans une boîte, on peut écrire une valeur dans une variable ; on parle alors d'__affectation__. \n",
    "En Python, il n'est pas nécessaire de créer au préalable une variable (on appelle cela la déclaration) avant de lui affecter une valeur. La variable est créée au moment où on lui affecte une valeur pour la première fois. On appelle cela l'__initialisation__ d'une variable.\n",
    "\n",
    "Chez soi, on range les objets dans des boites pour les utiliser plus tard, au bon moment. En programmation, c'est la même chose : on affecte des valeurs dans des variables pour les utiliser plus tard, quand on en a besoin, dans une expression.\n",
    "\n",
    "Pour changer le contenu d'une variable, il suffit de lui réaffecter une nouvelle valeur. L'ancienne valeur est alors écrassée, perdue."
   ]
  },
  {
   "cell_type": "markdown",
   "id": "87848953-ef9f-45a8-9c4e-a5eaec9e717f",
   "metadata": {
    "tags": []
   },
   "source": [
    "### Types de variables\n",
    "Les valeurs qui sont affectées dans des variables sont le résultat d'une expression.\n",
    "Le type de ces variables correspond donc au type de l'expression qu'elle contient. Comme nous l'avons vu précédemment, les quatre types principaux sont : les entiers (`int`), les nombres à virgule (`float`), les chaines de caractères (`str`) et les booléens (`bool`)."
   ]
  },
  {
   "cell_type": "markdown",
   "id": "329e630b-60bf-4a52-bcd4-8392012b7dab",
   "metadata": {
    "tags": []
   },
   "source": [
    "### Noms de variable\n",
    "Si l'on reprend l'analogie de la boîte de rangement, il est rapidement nécessaire de mettre des étiquettes sur les boîtes pour récupérer efficacement ce que l'on cherche. En programmation, c'est un peu pareil : les variables ont un nom et c'est grâce à ce nom que l'on peut affecter une valeur dedans et encore grâce à lui que l'on peut réutiliser son contenu dans une expression."
   ]
  },
  {
   "cell_type": "markdown",
   "id": "84baee88-7b9f-48ca-a09d-95d8b4c5a51c",
   "metadata": {
    "tags": []
   },
   "source": [
    "(L_syntaxeAffectation)=\n",
    "## La syntaxe de l'affectation\n",
    "Le symbole indiquant à Python une affectation est le signe `=` \n",
    "Contrairement à sont aspect et à son utilisation en mathématique, cet opérateur n'est pas symétrique : à gauche du `=` on trouve le nom de la variable dans laquel on va affecter la valeur et à droite on trouve une expression qui se ramène à une valeur qui va être affectée."
   ]
  },
  {
   "cell_type": "code",
   "execution_count": 1,
   "id": "a97ccb55-1b5d-4e05-a790-41278d7d765f",
   "metadata": {},
   "outputs": [],
   "source": [
    "ma_variable = 3 * 4"
   ]
  },
  {
   "cell_type": "markdown",
   "id": "99a21aeb-0b94-4552-a1dc-2286e9763c93",
   "metadata": {
    "tags": []
   },
   "source": [
    "Dans cet exemple on affecte la valeur 12 dans un variable dont le nom est `ma_variable` "
   ]
  },
  {
   "cell_type": "markdown",
   "id": "00e5af06-356a-4281-b416-bc703c9b2c7b",
   "metadata": {
    "tags": []
   },
   "source": [
    "### Règles à respecter pour nommer les variables\n",
    "Les noms de variables doivent respecter les contraintes suivantes :\n",
    "- un nom de variable ne contient que des lettres (majuscules ou minuscules), des chiffres ou le caractère `_`\n",
    "- un nom de variable doit **commencer** par un lettre ou dans certains cas par `_`\n",
    "- il ne faut pas utiliser un mot réservé (par exemple `print`) de Python comme nom de variable (cela ne génère pas une erreur mais c'est très fortement déconseillé).\n",
    "- les lettres majuscules et minuscules sont des lettres différentes\n",
    "\n",
    "Quand on aimerait utiliser plusieurs mots pour un nom de varaible, par convention on utilise des `_` à la place des espaces. Par convention encore on réserve plutôt les majuscules à des constantes et on utilise que des minuscules pour nommer de variables. Par exemple `temps_total` plutôt que `TempsTotal`."
   ]
  },
  {
   "cell_type": "code",
   "execution_count": 2,
   "id": "b3cc8c9f-5bdd-4105-bfa6-be1876e2dcdf",
   "metadata": {
    "tags": [
     "raises-exception"
    ]
   },
   "outputs": [
    {
     "ename": "SyntaxError",
     "evalue": "invalid decimal literal (2048316320.py, line 5)",
     "output_type": "error",
     "traceback": [
      "\u001b[1;36m  Cell \u001b[1;32mIn[2], line 5\u001b[1;36m\u001b[0m\n\u001b[1;33m    1truc = 5 # Nom de variable invalide\u001b[0m\n\u001b[1;37m    ^\u001b[0m\n\u001b[1;31mSyntaxError\u001b[0m\u001b[1;31m:\u001b[0m invalid decimal literal\n"
     ]
    }
   ],
   "source": [
    "Nom1 = 'titi' # Nom de variable valide\n",
    "nom1 = 'toto' # Nom de variable valide différent du précédent\n",
    "plus_grand_nombre = 100 # Nom de varaible valide\n",
    "print = True #Nom de variable valide mais à éviter absolument (on ne peut plus utiliser la fonction print après cette ligne)\n",
    "1truc = 5 # Nom de variable invalide"
   ]
  },
  {
   "cell_type": "markdown",
   "id": "7c5495db-0e04-4502-ab1f-73b6ac4d7f3d",
   "metadata": {},
   "source": [
    "```{admonition} Remarque\n",
    ":class: note\n",
    "Le symbole `#` permet d'écrire des commentaires dans son code. Python ignorera sur la ligne tout ce qui est écrit après le `#`.\n",
    "```"
   ]
  },
  {
   "cell_type": "markdown",
   "id": "9f64d2fd-fa98-4ddb-adc0-3ab59a4f9411",
   "metadata": {
    "tags": []
   },
   "source": [
    "Il est possible de supprimer une variable grâce à la fonction `del`."
   ]
  },
  {
   "cell_type": "code",
   "execution_count": 3,
   "id": "90fe6ec9-8c5b-4491-8212-434bd055564e",
   "metadata": {
    "tags": [
     "raises-exception"
    ]
   },
   "outputs": [
    {
     "ename": "NameError",
     "evalue": "name 'a' is not defined",
     "output_type": "error",
     "traceback": [
      "\u001b[1;31m---------------------------------------------------------------------------\u001b[0m",
      "\u001b[1;31mNameError\u001b[0m                                 Traceback (most recent call last)",
      "Cell \u001b[1;32mIn[3], line 3\u001b[0m\n\u001b[0;32m      1\u001b[0m a \u001b[38;5;241m=\u001b[39m\u001b[38;5;241m789\u001b[39m\n\u001b[0;32m      2\u001b[0m \u001b[38;5;28;01mdel\u001b[39;00m(a)\n\u001b[1;32m----> 3\u001b[0m \u001b[38;5;28mprint\u001b[39m(\u001b[43ma\u001b[49m)\n",
      "\u001b[1;31mNameError\u001b[0m: name 'a' is not defined"
     ]
    }
   ],
   "source": [
    "a =789\n",
    "del(a)\n",
    "print(a)"
   ]
  },
  {
   "cell_type": "markdown",
   "id": "d02c0919-91c5-4144-b7c8-3659356645de",
   "metadata": {
    "tags": []
   },
   "source": [
    "## L'utilisation du contenu d'une variable\n",
    "L'intéret d'affecter une valeur à une variable, c'est à dire stocker une valeur dans une variable, est de pouvoir la réutiliser plus tard, dans une nouvelle expression. Pour cela, il suffit d'utiliser le nom de la variable dans l'expression, là où on voudrait utiliser sa valeur"
   ]
  },
  {
   "cell_type": "code",
   "execution_count": 4,
   "id": "5856a7a3-c817-4ad8-9526-6b0376a834ac",
   "metadata": {},
   "outputs": [
    {
     "name": "stdout",
     "output_type": "stream",
     "text": [
      "20\n"
     ]
    }
   ],
   "source": [
    "x = 10\n",
    "print(2*x)"
   ]
  },
  {
   "cell_type": "code",
   "execution_count": 5,
   "id": "45a15119-324e-43ef-8b0e-d713ea4f3750",
   "metadata": {},
   "outputs": [
    {
     "name": "stdout",
     "output_type": "stream",
     "text": [
      "8\n"
     ]
    }
   ],
   "source": [
    "y = x - 2\n",
    "print(y)"
   ]
  },
  {
   "cell_type": "markdown",
   "id": "516a2ee8-a33d-4cc6-97ab-0e932f5269c7",
   "metadata": {},
   "source": [
    "## Changer le contenu d'une variable\n",
    "A chaque fois que l'on affecte une valeur dans une variable, on modifie irrémédiablement son contenu. Nous avons aussi vu que l'on peut utiliser le contenu d'une variable dans une expression. On peut donc récupérer le contenu d'une variable, le changer en utilisant cette valeur (par exemple en lui ajoutant 1), et enfin le réaffecter à cette même variable."
   ]
  },
  {
   "cell_type": "markdown",
   "id": "a605578f-2ed1-4814-bf2b-9c4b14b12ece",
   "metadata": {},
   "source": [
    "Par exemple pour augmenter de 1 le contenu de la variable `x` (on appelle ça \"incrémenter\"), il faut écrire :"
   ]
  },
  {
   "cell_type": "code",
   "execution_count": 6,
   "id": "60131d77-d568-49df-a3de-c7b5cd5eb369",
   "metadata": {},
   "outputs": [
    {
     "name": "stdout",
     "output_type": "stream",
     "text": [
      "11\n"
     ]
    }
   ],
   "source": [
    "x = 10\n",
    "x = x + 1\n",
    "print(x)"
   ]
  },
  {
   "cell_type": "markdown",
   "id": "a21c4416-0a24-4aec-8b69-2ba76d30fd9a",
   "metadata": {},
   "source": [
    "```{admonition} Attention : \n",
    ":class: caution\n",
    "Pour changer le contenu d'une variable, il faut que celle-ci existe (c'est à dire contienne une valeur) auparavant\n",
    "``` "
   ]
  },
  {
   "cell_type": "markdown",
   "id": "0854590c-828e-4433-b6f4-843319a89787",
   "metadata": {},
   "source": [
    "Voici un autre exemple avec des chaînes de caractères (`str`) :"
   ]
  },
  {
   "cell_type": "code",
   "execution_count": 7,
   "id": "bae5839c-c0f1-465a-89a4-3f00c6f8d22b",
   "metadata": {},
   "outputs": [
    {
     "name": "stdout",
     "output_type": "stream",
     "text": [
      "Bonjour à toutes et tous\n"
     ]
    }
   ],
   "source": [
    "texte = 'Bonjour'\n",
    "texte = texte + ' à toutes et tous'\n",
    "print(texte)"
   ]
  },
  {
   "cell_type": "markdown",
   "id": "787b4dae-a764-4739-955a-48af3716b3ca",
   "metadata": {
    "tags": []
   },
   "source": [
    "```{admonition} Remarque\n",
    ":class: note\n",
    "L'opérateur `+` entre 2 chaînes de caractères permet de les coller bout à bout : on dit __concaténer__. Un même symbole (comme `+`) peut donc avoir des effets différents suivant le type des expressions qui l'entourent.\n",
    "```"
   ]
  },
  {
   "cell_type": "markdown",
   "id": "105dc756-3075-4663-8736-751ce71cc4e7",
   "metadata": {
    "tags": []
   },
   "source": [
    "(L_additionAffectation)=\n",
    "### L'addition affectation"
   ]
  },
  {
   "cell_type": "markdown",
   "id": "b599973e-6bb0-4a33-a281-398104d2ebe7",
   "metadata": {
    "tags": []
   },
   "source": [
    "Lorsque l'on réaffecte le résultat d'une \"addition\" d'une variable avec une expression, on peut utiliser une syntaxe plus simple :"
   ]
  },
  {
   "cell_type": "code",
   "execution_count": 8,
   "id": "26155ea1-6aaf-4377-a54b-a63ed63741f2",
   "metadata": {},
   "outputs": [
    {
     "name": "stdout",
     "output_type": "stream",
     "text": [
      "11\n"
     ]
    }
   ],
   "source": [
    "x = 10\n",
    "x += 1\n",
    "print(x)"
   ]
  },
  {
   "cell_type": "code",
   "execution_count": 9,
   "id": "c496d6b0-42eb-4d05-ba73-00f12ea184b4",
   "metadata": {},
   "outputs": [
    {
     "name": "stdout",
     "output_type": "stream",
     "text": [
      "Bonjour à toutes et tous\n"
     ]
    }
   ],
   "source": [
    "texte = 'Bonjour'\n",
    "texte += ' à toutes et tous'\n",
    "print(texte)"
   ]
  },
  {
   "cell_type": "markdown",
   "id": "ed593e1b-5966-41d6-9e4c-1d6cc4062cfd",
   "metadata": {},
   "source": [
    "```{admonition} À vous de jouer\n",
    ":class: seealso\n",
    "Ecrire un code permettant d'affecter 18 dans la variable `a`  et 12 dans la variable `b`, le résultat de la somme \n",
    "de ces nombres dans la variable `c` (en utilisant les variables `a` et `b`) et enfin incrémente la variable `b` de 5.\n",
    "```"
   ]
  },
  {
   "cell_type": "code",
   "execution_count": 10,
   "id": "af99719f-ab60-4b49-a622-91d04bb62474",
   "metadata": {
    "tags": [
     "hide-input"
    ]
   },
   "outputs": [],
   "source": [
    "### SOLUTION\n",
    "a = 12\n",
    "b = 18\n",
    "c = a + b\n",
    "b += 5"
   ]
  },
  {
   "cell_type": "markdown",
   "id": "c8f6a6b5-a67a-4e06-8c68-3d364030aaba",
   "metadata": {
    "tags": []
   },
   "source": [
    "## Tester le type d'une variable\n",
    "Pour tester le type d'une variable, vous pouvez comparer le résultat de la fonction `type` à un type :"
   ]
  },
  {
   "cell_type": "code",
   "execution_count": 11,
   "id": "e3da5caa-7ec5-4f24-b97a-88a889fddbfc",
   "metadata": {},
   "outputs": [
    {
     "name": "stdout",
     "output_type": "stream",
     "text": [
      "True\n",
      "False\n"
     ]
    }
   ],
   "source": [
    "a=3.14\n",
    "print( type(a) == float )\n",
    "print( type(a) == str )"
   ]
  },
  {
   "cell_type": "markdown",
   "id": "69fb238c-7453-4d50-b20e-722433b232eb",
   "metadata": {
    "tags": []
   },
   "source": [
    "### 🚀 Pour aller plus loin : "
   ]
  },
  {
   "cell_type": "markdown",
   "id": "53502111-8567-495a-8775-03d69f25a880",
   "metadata": {
    "tags": []
   },
   "source": [
    "(L_memoireVariables)=\n",
    "### Zones de la mémoire et variables\n",
    "Comme nous l'avons vu en introduction de ce chapitre, une variable permet de repérer, à l'aide d'un nom, des zones de la mémoire de l'ordinateur où sont stockées des valeurs.Ces zones de la mémoire de l'ordinateur sont repérées par un nombre que l'on appelle aussi adresse. Il est possible de récupérer cette adresse à l'aide de la fonction `id` :"
   ]
  },
  {
   "cell_type": "code",
   "execution_count": 12,
   "id": "885ba1fb-df00-41e7-8c46-426b9f899ae4",
   "metadata": {},
   "outputs": [
    {
     "name": "stdout",
     "output_type": "stream",
     "text": [
      "1390695270960\n",
      "1390695215664\n",
      "1390704154864\n"
     ]
    }
   ],
   "source": [
    "unDecimal=123.456\n",
    "print(id(unDecimal))\n",
    "uneChaine='Toto'\n",
    "print(id(uneChaine))\n",
    "autreDecimal=123.456\n",
    "print(id(autreDecimal))"
   ]
  },
  {
   "cell_type": "markdown",
   "id": "148f8689-3af6-4f04-855e-ea268f64f428",
   "metadata": {
    "tags": []
   },
   "source": [
    "Chaque variable crée dispose de sa propre adresse mémoire.\n",
    "```{admonition} Attention : \n",
    ":class: caution\n",
    "Ceci n'est pas vrai pour les entiers &#8804; 256 et les chaînes de caractères composées d'un seul caractère\n",
    "``` "
   ]
  },
  {
   "cell_type": "code",
   "execution_count": 13,
   "id": "ba234b91-caf2-41b2-91fc-b7b252a9d7f6",
   "metadata": {},
   "outputs": [
    {
     "name": "stdout",
     "output_type": "stream",
     "text": [
      "140712641471240\n",
      "140712641471240\n",
      "140712641508672\n",
      "140712641508672\n",
      "1390704443216\n",
      "1390704442992\n"
     ]
    }
   ],
   "source": [
    "unEntier=256\n",
    "print(id(unEntier))\n",
    "autreEntier=256 # la meme zone memoire est utilisee\n",
    "print(id(autreEntier))\n",
    "unCaractere='Y'\n",
    "print(id(unCaractere))\n",
    "autreCaractere='Y'  # la meme zone memoire est utilisee\n",
    "print(id(autreCaractere))\n",
    "unGrandEntier=257\n",
    "print(id(unGrandEntier))\n",
    "autreGrandEntier=257 # Une autrezone memoire est utilisee\n",
    "print(id(autreGrandEntier))"
   ]
  }
 ],
 "metadata": {
  "kernelspec": {
   "display_name": "Python 3 (ipykernel)",
   "language": "python",
   "name": "python3"
  },
  "language_info": {
   "codemirror_mode": {
    "name": "ipython",
    "version": 3
   },
   "file_extension": ".py",
   "mimetype": "text/x-python",
   "name": "python",
   "nbconvert_exporter": "python",
   "pygments_lexer": "ipython3",
   "version": "3.11.6"
  }
 },
 "nbformat": 4,
 "nbformat_minor": 5
}

{
 "cells": [
  {
   "cell_type": "markdown",
   "id": "67f33823-6df3-4a25-a4d2-acef7f45ea72",
   "metadata": {
    "user_expressions": []
   },
   "source": [
    "# Les erreurs en Python"
   ]
  },
  {
   "cell_type": "markdown",
   "id": "7fb85426-b130-4edd-a3f8-3c6f7b6157eb",
   "metadata": {},
   "source": [
    "## Les exceptions"
   ]
  },
  {
   "cell_type": "markdown",
   "id": "3689bea5-24f5-4a56-a9f0-28053e8436a8",
   "metadata": {
    "user_expressions": []
   },
   "source": [
    "### Qu'est ce qu'une exception ?"
   ]
  },
  {
   "cell_type": "markdown",
   "id": "42717904-ac32-47dd-b8fb-eeb6ac0a7bb6",
   "metadata": {},
   "source": [
    "Les erreurs qui se produisent lors de l'exécution d'un programme sont appelées des exceptions. \n",
    "Une exception est un objet qui contient des informations sur le contexte de l'erreur. Lorsqu'une exception survient et qu’elle n’est pas traitée alors elle produit une interruption du programme et elle affiche un message. Il est utile de connaître les principales exceptions. "
   ]
  },
  {
   "cell_type": "markdown",
   "id": "54bbb624-481f-4a53-877b-7ec4e0152717",
   "metadata": {
    "tags": [],
    "user_expressions": []
   },
   "source": [
    "Dans tous les cas le format d'une exception est :\n",
    "```{image} ./image.png\n",
    ":alt: Description exception\n",
    ":width: 80%\n",
    ":align: center\n",
    "```\n"
   ]
  },
  {
   "cell_type": "markdown",
   "id": "68ccc6ac-444c-457e-bba7-699a2cd160de",
   "metadata": {
    "user_expressions": []
   },
   "source": [
    "### Les principales exceptions"
   ]
  },
  {
   "cell_type": "markdown",
   "id": "13f61b94-60bf-446b-b62e-b3de7e0b6d51",
   "metadata": {
    "user_expressions": []
   },
   "source": [
    "### `NameError`\n",
    "L'exception `NameError` est d￩clench￩e lorsque l'on essaie d'utiliser une variable qui n'est pas d￩finie ; c'est ￠ dire qu'aucune valeur n'a ￩t￩ affect￩e ￠ cette variable."
   ]
  },
  {
   "cell_type": "code",
   "execution_count": 2,
   "id": "3891dfd5-30e8-4b82-a969-7e55f7510205",
   "metadata": {
    "tags": [
     "raises-exception"
    ]
   },
   "outputs": [
    {
     "ename": "NameError",
     "evalue": "name 'jamaisInitialise' is not defined",
     "output_type": "error",
     "traceback": [
      "\u001b[1;31m---------------------------------------------------------------------------\u001b[0m",
      "\u001b[1;31mNameError\u001b[0m                                 Traceback (most recent call last)",
      "\u001b[1;32m~\\AppData\\Local\\Temp\\ipykernel_2320\\1306648589.py\u001b[0m in \u001b[0;36m<module>\u001b[1;34m\u001b[0m\n\u001b[1;32m----> 1\u001b[1;33m \u001b[0mx\u001b[0m \u001b[1;33m=\u001b[0m \u001b[0mjamaisInitialise\u001b[0m \u001b[1;33m+\u001b[0m \u001b[1;36m10\u001b[0m\u001b[1;33m\u001b[0m\u001b[1;33m\u001b[0m\u001b[0m\n\u001b[0m\u001b[0;32m      2\u001b[0m \u001b[0mprint\u001b[0m\u001b[1;33m(\u001b[0m\u001b[0mx\u001b[0m\u001b[1;33m)\u001b[0m\u001b[1;33m\u001b[0m\u001b[1;33m\u001b[0m\u001b[0m\n",
      "\u001b[1;31mNameError\u001b[0m: name 'jamaisInitialise' is not defined"
     ]
    }
   ],
   "source": [
    "x = jamaisInitialise + 10\n",
    "print(x)"
   ]
  },
  {
   "cell_type": "markdown",
   "id": "4645db38-47f9-4296-a0cf-b3e89dfc3fe7",
   "metadata": {},
   "source": [
    "### `TypeError`\n",
    "L'exception `TypeError` est d￩clench￩e lorsque l'on essaie d'utiliser en param￨tre (on dit aussi op￩rande) d'une fonction une valeur qui n'a pas le bon type. C'est la m￪me chose lorsque l'on tente de faire une op￩ration avec des op￩randes qui n'ont pas le bon type."
   ]
  },
  {
   "cell_type": "code",
   "execution_count": null,
   "id": "b01401a2-e542-4ca8-87fc-2507b41b89d2",
   "metadata": {
    "tags": [
     "raises-exception"
    ]
   },
   "outputs": [],
   "source": [
    "abs('Coucou')"
   ]
  },
  {
   "cell_type": "code",
   "execution_count": null,
   "id": "67a70ffb-ed15-432f-8915-19ae236867cb",
   "metadata": {
    "tags": [
     "raises-exception"
    ]
   },
   "outputs": [],
   "source": [
    " 'Coucou'**2\n",
    "    "
   ]
  },
  {
   "cell_type": "markdown",
   "id": "eb055c9b-b048-4462-839f-7302c4c254db",
   "metadata": {},
   "source": [
    "### `ValueError`\n",
    "L'exception `ValueError` est d￩clench￩e lorsque l'on essaie d'utiliser en param￨tre d'une fonction une valeur qui a le bon type mais dont la valeur ne peut ￪tre utilis￩e."
   ]
  },
  {
   "cell_type": "code",
   "execution_count": null,
   "id": "95355f27-1bf3-4121-961e-40b46cfcad60",
   "metadata": {},
   "outputs": [],
   "source": [
    "int('123') # Ca fonctionne. La chaine peut etre convertie en int"
   ]
  },
  {
   "cell_type": "code",
   "execution_count": null,
   "id": "df107009-42d6-4bf0-83b4-a5b9c3a15d92",
   "metadata": {
    "tags": [
     "raises-exception"
    ]
   },
   "outputs": [],
   "source": [
    "int('123.4') # Ca ne fonctionne pas. La chaine ne peut etre convertie en int"
   ]
  },
  {
   "cell_type": "markdown",
   "id": "2cbfea7c-a413-48a7-8087-c9a0d67eb6d1",
   "metadata": {},
   "source": [
    "### `IndexError`\n",
    "L'exception `IndexError` est déclenchée lorsque l'on essaie d'accéder à un élément d'une liste (ou d'un [tuple](#L_autresTypes)) avec un indice qui n'est plus grand que la taille de la liste. Cette erreur est aussi déclenchée si l'indice négatif mène en dehors de la liste."
   ]
  },
  {
   "cell_type": "code",
   "execution_count": null,
   "id": "327c0fcc-c904-4729-9c08-7b0fd5284407",
   "metadata": {
    "tags": [
     "raises-exception"
    ]
   },
   "outputs": [],
   "source": [
    "ma_liste = ['a', 'b', 'c']\n",
    "ma_liste[5]"
   ]
  },
  {
   "cell_type": "code",
   "execution_count": null,
   "id": "dd6573f7-54ed-4cb8-832a-372f64e6a41d",
   "metadata": {
    "tags": [
     "raises-exception"
    ]
   },
   "outputs": [],
   "source": [
    "ma_liste = ['a', 'b', 'c']\n",
    "ma_liste[-4]"
   ]
  },
  {
   "cell_type": "markdown",
   "id": "9ddb3896-d232-44b6-a8cd-bfd043e0c3f6",
   "metadata": {},
   "source": [
    "### `ZeroDivisionError`\n",
    "L'exception `ZeroDivisionError` est déclenchée lorsque l'on essaie de diviser un nombre par la valeur 0 (de type '`int` ou float`)."
   ]
  },
  {
   "cell_type": "markdown",
   "id": "151103a6-d20f-4076-8a17-d48d4d13d12a",
   "metadata": {
    "user_expressions": []
   },
   "source": [
    "### Gérer les exceptions\n",
    "Il est possible de détecter les exceptions qui apparaitraient lors de l'exécution. Pour cela nous disposons d'une paire de mots clés : `try`et `except`.\n",
    "La syntaxe la plus simple est la suivante"
   ]
  },
  {
   "cell_type": "code",
   "execution_count": null,
   "id": "7476d13f-cfb9-4d48-9cba-adfcf351a37f",
   "metadata": {
    "tags": [
     "raises-exception",
     "remove-output"
    ]
   },
   "outputs": [],
   "source": [
    "try :\n",
    "    # instruction pouvant générer une exception\n",
    "except :\n",
    "    # instruction à exécuter quand une exception est détectée"
   ]
  },
  {
   "cell_type": "markdown",
   "id": "d44c4284-3c76-496a-bc28-df9f89a86fa0",
   "metadata": {
    "tags": [],
    "user_expressions": []
   },
   "source": [
    "L'exemple ci-dessous peut parfois entrainer une exception `ZeroDivisionError` (une chance sur 3)."
   ]
  },
  {
   "cell_type": "code",
   "execution_count": 31,
   "id": "53cc28b4-1d1e-4181-9f14-beb62f792281",
   "metadata": {},
   "outputs": [
    {
     "ename": "ZeroDivisionError",
     "evalue": "division by zero",
     "output_type": "error",
     "traceback": [
      "\u001b[1;31m---------------------------------------------------------------------------\u001b[0m",
      "\u001b[1;31mZeroDivisionError\u001b[0m                         Traceback (most recent call last)",
      "\u001b[1;32m~\\AppData\\Local\\Temp\\ipykernel_2320\\932891653.py\u001b[0m in \u001b[0;36m<module>\u001b[1;34m\u001b[0m\n\u001b[0;32m      1\u001b[0m \u001b[1;32mimport\u001b[0m \u001b[0mrandom\u001b[0m\u001b[1;33m\u001b[0m\u001b[1;33m\u001b[0m\u001b[0m\n\u001b[0;32m      2\u001b[0m \u001b[0mn\u001b[0m \u001b[1;33m=\u001b[0m \u001b[0mrandom\u001b[0m\u001b[1;33m.\u001b[0m\u001b[0mrandint\u001b[0m\u001b[1;33m(\u001b[0m\u001b[1;36m0\u001b[0m\u001b[1;33m,\u001b[0m\u001b[1;36m2\u001b[0m\u001b[1;33m)\u001b[0m  \u001b[1;31m# un nombre al￩atoir entre parmi 0, 1 ou 2\u001b[0m\u001b[1;33m\u001b[0m\u001b[1;33m\u001b[0m\u001b[0m\n\u001b[1;32m----> 3\u001b[1;33m \u001b[0mx\u001b[0m \u001b[1;33m=\u001b[0m \u001b[1;36m100\u001b[0m \u001b[1;33m/\u001b[0m \u001b[0mn\u001b[0m\u001b[1;33m\u001b[0m\u001b[1;33m\u001b[0m\u001b[0m\n\u001b[0m\u001b[0;32m      4\u001b[0m \u001b[0mprint\u001b[0m\u001b[1;33m(\u001b[0m\u001b[0mx\u001b[0m\u001b[1;33m)\u001b[0m\u001b[1;33m\u001b[0m\u001b[1;33m\u001b[0m\u001b[0m\n",
      "\u001b[1;31mZeroDivisionError\u001b[0m: division by zero"
     ]
    }
   ],
   "source": [
    "import random\n",
    "n = random.randint(0,2)  # un nombre aléatoir entre parmi 0, 1 ou 2\n",
    "x = 100 / n\n",
    "print(x)"
   ]
  },
  {
   "cell_type": "markdown",
   "id": "df724e07-e566-4cf7-9d46-d8dae397a80a",
   "metadata": {
    "slideshow": {
     "slide_type": "slide"
    },
    "tags": []
   },
   "source": [
    "Il est donc pr￩f￩rable de g￩rer cette exception."
   ]
  },
  {
   "cell_type": "code",
   "execution_count": 21,
   "id": "1724db42-5e3c-459f-9622-ddbd041d3f72",
   "metadata": {},
   "outputs": [
    {
     "name": "stdout",
     "output_type": "stream",
     "text": [
      "12\n",
      "120\n",
      "12\n",
      "120\n",
      "Cette chaine ne peut être convertie en int\n",
      "invalid literal for int() with base 10: '12.34'\n",
      "1\n",
      "10\n",
      "Cette chaine ne peut être convertie en int\n",
      "invalid literal for int() with base 10: 'trois'\n",
      "Ce type de valeur ne peut être converti en int\n",
      "int() argument must be a string, a bytes-like object or a number, not 'list'\n"
     ]
    }
   ],
   "source": [
    "# 4 valeurs diff￩rentes ￠ tester\n",
    "ma_var = [1, 2, 3]\n",
    "ma_var = 'trois'\n",
    "ma_var = '12.34'\n",
    "ma_var = 12.34\n",
    "ma_var = '12'\n",
    "#\n",
    "for ma_var in [ 12.34, '12', '12.34', True, 'trois', [1, 2, 3] ] :\n",
    "    try :\n",
    "        mon_entier = int(ma_var)\n",
    "        print(mon_entier)\n",
    "    except (TypeError) as e :\n",
    "        print(\"Ce type de valeur ne peut ￪tre converti en int\")\n",
    "        print(e)    \n",
    "    except (ValueError) as e :\n",
    "        print('Cette chaine ne peut ￪tre convertie en int')\n",
    "        print(e)\n",
    "    else :\n",
    "        print(10 * mon_entier)"
   ]
  },
  {
   "cell_type": "markdown",
   "id": "68ea21cd-5538-463e-afb1-ca3f4ea21d57",
   "metadata": {
    "user_expressions": []
   },
   "source": [
    "```{admonition} ATTENTION\n",
    ":class: danger\n",
    "TRAVAIL EN COURS. Revenez plus tard.\n",
    "```\n",
    "### Déclencher une exception"
   ]
  },
  {
   "cell_type": "markdown",
   "id": "84bdb411-2511-4574-b42c-9d767c719d6c",
   "metadata": {
    "user_expressions": []
   },
   "source": [
    "## Les erreurs de syntaxe"
   ]
  },
  {
   "cell_type": "markdown",
   "id": "2ddbbf01-1086-41f5-a482-65043d757ddb",
   "metadata": {},
   "source": [
    "SyntaxError: invalid syntax\n",
    "IndentationError : expected an indented block"
   ]
  },
  {
   "cell_type": "markdown",
   "id": "d3c75775-840b-4b5f-9fee-cb9ae7bb907b",
   "metadata": {
    "user_expressions": []
   },
   "source": [
    "## Les erreurs d'exécution"
   ]
  },
  {
   "cell_type": "markdown",
   "id": "de7ecbdf-013a-4c59-ad0b-e3106b3c4baa",
   "metadata": {
    "user_expressions": []
   },
   "source": [
    "* La boucle infinie\n",
    "* Le code n'affiche rien"
   ]
  }
 ],
 "metadata": {
  "kernelspec": {
   "display_name": "Python 3 (ipykernel)",
   "language": "python",
   "name": "python3"
  },
  "language_info": {
   "codemirror_mode": {
    "name": "ipython",
    "version": 3
   },
   "file_extension": ".py",
   "mimetype": "text/x-python",
   "name": "python",
   "nbconvert_exporter": "python",
   "pygments_lexer": "ipython3",
   "version": "3.9.13"
  }
 },
 "nbformat": 4,
 "nbformat_minor": 5
}

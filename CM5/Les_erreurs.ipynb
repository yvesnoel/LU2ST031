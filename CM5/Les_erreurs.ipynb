{
 "cells": [
  {
   "cell_type": "markdown",
   "id": "67f33823-6df3-4a25-a4d2-acef7f45ea72",
   "metadata": {
    "user_expressions": []
   },
   "source": [
    "# Les erreurs en Python\n",
    "temps approximatif : 45min\n",
    "```{admonition} Objectifs\n",
    ":class: hint\n",
    "A l'issue de ce chapitre, vous serez capable de : \n",
    "- expliquer la différence entre les exceptions, les erreurs de syntaxe et les erreurs d'execution\n",
    "- gérer des exceptions pourraient intervenir à l'aide des commandes `try` et `except`\n",
    "- lister les principales exceptions\n",
    "- déclencher une exception\n",
    "- expliquer un message d'erreur et apporter la correction adéquate\n",
    "- quitter une boucle infinie"
   ]
  },
  {
   "cell_type": "markdown",
   "id": "7fb85426-b130-4edd-a3f8-3c6f7b6157eb",
   "metadata": {
    "user_expressions": []
   },
   "source": [
    "## Les exceptions"
   ]
  },
  {
   "cell_type": "markdown",
   "id": "3689bea5-24f5-4a56-a9f0-28053e8436a8",
   "metadata": {
    "user_expressions": []
   },
   "source": [
    "### Qu'est ce qu'une exception ?"
   ]
  },
  {
   "cell_type": "markdown",
   "id": "42717904-ac32-47dd-b8fb-eeb6ac0a7bb6",
   "metadata": {
    "user_expressions": []
   },
   "source": [
    "Les erreurs qui se produisent lors de l'exécution d'un programme sont appelées des exceptions. \n",
    "Une exception est un objet qui contient des informations sur le contexte de l'erreur. Lorsqu'une exception survient et qu’elle n’est pas traitée alors elle produit une interruption du programme et elle affiche un message. Il est utile de connaître les principales exceptions. "
   ]
  },
  {
   "cell_type": "markdown",
   "id": "54bbb624-481f-4a53-877b-7ec4e0152717",
   "metadata": {
    "tags": [],
    "user_expressions": []
   },
   "source": [
    "Dans tous les cas le format d'une exception est :\n",
    "```{image} ./image.png\n",
    ":alt: Description exception\n",
    ":width: 80%\n",
    ":align: center\n",
    "```\n"
   ]
  },
  {
   "cell_type": "markdown",
   "id": "68ccc6ac-444c-457e-bba7-699a2cd160de",
   "metadata": {
    "user_expressions": []
   },
   "source": [
    "### Les principales exceptions"
   ]
  },
  {
   "cell_type": "markdown",
   "id": "13f61b94-60bf-446b-b62e-b3de7e0b6d51",
   "metadata": {
    "user_expressions": []
   },
   "source": [
    "### `NameError`\n",
    "L'exception `NameError` est déclenchée lorsque l'on essaie d'utiliser une variable qui n'est pas définie ; c'est à dire qu'aucune valeur n'a été affectée à cette variable."
   ]
  },
  {
   "cell_type": "code",
   "execution_count": 43,
   "id": "3891dfd5-30e8-4b82-a969-7e55f7510205",
   "metadata": {
    "tags": [
     "raises-exception"
    ]
   },
   "outputs": [
    {
     "ename": "NameError",
     "evalue": "name 'jamaisInitialise' is not defined",
     "output_type": "error",
     "traceback": [
      "\u001b[1;31m---------------------------------------------------------------------------\u001b[0m",
      "\u001b[1;31mNameError\u001b[0m                                 Traceback (most recent call last)",
      "\u001b[1;32m~\\AppData\\Local\\Temp\\ipykernel_20496\\1306648589.py\u001b[0m in \u001b[0;36m<module>\u001b[1;34m\u001b[0m\n\u001b[1;32m----> 1\u001b[1;33m \u001b[0mx\u001b[0m \u001b[1;33m=\u001b[0m \u001b[0mjamaisInitialise\u001b[0m \u001b[1;33m+\u001b[0m \u001b[1;36m10\u001b[0m\u001b[1;33m\u001b[0m\u001b[1;33m\u001b[0m\u001b[0m\n\u001b[0m\u001b[0;32m      2\u001b[0m \u001b[0mprint\u001b[0m\u001b[1;33m(\u001b[0m\u001b[0mx\u001b[0m\u001b[1;33m)\u001b[0m\u001b[1;33m\u001b[0m\u001b[1;33m\u001b[0m\u001b[0m\n",
      "\u001b[1;31mNameError\u001b[0m: name 'jamaisInitialise' is not defined"
     ]
    }
   ],
   "source": [
    "x = jamaisInitialise + 10\n",
    "print(x)"
   ]
  },
  {
   "cell_type": "markdown",
   "id": "4645db38-47f9-4296-a0cf-b3e89dfc3fe7",
   "metadata": {
    "user_expressions": []
   },
   "source": [
    "### `TypeError`\n",
    "L'exception `TypeError` est déclenchée lorsque l'on essaie d'utiliser en paramètre (on dit aussi opérande) d'une fonction une valeur qui n'a pas le bon type. C'est la même chose lorsque l'on tente de faire une opération avec des opérandes qui n'ont pas le bon type."
   ]
  },
  {
   "cell_type": "code",
   "execution_count": 44,
   "id": "b01401a2-e542-4ca8-87fc-2507b41b89d2",
   "metadata": {
    "tags": [
     "raises-exception"
    ]
   },
   "outputs": [
    {
     "ename": "TypeError",
     "evalue": "bad operand type for abs(): 'str'",
     "output_type": "error",
     "traceback": [
      "\u001b[1;31m---------------------------------------------------------------------------\u001b[0m",
      "\u001b[1;31mTypeError\u001b[0m                                 Traceback (most recent call last)",
      "\u001b[1;32m~\\AppData\\Local\\Temp\\ipykernel_20496\\871424653.py\u001b[0m in \u001b[0;36m<module>\u001b[1;34m\u001b[0m\n\u001b[1;32m----> 1\u001b[1;33m \u001b[0mabs\u001b[0m\u001b[1;33m(\u001b[0m\u001b[1;34m'Coucou'\u001b[0m\u001b[1;33m)\u001b[0m\u001b[1;33m\u001b[0m\u001b[1;33m\u001b[0m\u001b[0m\n\u001b[0m",
      "\u001b[1;31mTypeError\u001b[0m: bad operand type for abs(): 'str'"
     ]
    }
   ],
   "source": [
    "abs('Coucou')"
   ]
  },
  {
   "cell_type": "code",
   "execution_count": 45,
   "id": "67a70ffb-ed15-432f-8915-19ae236867cb",
   "metadata": {
    "tags": [
     "raises-exception"
    ]
   },
   "outputs": [
    {
     "ename": "TypeError",
     "evalue": "unsupported operand type(s) for ** or pow(): 'str' and 'int'",
     "output_type": "error",
     "traceback": [
      "\u001b[1;31m---------------------------------------------------------------------------\u001b[0m",
      "\u001b[1;31mTypeError\u001b[0m                                 Traceback (most recent call last)",
      "\u001b[1;32m~\\AppData\\Local\\Temp\\ipykernel_20496\\2999101125.py\u001b[0m in \u001b[0;36m<module>\u001b[1;34m\u001b[0m\n\u001b[1;32m----> 1\u001b[1;33m \u001b[1;34m'Coucou'\u001b[0m\u001b[1;33m**\u001b[0m\u001b[1;36m2\u001b[0m\u001b[1;33m\u001b[0m\u001b[1;33m\u001b[0m\u001b[0m\n\u001b[0m\u001b[0;32m      2\u001b[0m \u001b[1;33m\u001b[0m\u001b[0m\n",
      "\u001b[1;31mTypeError\u001b[0m: unsupported operand type(s) for ** or pow(): 'str' and 'int'"
     ]
    }
   ],
   "source": [
    " 'Coucou'**2\n",
    "    "
   ]
  },
  {
   "cell_type": "markdown",
   "id": "eb055c9b-b048-4462-839f-7302c4c254db",
   "metadata": {
    "user_expressions": []
   },
   "source": [
    "### `ValueError`\n",
    "L'exception `ValueError` est déclenchée lorsque l'on essaie d'utiliser en paramètre d'une fonction une valeur qui a le bon type mais dont la valeur ne peut être utilisée."
   ]
  },
  {
   "cell_type": "code",
   "execution_count": 46,
   "id": "95355f27-1bf3-4121-961e-40b46cfcad60",
   "metadata": {},
   "outputs": [
    {
     "data": {
      "text/plain": [
       "123"
      ]
     },
     "execution_count": 46,
     "metadata": {},
     "output_type": "execute_result"
    }
   ],
   "source": [
    "int('123') # Ca fonctionne. La chaine peut etre convertie en int"
   ]
  },
  {
   "cell_type": "code",
   "execution_count": 47,
   "id": "df107009-42d6-4bf0-83b4-a5b9c3a15d92",
   "metadata": {
    "tags": [
     "raises-exception"
    ]
   },
   "outputs": [
    {
     "ename": "ValueError",
     "evalue": "invalid literal for int() with base 10: '123.4'",
     "output_type": "error",
     "traceback": [
      "\u001b[1;31m---------------------------------------------------------------------------\u001b[0m",
      "\u001b[1;31mValueError\u001b[0m                                Traceback (most recent call last)",
      "\u001b[1;32m~\\AppData\\Local\\Temp\\ipykernel_20496\\157441505.py\u001b[0m in \u001b[0;36m<module>\u001b[1;34m\u001b[0m\n\u001b[1;32m----> 1\u001b[1;33m \u001b[0mint\u001b[0m\u001b[1;33m(\u001b[0m\u001b[1;34m'123.4'\u001b[0m\u001b[1;33m)\u001b[0m \u001b[1;31m# Ca ne fonctionne pas. La chaine ne peut etre convertie en int\u001b[0m\u001b[1;33m\u001b[0m\u001b[1;33m\u001b[0m\u001b[0m\n\u001b[0m",
      "\u001b[1;31mValueError\u001b[0m: invalid literal for int() with base 10: '123.4'"
     ]
    }
   ],
   "source": [
    "int('123.4') # Ca ne fonctionne pas. La chaine ne peut etre convertie en int"
   ]
  },
  {
   "cell_type": "markdown",
   "id": "2cbfea7c-a413-48a7-8087-c9a0d67eb6d1",
   "metadata": {
    "user_expressions": []
   },
   "source": [
    "### `IndexError`\n",
    "L'exception `IndexError` est déclenchée lorsque l'on essaie d'accéder à un élément d'une liste (ou d'un [tuple](#L_autresTypes)) avec un indice qui n'est plus grand que la taille de la liste. Cette erreur est aussi déclenchée si l'indice négatif mène en dehors de la liste."
   ]
  },
  {
   "cell_type": "code",
   "execution_count": 48,
   "id": "327c0fcc-c904-4729-9c08-7b0fd5284407",
   "metadata": {
    "tags": [
     "raises-exception"
    ]
   },
   "outputs": [
    {
     "ename": "IndexError",
     "evalue": "list index out of range",
     "output_type": "error",
     "traceback": [
      "\u001b[1;31m---------------------------------------------------------------------------\u001b[0m",
      "\u001b[1;31mIndexError\u001b[0m                                Traceback (most recent call last)",
      "\u001b[1;32m~\\AppData\\Local\\Temp\\ipykernel_20496\\1872423577.py\u001b[0m in \u001b[0;36m<module>\u001b[1;34m\u001b[0m\n\u001b[0;32m      1\u001b[0m \u001b[0mma_liste\u001b[0m \u001b[1;33m=\u001b[0m \u001b[1;33m[\u001b[0m\u001b[1;34m'a'\u001b[0m\u001b[1;33m,\u001b[0m \u001b[1;34m'b'\u001b[0m\u001b[1;33m,\u001b[0m \u001b[1;34m'c'\u001b[0m\u001b[1;33m]\u001b[0m\u001b[1;33m\u001b[0m\u001b[1;33m\u001b[0m\u001b[0m\n\u001b[1;32m----> 2\u001b[1;33m \u001b[0mma_liste\u001b[0m\u001b[1;33m[\u001b[0m\u001b[1;36m5\u001b[0m\u001b[1;33m]\u001b[0m\u001b[1;33m\u001b[0m\u001b[1;33m\u001b[0m\u001b[0m\n\u001b[0m",
      "\u001b[1;31mIndexError\u001b[0m: list index out of range"
     ]
    }
   ],
   "source": [
    "ma_liste = ['a', 'b', 'c']\n",
    "ma_liste[5]"
   ]
  },
  {
   "cell_type": "code",
   "execution_count": 49,
   "id": "dd6573f7-54ed-4cb8-832a-372f64e6a41d",
   "metadata": {
    "tags": [
     "raises-exception"
    ]
   },
   "outputs": [
    {
     "ename": "IndexError",
     "evalue": "list index out of range",
     "output_type": "error",
     "traceback": [
      "\u001b[1;31m---------------------------------------------------------------------------\u001b[0m",
      "\u001b[1;31mIndexError\u001b[0m                                Traceback (most recent call last)",
      "\u001b[1;32m~\\AppData\\Local\\Temp\\ipykernel_20496\\1736978601.py\u001b[0m in \u001b[0;36m<module>\u001b[1;34m\u001b[0m\n\u001b[0;32m      1\u001b[0m \u001b[0mma_liste\u001b[0m \u001b[1;33m=\u001b[0m \u001b[1;33m[\u001b[0m\u001b[1;34m'a'\u001b[0m\u001b[1;33m,\u001b[0m \u001b[1;34m'b'\u001b[0m\u001b[1;33m,\u001b[0m \u001b[1;34m'c'\u001b[0m\u001b[1;33m]\u001b[0m\u001b[1;33m\u001b[0m\u001b[1;33m\u001b[0m\u001b[0m\n\u001b[1;32m----> 2\u001b[1;33m \u001b[0mma_liste\u001b[0m\u001b[1;33m[\u001b[0m\u001b[1;33m-\u001b[0m\u001b[1;36m4\u001b[0m\u001b[1;33m]\u001b[0m\u001b[1;33m\u001b[0m\u001b[1;33m\u001b[0m\u001b[0m\n\u001b[0m",
      "\u001b[1;31mIndexError\u001b[0m: list index out of range"
     ]
    }
   ],
   "source": [
    "ma_liste = ['a', 'b', 'c']\n",
    "ma_liste[-4]"
   ]
  },
  {
   "cell_type": "markdown",
   "id": "9ddb3896-d232-44b6-a8cd-bfd043e0c3f6",
   "metadata": {
    "user_expressions": []
   },
   "source": [
    "### `ZeroDivisionError`\n",
    "L'exception `ZeroDivisionError` est déclenchée lorsque l'on essaie de diviser un nombre par la valeur 0 (de type '`int` ou float`)."
   ]
  },
  {
   "cell_type": "markdown",
   "id": "151103a6-d20f-4076-8a17-d48d4d13d12a",
   "metadata": {
    "user_expressions": []
   },
   "source": [
    "### Gérer les exceptions\n",
    "Il est possible de détecter les exceptions qui apparaitraient lors de l'exécution. Pour cela nous disposons d'une paire de mots clés : `try`et `except`.\n",
    "La syntaxe la plus simple est la suivante"
   ]
  },
  {
   "cell_type": "code",
   "execution_count": 50,
   "id": "7476d13f-cfb9-4d48-9cba-adfcf351a37f",
   "metadata": {
    "tags": [
     "raises-exception",
     "remove-output"
    ]
   },
   "outputs": [
    {
     "ename": "IndentationError",
     "evalue": "expected an indented block (1390117819.py, line 3)",
     "output_type": "error",
     "traceback": [
      "\u001b[1;36m  File \u001b[1;32m\"C:\\Users\\YVES\\AppData\\Local\\Temp\\ipykernel_20496\\1390117819.py\"\u001b[1;36m, line \u001b[1;32m3\u001b[0m\n\u001b[1;33m    except :\u001b[0m\n\u001b[1;37m    ^\u001b[0m\n\u001b[1;31mIndentationError\u001b[0m\u001b[1;31m:\u001b[0m expected an indented block\n"
     ]
    }
   ],
   "source": [
    "try :\n",
    "    # instruction pouvant générer une exception\n",
    "except :\n",
    "    # instruction à exécuter quand une exception est détectée"
   ]
  },
  {
   "cell_type": "markdown",
   "id": "d44c4284-3c76-496a-bc28-df9f89a86fa0",
   "metadata": {
    "tags": [],
    "user_expressions": []
   },
   "source": [
    "L'exemple ci-dessous peut parfois entrainer une exception `ZeroDivisionError` (une chance sur 3)."
   ]
  },
  {
   "cell_type": "code",
   "execution_count": 51,
   "id": "53cc28b4-1d1e-4181-9f14-beb62f792281",
   "metadata": {},
   "outputs": [
    {
     "ename": "ZeroDivisionError",
     "evalue": "division by zero",
     "output_type": "error",
     "traceback": [
      "\u001b[1;31m---------------------------------------------------------------------------\u001b[0m",
      "\u001b[1;31mZeroDivisionError\u001b[0m                         Traceback (most recent call last)",
      "\u001b[1;32m~\\AppData\\Local\\Temp\\ipykernel_20496\\932891653.py\u001b[0m in \u001b[0;36m<module>\u001b[1;34m\u001b[0m\n\u001b[0;32m      1\u001b[0m \u001b[1;32mimport\u001b[0m \u001b[0mrandom\u001b[0m\u001b[1;33m\u001b[0m\u001b[1;33m\u001b[0m\u001b[0m\n\u001b[0;32m      2\u001b[0m \u001b[0mn\u001b[0m \u001b[1;33m=\u001b[0m \u001b[0mrandom\u001b[0m\u001b[1;33m.\u001b[0m\u001b[0mrandint\u001b[0m\u001b[1;33m(\u001b[0m\u001b[1;36m0\u001b[0m\u001b[1;33m,\u001b[0m\u001b[1;36m2\u001b[0m\u001b[1;33m)\u001b[0m  \u001b[1;31m# un nombre aléatoir entre parmi 0, 1 ou 2\u001b[0m\u001b[1;33m\u001b[0m\u001b[1;33m\u001b[0m\u001b[0m\n\u001b[1;32m----> 3\u001b[1;33m \u001b[0mx\u001b[0m \u001b[1;33m=\u001b[0m \u001b[1;36m100\u001b[0m \u001b[1;33m/\u001b[0m \u001b[0mn\u001b[0m\u001b[1;33m\u001b[0m\u001b[1;33m\u001b[0m\u001b[0m\n\u001b[0m\u001b[0;32m      4\u001b[0m \u001b[0mprint\u001b[0m\u001b[1;33m(\u001b[0m\u001b[0mx\u001b[0m\u001b[1;33m)\u001b[0m\u001b[1;33m\u001b[0m\u001b[1;33m\u001b[0m\u001b[0m\n",
      "\u001b[1;31mZeroDivisionError\u001b[0m: division by zero"
     ]
    }
   ],
   "source": [
    "import random\n",
    "n = random.randint(0,2)  # un nombre aléatoir entre parmi 0, 1 ou 2\n",
    "x = 100 / n\n",
    "print(x)"
   ]
  },
  {
   "cell_type": "markdown",
   "id": "df724e07-e566-4cf7-9d46-d8dae397a80a",
   "metadata": {
    "slideshow": {
     "slide_type": "slide"
    },
    "tags": [],
    "user_expressions": []
   },
   "source": [
    "Il est donc préférable de gérer cette exception."
   ]
  },
  {
   "cell_type": "code",
   "execution_count": 52,
   "id": "1724db42-5e3c-459f-9622-ddbd041d3f72",
   "metadata": {},
   "outputs": [
    {
     "name": "stdout",
     "output_type": "stream",
     "text": [
      "12\n",
      "120\n",
      "12\n",
      "120\n",
      "Cette chaine ne peut être convertie en int\n",
      "invalid literal for int() with base 10: '12.34'\n",
      "1\n",
      "10\n",
      "Cette chaine ne peut être convertie en int\n",
      "invalid literal for int() with base 10: 'trois'\n",
      "Ce type de valeur ne peut être converti en int\n",
      "int() argument must be a string, a bytes-like object or a number, not 'list'\n"
     ]
    }
   ],
   "source": [
    "# 4 valeurs différentes à tester\n",
    "ma_var = [1, 2, 3]\n",
    "ma_var = 'trois'\n",
    "ma_var = '12.34'\n",
    "ma_var = 12.34\n",
    "ma_var = '12'\n",
    "#\n",
    "for ma_var in [ 12.34, '12', '12.34', True, 'trois', [1, 2, 3] ] :\n",
    "    try :\n",
    "        mon_entier = int(ma_var)\n",
    "        print(mon_entier)\n",
    "    except (TypeError) as e :\n",
    "        print(\"Ce type de valeur ne peut être converti en int\")\n",
    "        print(e)    \n",
    "    except (ValueError) as e :\n",
    "        print('Cette chaine ne peut être convertie en int')\n",
    "        print(e)\n",
    "    else :\n",
    "        print(10 * mon_entier)"
   ]
  },
  {
   "cell_type": "code",
   "execution_count": 53,
   "id": "b0796adb-0d2a-475e-bc94-7d8807d25b6b",
   "metadata": {},
   "outputs": [],
   "source": [
    "temperatures_hebdo = [17.8, 18.1, -99, 17.4, 17.1, -99, 17.0 ] "
   ]
  },
  {
   "cell_type": "code",
   "execution_count": 54,
   "id": "6a21a01f-d98f-4aba-b165-36e4319d6d2b",
   "metadata": {
    "tags": [
     "raises-exception"
    ]
   },
   "outputs": [
    {
     "ename": "ValueError",
     "evalue": "les données de température récupérées semblent abérantes",
     "output_type": "error",
     "traceback": [
      "\u001b[1;31m---------------------------------------------------------------------------\u001b[0m",
      "\u001b[1;31mValueError\u001b[0m                                Traceback (most recent call last)",
      "\u001b[1;32m~\\AppData\\Local\\Temp\\ipykernel_20496\\1170450253.py\u001b[0m in \u001b[0;36m<module>\u001b[1;34m\u001b[0m\n\u001b[0;32m      1\u001b[0m \u001b[1;32mif\u001b[0m \u001b[0many\u001b[0m\u001b[1;33m(\u001b[0m\u001b[1;33m[\u001b[0m\u001b[0mx\u001b[0m \u001b[1;33m<\u001b[0m \u001b[1;33m-\u001b[0m\u001b[1;36m20\u001b[0m \u001b[1;32mfor\u001b[0m \u001b[0mx\u001b[0m  \u001b[1;32min\u001b[0m \u001b[0mtemperatures_hebdo\u001b[0m\u001b[1;33m]\u001b[0m\u001b[1;33m)\u001b[0m \u001b[1;33m:\u001b[0m\u001b[1;33m\u001b[0m\u001b[1;33m\u001b[0m\u001b[0m\n\u001b[1;32m----> 2\u001b[1;33m     \u001b[1;32mraise\u001b[0m \u001b[0mValueError\u001b[0m\u001b[1;33m(\u001b[0m\u001b[1;34m'les données de température récupérées semblent abérantes'\u001b[0m\u001b[1;33m)\u001b[0m\u001b[1;33m\u001b[0m\u001b[1;33m\u001b[0m\u001b[0m\n\u001b[0m",
      "\u001b[1;31mValueError\u001b[0m: les données de température récupérées semblent abérantes"
     ]
    }
   ],
   "source": [
    "if any([x < -20 for x  in temperatures_hebdo]) :\n",
    "    raise ValueError('les données de température récupérées semblent abérantes')"
   ]
  },
  {
   "cell_type": "markdown",
   "id": "84bdb411-2511-4574-b42c-9d767c719d6c",
   "metadata": {
    "tags": [],
    "user_expressions": []
   },
   "source": [
    "(L_erreurs_syntaxe)=\n",
    "## Les erreurs de syntaxe"
   ]
  },
  {
   "cell_type": "markdown",
   "id": "2ddbbf01-1086-41f5-a482-65043d757ddb",
   "metadata": {
    "tags": [],
    "user_expressions": []
   },
   "source": [
    "Les erreurs de syntaxe sont des erreurs que l'on peut connaitre (si on est attentif ou un automate) avant même de lancer l'exécution du code. Beaucoup d'outils repèrent ce type d'erreurs et les soulignent pour que vous puissiez les corriger avant de lancer l'exécution de votre code. Elles ne peuvent être gérées pendant l'exécution. Voici quelques exemples"
   ]
  },
  {
   "cell_type": "markdown",
   "id": "a0fbefd3-25a3-40ab-b206-e84978e3b1da",
   "metadata": {
    "user_expressions": []
   },
   "source": [
    "### oubli d'un mot clé"
   ]
  },
  {
   "cell_type": "code",
   "execution_count": 55,
   "id": "b1df1cf3-1439-42b5-90b9-853af88686f5",
   "metadata": {
    "tags": [
     "raises-exception"
    ]
   },
   "outputs": [
    {
     "ename": "SyntaxError",
     "evalue": "invalid syntax (707529251.py, line 1)",
     "output_type": "error",
     "traceback": [
      "\u001b[1;36m  File \u001b[1;32m\"C:\\Users\\YVES\\AppData\\Local\\Temp\\ipykernel_20496\\707529251.py\"\u001b[1;36m, line \u001b[1;32m1\u001b[0m\n\u001b[1;33m    for i range(10) :  # Il manque le in devant range\u001b[0m\n\u001b[1;37m          ^\u001b[0m\n\u001b[1;31mSyntaxError\u001b[0m\u001b[1;31m:\u001b[0m invalid syntax\n"
     ]
    }
   ],
   "source": [
    "for i range(10) :  # Il manque le in devant range\n",
    "    print(i)"
   ]
  },
  {
   "cell_type": "markdown",
   "id": "6161ae5f-b142-491b-b30e-6c654464e4b8",
   "metadata": {
    "user_expressions": []
   },
   "source": [
    "### mot clé au mauvais endroit"
   ]
  },
  {
   "cell_type": "code",
   "execution_count": 56,
   "id": "53e735c3-3b04-4a99-afc2-56550e9813f9",
   "metadata": {
    "tags": [
     "raises-exception"
    ]
   },
   "outputs": [
    {
     "ename": "SyntaxError",
     "evalue": "invalid syntax (2380400520.py, line 2)",
     "output_type": "error",
     "traceback": [
      "\u001b[1;36m  File \u001b[1;32m\"C:\\Users\\YVES\\AppData\\Local\\Temp\\ipykernel_20496\\2380400520.py\"\u001b[1;36m, line \u001b[1;32m2\u001b[0m\n\u001b[1;33m    for i in range(a) continue :  # continue n'a rien à faire là\u001b[0m\n\u001b[1;37m                      ^\u001b[0m\n\u001b[1;31mSyntaxError\u001b[0m\u001b[1;31m:\u001b[0m invalid syntax\n"
     ]
    }
   ],
   "source": [
    "a = 10\n",
    "for i in range(a) continue :  # continue n'a rien à faire là\n",
    "    print(i)"
   ]
  },
  {
   "cell_type": "markdown",
   "id": "278ee9bd-aea0-46a6-ba13-b83a550bc0d8",
   "metadata": {
    "user_expressions": []
   },
   "source": [
    "### oubli d'un symbole (comme un : ou une paranthèse)"
   ]
  },
  {
   "cell_type": "code",
   "execution_count": 57,
   "id": "b4e46a17-a109-471a-9046-fd252f65d908",
   "metadata": {
    "tags": [
     "raises-exception"
    ]
   },
   "outputs": [
    {
     "ename": "SyntaxError",
     "evalue": "invalid syntax (2092945019.py, line 1)",
     "output_type": "error",
     "traceback": [
      "\u001b[1;36m  File \u001b[1;32m\"C:\\Users\\YVES\\AppData\\Local\\Temp\\ipykernel_20496\\2092945019.py\"\u001b[1;36m, line \u001b[1;32m1\u001b[0m\n\u001b[1;33m    for i in range(10)   # Il manque le :\u001b[0m\n\u001b[1;37m                         ^\u001b[0m\n\u001b[1;31mSyntaxError\u001b[0m\u001b[1;31m:\u001b[0m invalid syntax\n"
     ]
    }
   ],
   "source": [
    "for i in range(10)   # Il manque le :\n",
    "    print(i)"
   ]
  },
  {
   "cell_type": "markdown",
   "id": "cfebd9bd-c79d-4646-b50c-4adfb0c2a5f4",
   "metadata": {
    "user_expressions": []
   },
   "source": [
    "### faute de frappe sur un mot clé"
   ]
  },
  {
   "cell_type": "code",
   "execution_count": 58,
   "id": "dde5fb4b-8daf-4154-abab-87d0efffa515",
   "metadata": {
    "tags": [
     "raises-exception"
    ]
   },
   "outputs": [
    {
     "ename": "SyntaxError",
     "evalue": "invalid syntax (616432984.py, line 1)",
     "output_type": "error",
     "traceback": [
      "\u001b[1;36m  File \u001b[1;32m\"C:\\Users\\YVES\\AppData\\Local\\Temp\\ipykernel_20496\\616432984.py\"\u001b[1;36m, line \u001b[1;32m1\u001b[0m\n\u001b[1;33m    foor i in range(10) :  # Il y a 2 o\u001b[0m\n\u001b[1;37m         ^\u001b[0m\n\u001b[1;31mSyntaxError\u001b[0m\u001b[1;31m:\u001b[0m invalid syntax\n"
     ]
    }
   ],
   "source": [
    "foor i in range(10) :  # Il y a 2 o\n",
    "    print(i)"
   ]
  },
  {
   "cell_type": "markdown",
   "id": "19a1bf31-cda9-4502-9d8d-4342d1d21c8b",
   "metadata": {
    "user_expressions": []
   },
   "source": [
    "### indentation incorrecte"
   ]
  },
  {
   "cell_type": "code",
   "execution_count": 59,
   "id": "e318c22c-69b7-4202-81fb-cd69b17a82f2",
   "metadata": {
    "tags": [
     "raises-exception"
    ]
   },
   "outputs": [
    {
     "ename": "IndentationError",
     "evalue": "expected an indented block (2635188246.py, line 2)",
     "output_type": "error",
     "traceback": [
      "\u001b[1;36m  File \u001b[1;32m\"C:\\Users\\YVES\\AppData\\Local\\Temp\\ipykernel_20496\\2635188246.py\"\u001b[1;36m, line \u001b[1;32m2\u001b[0m\n\u001b[1;33m    print(i)\u001b[0m\n\u001b[1;37m    ^\u001b[0m\n\u001b[1;31mIndentationError\u001b[0m\u001b[1;31m:\u001b[0m expected an indented block\n"
     ]
    }
   ],
   "source": [
    "for i in range(10) :  # Il y a 2 o\n",
    "print(i)"
   ]
  },
  {
   "cell_type": "markdown",
   "id": "5f7b82a3-391e-4ba0-905d-7320da344484",
   "metadata": {
    "user_expressions": []
   },
   "source": [
    "### block vide"
   ]
  },
  {
   "cell_type": "code",
   "execution_count": 60,
   "id": "28b1db95-dd5a-4a4d-8677-5474e609d2e5",
   "metadata": {
    "tags": [
     "raises-exception"
    ]
   },
   "outputs": [
    {
     "ename": "IndentationError",
     "evalue": "expected an indented block (1571802836.py, line 3)",
     "output_type": "error",
     "traceback": [
      "\u001b[1;36m  File \u001b[1;32m\"C:\\Users\\YVES\\AppData\\Local\\Temp\\ipykernel_20496\\1571802836.py\"\u001b[1;36m, line \u001b[1;32m3\u001b[0m\n\u001b[1;33m    else :\u001b[0m\n\u001b[1;37m    ^\u001b[0m\n\u001b[1;31mIndentationError\u001b[0m\u001b[1;31m:\u001b[0m expected an indented block\n"
     ]
    }
   ],
   "source": [
    "import random\n",
    "if random.random() > 0.5 :\n",
    "else :\n",
    "    print('perdu !')"
   ]
  },
  {
   "cell_type": "markdown",
   "id": "d3c75775-840b-4b5f-9fee-cb9ae7bb907b",
   "metadata": {
    "user_expressions": []
   },
   "source": [
    "## Les erreurs d'exécution"
   ]
  },
  {
   "cell_type": "markdown",
   "id": "de7ecbdf-013a-4c59-ad0b-e3106b3c4baa",
   "metadata": {
    "tags": [],
    "user_expressions": []
   },
   "source": [
    "### La boucle infinie\n",
    "Il arrive que l'on ne se rende pas compte qu'il y a une erreur dans notre code et qu'il n'existe aucun moyen de sortir d'une boucle `while`. C'est à dire que la condition qui suit le mot clé `while` ne vaut jamais `False`. On se retrouve alors dans une boucle infinie. Pour en sortir, il n'existe qu'un seul moyen : interrompre l'exécution du code. Dans un notebook, cela se fait en cliquant sur le bouton stop (un carré), qui s'appelle ausi `interrupt the kernel` (que l'on retrouve aussi dans le menu `kernel`. Dans l'exemple ci-dessous, la boucle infinie est évidente mais cela n'est pas toujours le cas. La fonction `sleep`du module `time`permet de mettre en pause l'exécution pendant un certain nombre de secondes (paramètre de la fonction). Dans la capture ci-dessous, le bouton `interrupt the kernel` a été pressé après 3 itérations. L'interuption provoque un message d'erreur `KeyboardInterrupt`.\n",
    "```{image} ./infinite_loop.png\n",
    ":alt: La boucle inifinie\n",
    ":width: 80%\n",
    ":align: center\n",
    "```"
   ]
  },
  {
   "cell_type": "markdown",
   "id": "e9bf174a-3515-4253-96a2-4085cbfa877e",
   "metadata": {
    "tags": [],
    "user_expressions": []
   },
   "source": [
    "### Comportement différent de celui attendu\n",
    "Le plus souvent, une fois les erreurs de syntaxe corrigées ainsi que les les exceptions gérées, il n'y a plus de message d'erreur qui s'affiche mais pourtant le résultat que vous obtenez n'est pas celui que vous attendiez. Il va falloir dans ce cas exécuter votre code pas à pas en inspectant le contenu des variables à chacun de ces pas. Lorsque vous observerez le premier comportement différent de celui auquel vous étiez attendu, vous devez relire avec attention cette ligne et peut être celles juste avant : la faute est par là. Cette exécution pas à pas en oservant le contenu des variables, s'appelle (en bon franglais) **débugger**. Vous verez dans le chapitre suivant l'environement Spyder qui permet de débugger facilement votre code."
   ]
  }
 ],
 "metadata": {
  "kernelspec": {
   "display_name": "Python 3 (ipykernel)",
   "language": "python",
   "name": "python3"
  },
  "language_info": {
   "codemirror_mode": {
    "name": "ipython",
    "version": 3
   },
   "file_extension": ".py",
   "mimetype": "text/x-python",
   "name": "python",
   "nbconvert_exporter": "python",
   "pygments_lexer": "ipython3",
   "version": "3.9.18"
  }
 },
 "nbformat": 4,
 "nbformat_minor": 5
}

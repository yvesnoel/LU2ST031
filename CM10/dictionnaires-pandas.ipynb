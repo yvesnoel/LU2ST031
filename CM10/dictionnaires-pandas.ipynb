{
  "metadata": {
    "celltoolbar": "Tags",
    "kernelspec": {
      "name": "python",
      "display_name": "Python (Pyodide)",
      "language": "python"
    },
    "language_info": {
      "codemirror_mode": {
        "name": "python",
        "version": 3
      },
      "file_extension": ".py",
      "mimetype": "text/x-python",
      "name": "python",
      "nbconvert_exporter": "python",
      "pygments_lexer": "ipython3",
      "version": "3.8"
    }
  },
  "nbformat_minor": 4,
  "nbformat": 4,
  "cells": [
    {
      "cell_type": "markdown",
      "source": "# Dictionnaires et Pandas\nTemps approximatif 60min\n```{admonition} Objectifs\n:class: hint\nA l'issue de ce chapitre, vous serez capable de : \n- créer un dictionnaire comprenant des clefs et des valeurs.\n- créer un dataframe en utilisant la librairie Pandas à partir de listes et de dictionnaires.\n- lire un fichier csv et excel en objet dataframe\n- insérer, supprimer et modifier des éléments d'un dataframe\n- extraire une colonne d'un dataframe\n- trier un dataframe\n- réaliser des opérations arithmétiques (addition, multiplication, division) sur des colonnes d'un dataframe\n```\n",
      "metadata": {
        "user_expressions": [],
        "trusted": true
      }
    },
    {
      "cell_type": "markdown",
      "source": "## **Vidéo**: Dictionnaires",
      "metadata": {
        "user_expressions": [],
        "trusted": true
      }
    },
    {
      "cell_type": "code",
      "source": "%%HTML\n<iframe src=\"https://sorbonne-universite.cloud.panopto.eu/Panopto/Pages/Embed.aspx?id=abf874a0-6e15-4fab-977c-ae1400dfa2bf&autoplay=false&offerviewer=true&showtitle=true&showbrand=false&captions=false&interactivity=all\" height=\"405\" width=\"720\" style=\"border: 1px solid #464646;\" allowfullscreen allow=\"autoplay\"></iframe>",
      "metadata": {
        "tags": [
          "remove-input"
        ],
        "trusted": true
      },
      "execution_count": null,
      "outputs": [
        {
          "output_type": "display_data",
          "data": {
            "text/plain": "<IPython.core.display.HTML object>",
            "text/html": "<iframe src=\"https://sorbonne-universite.cloud.panopto.eu/Panopto/Pages/Embed.aspx?id=abf874a0-6e15-4fab-977c-ae1400dfa2bf&autoplay=false&offerviewer=true&showtitle=true&showbrand=false&captions=false&interactivity=all\" height=\"405\" width=\"720\" style=\"border: 1px solid #464646;\" allowfullscreen allow=\"autoplay\"></iframe>\n"
          },
          "metadata": {}
        }
      ]
    },
    {
      "cell_type": "markdown",
      "source": "## Les dictionnaires\n\nUn dictionnaire ressemble à une liste mais il est plus général. Alors que les indices d'une liste doivent être des entiers, dans un dictionnaire, les indices peuvent être de types différents.\n\nUn dictionnaire contient une collection d'indices, appelés **clés**, et une collection de valeurs. À chaque *clé* correspond une *valeur*, ce que l'on appelle une **paire clé-valeur**, ou **item**.\n\nLa syntaxe pour définir un dictionnaire est :",
      "metadata": {
        "user_expressions": [],
        "trusted": true
      }
    },
    {
      "cell_type": "code",
      "source": "my_dict = {\n   \"key1\": \"value1\",\n   \"key2\": \"value2\",\n}",
      "metadata": {
        "trusted": true
      },
      "execution_count": null,
      "outputs": []
    },
    {
      "cell_type": "markdown",
      "source": "Définissons 2 listes nous donnant les pays européens et leur capitale :",
      "metadata": {
        "user_expressions": [],
        "trusted": true
      }
    },
    {
      "cell_type": "code",
      "source": "pays = ['allemagne', 'autriche', 'belgique', 'bulgarie', 'chypre', 'croatie', 'danemark', 'espagne', 'estonie', \n        'finlande', 'france', 'grèce', 'hongrie', 'irlande', 'italie', 'lettonie', 'lituanie', 'luxembourg', \n        'malte', 'pays-bas', 'pologne', 'portugal', 'république tchèque', 'roumanie', 'slovaquie', 'slovénie', 'suède']\ncapitales = ['berlin', 'vienne', 'bruxelles', 'sofia', 'nicosie', 'zagreb', 'copenhague', 'madrid', 'tallinn', \n             'helsinki', 'paris', 'athènes', 'budapest', 'dublin', 'rome', 'riga', 'vilnius', 'luxembourg', 'la valette',\n             'amsterdam', 'varsovie', 'lisbonne', 'prague', 'bucarest', 'bratislava', 'ljubljana', 'stockholm']",
      "metadata": {
        "trusted": true
      },
      "execution_count": null,
      "outputs": []
    },
    {
      "cell_type": "markdown",
      "source": "Nous voulons trouver la capitale de la Hongrie. Nous pouvons utiliser la méthode de liste `index()` :",
      "metadata": {
        "user_expressions": [],
        "trusted": true
      }
    },
    {
      "cell_type": "code",
      "source": "# Trouver l'indice de 'hongrie'\nind_hongrie = pays.index('hongrie')\n\n# Afficher la capitale de la Hongrie\nprint(capitales[ind_hongrie].capitalize())",
      "metadata": {
        "tags": [],
        "trusted": true
      },
      "execution_count": null,
      "outputs": [
        {
          "name": "stdout",
          "text": "Budapest\n",
          "output_type": "stream"
        }
      ]
    },
    {
      "cell_type": "markdown",
      "source": "Maintenant, définissons un dictionnaire contenant les même informations :",
      "metadata": {
        "user_expressions": [],
        "trusted": true
      }
    },
    {
      "cell_type": "code",
      "source": "europe = {\n    'allemagne' : 'berlin',\n    'autriche' : 'vienne',\n    'belgique' : 'bruxelles',\n    'bulgarie' : 'sofia',\n    'chypre' : 'nicosie',\n    'croatie' : 'zagreb',\n    'danemark' : 'copenhague',\n    'espagne' : 'madrid',\n    'estonie' : 'tallinn',\n    'finlande' : 'helsinki',\n    'france' : 'paris',\n    'grèce' : 'athènes',\n    'hongrie' : 'budapest',\n    'irlande' : 'dublin',\n    'italie' : 'rome',\n    'lettonie' : 'riga',\n    'lituanie' : 'vilnius',\n    'luxembourg' : 'luxembourg',\n    'malte' : 'la valette',\n    'pays-bas' : 'amsterdam',\n    'pologne' : 'varsovie',\n    'portugal' : 'lisbonne',\n    'république tchèque' : 'prague',\n    'roumanie' : 'bucarest',\n    'slovaquie' : 'bratislava',\n    'slovénie' : 'ljubljana',\n    'suède' : 'stockholm'\n}",
      "metadata": {
        "trusted": true
      },
      "execution_count": null,
      "outputs": []
    },
    {
      "cell_type": "markdown",
      "source": "Pour accéder à la *valeur* associée à une *clé* donnée, il suffit alors d'utiliser la clé en indice du dictionnaire. Ainsi, pour afficher la capitale de la Hongrie :",
      "metadata": {
        "tags": [],
        "user_expressions": [],
        "trusted": true
      }
    },
    {
      "cell_type": "code",
      "source": "europe['hongrie']",
      "metadata": {
        "trusted": true
      },
      "execution_count": null,
      "outputs": [
        {
          "execution_count": 6,
          "output_type": "execute_result",
          "data": {
            "text/plain": "'budapest'"
          },
          "metadata": {}
        }
      ]
    },
    {
      "cell_type": "markdown",
      "source": "Il est facile avec un dictionnaire d'ajouter ou enlever une paire clé-valeur, ou bien de changer une valeur :",
      "metadata": {
        "user_expressions": [],
        "trusted": true
      }
    },
    {
      "cell_type": "code",
      "source": "# Ajouter la Turqie au dictionnaire\neurope['turquie'] = 'istanbul'\n\n# Vérifier que le pays est bien contenu dans le dictionnaire\n'turquie' in europe",
      "metadata": {
        "trusted": true
      },
      "execution_count": null,
      "outputs": [
        {
          "execution_count": 7,
          "output_type": "execute_result",
          "data": {
            "text/plain": "True"
          },
          "metadata": {}
        }
      ]
    },
    {
      "cell_type": "code",
      "source": "# Changer le nom de la capitale de la Turquie (et oui ce n'est pas Istanbul...)\neurope['turquie'] = 'ankara'\n\n# Afficher la capitale de la Turquie\nprint(europe['turquie'].capitalize())",
      "metadata": {
        "tags": [],
        "trusted": true
      },
      "execution_count": null,
      "outputs": [
        {
          "name": "stdout",
          "text": "Ankara\n",
          "output_type": "stream"
        }
      ]
    },
    {
      "cell_type": "code",
      "source": "# Enlever la paire clé-valeur du dictionnaire\ndel(europe['turquie'])\n\n# Vérifier que le pays n'est pas contenu dans le dictionnaire\n'turquie' in europe",
      "metadata": {
        "trusted": true
      },
      "execution_count": null,
      "outputs": [
        {
          "execution_count": 9,
          "output_type": "execute_result",
          "data": {
            "text/plain": "False"
          },
          "metadata": {}
        }
      ]
    },
    {
      "cell_type": "markdown",
      "source": "## **Vidéo**: L'objet DataFrame",
      "metadata": {
        "user_expressions": [],
        "trusted": true
      }
    },
    {
      "cell_type": "code",
      "source": "%%HTML\n<iframe src=\"https://sorbonne-universite.cloud.panopto.eu/Panopto/Pages/Embed.aspx?id=c59d5c9e-97ab-45b3-b24d-adf900ff9859&autoplay=false&offerviewer=true&showtitle=true&showbrand=false&captions=false&interactivity=all\" height=\"405\" width=\"720\" style=\"border: 1px solid #464646;\" allowfullscreen allow=\"autoplay\"></iframe>",
      "metadata": {
        "tags": [
          "remove-input"
        ],
        "trusted": true
      },
      "execution_count": null,
      "outputs": [
        {
          "output_type": "display_data",
          "data": {
            "text/plain": "<IPython.core.display.HTML object>",
            "text/html": "<iframe src=\"https://sorbonne-universite.cloud.panopto.eu/Panopto/Pages/Embed.aspx?id=c59d5c9e-97ab-45b3-b24d-adf900ff9859&autoplay=false&offerviewer=true&showtitle=true&showbrand=false&captions=false&interactivity=all\" height=\"405\" width=\"720\" style=\"border: 1px solid #464646;\" allowfullscreen allow=\"autoplay\"></iframe>\n"
          },
          "metadata": {}
        }
      ]
    },
    {
      "cell_type": "markdown",
      "source": "## Pandas DataFrames\n\n[Pandas](https://pandas.pydata.org/) est un module de Python pour l'analyse et la manipulation de données. L'objet de base de Pandas est le *DataFrame*, qui est un tableau similaire aux feuilles Excel ou LibreOffice que vous devez connaître. Le module Pandas fonctionne en harmonie avec le modules [Matplotlib](https://matplotlib.org/) vu dans les cours précédents.\n\nVoyons comment créer un DataFrame à partir d'un dictionnaire. Nous allons reprendre les listes créées plus haut sur les pays et capitales européennes, les transformer en tableaux Numpy (une autre librairie puissante qui nécessite d'être importée), et y ajouter d'autres informations :",
      "metadata": {
        "user_expressions": [],
        "trusted": true
      }
    },
    {
      "cell_type": "code",
      "source": "# Importation du module Numpy\nimport numpy as np\n\n# Importation du module Pandas\nimport pandas as pd\n\n# Création des tableaux Numpy à partir des listes des pays et des capitales : type string\nnp_pays = np.array(pays)\nnp_capitales = np.array(capitales)\n\n# Liste avec les populations des pays européens : type integer\nnp_population = np.array([82162000, 8700471, 11289853, 7153784, 848319, 4190669, 5659715, 46438422, 1315944, \n                       5401267, 66661621, 10793526, 9830485, 4658530, 60665551, 1968957, 2888558, 576249, \n                       434403, 16979120, 37967209, 10341330, 10553853, 19759968, 5426252, 2064188, 9851017],\n                       dtype = 'int64')\n\n# Liste avec les dates d'adhésion des pays à l'UE : type datetime\nnp_date = np.array(['1957', '1995', '1957', '2007', '2004', '2013', '1973', '1986', '2004', '1995',\n                    '1957', '1981', '2004', '1973', '1957', '2004', '2004', '1957', '2004', '1957',\n                    '2004', '1986', '2004', '2007', '2004', '2004', '1995'],\n                    dtype = 'datetime64[Y]')",
      "metadata": {
        "trusted": true
      },
      "execution_count": null,
      "outputs": []
    },
    {
      "cell_type": "markdown",
      "source": "Maintenant, créons un dictionnaire en utilisant les tableaux Numpy dans les paires clé-valeur :",
      "metadata": {
        "user_expressions": [],
        "trusted": true
      }
    },
    {
      "cell_type": "code",
      "source": "dic_europe = {\n    \"pays\" : np_pays,\n    \"capitale\" : np_capitales,\n    \"population\" : np_population,\n    \"date d'adhésion\" : np_date\n}",
      "metadata": {
        "tags": [],
        "trusted": true
      },
      "execution_count": null,
      "outputs": []
    },
    {
      "cell_type": "markdown",
      "source": "Pour créer le *DataFrame* à partir du dictionnaire il suffit d'utiliser la fonction `DataFrame()` de Pandas :",
      "metadata": {
        "user_expressions": [],
        "trusted": true
      }
    },
    {
      "cell_type": "code",
      "source": "# Création du DataFrame\ndf_europe = pd.DataFrame(data = dic_europe)\n\n# Affichage du DataFrame\ndf_europe",
      "metadata": {
        "tags": [],
        "trusted": true
      },
      "execution_count": null,
      "outputs": [
        {
          "execution_count": 13,
          "output_type": "execute_result",
          "data": {
            "text/plain": "                  pays    capitale  population date d'adhésion\n0            allemagne      berlin    82162000      1957-01-01\n1             autriche      vienne     8700471      1995-01-01\n2             belgique   bruxelles    11289853      1957-01-01\n3             bulgarie       sofia     7153784      2007-01-01\n4               chypre     nicosie      848319      2004-01-01\n5              croatie      zagreb     4190669      2013-01-01\n6             danemark  copenhague     5659715      1973-01-01\n7              espagne      madrid    46438422      1986-01-01\n8              estonie     tallinn     1315944      2004-01-01\n9             finlande    helsinki     5401267      1995-01-01\n10              france       paris    66661621      1957-01-01\n11               grèce     athènes    10793526      1981-01-01\n12             hongrie    budapest     9830485      2004-01-01\n13             irlande      dublin     4658530      1973-01-01\n14              italie        rome    60665551      1957-01-01\n15            lettonie        riga     1968957      2004-01-01\n16            lituanie     vilnius     2888558      2004-01-01\n17          luxembourg  luxembourg      576249      1957-01-01\n18               malte  la valette      434403      2004-01-01\n19            pays-bas   amsterdam    16979120      1957-01-01\n20             pologne    varsovie    37967209      2004-01-01\n21            portugal    lisbonne    10341330      1986-01-01\n22  république tchèque      prague    10553853      2004-01-01\n23            roumanie    bucarest    19759968      2007-01-01\n24           slovaquie  bratislava     5426252      2004-01-01\n25            slovénie   ljubljana     2064188      2004-01-01\n26               suède   stockholm     9851017      1995-01-01",
            "text/html": "<div>\n<style scoped>\n    .dataframe tbody tr th:only-of-type {\n        vertical-align: middle;\n    }\n\n    .dataframe tbody tr th {\n        vertical-align: top;\n    }\n\n    .dataframe thead th {\n        text-align: right;\n    }\n</style>\n<table border=\"1\" class=\"dataframe\">\n  <thead>\n    <tr style=\"text-align: right;\">\n      <th></th>\n      <th>pays</th>\n      <th>capitale</th>\n      <th>population</th>\n      <th>date d'adhésion</th>\n    </tr>\n  </thead>\n  <tbody>\n    <tr>\n      <th>0</th>\n      <td>allemagne</td>\n      <td>berlin</td>\n      <td>82162000</td>\n      <td>1957-01-01</td>\n    </tr>\n    <tr>\n      <th>1</th>\n      <td>autriche</td>\n      <td>vienne</td>\n      <td>8700471</td>\n      <td>1995-01-01</td>\n    </tr>\n    <tr>\n      <th>2</th>\n      <td>belgique</td>\n      <td>bruxelles</td>\n      <td>11289853</td>\n      <td>1957-01-01</td>\n    </tr>\n    <tr>\n      <th>3</th>\n      <td>bulgarie</td>\n      <td>sofia</td>\n      <td>7153784</td>\n      <td>2007-01-01</td>\n    </tr>\n    <tr>\n      <th>4</th>\n      <td>chypre</td>\n      <td>nicosie</td>\n      <td>848319</td>\n      <td>2004-01-01</td>\n    </tr>\n    <tr>\n      <th>5</th>\n      <td>croatie</td>\n      <td>zagreb</td>\n      <td>4190669</td>\n      <td>2013-01-01</td>\n    </tr>\n    <tr>\n      <th>6</th>\n      <td>danemark</td>\n      <td>copenhague</td>\n      <td>5659715</td>\n      <td>1973-01-01</td>\n    </tr>\n    <tr>\n      <th>7</th>\n      <td>espagne</td>\n      <td>madrid</td>\n      <td>46438422</td>\n      <td>1986-01-01</td>\n    </tr>\n    <tr>\n      <th>8</th>\n      <td>estonie</td>\n      <td>tallinn</td>\n      <td>1315944</td>\n      <td>2004-01-01</td>\n    </tr>\n    <tr>\n      <th>9</th>\n      <td>finlande</td>\n      <td>helsinki</td>\n      <td>5401267</td>\n      <td>1995-01-01</td>\n    </tr>\n    <tr>\n      <th>10</th>\n      <td>france</td>\n      <td>paris</td>\n      <td>66661621</td>\n      <td>1957-01-01</td>\n    </tr>\n    <tr>\n      <th>11</th>\n      <td>grèce</td>\n      <td>athènes</td>\n      <td>10793526</td>\n      <td>1981-01-01</td>\n    </tr>\n    <tr>\n      <th>12</th>\n      <td>hongrie</td>\n      <td>budapest</td>\n      <td>9830485</td>\n      <td>2004-01-01</td>\n    </tr>\n    <tr>\n      <th>13</th>\n      <td>irlande</td>\n      <td>dublin</td>\n      <td>4658530</td>\n      <td>1973-01-01</td>\n    </tr>\n    <tr>\n      <th>14</th>\n      <td>italie</td>\n      <td>rome</td>\n      <td>60665551</td>\n      <td>1957-01-01</td>\n    </tr>\n    <tr>\n      <th>15</th>\n      <td>lettonie</td>\n      <td>riga</td>\n      <td>1968957</td>\n      <td>2004-01-01</td>\n    </tr>\n    <tr>\n      <th>16</th>\n      <td>lituanie</td>\n      <td>vilnius</td>\n      <td>2888558</td>\n      <td>2004-01-01</td>\n    </tr>\n    <tr>\n      <th>17</th>\n      <td>luxembourg</td>\n      <td>luxembourg</td>\n      <td>576249</td>\n      <td>1957-01-01</td>\n    </tr>\n    <tr>\n      <th>18</th>\n      <td>malte</td>\n      <td>la valette</td>\n      <td>434403</td>\n      <td>2004-01-01</td>\n    </tr>\n    <tr>\n      <th>19</th>\n      <td>pays-bas</td>\n      <td>amsterdam</td>\n      <td>16979120</td>\n      <td>1957-01-01</td>\n    </tr>\n    <tr>\n      <th>20</th>\n      <td>pologne</td>\n      <td>varsovie</td>\n      <td>37967209</td>\n      <td>2004-01-01</td>\n    </tr>\n    <tr>\n      <th>21</th>\n      <td>portugal</td>\n      <td>lisbonne</td>\n      <td>10341330</td>\n      <td>1986-01-01</td>\n    </tr>\n    <tr>\n      <th>22</th>\n      <td>république tchèque</td>\n      <td>prague</td>\n      <td>10553853</td>\n      <td>2004-01-01</td>\n    </tr>\n    <tr>\n      <th>23</th>\n      <td>roumanie</td>\n      <td>bucarest</td>\n      <td>19759968</td>\n      <td>2007-01-01</td>\n    </tr>\n    <tr>\n      <th>24</th>\n      <td>slovaquie</td>\n      <td>bratislava</td>\n      <td>5426252</td>\n      <td>2004-01-01</td>\n    </tr>\n    <tr>\n      <th>25</th>\n      <td>slovénie</td>\n      <td>ljubljana</td>\n      <td>2064188</td>\n      <td>2004-01-01</td>\n    </tr>\n    <tr>\n      <th>26</th>\n      <td>suède</td>\n      <td>stockholm</td>\n      <td>9851017</td>\n      <td>1995-01-01</td>\n    </tr>\n  </tbody>\n</table>\n</div>"
          },
          "metadata": {}
        }
      ]
    },
    {
      "cell_type": "markdown",
      "source": "On voit que :\n\n- les clés du dictionnaire ont été utilisées pour nommer les colonnes du DataFrame,\n- les listes ont été utilisées pour remplir chaque colonne\n- les lignes sont étiquetées, par défaut avec des entiers à partir de l'indice 0 (mais il est possible d'utiliser d'autres types pour les étiquettes, comme pour les clés d'un dictionnaire, ce que nous verrons au paragraphe sur l'objet *index*)\n\nNous pouvons vérifier le type du DataFrame avec la fonction `type()` :",
      "metadata": {
        "user_expressions": [],
        "trusted": true
      }
    },
    {
      "cell_type": "code",
      "source": "# Affichage du type\nprint(type(df_europe))",
      "metadata": {
        "tags": [],
        "trusted": true
      },
      "execution_count": null,
      "outputs": [
        {
          "name": "stdout",
          "text": "<class 'pandas.core.frame.DataFrame'>\n",
          "output_type": "stream"
        }
      ]
    },
    {
      "cell_type": "markdown",
      "source": "Les attributs de DataFrame sont :\n\n| Attributs | Description\n|--|--\n| `ndim` | nombre de dimensions\n| `shape` | forme, nombre d'éléments dans chaque dimension\n| `size` | nombre d'éléments",
      "metadata": {
        "user_expressions": [],
        "trusted": true
      }
    },
    {
      "cell_type": "code",
      "source": "print('ndim :', df_europe.ndim)\nprint('shape :', df_europe.shape)\nprint('size :', df_europe.size)",
      "metadata": {
        "tags": [],
        "trusted": true
      },
      "execution_count": null,
      "outputs": [
        {
          "name": "stdout",
          "text": "ndim : 2\nshape : (27, 4)\nsize : 108\n",
          "output_type": "stream"
        }
      ]
    },
    {
      "cell_type": "markdown",
      "source": "Les DataFrame contiennent parfois beaucoup de lignes. On peut afficher seulement les premières ou dernières lignes avec les méthodes `head()` et `tail()` :",
      "metadata": {
        "user_expressions": [],
        "trusted": true
      }
    },
    {
      "cell_type": "code",
      "source": "# Afficher les 2 premières lignes\ndf_europe.head(n = 2)",
      "metadata": {
        "trusted": true
      },
      "execution_count": null,
      "outputs": [
        {
          "execution_count": 16,
          "output_type": "execute_result",
          "data": {
            "text/plain": "        pays capitale  population date d'adhésion\n0  allemagne   berlin    82162000      1957-01-01\n1   autriche   vienne     8700471      1995-01-01",
            "text/html": "<div>\n<style scoped>\n    .dataframe tbody tr th:only-of-type {\n        vertical-align: middle;\n    }\n\n    .dataframe tbody tr th {\n        vertical-align: top;\n    }\n\n    .dataframe thead th {\n        text-align: right;\n    }\n</style>\n<table border=\"1\" class=\"dataframe\">\n  <thead>\n    <tr style=\"text-align: right;\">\n      <th></th>\n      <th>pays</th>\n      <th>capitale</th>\n      <th>population</th>\n      <th>date d'adhésion</th>\n    </tr>\n  </thead>\n  <tbody>\n    <tr>\n      <th>0</th>\n      <td>allemagne</td>\n      <td>berlin</td>\n      <td>82162000</td>\n      <td>1957-01-01</td>\n    </tr>\n    <tr>\n      <th>1</th>\n      <td>autriche</td>\n      <td>vienne</td>\n      <td>8700471</td>\n      <td>1995-01-01</td>\n    </tr>\n  </tbody>\n</table>\n</div>"
          },
          "metadata": {}
        }
      ]
    },
    {
      "cell_type": "code",
      "source": "# Afficher les 2 dernières lignes\ndf_europe.tail(n = 2)",
      "metadata": {
        "trusted": true
      },
      "execution_count": null,
      "outputs": [
        {
          "execution_count": 17,
          "output_type": "execute_result",
          "data": {
            "text/plain": "        pays   capitale  population date d'adhésion\n25  slovénie  ljubljana     2064188      2004-01-01\n26     suède  stockholm     9851017      1995-01-01",
            "text/html": "<div>\n<style scoped>\n    .dataframe tbody tr th:only-of-type {\n        vertical-align: middle;\n    }\n\n    .dataframe tbody tr th {\n        vertical-align: top;\n    }\n\n    .dataframe thead th {\n        text-align: right;\n    }\n</style>\n<table border=\"1\" class=\"dataframe\">\n  <thead>\n    <tr style=\"text-align: right;\">\n      <th></th>\n      <th>pays</th>\n      <th>capitale</th>\n      <th>population</th>\n      <th>date d'adhésion</th>\n    </tr>\n  </thead>\n  <tbody>\n    <tr>\n      <th>25</th>\n      <td>slovénie</td>\n      <td>ljubljana</td>\n      <td>2064188</td>\n      <td>2004-01-01</td>\n    </tr>\n    <tr>\n      <th>26</th>\n      <td>suède</td>\n      <td>stockholm</td>\n      <td>9851017</td>\n      <td>1995-01-01</td>\n    </tr>\n  </tbody>\n</table>\n</div>"
          },
          "metadata": {}
        }
      ]
    },
    {
      "cell_type": "markdown",
      "source": "## **Vidéo**: Les objets Series et Index",
      "metadata": {
        "user_expressions": [],
        "trusted": true
      }
    },
    {
      "cell_type": "code",
      "source": "%%HTML\n<iframe src=\"https://sorbonne-universite.cloud.panopto.eu/Panopto/Pages/Embed.aspx?id=1d90a0c1-5855-4a8c-91d1-ae1c00e31a7d&autoplay=false&offerviewer=true&showtitle=true&showbrand=false&captions=false&interactivity=all\" height=\"405\" width=\"720\" style=\"border: 1px solid #464646;\" allowfullscreen allow=\"autoplay\"></iframe>",
      "metadata": {
        "tags": [
          "remove-input"
        ],
        "trusted": true
      },
      "execution_count": null,
      "outputs": [
        {
          "output_type": "display_data",
          "data": {
            "text/plain": "<IPython.core.display.HTML object>",
            "text/html": "<iframe src=\"https://sorbonne-universite.cloud.panopto.eu/Panopto/Pages/Embed.aspx?id=1d90a0c1-5855-4a8c-91d1-ae1c00e31a7d&autoplay=false&offerviewer=true&showtitle=true&showbrand=false&captions=false&interactivity=all\" height=\"405\" width=\"720\" style=\"border: 1px solid #464646;\" allowfullscreen allow=\"autoplay\"></iframe>\n"
          },
          "metadata": {}
        }
      ]
    },
    {
      "cell_type": "markdown",
      "source": "## L'objet *Series*",
      "metadata": {
        "user_expressions": [],
        "trusted": true
      }
    },
    {
      "cell_type": "markdown",
      "source": "Il est possible d'extraire une colonne en mettant en indice le nom de la colonne :",
      "metadata": {
        "user_expressions": [],
        "trusted": true
      }
    },
    {
      "cell_type": "code",
      "source": "# Extraire la colonne pays du DataFrame\ncol_pays = df_europe['pays']\n\n# Ou de manière similaire\ncol_pays = df_europe.pays\n\n# Affichage\nprint(col_pays)",
      "metadata": {
        "tags": [],
        "trusted": true
      },
      "execution_count": null,
      "outputs": [
        {
          "name": "stdout",
          "text": "0              allemagne\n1               autriche\n2               belgique\n3               bulgarie\n4                 chypre\n5                croatie\n6               danemark\n7                espagne\n8                estonie\n9               finlande\n10                france\n11                 grèce\n12               hongrie\n13               irlande\n14                italie\n15              lettonie\n16              lituanie\n17            luxembourg\n18                 malte\n19              pays-bas\n20               pologne\n21              portugal\n22    république tchèque\n23              roumanie\n24             slovaquie\n25              slovénie\n26                 suède\nName: pays, dtype: object\n",
          "output_type": "stream"
        }
      ]
    },
    {
      "cell_type": "markdown",
      "source": "On voit que l'on a extrait la colonne mais aussi les étiquettes des lignes et d'autres informations telles que l'étiquette de la colonne. Une colonne extraite de cette manière est un objet **Series** de Pandas : ",
      "metadata": {
        "user_expressions": [],
        "trusted": true
      }
    },
    {
      "cell_type": "code",
      "source": "print(type(col_pays))",
      "metadata": {
        "tags": [],
        "trusted": true
      },
      "execution_count": null,
      "outputs": [
        {
          "name": "stdout",
          "text": "<class 'pandas.core.series.Series'>\n",
          "output_type": "stream"
        }
      ]
    },
    {
      "cell_type": "markdown",
      "source": "On accède aux valeurs d'un objet *Series* de la même manière qu'un dictionnaire, c'est-à-dire en écrivant l'étiquette en indice de l'objet :",
      "metadata": {
        "user_expressions": [],
        "trusted": true
      }
    },
    {
      "cell_type": "code",
      "source": "# Afficher la valeur de la \"Series\" col_pays correspondant a l'étiquette 23\nprint(col_pays[23])",
      "metadata": {
        "tags": [],
        "trusted": true
      },
      "execution_count": null,
      "outputs": [
        {
          "name": "stdout",
          "text": "roumanie\n",
          "output_type": "stream"
        }
      ]
    },
    {
      "cell_type": "markdown",
      "source": "Pour accéder à une ligne, il faut utiliser un *accesseur* `.loc[]` :",
      "metadata": {
        "user_expressions": [],
        "trusted": true
      }
    },
    {
      "cell_type": "code",
      "source": "# Extraire la ligne 23 du DataFrame\nligne_23 = df_europe.loc[23]\n\n# Affichage\nprint(ligne_23)",
      "metadata": {
        "tags": [],
        "trusted": true
      },
      "execution_count": null,
      "outputs": [
        {
          "name": "stdout",
          "text": "pays                          roumanie\ncapitale                      bucarest\npopulation                    19759968\ndate d'adhésion    2007-01-01 00:00:00\nName: 23, dtype: object\n",
          "output_type": "stream"
        }
      ]
    },
    {
      "cell_type": "markdown",
      "source": "Une ligne extraite de cette façon est aussi un objet *Series* :",
      "metadata": {
        "user_expressions": [],
        "trusted": true
      }
    },
    {
      "cell_type": "code",
      "source": "type(ligne_23)",
      "metadata": {
        "trusted": true
      },
      "execution_count": null,
      "outputs": [
        {
          "execution_count": 23,
          "output_type": "execute_result",
          "data": {
            "text/plain": "pandas.core.series.Series"
          },
          "metadata": {}
        }
      ]
    },
    {
      "cell_type": "markdown",
      "source": "Les noms des colonnes ont été utilisés pour étiqueter les lignes de ce nouvel objet, et l'étiquette de la ligne a été utilisée pour nommer l'objet.",
      "metadata": {
        "user_expressions": [],
        "trusted": true
      }
    },
    {
      "cell_type": "markdown",
      "source": "### Exercice\n\n1. Créer un objet *Series* contenant la colonne date d'adhésion\n2. Créer un objet *Series* contenant la ligne 12",
      "metadata": {
        "user_expressions": [],
        "trusted": true
      }
    },
    {
      "cell_type": "code",
      "source": "# 1\ncol_adhesion = df_europe[\"date d'adhésion\"]\n\n# 2\nligne_12 = df_europe.loc[12]",
      "metadata": {
        "tags": [
          "solution",
          "hide-input"
        ],
        "trusted": true
      },
      "execution_count": null,
      "outputs": []
    },
    {
      "cell_type": "markdown",
      "source": "## L'objet *Index*\n\nOn peut extraire les étiquettes des lignes et des colonnes avec `.index` et `.columns` :",
      "metadata": {
        "user_expressions": [],
        "trusted": true
      }
    },
    {
      "cell_type": "code",
      "source": "# Étiquettes des lignes\nprint(df_europe.index)",
      "metadata": {
        "tags": [],
        "trusted": true
      },
      "execution_count": null,
      "outputs": [
        {
          "name": "stdout",
          "text": "RangeIndex(start=0, stop=27, step=1)\n",
          "output_type": "stream"
        }
      ]
    },
    {
      "cell_type": "code",
      "source": "# Étiquette des lignes\nprint(df_europe.columns)",
      "metadata": {
        "tags": [],
        "trusted": true
      },
      "execution_count": null,
      "outputs": [
        {
          "name": "stdout",
          "text": "Index(['pays', 'capitale', 'population', 'date d'adhésion'], dtype='object')\n",
          "output_type": "stream"
        }
      ]
    },
    {
      "cell_type": "markdown",
      "source": "Ces étiquettes sont des objet Pandas appelés **Index**. Ce sont des tableaux Numpy *immuables*, c'est-à-dire qu'on ne peut pas modifier leurs éléments.\n\nOn peut par contre changer un *index* entier :",
      "metadata": {
        "user_expressions": [],
        "trusted": true
      }
    },
    {
      "cell_type": "code",
      "source": "# Modifier les étiquettes des lignes du DataFrame en les faisant commencer à 1\ndf_europe.index = np.arange(1, 28)\n\n# Afficher la premiere ligne\ndf_europe.head(n = 1)",
      "metadata": {
        "tags": [],
        "trusted": true
      },
      "execution_count": null,
      "outputs": [
        {
          "execution_count": 27,
          "output_type": "execute_result",
          "data": {
            "text/plain": "        pays capitale  population date d'adhésion\n1  allemagne   berlin    82162000      1957-01-01",
            "text/html": "<div>\n<style scoped>\n    .dataframe tbody tr th:only-of-type {\n        vertical-align: middle;\n    }\n\n    .dataframe tbody tr th {\n        vertical-align: top;\n    }\n\n    .dataframe thead th {\n        text-align: right;\n    }\n</style>\n<table border=\"1\" class=\"dataframe\">\n  <thead>\n    <tr style=\"text-align: right;\">\n      <th></th>\n      <th>pays</th>\n      <th>capitale</th>\n      <th>population</th>\n      <th>date d'adhésion</th>\n    </tr>\n  </thead>\n  <tbody>\n    <tr>\n      <th>1</th>\n      <td>allemagne</td>\n      <td>berlin</td>\n      <td>82162000</td>\n      <td>1957-01-01</td>\n    </tr>\n  </tbody>\n</table>\n</div>"
          },
          "metadata": {}
        }
      ]
    },
    {
      "cell_type": "markdown",
      "source": "## **Vidéo**: Manipulation des données",
      "metadata": {
        "user_expressions": [],
        "trusted": true
      }
    },
    {
      "cell_type": "code",
      "source": "%%HTML\n<iframe src=\"https://sorbonne-universite.cloud.panopto.eu/Panopto/Pages/Embed.aspx?id=626a9544-2c01-43b5-8063-ae0c0131ffb7&autoplay=false&offerviewer=true&showtitle=true&showbrand=false&captions=false&interactivity=all\" height=\"405\" width=\"720\" style=\"border: 1px solid #464646;\" allowfullscreen allow=\"autoplay\"></iframe>",
      "metadata": {
        "tags": [
          "remove-input"
        ],
        "trusted": true
      },
      "execution_count": null,
      "outputs": [
        {
          "output_type": "display_data",
          "data": {
            "text/plain": "<IPython.core.display.HTML object>",
            "text/html": "<iframe src=\"https://sorbonne-universite.cloud.panopto.eu/Panopto/Pages/Embed.aspx?id=626a9544-2c01-43b5-8063-ae0c0131ffb7&autoplay=false&offerviewer=true&showtitle=true&showbrand=false&captions=false&interactivity=all\" height=\"405\" width=\"720\" style=\"border: 1px solid #464646;\" allowfullscreen allow=\"autoplay\"></iframe>\n"
          },
          "metadata": {}
        }
      ]
    },
    {
      "cell_type": "markdown",
      "source": "## Accéder et modifier les données\n\nOn peut accéder aux données du DataFrame pour les extraire ou les modifier grâce à des **accesseurs** :\n\n| Accesseur | Description\n|--|--\n| `.loc[]`  | accepte les étiquettes des lignes ou colonnes et retourne un objet *Series* ou *DataFrame*\n| `.iloc[]` | accepte les indices des lignes ou colonnes et retourne un objet *Series* ou *DataFrame*\n| `.at[]`   | accepte les étiquettes des lignes ou colonnes et retourne une valeur unique\n| `.iat[]`  | accepte les indices des lignes ou colonnes et retourne une valeur unique\n\nLes accesseurs supportent l'indexation et le tranchage. Voyons quelques exemples :",
      "metadata": {
        "user_expressions": [],
        "trusted": true
      }
    },
    {
      "cell_type": "code",
      "source": "# Extraire les capitales des 3 premiers pays\nprint(df_europe.loc[1:4, 'capitale'])",
      "metadata": {
        "tags": [],
        "trusted": true
      },
      "execution_count": null,
      "outputs": [
        {
          "name": "stdout",
          "text": "1       berlin\n2       vienne\n3    bruxelles\n4        sofia\nName: capitale, dtype: object\n",
          "output_type": "stream"
        }
      ]
    },
    {
      "cell_type": "markdown",
      "source": "Attention, avec `.loc[]` on a utilisé les étiquettes des lignes, décalées de 1 par rapport à leur indice. Pour extraire le  même objet *Series* avec `iloc[]`, on écrira :",
      "metadata": {
        "user_expressions": [],
        "trusted": true
      }
    },
    {
      "cell_type": "code",
      "source": "# Extraire les capitales des 3 premiers pays\nprint(df_europe.iloc[0:4, 1])",
      "metadata": {
        "tags": [],
        "trusted": true
      },
      "execution_count": null,
      "outputs": [
        {
          "name": "stdout",
          "text": "1       berlin\n2       vienne\n3    bruxelles\n4        sofia\nName: capitale, dtype: object\n",
          "output_type": "stream"
        }
      ]
    },
    {
      "cell_type": "markdown",
      "source": "Note :\n- lorsqu'on accède par étiquettes, la notation m:n signifie $[m,n]$,\n- lorsqu'on accède par indices, la notation m:n signifie $[m,n[$.\n\nAttention aux erreurs !",
      "metadata": {
        "user_expressions": [],
        "trusted": true
      }
    },
    {
      "cell_type": "markdown",
      "source": "Comme pour les tableaux Numpy, on peut trancher en fournissant une liste : ",
      "metadata": {
        "user_expressions": [],
        "trusted": true
      }
    },
    {
      "cell_type": "code",
      "source": "# Extraire les noms et les populations des pays 3 à 7\ndf_europe.loc[3:7, ['pays', 'population']]",
      "metadata": {
        "tags": [],
        "trusted": true
      },
      "execution_count": null,
      "outputs": [
        {
          "execution_count": 31,
          "output_type": "execute_result",
          "data": {
            "text/plain": "       pays  population\n3  belgique    11289853\n4  bulgarie     7153784\n5    chypre      848319\n6   croatie     4190669\n7  danemark     5659715",
            "text/html": "<div>\n<style scoped>\n    .dataframe tbody tr th:only-of-type {\n        vertical-align: middle;\n    }\n\n    .dataframe tbody tr th {\n        vertical-align: top;\n    }\n\n    .dataframe thead th {\n        text-align: right;\n    }\n</style>\n<table border=\"1\" class=\"dataframe\">\n  <thead>\n    <tr style=\"text-align: right;\">\n      <th></th>\n      <th>pays</th>\n      <th>population</th>\n    </tr>\n  </thead>\n  <tbody>\n    <tr>\n      <th>3</th>\n      <td>belgique</td>\n      <td>11289853</td>\n    </tr>\n    <tr>\n      <th>4</th>\n      <td>bulgarie</td>\n      <td>7153784</td>\n    </tr>\n    <tr>\n      <th>5</th>\n      <td>chypre</td>\n      <td>848319</td>\n    </tr>\n    <tr>\n      <th>6</th>\n      <td>croatie</td>\n      <td>4190669</td>\n    </tr>\n    <tr>\n      <th>7</th>\n      <td>danemark</td>\n      <td>5659715</td>\n    </tr>\n  </tbody>\n</table>\n</div>"
          },
          "metadata": {}
        }
      ]
    },
    {
      "cell_type": "markdown",
      "source": "Avec l'accesseur `iloc[]` on écrira :",
      "metadata": {
        "user_expressions": [],
        "trusted": true
      }
    },
    {
      "cell_type": "code",
      "source": "# Extraire les noms et les populations des pays 3 à 7\ndf_europe.iloc[2:7, [0, 2]]",
      "metadata": {
        "tags": [],
        "trusted": true
      },
      "execution_count": null,
      "outputs": [
        {
          "execution_count": 32,
          "output_type": "execute_result",
          "data": {
            "text/plain": "       pays  population\n3  belgique    11289853\n4  bulgarie     7153784\n5    chypre      848319\n6   croatie     4190669\n7  danemark     5659715",
            "text/html": "<div>\n<style scoped>\n    .dataframe tbody tr th:only-of-type {\n        vertical-align: middle;\n    }\n\n    .dataframe tbody tr th {\n        vertical-align: top;\n    }\n\n    .dataframe thead th {\n        text-align: right;\n    }\n</style>\n<table border=\"1\" class=\"dataframe\">\n  <thead>\n    <tr style=\"text-align: right;\">\n      <th></th>\n      <th>pays</th>\n      <th>population</th>\n    </tr>\n  </thead>\n  <tbody>\n    <tr>\n      <th>3</th>\n      <td>belgique</td>\n      <td>11289853</td>\n    </tr>\n    <tr>\n      <th>4</th>\n      <td>bulgarie</td>\n      <td>7153784</td>\n    </tr>\n    <tr>\n      <th>5</th>\n      <td>chypre</td>\n      <td>848319</td>\n    </tr>\n    <tr>\n      <th>6</th>\n      <td>croatie</td>\n      <td>4190669</td>\n    </tr>\n    <tr>\n      <th>7</th>\n      <td>danemark</td>\n      <td>5659715</td>\n    </tr>\n  </tbody>\n</table>\n</div>"
          },
          "metadata": {}
        }
      ]
    },
    {
      "cell_type": "markdown",
      "source": "Pour accéder à une valeur en particulier :",
      "metadata": {
        "user_expressions": [],
        "trusted": true
      }
    },
    {
      "cell_type": "code",
      "source": "# Nom du pays 23\nprint(df_europe.at[23, 'pays'])\n\n# Ou avec les indices\nprint(df_europe.iat[22, 0])",
      "metadata": {
        "tags": [],
        "trusted": true
      },
      "execution_count": null,
      "outputs": [
        {
          "name": "stdout",
          "text": "république tchèque\nrépublique tchèque\n",
          "output_type": "stream"
        }
      ]
    },
    {
      "cell_type": "markdown",
      "source": "### Exercice\n\n1. Extraire les date d'adhésion des pays avec les étiquettes 12 et 25\n2. Extraire la population du pays avec l'étiquette 6",
      "metadata": {
        "user_expressions": [],
        "trusted": true
      }
    },
    {
      "cell_type": "code",
      "source": "# 1\nprint(df_europe.loc[[12, 25], \"date d'adhésion\"])",
      "metadata": {
        "tags": [
          "solution",
          "hide-input"
        ],
        "trusted": true
      },
      "execution_count": null,
      "outputs": [
        {
          "name": "stdout",
          "text": "12   1981-01-01\n25   2004-01-01\nName: date d'adhésion, dtype: datetime64[ns]\n",
          "output_type": "stream"
        }
      ]
    },
    {
      "cell_type": "code",
      "source": "# 2\nprint(df_europe.at[6, \"population\"])",
      "metadata": {
        "tags": [
          "solution"
        ],
        "trusted": true
      },
      "execution_count": null,
      "outputs": [
        {
          "name": "stdout",
          "text": "4190669\n",
          "output_type": "stream"
        }
      ]
    },
    {
      "cell_type": "markdown",
      "source": "## Insérer et supprimer des données\n\nPour insérer une nouvelle ligne, on peut créer un objet *Series* et l'ajouter au DataFrame avec la méthode `.append()`. Supposons que la Turquie joigne l'Union Européenne en 2026 :",
      "metadata": {
        "user_expressions": [],
        "trusted": true
      }
    },
    {
      "cell_type": "code",
      "source": "# Création de l'objet Series\nligne_turquie = pd.Series(data = ['turquie', 'ankara', 83154997, np.datetime64('2026', 'Y')], \n                          index = df_europe.columns, name = 28)\n\n# Affichage\nprint(ligne_turquie)",
      "metadata": {
        "tags": [],
        "trusted": true
      },
      "execution_count": null,
      "outputs": [
        {
          "name": "stdout",
          "text": "pays                turquie\ncapitale             ankara\npopulation         83154997\ndate d'adhésion        2026\nName: 28, dtype: object\n",
          "output_type": "stream"
        }
      ]
    },
    {
      "cell_type": "code",
      "source": "# Ajout de la ligne à l'objet DataFrame\ndf_europe = df_europe.append(ligne_turquie)\n\n# Affichage des 2 dernières lignes\ndf_europe.tail(n = 2)",
      "metadata": {
        "tags": [],
        "trusted": true
      },
      "execution_count": null,
      "outputs": [
        {
          "name": "stderr",
          "text": "<ipython-input-37-60b4ab6f5e40>:2: FutureWarning: The frame.append method is deprecated and will be removed from pandas in a future version. Use pandas.concat instead.\n  df_europe = df_europe.append(ligne_turquie)\n",
          "output_type": "stream"
        },
        {
          "execution_count": 37,
          "output_type": "execute_result",
          "data": {
            "text/plain": "       pays   capitale  population date d'adhésion\n27    suède  stockholm     9851017      1995-01-01\n28  turquie     ankara    83154997      2026-01-01",
            "text/html": "<div>\n<style scoped>\n    .dataframe tbody tr th:only-of-type {\n        vertical-align: middle;\n    }\n\n    .dataframe tbody tr th {\n        vertical-align: top;\n    }\n\n    .dataframe thead th {\n        text-align: right;\n    }\n</style>\n<table border=\"1\" class=\"dataframe\">\n  <thead>\n    <tr style=\"text-align: right;\">\n      <th></th>\n      <th>pays</th>\n      <th>capitale</th>\n      <th>population</th>\n      <th>date d'adhésion</th>\n    </tr>\n  </thead>\n  <tbody>\n    <tr>\n      <th>27</th>\n      <td>suède</td>\n      <td>stockholm</td>\n      <td>9851017</td>\n      <td>1995-01-01</td>\n    </tr>\n    <tr>\n      <th>28</th>\n      <td>turquie</td>\n      <td>ankara</td>\n      <td>83154997</td>\n      <td>2026-01-01</td>\n    </tr>\n  </tbody>\n</table>\n</div>"
          },
          "metadata": {}
        }
      ]
    },
    {
      "cell_type": "markdown",
      "source": "Plusieurs remarques :\n- Pour créer l'objet *Series* on a utilisé l'option `index` pour nommer les colonnes, et l'option `name` pour lui donner un nom\n- L'étiquette de la nouvelle ligne de l'objet DataFrame est le nom de l'objet Series\n- On aurait pu ignorer ce nom en utilisant l'option de la méthode `append()` : `ignore_index = True`\n\nLa méthode `.drop()` permet de supprimer des lignes :",
      "metadata": {
        "user_expressions": [],
        "trusted": true
      }
    },
    {
      "cell_type": "code",
      "source": "# Supprimer la ligne avec l'étiquette 28\ndf_europe = df_europe.drop([28])\n\n# Affichage des 2 dernières lignes\ndf_europe.tail(n = 2)",
      "metadata": {
        "tags": [],
        "trusted": true
      },
      "execution_count": null,
      "outputs": [
        {
          "execution_count": 38,
          "output_type": "execute_result",
          "data": {
            "text/plain": "        pays   capitale  population date d'adhésion\n26  slovénie  ljubljana     2064188      2004-01-01\n27     suède  stockholm     9851017      1995-01-01",
            "text/html": "<div>\n<style scoped>\n    .dataframe tbody tr th:only-of-type {\n        vertical-align: middle;\n    }\n\n    .dataframe tbody tr th {\n        vertical-align: top;\n    }\n\n    .dataframe thead th {\n        text-align: right;\n    }\n</style>\n<table border=\"1\" class=\"dataframe\">\n  <thead>\n    <tr style=\"text-align: right;\">\n      <th></th>\n      <th>pays</th>\n      <th>capitale</th>\n      <th>population</th>\n      <th>date d'adhésion</th>\n    </tr>\n  </thead>\n  <tbody>\n    <tr>\n      <th>26</th>\n      <td>slovénie</td>\n      <td>ljubljana</td>\n      <td>2064188</td>\n      <td>2004-01-01</td>\n    </tr>\n    <tr>\n      <th>27</th>\n      <td>suède</td>\n      <td>stockholm</td>\n      <td>9851017</td>\n      <td>1995-01-01</td>\n    </tr>\n  </tbody>\n</table>\n</div>"
          },
          "metadata": {}
        }
      ]
    },
    {
      "cell_type": "markdown",
      "source": "Il est beaucoup plus simple d'ajouter une colonne à un DataFrame. On peut le faire de la même manière que l'on ajoute une paire clé-valeur à un dictionnaire. Par exemple, ajoutons la colonne qui donne le nombre de sièges au parlement européen pour chaque pays de l'UE :",
      "metadata": {
        "user_expressions": [],
        "trusted": true
      }
    },
    {
      "cell_type": "code",
      "source": "# Nombre de sièges au parlement\nnp_sieges = np.array([96, 18, 21, 17, 6, 11, 13, 54, 6, 13, 74, 21, 21, 11, 73, 8, 11, 6, 6, 26, 51, 21, 21, 32, 13, 8, 20])\n\n# Ajout de la colonne\ndf_europe['sièges'] = np_sieges\n\n# Affichage des 2 premières lignes\ndf_europe.head(n = 2)",
      "metadata": {
        "tags": [],
        "trusted": true
      },
      "execution_count": null,
      "outputs": [
        {
          "execution_count": 39,
          "output_type": "execute_result",
          "data": {
            "text/plain": "        pays capitale  population date d'adhésion  sièges\n1  allemagne   berlin    82162000      1957-01-01      96\n2   autriche   vienne     8700471      1995-01-01      18",
            "text/html": "<div>\n<style scoped>\n    .dataframe tbody tr th:only-of-type {\n        vertical-align: middle;\n    }\n\n    .dataframe tbody tr th {\n        vertical-align: top;\n    }\n\n    .dataframe thead th {\n        text-align: right;\n    }\n</style>\n<table border=\"1\" class=\"dataframe\">\n  <thead>\n    <tr style=\"text-align: right;\">\n      <th></th>\n      <th>pays</th>\n      <th>capitale</th>\n      <th>population</th>\n      <th>date d'adhésion</th>\n      <th>sièges</th>\n    </tr>\n  </thead>\n  <tbody>\n    <tr>\n      <th>1</th>\n      <td>allemagne</td>\n      <td>berlin</td>\n      <td>82162000</td>\n      <td>1957-01-01</td>\n      <td>96</td>\n    </tr>\n    <tr>\n      <th>2</th>\n      <td>autriche</td>\n      <td>vienne</td>\n      <td>8700471</td>\n      <td>1995-01-01</td>\n      <td>18</td>\n    </tr>\n  </tbody>\n</table>\n</div>"
          },
          "metadata": {}
        }
      ]
    },
    {
      "cell_type": "markdown",
      "source": "## **Vidéo**: Opérations, tri et sauvegarde",
      "metadata": {
        "user_expressions": [],
        "trusted": true
      }
    },
    {
      "cell_type": "code",
      "source": "%%HTML\n<iframe src=\"https://sorbonne-universite.cloud.panopto.eu/Panopto/Pages/Embed.aspx?id=da5793f6-a393-4f4f-afab-ae0c01320b56&autoplay=false&offerviewer=true&showtitle=true&showbrand=false&captions=false&interactivity=all\" height=\"405\" width=\"720\" style=\"border: 1px solid #464646;\" allowfullscreen allow=\"autoplay\"></iframe>",
      "metadata": {
        "tags": [
          "remove-input"
        ],
        "trusted": true
      },
      "execution_count": null,
      "outputs": [
        {
          "output_type": "display_data",
          "data": {
            "text/plain": "<IPython.core.display.HTML object>",
            "text/html": "<iframe src=\"https://sorbonne-universite.cloud.panopto.eu/Panopto/Pages/Embed.aspx?id=da5793f6-a393-4f4f-afab-ae0c01320b56&autoplay=false&offerviewer=true&showtitle=true&showbrand=false&captions=false&interactivity=all\" height=\"405\" width=\"720\" style=\"border: 1px solid #464646;\" allowfullscreen allow=\"autoplay\"></iframe>\n"
          },
          "metadata": {}
        }
      ]
    },
    {
      "cell_type": "markdown",
      "source": "## Opérateurs arithmétiques et fonctions\n\nIl est possible d'utiliser les opérateurs arithmétiques usuels et les fonctions Numpy sur les colonnes d'un objet DataFrame. Par exemple, calculons le pourcentage de la population dans chaque pays par rapport à la population totale :",
      "metadata": {
        "user_expressions": [],
        "trusted": true
      }
    },
    {
      "cell_type": "code",
      "source": "# Population totale\npop_tot = df_europe['population'].sum()\n\n# Pourcentage de la population\npop_pourcentage = df_europe['population'] / pop_tot * 100\n\n# Affichage\nprint(pop_pourcentage)",
      "metadata": {
        "tags": [],
        "trusted": true
      },
      "execution_count": null,
      "outputs": [
        {
          "name": "stdout",
          "text": "1     18.480761\n2      1.957004\n3      2.539435\n4      1.609106\n5      0.190813\n6      0.942610\n7      1.273044\n8     10.445429\n9      0.295996\n10     1.214911\n11    14.994249\n12     2.427796\n13     2.211178\n14     1.047847\n15    13.645548\n16     0.442879\n17     0.649726\n18     0.129616\n19     0.097711\n20     3.819126\n21     8.539993\n22     2.326083\n23     2.373886\n24     4.444625\n25     1.220531\n26     0.464299\n27     2.215797\nName: population, dtype: float64\n",
          "output_type": "stream"
        }
      ]
    },
    {
      "cell_type": "markdown",
      "source": "### Exercice\n\nNous voulons connaître le poids de chaque pays au parlement par rapport à son nombre d'habitants.\n\n1. Calculer le nombre de sièges au parlement par habitant dans chaque pays, c'est-à-dire :\n\n$$N_i = \\frac{\\text{nombre de sièges}}{\\text{nombre d'habitants}}$$\n\n2. Normaliser le résultat et l'exprimer en pourcentage, c'est-à-dire :\n\n$$\\bar{N}_i = \\frac{N_i}{\\sum_i N_i}\\times 100$$\n\n3. Ajouter une nouvelle colonne au DataFrame `df_europe` avec le nom `'poids'` qui contient $\\bar{N}_i$\n4. Afficher les colonnes `'pays'` et `'poids'` du DataFrame `df_europe` pour les 20 premières lignes",
      "metadata": {
        "user_expressions": [],
        "trusted": true
      }
    },
    {
      "cell_type": "code",
      "source": "# Nombre de siège par habitant\nsiege_pourcentage = df_europe['sièges'] / df_europe['population']\n\n# Normalisation\nsiege_pourcentage = siege_pourcentage / siege_pourcentage.sum() * 100\n\n# Ajout d'une colonne poids\ndf_europe['poids'] = siege_pourcentage\n\n# Affichage\ndf_europe.loc[1:20, ['pays', 'poids']]",
      "metadata": {
        "tags": [
          "solution",
          "hide-input"
        ],
        "trusted": true
      },
      "execution_count": null,
      "outputs": [
        {
          "execution_count": 42,
          "output_type": "execute_result",
          "data": {
            "text/plain": "          pays      poids\n1    allemagne   1.370336\n2     autriche   2.426367\n3     belgique   2.181513\n4     bulgarie   2.787018\n5       chypre   8.295046\n6      croatie   3.078478\n7     danemark   2.693863\n8      espagne   1.363776\n9      estonie   5.347374\n10    finlande   2.822763\n11      france   1.301915\n12       grèce   2.281827\n13     hongrie   2.505365\n14     irlande   2.769303\n15      italie   1.411261\n16    lettonie   4.765193\n17    lituanie   4.466202\n18  luxembourg  12.211466\n19       malte  16.198887\n20    pays-bas   1.795911",
            "text/html": "<div>\n<style scoped>\n    .dataframe tbody tr th:only-of-type {\n        vertical-align: middle;\n    }\n\n    .dataframe tbody tr th {\n        vertical-align: top;\n    }\n\n    .dataframe thead th {\n        text-align: right;\n    }\n</style>\n<table border=\"1\" class=\"dataframe\">\n  <thead>\n    <tr style=\"text-align: right;\">\n      <th></th>\n      <th>pays</th>\n      <th>poids</th>\n    </tr>\n  </thead>\n  <tbody>\n    <tr>\n      <th>1</th>\n      <td>allemagne</td>\n      <td>1.370336</td>\n    </tr>\n    <tr>\n      <th>2</th>\n      <td>autriche</td>\n      <td>2.426367</td>\n    </tr>\n    <tr>\n      <th>3</th>\n      <td>belgique</td>\n      <td>2.181513</td>\n    </tr>\n    <tr>\n      <th>4</th>\n      <td>bulgarie</td>\n      <td>2.787018</td>\n    </tr>\n    <tr>\n      <th>5</th>\n      <td>chypre</td>\n      <td>8.295046</td>\n    </tr>\n    <tr>\n      <th>6</th>\n      <td>croatie</td>\n      <td>3.078478</td>\n    </tr>\n    <tr>\n      <th>7</th>\n      <td>danemark</td>\n      <td>2.693863</td>\n    </tr>\n    <tr>\n      <th>8</th>\n      <td>espagne</td>\n      <td>1.363776</td>\n    </tr>\n    <tr>\n      <th>9</th>\n      <td>estonie</td>\n      <td>5.347374</td>\n    </tr>\n    <tr>\n      <th>10</th>\n      <td>finlande</td>\n      <td>2.822763</td>\n    </tr>\n    <tr>\n      <th>11</th>\n      <td>france</td>\n      <td>1.301915</td>\n    </tr>\n    <tr>\n      <th>12</th>\n      <td>grèce</td>\n      <td>2.281827</td>\n    </tr>\n    <tr>\n      <th>13</th>\n      <td>hongrie</td>\n      <td>2.505365</td>\n    </tr>\n    <tr>\n      <th>14</th>\n      <td>irlande</td>\n      <td>2.769303</td>\n    </tr>\n    <tr>\n      <th>15</th>\n      <td>italie</td>\n      <td>1.411261</td>\n    </tr>\n    <tr>\n      <th>16</th>\n      <td>lettonie</td>\n      <td>4.765193</td>\n    </tr>\n    <tr>\n      <th>17</th>\n      <td>lituanie</td>\n      <td>4.466202</td>\n    </tr>\n    <tr>\n      <th>18</th>\n      <td>luxembourg</td>\n      <td>12.211466</td>\n    </tr>\n    <tr>\n      <th>19</th>\n      <td>malte</td>\n      <td>16.198887</td>\n    </tr>\n    <tr>\n      <th>20</th>\n      <td>pays-bas</td>\n      <td>1.795911</td>\n    </tr>\n  </tbody>\n</table>\n</div>"
          },
          "metadata": {}
        }
      ]
    },
    {
      "cell_type": "markdown",
      "source": "## Trier un *DataFrame*\n\nIl est très facile de trier un objet DataFrame avec la méthode `.sort_values()`. Par exemple, on voit qu'en classant les pays d'abord par nombre de sièges croissant, puis, pour un même nombre de sièges, par poids décroissant, on déduit que plus le nombre de sièges et la population augmentent, plus le poids d'un pays au parlement diminue :",
      "metadata": {
        "user_expressions": [],
        "trusted": true
      }
    },
    {
      "cell_type": "code",
      "source": "df_europe.sort_values(by = ['sièges', 'poids'], ascending = [True, False])",
      "metadata": {
        "tags": [],
        "trusted": true
      },
      "execution_count": null,
      "outputs": [
        {
          "execution_count": 43,
          "output_type": "execute_result",
          "data": {
            "text/plain": "                  pays    capitale  population date d'adhésion  sièges  \\\n19               malte  la valette      434403      2004-01-01       6   \n18          luxembourg  luxembourg      576249      1957-01-01       6   \n5               chypre     nicosie      848319      2004-01-01       6   \n9              estonie     tallinn     1315944      2004-01-01       6   \n16            lettonie        riga     1968957      2004-01-01       8   \n26            slovénie   ljubljana     2064188      2004-01-01       8   \n17            lituanie     vilnius     2888558      2004-01-01      11   \n6              croatie      zagreb     4190669      2013-01-01      11   \n14             irlande      dublin     4658530      1973-01-01      11   \n10            finlande    helsinki     5401267      1995-01-01      13   \n25           slovaquie  bratislava     5426252      2004-01-01      13   \n7             danemark  copenhague     5659715      1973-01-01      13   \n4             bulgarie       sofia     7153784      2007-01-01      17   \n2             autriche      vienne     8700471      1995-01-01      18   \n27               suède   stockholm     9851017      1995-01-01      20   \n13             hongrie    budapest     9830485      2004-01-01      21   \n22            portugal    lisbonne    10341330      1986-01-01      21   \n23  république tchèque      prague    10553853      2004-01-01      21   \n12               grèce     athènes    10793526      1981-01-01      21   \n3             belgique   bruxelles    11289853      1957-01-01      21   \n20            pays-bas   amsterdam    16979120      1957-01-01      26   \n24            roumanie    bucarest    19759968      2007-01-01      32   \n21             pologne    varsovie    37967209      2004-01-01      51   \n8              espagne      madrid    46438422      1986-01-01      54   \n15              italie        rome    60665551      1957-01-01      73   \n11              france       paris    66661621      1957-01-01      74   \n1            allemagne      berlin    82162000      1957-01-01      96   \n\n        poids  \n19  16.198887  \n18  12.211466  \n5    8.295046  \n9    5.347374  \n16   4.765193  \n26   4.545352  \n17   4.466202  \n6    3.078478  \n14   2.769303  \n10   2.822763  \n25   2.809766  \n7    2.693863  \n4    2.787018  \n2    2.426367  \n27   2.381089  \n13   2.505365  \n22   2.381604  \n23   2.333646  \n12   2.281827  \n3    2.181513  \n20   1.795911  \n24   1.899287  \n21   1.575391  \n8    1.363776  \n15   1.411261  \n11   1.301915  \n1    1.370336  ",
            "text/html": "<div>\n<style scoped>\n    .dataframe tbody tr th:only-of-type {\n        vertical-align: middle;\n    }\n\n    .dataframe tbody tr th {\n        vertical-align: top;\n    }\n\n    .dataframe thead th {\n        text-align: right;\n    }\n</style>\n<table border=\"1\" class=\"dataframe\">\n  <thead>\n    <tr style=\"text-align: right;\">\n      <th></th>\n      <th>pays</th>\n      <th>capitale</th>\n      <th>population</th>\n      <th>date d'adhésion</th>\n      <th>sièges</th>\n      <th>poids</th>\n    </tr>\n  </thead>\n  <tbody>\n    <tr>\n      <th>19</th>\n      <td>malte</td>\n      <td>la valette</td>\n      <td>434403</td>\n      <td>2004-01-01</td>\n      <td>6</td>\n      <td>16.198887</td>\n    </tr>\n    <tr>\n      <th>18</th>\n      <td>luxembourg</td>\n      <td>luxembourg</td>\n      <td>576249</td>\n      <td>1957-01-01</td>\n      <td>6</td>\n      <td>12.211466</td>\n    </tr>\n    <tr>\n      <th>5</th>\n      <td>chypre</td>\n      <td>nicosie</td>\n      <td>848319</td>\n      <td>2004-01-01</td>\n      <td>6</td>\n      <td>8.295046</td>\n    </tr>\n    <tr>\n      <th>9</th>\n      <td>estonie</td>\n      <td>tallinn</td>\n      <td>1315944</td>\n      <td>2004-01-01</td>\n      <td>6</td>\n      <td>5.347374</td>\n    </tr>\n    <tr>\n      <th>16</th>\n      <td>lettonie</td>\n      <td>riga</td>\n      <td>1968957</td>\n      <td>2004-01-01</td>\n      <td>8</td>\n      <td>4.765193</td>\n    </tr>\n    <tr>\n      <th>26</th>\n      <td>slovénie</td>\n      <td>ljubljana</td>\n      <td>2064188</td>\n      <td>2004-01-01</td>\n      <td>8</td>\n      <td>4.545352</td>\n    </tr>\n    <tr>\n      <th>17</th>\n      <td>lituanie</td>\n      <td>vilnius</td>\n      <td>2888558</td>\n      <td>2004-01-01</td>\n      <td>11</td>\n      <td>4.466202</td>\n    </tr>\n    <tr>\n      <th>6</th>\n      <td>croatie</td>\n      <td>zagreb</td>\n      <td>4190669</td>\n      <td>2013-01-01</td>\n      <td>11</td>\n      <td>3.078478</td>\n    </tr>\n    <tr>\n      <th>14</th>\n      <td>irlande</td>\n      <td>dublin</td>\n      <td>4658530</td>\n      <td>1973-01-01</td>\n      <td>11</td>\n      <td>2.769303</td>\n    </tr>\n    <tr>\n      <th>10</th>\n      <td>finlande</td>\n      <td>helsinki</td>\n      <td>5401267</td>\n      <td>1995-01-01</td>\n      <td>13</td>\n      <td>2.822763</td>\n    </tr>\n    <tr>\n      <th>25</th>\n      <td>slovaquie</td>\n      <td>bratislava</td>\n      <td>5426252</td>\n      <td>2004-01-01</td>\n      <td>13</td>\n      <td>2.809766</td>\n    </tr>\n    <tr>\n      <th>7</th>\n      <td>danemark</td>\n      <td>copenhague</td>\n      <td>5659715</td>\n      <td>1973-01-01</td>\n      <td>13</td>\n      <td>2.693863</td>\n    </tr>\n    <tr>\n      <th>4</th>\n      <td>bulgarie</td>\n      <td>sofia</td>\n      <td>7153784</td>\n      <td>2007-01-01</td>\n      <td>17</td>\n      <td>2.787018</td>\n    </tr>\n    <tr>\n      <th>2</th>\n      <td>autriche</td>\n      <td>vienne</td>\n      <td>8700471</td>\n      <td>1995-01-01</td>\n      <td>18</td>\n      <td>2.426367</td>\n    </tr>\n    <tr>\n      <th>27</th>\n      <td>suède</td>\n      <td>stockholm</td>\n      <td>9851017</td>\n      <td>1995-01-01</td>\n      <td>20</td>\n      <td>2.381089</td>\n    </tr>\n    <tr>\n      <th>13</th>\n      <td>hongrie</td>\n      <td>budapest</td>\n      <td>9830485</td>\n      <td>2004-01-01</td>\n      <td>21</td>\n      <td>2.505365</td>\n    </tr>\n    <tr>\n      <th>22</th>\n      <td>portugal</td>\n      <td>lisbonne</td>\n      <td>10341330</td>\n      <td>1986-01-01</td>\n      <td>21</td>\n      <td>2.381604</td>\n    </tr>\n    <tr>\n      <th>23</th>\n      <td>république tchèque</td>\n      <td>prague</td>\n      <td>10553853</td>\n      <td>2004-01-01</td>\n      <td>21</td>\n      <td>2.333646</td>\n    </tr>\n    <tr>\n      <th>12</th>\n      <td>grèce</td>\n      <td>athènes</td>\n      <td>10793526</td>\n      <td>1981-01-01</td>\n      <td>21</td>\n      <td>2.281827</td>\n    </tr>\n    <tr>\n      <th>3</th>\n      <td>belgique</td>\n      <td>bruxelles</td>\n      <td>11289853</td>\n      <td>1957-01-01</td>\n      <td>21</td>\n      <td>2.181513</td>\n    </tr>\n    <tr>\n      <th>20</th>\n      <td>pays-bas</td>\n      <td>amsterdam</td>\n      <td>16979120</td>\n      <td>1957-01-01</td>\n      <td>26</td>\n      <td>1.795911</td>\n    </tr>\n    <tr>\n      <th>24</th>\n      <td>roumanie</td>\n      <td>bucarest</td>\n      <td>19759968</td>\n      <td>2007-01-01</td>\n      <td>32</td>\n      <td>1.899287</td>\n    </tr>\n    <tr>\n      <th>21</th>\n      <td>pologne</td>\n      <td>varsovie</td>\n      <td>37967209</td>\n      <td>2004-01-01</td>\n      <td>51</td>\n      <td>1.575391</td>\n    </tr>\n    <tr>\n      <th>8</th>\n      <td>espagne</td>\n      <td>madrid</td>\n      <td>46438422</td>\n      <td>1986-01-01</td>\n      <td>54</td>\n      <td>1.363776</td>\n    </tr>\n    <tr>\n      <th>15</th>\n      <td>italie</td>\n      <td>rome</td>\n      <td>60665551</td>\n      <td>1957-01-01</td>\n      <td>73</td>\n      <td>1.411261</td>\n    </tr>\n    <tr>\n      <th>11</th>\n      <td>france</td>\n      <td>paris</td>\n      <td>66661621</td>\n      <td>1957-01-01</td>\n      <td>74</td>\n      <td>1.301915</td>\n    </tr>\n    <tr>\n      <th>1</th>\n      <td>allemagne</td>\n      <td>berlin</td>\n      <td>82162000</td>\n      <td>1957-01-01</td>\n      <td>96</td>\n      <td>1.370336</td>\n    </tr>\n  </tbody>\n</table>\n</div>"
          },
          "metadata": {}
        }
      ]
    },
    {
      "cell_type": "markdown",
      "source": "## Sauvegarder un DataFrame\nIl est possible de sauver un objet DataFrame sous la forme d'un [fichier csv](https://fr.wikipedia.org/wiki/Comma-separated_values). C'est un format pratique qui peut être lu par la plupart des tableurs comme LibreOffice Calc ou Microsoft Excel. Il faut utiliser la métode `.to_csv()` :",
      "metadata": {
        "user_expressions": [],
        "trusted": true
      }
    },
    {
      "cell_type": "code",
      "source": "df_europe.to_csv(\"europe.csv\")",
      "metadata": {
        "trusted": true
      },
      "execution_count": null,
      "outputs": []
    },
    {
      "cell_type": "markdown",
      "source": "Cette méthode crée un fichier nommé *data.csv* dans le répertoire de travail (allez vérifier !), avec le contenu du DataFrame :\n\n```\n,pays,capitale,population,date d'adhésion,sièges,poids\n1,allemagne,berlin,82162000,1957-01-01,96,1.3703356988657123\n2,autriche,vienne,8700471,1995-01-01,18,2.4263669538020842\n3,belgique,bruxelles,11289853,1957-01-01,21,2.1815127149779783\n4,bulgarie,sofia,7153784,2007-01-01,17,2.7870184226008328\n5,chypre,nicosie,848319,2004-01-01,6,8.295045974023676\n6,croatie,zagreb,4190669,2013-01-01,11,3.078478088741746\n7,danemark,copenhague,5659715,1973-01-01,13,2.6938631589897866\n8,espagne,madrid,46438422,1986-01-01,54,1.363776011827881\n9,estonie,tallinn,1315944,2004-01-01,6,5.347374284648732\n10,finlande,helsinki,5401267,1995-01-01,13,2.822763201464005\n11,france,paris,66661621,1957-01-01,74,1.301914879970682\n12,grèce,athènes,10793526,1981-01-01,21,2.28182689046492\n13,hongrie,budapest,9830485,2004-01-01,21,2.5053654900782893\n14,irlande,dublin,4658530,1973-01-01,11,2.7693033411117423\n15,italie,rome,60665551,1957-01-01,73,1.4112613727889787\n16,lettonie,riga,1968957,2004-01-01,8,4.765193013788716\n17,lituanie,vilnius,2888558,2004-01-01,11,4.466201715066578\n18,luxembourg,luxembourg,576249,1957-01-01,6,12.211466060050068\n19,malte,la valette,434403,2004-01-01,6,16.198886991198936\n20,pays-bas,amsterdam,16979120,1957-01-01,26,1.7959114169499812\n21,pologne,varsovie,37967209,2004-01-01,51,1.5753905797479404\n22,portugal,lisbonne,10341330,1986-01-01,21,2.381604481215885\n23,république tchèque,prague,10553853,2004-01-01,21,2.3336460977552242\n24,roumanie,bucarest,19759968,2007-01-01,32,1.8992865050895604\n25,slovaquie,bratislava,5426252,2004-01-01,13,2.8097658805528902\n26,slovénie,ljubljana,2064188,2004-01-01,8,4.545351557537583\n27,suède,stockholm,9851017,1995-01-01,20,2.381089216689604\n```",
      "metadata": {
        "user_expressions": [],
        "trusted": true
      }
    },
    {
      "cell_type": "markdown",
      "source": "## Lire un fichier\nIl est alors possible, plus tard, de charger le contenu du fichier csv avec la méthode `.read_csv()` :",
      "metadata": {
        "user_expressions": [],
        "trusted": true
      }
    },
    {
      "cell_type": "code",
      "source": "df_europe_from_csv = pd.read_csv(\"europe.csv\", index_col = 0, encoding = 'utf-8')",
      "metadata": {
        "trusted": true
      },
      "execution_count": null,
      "outputs": []
    },
    {
      "cell_type": "markdown",
      "source": "L'option `encoding` peut être nécessaire sur certains ordinateurs, pas sur d'autres. \nLe format csv est un format très pratique de fichier pour les tableaux. Cependant, Pandas sauvegarde et lit également de nombreux autres formats, tel le classique fichier excel grâce à `.to_excel()` et `.read_excel()`.",
      "metadata": {
        "user_expressions": [],
        "trusted": true
      }
    },
    {
      "cell_type": "markdown",
      "source": "Un problème de sauvegarder en csv est que si une des colonnes contient des objets python, il peuvent être convertis en un autre type au moment de l'écriture et de la lecture. Dans l'exemple ci-dessus, la colonne `date d'adhésion` n'est plus un objet `datetime64` au moment de la lecture : il a été converti en objet `str`. ",
      "metadata": {
        "user_expressions": [],
        "trusted": true
      }
    },
    {
      "cell_type": "code",
      "source": "A = df_europe_from_csv[\"date d'adhésion\"][1]\nprint(A)\nprint(type(A))",
      "metadata": {
        "tags": [],
        "trusted": true
      },
      "execution_count": null,
      "outputs": [
        {
          "name": "stdout",
          "text": "1957-01-01\n<class 'str'>\n",
          "output_type": "stream"
        }
      ]
    },
    {
      "cell_type": "markdown",
      "source": "Une façon de garder toutes les propriétés des objets python est de les sauver dans un format que l'on appelle *pickle* :",
      "metadata": {
        "user_expressions": [],
        "trusted": true
      }
    },
    {
      "cell_type": "code",
      "source": "# Sauvegarde d'un DataFrame dans un fichier pickle\ndf_europe.to_pickle('europe.pkl')\n\n# Lecture du fichier pickle\ndf_europe_from_pickle = pd.read_pickle('./europe.pkl')",
      "metadata": {
        "trusted": true
      },
      "execution_count": null,
      "outputs": []
    },
    {
      "cell_type": "markdown",
      "source": "On voit alors que les dates sont restées des objets `datetime64` :",
      "metadata": {
        "user_expressions": [],
        "trusted": true
      }
    },
    {
      "cell_type": "code",
      "source": "df_europe_from_pickle[\"date d'adhésion\"].head(n = 2)",
      "metadata": {
        "tags": [],
        "trusted": true
      },
      "execution_count": null,
      "outputs": [
        {
          "execution_count": 49,
          "output_type": "execute_result",
          "data": {
            "text/plain": "1   1957-01-01\n2   1995-01-01\nName: date d'adhésion, dtype: datetime64[ns]"
          },
          "metadata": {}
        }
      ]
    },
    {
      "cell_type": "markdown",
      "source": "## Bibliographie du cours\nCe chapitre est enièrement repris du cours [Modélisation Numérique en Physique](https://phys-mod.github.io/source/intro.html) (L2 Physique, Sorbonne Université) par P. Delva. ",
      "metadata": {
        "tags": [],
        "user_expressions": [],
        "trusted": true
      }
    }
  ]
}

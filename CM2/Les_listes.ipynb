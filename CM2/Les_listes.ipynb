{
 "cells": [
  {
   "cell_type": "markdown",
   "id": "32b1b11a-306c-41c7-b746-efb0e93f637c",
   "metadata": {
    "tags": [],
    "user_expressions": []
   },
   "source": [
    "# Les listes\n",
    "Temps approximatif 60min\n",
    "```{admonition} Objectifs\n",
    ":class: hint\n",
    "A l'issue de ce chapitre, vous serez capable de : \n",
    "- créer une liste Python vide ou contenant des éléments parmi `str`, `int`, `float`, `bool`, `list`.\n",
    "- accéder à un élément d'une liste Python par son indice positif et négatif.\n",
    "- accéder à une tranche d'éléments d'une liste Python grâce au symbole `:`.\n",
    "- accéder à la longueur d'une liste avec la fonction `len()`.\n",
    "- identifier d'ou provient une erreur de type `IndexError: list index out of range`.\n",
    "- remplacer des éléments dans une liste.\n",
    "- insérer des éléments dans une liste avec `append` ou `insert`.\n",
    "- supprimer des éléments d’une liste avec `del` ou `remove`.\n",
    "- concaténer des listes avec `extend`.\n",
    "```\n"
   ]
  },
  {
   "cell_type": "markdown",
   "id": "70e54d6b-953d-432d-8ce8-b166cfe4b53a",
   "metadata": {
    "tags": []
   },
   "source": [
    "## Créer des listes\n",
    "Nous avons vu, lors du cours précédent, plusieurs types d'objets : les entiers,`int`, les nombres à virgule `float`, les chaînes de caractères `str` et les booléens `bool`. Nous allons maintenant découvrir un nouveau type un peu plus complexe: les listes. Les listes sont des objets qui contiennent d'autres objets, que l'on appelle aussi éléments de la liste.\n",
    "\n",
    "Il existe un moyen simple de créer une liste en utilisant des crochets:"
   ]
  },
  {
   "cell_type": "code",
   "execution_count": 34,
   "id": "aa96232d-d4b4-48e6-be82-6cd727934144",
   "metadata": {},
   "outputs": [
    {
     "name": "stdout",
     "output_type": "stream",
     "text": [
      "[]\n"
     ]
    }
   ],
   "source": [
    "liste_vide = []\n",
    "print(liste_vide)"
   ]
  },
  {
   "cell_type": "markdown",
   "id": "add0ad10-aaa5-4e00-b8d4-0ccce8c9b927",
   "metadata": {
    "tags": []
   },
   "source": [
    "Ici on crée une nouvelle variable de type `list`, puis on l'affiche en utilisant `print`. Comme on ne lui a rien indiqué d'autre, la liste est vide. \n"
   ]
  },
  {
   "cell_type": "markdown",
   "id": "93c87ad3-ed43-4f05-9712-da8c0d8a78eb",
   "metadata": {
    "user_expressions": []
   },
   "source": [
    "```{admonition} À vous de jouer\n",
    ":class: seealso\n",
    "Essayez à votre tour de créer une liste vide nommée `liste_vide2`.\n",
    "```"
   ]
  },
  {
   "cell_type": "markdown",
   "id": "f0f1587c-be28-462b-bfab-dde7749a96bb",
   "metadata": {},
   "source": [
    "L'intérêt d'une liste est de pouvoir y mettre des objets, c'est à dire des variables créées précédemment ou des expressions. On peut créer directement une liste avec des éléments dedans. Pour cela, nous allons reprendre la notation entre crochets et lui indiquer quels éléments on veut mettre dans notre liste. Voici un exemple avec 5 entiers:\n"
   ]
  },
  {
   "cell_type": "code",
   "execution_count": 35,
   "id": "06d05691-5a91-4f50-9d6e-e52a32b8ebfd",
   "metadata": {},
   "outputs": [
    {
     "name": "stdout",
     "output_type": "stream",
     "text": [
      "[1, 2, 3, 4, 5]\n"
     ]
    }
   ],
   "source": [
    "liste1 = [1, 2, 3, 4, 5] \n",
    "print(liste1)"
   ]
  },
  {
   "cell_type": "markdown",
   "id": "3a0e45ff-ff95-401a-9853-202cc46f64f1",
   "metadata": {},
   "source": [
    "Une liste est une séquence d'éléments. Plus haut, nous avons créé une première liste contenant 0 éléments, puis ici une seconde contenant 5 élements. C'est à vous de décider du contenu de la liste et de l'ordre des éléments. En effet, la liste est un objet ordonné, l'ordre dans lequel on met les éléments compte ! L'exemple ci-dessous montre une autre liste contenant les mêmes éléments mais dans un ordre différent :\n"
   ]
  },
  {
   "cell_type": "code",
   "execution_count": 36,
   "id": "24ff2343-395f-438e-aeb5-dc07c2c4cfb1",
   "metadata": {},
   "outputs": [
    {
     "name": "stdout",
     "output_type": "stream",
     "text": [
      "[5, 2, 4, 3, 1]\n"
     ]
    }
   ],
   "source": [
    "liste2 = [5, 2, 4, 3, 1]\n",
    "print(liste2)"
   ]
  },
  {
   "cell_type": "markdown",
   "id": "e03c8187-20da-4f43-b0f0-b1114500ba65",
   "metadata": {},
   "source": [
    "ou encore avec des chaînes de caractères"
   ]
  },
  {
   "cell_type": "code",
   "execution_count": 37,
   "id": "3f5217de-afdd-4c9d-86b3-205c6463c070",
   "metadata": {},
   "outputs": [
    {
     "name": "stdout",
     "output_type": "stream",
     "text": [
      "['Hello', 'world', '!']\n"
     ]
    }
   ],
   "source": [
    "liste3 = ['Hello', 'world','!'] # liste de str\n",
    "print(liste3)"
   ]
  },
  {
   "cell_type": "markdown",
   "id": "c40594f9-7552-4b24-a187-95083e586dbd",
   "metadata": {},
   "source": [
    "Nous avons vu que les listes peuvent contenir de nombreux types d'objets: entiers, flottants, chaines de caractères, etc. Il est également possible de mixer les types. Une liste peut par exemple contenir des chaînes de caractères ET des entiers. "
   ]
  },
  {
   "cell_type": "code",
   "execution_count": 38,
   "id": "853c07bf-85be-475a-88ca-80e70e757d70",
   "metadata": {},
   "outputs": [
    {
     "name": "stdout",
     "output_type": "stream",
     "text": [
      "['python', 2, 2, 2, 2, 4.51, []]\n"
     ]
    }
   ],
   "source": [
    "liste4 = ['python', 2, 2, 2, 2, 4.51, []]  # liste contenant 4 types d'objets\n",
    "print(liste4)"
   ]
  },
  {
   "cell_type": "markdown",
   "id": "6f24033e-780e-4f0f-9071-fda20c03bc2d",
   "metadata": {},
   "source": [
    "Nous avons créé ici une liste contenant quatre types d'objets différents : un entier, un flottant, une chaîne de caractères et… une autre liste."
   ]
  },
  {
   "cell_type": "markdown",
   "id": "6e24631c-6974-4db5-b557-47012856bb52",
   "metadata": {},
   "source": [
    "Enfin, il est possible d'utiliser les valeurs contenues dans des variables précédemment créées, comme élément de liste."
   ]
  },
  {
   "cell_type": "code",
   "execution_count": 39,
   "id": "0c6c2ca9-f611-408e-8b3f-74200a9e4f58",
   "metadata": {},
   "outputs": [
    {
     "name": "stdout",
     "output_type": "stream",
     "text": [
      "[25, 4]\n"
     ]
    }
   ],
   "source": [
    "a = 25\n",
    "b = 4\n",
    "liste5 = [a, b]  # liste contenant deux éléments issus des variables a et b de type int (entiers)\n",
    "print(liste5)"
   ]
  },
  {
   "cell_type": "markdown",
   "id": "5dde3abd-4551-4696-911a-49cf7aa0c5b3",
   "metadata": {
    "tags": [],
    "user_expressions": []
   },
   "source": [
    "```{admonition} À vous de jouer\n",
    ":class: seealso\n",
    "Essayez maintenant de créer une liste nommée `liste6` contenant dans l'ordre toutes les listes crées précédemment (y compris les deux listes vides du début)\n",
    "```"
   ]
  },
  {
   "cell_type": "code",
   "execution_count": 42,
   "id": "e923bfa6-0192-45e4-ba84-939157cd37a1",
   "metadata": {
    "tags": [
     "hide-input"
    ]
   },
   "outputs": [
    {
     "name": "stdout",
     "output_type": "stream",
     "text": [
      "[[], [1, 2, 3, 4, 5], [5, 2, 4, 3, 1], ['Hello', 'world', '!'], ['python', 2, 2, 2, 2, 4.51, []], [25, 4]]\n"
     ]
    }
   ],
   "source": [
    "##SOLUTION\n",
    "liste6 = [liste_vide, liste1, liste2, liste3, liste4, liste5]\n",
    "print(liste6)"
   ]
  },
  {
   "cell_type": "markdown",
   "id": "0f2ca045-dfbe-42c9-83f5-3b384cc639d9",
   "metadata": {
    "tags": []
   },
   "source": [
    "## Accéder a un objet d’une liste\n",
    "Il est souvent nécessaire d'accéder à un élément particulier d'une liste. Pour accéder a un objet, il est possible d'utiliser son indice. Les éléments contenus dans une liste possèdent chacun un indice. Le premier objet de la liste a pour indice 0, le second a pour indice 1, le troisième a pour indice 2, etc. "
   ]
  },
  {
   "cell_type": "markdown",
   "id": "6c038ee6-2b5a-40df-8ec7-9dd47e6c87b1",
   "metadata": {
    "tags": []
   },
   "source": [
    "```{admonition} ATTENTION\n",
    ":class: danger\n",
    "la numérotation des indices __commançant à 0__ il y a toujours un décalage de 1 entre le numéro de l'élément et son indice (le 5{sup}`ème` élément a pour indice 4).\n",
    "```"
   ]
  },
  {
   "cell_type": "markdown",
   "id": "b7d9ab8e-3ca6-4a92-a09c-398da7392d20",
   "metadata": {
    "tags": []
   },
   "source": [
    "L'indice peut-être utilisé pour accéder à un élément de la liste de la manière suivante:"
   ]
  },
  {
   "cell_type": "code",
   "execution_count": 9,
   "id": "bd521faa-7afd-43da-9074-b35325af3e15",
   "metadata": {},
   "outputs": [
    {
     "data": {
      "text/plain": [
       "'cailloux'"
      ]
     },
     "execution_count": 9,
     "metadata": {},
     "output_type": "execute_result"
    }
   ],
   "source": [
    "ma_liste = [\"cailloux\",\"graviers\",\"sables\",\"limons\",\"argiles\"]\n",
    "ma_liste[0] # On accède au premier élément de la liste"
   ]
  },
  {
   "cell_type": "markdown",
   "id": "5fcaf13f-c47c-4585-a7b8-6ac83000ae7c",
   "metadata": {
    "tags": []
   },
   "source": [
    "La variable `ma_liste` possède 5 éléments associés à 5 indices:\n",
    "\n",
    "| Elément   | Indice |\n",
    "| ----------|----|\n",
    "| cailloux  | 0  |   \n",
    "| graviers  | 1  |   \n",
    "| sables    | 2  |   \n",
    "| limons    | 3  | \n",
    "| argiles   | 4  |\n",
    "\n"
   ]
  },
  {
   "cell_type": "markdown",
   "id": "b82d506b-9e76-4de5-bc78-842ae6267fe1",
   "metadata": {
    "tags": []
   },
   "source": [
    "```{admonition} Attention\n",
    ":class: warning\n",
    "Attention à ne pas confondre éléments et indice quand les objets sont des entiers.\n",
    "```"
   ]
  },
  {
   "cell_type": "markdown",
   "id": "5037dbd8-fd9a-49c5-94be-8e576b5fcaaa",
   "metadata": {},
   "source": [
    "On peut également accéder à un élément via une expression:"
   ]
  },
  {
   "cell_type": "code",
   "execution_count": 10,
   "id": "48ae4782-315f-45b7-9450-b7333d79a45a",
   "metadata": {},
   "outputs": [
    {
     "data": {
      "text/plain": [
       "'sables'"
      ]
     },
     "execution_count": 10,
     "metadata": {},
     "output_type": "execute_result"
    }
   ],
   "source": [
    "i = 1\n",
    "ma_liste[i + 1] # On accède au troisième élément de la liste avec une expression"
   ]
  },
  {
   "cell_type": "markdown",
   "id": "7f846860-9ca1-4ed2-a251-f95417ed4564",
   "metadata": {},
   "source": [
    "Pour accéder au dernier élément de n'importe quelle liste, on peut utiliser l'indice -1. C'est assez pratique quand on ne connait pas la taille de la liste que l'on manipule:"
   ]
  },
  {
   "cell_type": "code",
   "execution_count": 11,
   "id": "4bd2b433-7e58-49ec-a217-ae4325bbccce",
   "metadata": {},
   "outputs": [
    {
     "data": {
      "text/plain": [
       "'argiles'"
      ]
     },
     "execution_count": 11,
     "metadata": {},
     "output_type": "execute_result"
    }
   ],
   "source": [
    "ma_liste[-1]  # dernier élément"
   ]
  },
  {
   "cell_type": "markdown",
   "id": "6030463a-6985-4202-b6e8-f12752e86e40",
   "metadata": {
    "tags": []
   },
   "source": [
    "Plus généralement, on peut accéder à n'importe quel élément via un indice négatif. Ceux-ci s'écoulent en sens inverse, à partir de la fin de la liste : \n",
    "\n",
    "| Objet | Indice positif | Indice négatif |\n",
    "| --------- | -- | -- |\n",
    "| cailloux  | 0  |-5  |      \n",
    "| graviers  | 1  |-4  |      \n",
    "| sables    | 2  |-3  |      \n",
    "| limons    | 3  |-2  |      \n",
    "| argiles | 4 | -1 |"
   ]
  },
  {
   "cell_type": "markdown",
   "id": "8f20fd93-375a-4c87-a37a-8eb67b9ae261",
   "metadata": {},
   "source": [
    "Analysons maintenant la ligne suivante :"
   ]
  },
  {
   "cell_type": "code",
   "execution_count": 14,
   "id": "9f63d46a-eb0e-47d5-9874-eb82f8358836",
   "metadata": {
    "tags": [
     "raises-exception"
    ]
   },
   "outputs": [
    {
     "ename": "IndexError",
     "evalue": "list index out of range",
     "output_type": "error",
     "traceback": [
      "\u001b[0;31m---------------------------------------------------------------------------\u001b[0m",
      "\u001b[0;31mIndexError\u001b[0m                                Traceback (most recent call last)",
      "\u001b[0;32m/tmp/ipykernel_9981/901313231.py\u001b[0m in \u001b[0;36m<module>\u001b[0;34m\u001b[0m\n\u001b[0;32m----> 1\u001b[0;31m \u001b[0mma_liste\u001b[0m\u001b[0;34m[\u001b[0m\u001b[0;36m5\u001b[0m\u001b[0;34m]\u001b[0m\u001b[0;34m\u001b[0m\u001b[0;34m\u001b[0m\u001b[0m\n\u001b[0m",
      "\u001b[0;31mIndexError\u001b[0m: list index out of range"
     ]
    }
   ],
   "source": [
    "ma_liste[5] "
   ]
  },
  {
   "cell_type": "markdown",
   "id": "31a347aa-6505-4e6d-b3c2-c2720f673200",
   "metadata": {
    "tags": []
   },
   "source": [
    "Celle-ci renvoie une erreur. `IndexError` indique un problème de manipulation d'indices de listes. Le détail de l'erreur est donné à la fin : `list index out of range` (que l'on pourrait traduire par : _indice en dehors de l'intervalle_). En l'occurence, on veut accéder au 6{sup}`ème` élément de ma_liste alors que celle-ci n'en contient que 5. \n",
    "Remarquez que le message pointe également vers la ligne ou l'erreur a été détectée : `----> 1 ma_liste[5]` ; le numéro juste après la flèche indique que le numéro de la ligne où se situe l'erreur (ici l'erreur est sur la première ligne). Ceci va se révéler très utile lorsque votre code va devenir plus long."
   ]
  },
  {
   "cell_type": "markdown",
   "id": "9f23fbf1-90d7-4c9d-bd97-322fbc58ccdc",
   "metadata": {
    "tags": [],
    "user_expressions": []
   },
   "source": [
    "```{admonition} À vous de jouer\n",
    ":class: seealso\n",
    "Essayez maintenant d'accédez à l'entier `2` contenu dans la liste ci-dessous par son indice.\n",
    "```"
   ]
  },
  {
   "cell_type": "code",
   "execution_count": 15,
   "id": "fea32086-4476-4a27-aea8-3daaea6eaa03",
   "metadata": {
    "tags": []
   },
   "outputs": [],
   "source": [
    "int_liste = [6,2,-1]"
   ]
  },
  {
   "cell_type": "code",
   "execution_count": 43,
   "id": "28e59f3f-cbda-4359-b846-f9a9aa4cd182",
   "metadata": {
    "tags": [
     "hide-input"
    ]
   },
   "outputs": [
    {
     "data": {
      "text/plain": [
       "2"
      ]
     },
     "execution_count": 43,
     "metadata": {},
     "output_type": "execute_result"
    }
   ],
   "source": [
    "##SOLUTION\n",
    "int_liste[1]"
   ]
  },
  {
   "cell_type": "markdown",
   "id": "3489d327-b558-4c76-8964-211814156bab",
   "metadata": {
    "tags": []
   },
   "source": [
    "## Accéder a une tranche d'objets\n",
    "\n",
    "Enfin, il est également possible d'accéder à plusieurs éléments d'un seul coup, en spécifiant une portion de la liste grâce aux `:`."
   ]
  },
  {
   "cell_type": "code",
   "execution_count": 16,
   "id": "d1c29313-6b96-4827-9cc9-bf95e90c87bc",
   "metadata": {},
   "outputs": [
    {
     "data": {
      "text/plain": [
       "['cailloux', 'graviers', 'sables', 'limons', 'argiles']"
      ]
     },
     "execution_count": 16,
     "metadata": {},
     "output_type": "execute_result"
    }
   ],
   "source": [
    "ma_liste[:] # tout, équivalent à \"ma_liste\""
   ]
  },
  {
   "cell_type": "code",
   "execution_count": 17,
   "id": "321589db-add3-4bb4-b067-89ea049fc29c",
   "metadata": {},
   "outputs": [
    {
     "data": {
      "text/plain": [
       "['cailloux', 'graviers']"
      ]
     },
     "execution_count": 17,
     "metadata": {},
     "output_type": "execute_result"
    }
   ],
   "source": [
    "ma_liste[:2] # tout jusqu’à l’indice 2 (exclu)"
   ]
  },
  {
   "cell_type": "code",
   "execution_count": 18,
   "id": "b7e929fa-3a24-4417-94c6-ed38bda8d6e2",
   "metadata": {},
   "outputs": [
    {
     "data": {
      "text/plain": [
       "['sables', 'limons', 'argiles']"
      ]
     },
     "execution_count": 18,
     "metadata": {},
     "output_type": "execute_result"
    }
   ],
   "source": [
    "ma_liste[2:] # tout à partir de l’indice 2 (inclus)"
   ]
  },
  {
   "cell_type": "code",
   "execution_count": 19,
   "id": "6d43cdef-dc5a-4dc8-afcc-4fc7136f511d",
   "metadata": {},
   "outputs": [
    {
     "data": {
      "text/plain": [
       "['graviers', 'sables']"
      ]
     },
     "execution_count": 19,
     "metadata": {},
     "output_type": "execute_result"
    }
   ],
   "source": [
    "ma_liste[1:3] # tout à partir de l’indice 1 (inclus) jusqu’à l’indice 3 (exclu)"
   ]
  },
  {
   "cell_type": "code",
   "execution_count": 20,
   "id": "edef8d9a-d070-4802-a0f4-60d69957ed83",
   "metadata": {},
   "outputs": [
    {
     "data": {
      "text/plain": [
       "['graviers', 'limons']"
      ]
     },
     "execution_count": 20,
     "metadata": {},
     "output_type": "execute_result"
    }
   ],
   "source": [
    "ma_liste[1:5:2] # un élément sur 2 à partir de l’indice 1 (inclus) jusqu’à l’indice 5 (exclu). Le pas est 2"
   ]
  },
  {
   "cell_type": "code",
   "execution_count": 21,
   "id": "def1eacb-34e6-4148-9dd1-234f2b9f38df",
   "metadata": {},
   "outputs": [
    {
     "data": {
      "text/plain": [
       "['argiles', 'limons', 'sables']"
      ]
     },
     "execution_count": 21,
     "metadata": {},
     "output_type": "execute_result"
    }
   ],
   "source": [
    "ma_liste[5:1:-1] # tout à l'envers à partir de l’indice 5 (inclus) jusqu’à l’indice 1 (exclu). Le pas est -1"
   ]
  },
  {
   "cell_type": "markdown",
   "id": "fa353ca5-b948-46b0-99b3-126cc09138cf",
   "metadata": {
    "tags": [],
    "user_expressions": []
   },
   "source": [
    "```{admonition} En résumé\n",
    ":class: tip\n",
    "La syntaxe pour accéder à des éléments d'une liste à l'aide de la notation `:` est :<br>\n",
    "` nom_de_la_liste[ indice_debut : indice_fin : pas ] `<br>\n",
    "où l'__indice de fin est exclu__ et où le pas (et le 2ème `:`) est optionnel (1 par défaut).\n",
    "```"
   ]
  },
  {
   "cell_type": "markdown",
   "id": "dfc95031-ec3d-4f9e-bb7b-22ca93f58947",
   "metadata": {
    "tags": [],
    "user_expressions": []
   },
   "source": [
    "```{admonition} À vous de jouer\n",
    ":class: seealso\n",
    "Créez une liste appelée `pair` contenant tous les entiers pairs de 2 à 10. Puis, en utilisant `:`, extrayez les entiers 4, 6 et 8.\n",
    "```"
   ]
  },
  {
   "cell_type": "code",
   "execution_count": 44,
   "id": "721d6005-e4ed-40fb-8a29-806dc8ae9267",
   "metadata": {
    "tags": [
     "hide-input"
    ]
   },
   "outputs": [
    {
     "data": {
      "text/plain": [
       "[4, 6, 8]"
      ]
     },
     "execution_count": 44,
     "metadata": {},
     "output_type": "execute_result"
    }
   ],
   "source": [
    "##SOLUTION\n",
    "pair = [2,4,6,8,10]\n",
    "pair[1:4]"
   ]
  },
  {
   "cell_type": "markdown",
   "id": "65a6aaa0-3f54-4b86-adbc-8cf2aaaa1f20",
   "metadata": {
    "tags": []
   },
   "source": [
    "## Remplacer des éléments dans une liste\n",
    "On peut affecter une nouvelle valeur à des éléments de la liste:"
   ]
  },
  {
   "cell_type": "code",
   "execution_count": 22,
   "id": "86c160eb-30d8-4b56-88e0-c190e43019e3",
   "metadata": {},
   "outputs": [
    {
     "name": "stdout",
     "output_type": "stream",
     "text": [
      "['cailloux', 'graviers', 'granulés', 'limons', 'argiles']\n"
     ]
    }
   ],
   "source": [
    "ma_liste[2] = \"granulés\"\n",
    "print(ma_liste)"
   ]
  },
  {
   "cell_type": "markdown",
   "id": "51368609-656a-4f26-9512-5963326d1df2",
   "metadata": {
    "tags": []
   },
   "source": [
    "```{admonition} Remarque\n",
    ":class: note\n",
    "Une liste n’est donc pas un objet figé, on peut modifier, supprimer, réorganiser les éléments qu’elle contient. On dit alors que la liste est un type d’objet __mutable__ (pour modifiable).\n",
    "```"
   ]
  },
  {
   "cell_type": "markdown",
   "id": "871ead42-2b78-4cb6-83b2-90d7aa850ad5",
   "metadata": {},
   "source": [
    "On peut aussi remplacer plusieurs éléments en une seule affectation. Dans ce cas, les nouvelles valeurs des éléments qui vont être remplacés sont spécifiées dans une liste. "
   ]
  },
  {
   "cell_type": "code",
   "execution_count": 23,
   "id": "c97f0de7-1cef-461c-88bb-0adab0ee8ab5",
   "metadata": {},
   "outputs": [
    {
     "name": "stdout",
     "output_type": "stream",
     "text": [
      "['cailloux', 'graviers', 'verres', 'boues', 'argiles']\n"
     ]
    }
   ],
   "source": [
    "ma_liste[2:4] = [\"verres\",\"boues\"]\n",
    "print(ma_liste)"
   ]
  },
  {
   "cell_type": "markdown",
   "id": "c076f2bf-3a0b-414e-8b80-cf077ac643de",
   "metadata": {
    "tags": []
   },
   "source": [
    "```{admonition} Attention\n",
    ":class: warning\n",
    "Nous vous conseillons __très fortement__ de faire en sorte que la liste contenant les nouvelles valeurs soit composée d'autant d'éléments que le nombre d'éléments à modifier, indiqué par la notation `:` (comme dans l'exemple ci-dessus). Il n'y a pas de contrôle par Python et le résultat n'est pas forcément très facile à comprendre (comme dans les exemples ci-dessous).\n",
    "```\n"
   ]
  },
  {
   "cell_type": "markdown",
   "id": "65031c76-d77b-46a6-b298-47fb6010dce8",
   "metadata": {
    "tags": []
   },
   "source": [
    "Exemples de comportements difficiles à comprendre :"
   ]
  },
  {
   "cell_type": "code",
   "execution_count": 24,
   "id": "d04adef8-2b46-4de2-adbb-dc9be7dbf853",
   "metadata": {},
   "outputs": [
    {
     "name": "stdout",
     "output_type": "stream",
     "text": [
      "[1.1, 2.2, 3.3, 4.4, 5.5, 6.6]\n",
      "[1.1, 7.7, 8.8, 9.9, 0.0, 4.4, 5.5, 6.6]\n"
     ]
    }
   ],
   "source": [
    "liste_exemple = [1.1, 2.2, 3.3, 4.4, 5.5, 6.6]\n",
    "print(liste_exemple)\n",
    "liste_exemple[1:3] = [7.7, 8.8, 9.9, 0.0] # les éléments d'indices 1 et 2 (2ème et 3ème éléments) sont remplacés par 4 éléments (7.7 ... 0.0)\n",
    "print(liste_exemple)"
   ]
  },
  {
   "cell_type": "code",
   "execution_count": 25,
   "id": "d797bf50-6d5b-4389-8546-d5fdb6da3f78",
   "metadata": {},
   "outputs": [
    {
     "name": "stdout",
     "output_type": "stream",
     "text": [
      "[1.1, 2.2, 3.3, 4.4, 5.5, 6.6]\n",
      "[1.1, 7.7, 8.8, 5.5, 6.6]\n"
     ]
    }
   ],
   "source": [
    "liste_exemple = [1.1, 2.2, 3.3, 4.4, 5.5, 6.6]\n",
    "print(liste_exemple)\n",
    "liste_exemple[1:4] = [7.7, 8.8]  # les éléments d'indices 1, 2 et 3 (2ème, 3ème et 4ème éléments) sont remplacés par 2 éléments (7.7 et 8.8)\n",
    "print(liste_exemple)"
   ]
  },
  {
   "cell_type": "markdown",
   "id": "8814d895-2fd1-496e-ad4d-6a5be05ac9bb",
   "metadata": {
    "tags": []
   },
   "source": [
    "## Insérer des éléments dans une liste\n",
    "### Insérer un élément à la fin d'une liste\n",
    "Il est possible d'ajouter un nouvel élément à la fin d'une liste grâce à la méthode `append`, spécifique aux objets de type `list`."
   ]
  },
  {
   "cell_type": "markdown",
   "id": "1cdba9a4-e4cf-4b3c-a269-7f78c6c03bc9",
   "metadata": {
    "tags": [],
    "user_expressions": []
   },
   "source": [
    "```{admonition} Remarque\n",
    ":class: note\n",
    "Une méthode est une fonction associée à un type d'objet. On l'utilise grâce à la notation `.` : \\\n",
    "`nom_de_l_objet.nom_de_la_methode(arguments_eventuels)`\\\n",
    "Vous trouverez la description de toutes les méthodes associées aux listes [ici](https://www.w3schools.com/python/python_lists_methods.asp). \n",
    "Dans le cas de la méthode `append` que l'on veut appliquer à une liste dont le nom est `ma_liste` on écrit : \\\n",
    "`ma_liste.append(ce_que_l_on_veut_inserer)`\n",
    "```"
   ]
  },
  {
   "cell_type": "code",
   "execution_count": 26,
   "id": "970458e4-0eef-42bb-9dee-8d8f4361028d",
   "metadata": {},
   "outputs": [
    {
     "name": "stdout",
     "output_type": "stream",
     "text": [
      "['cailloux', 'graviers', 'verres', 'boues', 'argiles', 'argiles']\n"
     ]
    }
   ],
   "source": [
    "ma_liste.append(\"argiles\") # la chaîne de caractères \"argiles\" est placée en argument de la méthode append, ce qui l'ajoute à ma_liste\n",
    "print(ma_liste)"
   ]
  },
  {
   "cell_type": "markdown",
   "id": "242008c8-a56e-4d71-b89c-b1ac224bf999",
   "metadata": {
    "tags": [],
    "user_expressions": []
   },
   "source": [
    "```{admonition} Attention\n",
    ":class: warning\n",
    "Les méthodes de listes ne renvoient jamais rien mais modifient l'objet d'origine. En utilisant `append`, vous modifiez directement la liste, mais rien n'est renvoyé. Si on essaye de capturer le résultat dans une nouvelle variable `a` comme ceci: \n",
    "```"
   ]
  },
  {
   "cell_type": "code",
   "execution_count": 27,
   "id": "32a88532-8436-466d-a92b-ee7fb118cc4f",
   "metadata": {},
   "outputs": [
    {
     "name": "stdout",
     "output_type": "stream",
     "text": [
      "None\n",
      "['cailloux', 'graviers', 'verres', 'boues', 'argiles', 'argiles', 'blocs']\n"
     ]
    }
   ],
   "source": [
    "a = ma_liste.append(\"blocs\") # On capture le résultat de la méthode\n",
    "print(a)\n",
    "print(ma_liste)"
   ]
  },
  {
   "cell_type": "markdown",
   "id": "29f12e24-8fbc-4976-b362-1f1959e1cb18",
   "metadata": {
    "tags": []
   },
   "source": [
    "On constate bien que `a` ne contient rien car la méthode `append` ne renvoie rien, par contre elle a bien modifié `ma_liste`."
   ]
  },
  {
   "cell_type": "markdown",
   "id": "c6f2d544-9503-4ced-bd73-644048bfdb25",
   "metadata": {
    "tags": []
   },
   "source": [
    "### Insérer un élément n'importe où dans une liste\n",
    "Nous avons vu que `append` permet d'ajouter un élément à la fin de la liste. La méthode `insert` permet elle d'insérer un élément à un endroit spécifique de la liste, et pas nécessairement à la fin. Cette méthode prend deux arguments, en premier l'indice où le nouvel objet doit être ajouté (les éléments suivants sont décalés et changent donc d'indice), et en second l'objet à ajouter:"
   ]
  },
  {
   "cell_type": "code",
   "execution_count": 28,
   "id": "269c700e-b53c-469a-a2b7-f41aa6380a69",
   "metadata": {},
   "outputs": [
    {
     "name": "stdout",
     "output_type": "stream",
     "text": [
      "['cailloux', 'graviers', 'sables grossiers', 'verres', 'boues', 'argiles', 'argiles', 'blocs']\n"
     ]
    }
   ],
   "source": [
    "ma_liste.insert(2, \"sables grossiers\") \n",
    "print(ma_liste)"
   ]
  },
  {
   "cell_type": "markdown",
   "id": "63846c44-6e18-426d-86d2-182073a73d74",
   "metadata": {
    "tags": []
   },
   "source": [
    "```{admonition} Remarque\n",
    ":class: note\n",
    "Si l'on spécifie un indice supérieur au dernier indice de la liste, l'élément sera inséré en dernière position\n",
    "```"
   ]
  },
  {
   "cell_type": "code",
   "execution_count": 29,
   "id": "bc8068c3-6cb0-451d-bdd3-8411972f6e8f",
   "metadata": {},
   "outputs": [
    {
     "name": "stdout",
     "output_type": "stream",
     "text": [
      "['cailloux', 'graviers', 'sables grossiers', 'verres', 'boues', 'argiles', 'argiles', 'blocs', 'sables fins']\n"
     ]
    }
   ],
   "source": [
    "ma_liste.insert(10, \"sables fins\") \n",
    "print(ma_liste)"
   ]
  },
  {
   "cell_type": "markdown",
   "id": "58e4cb0d-a3f4-4a8d-9dd2-69a98716da04",
   "metadata": {
    "user_expressions": []
   },
   "source": [
    "```{admonition} À vous de jouer\n",
    ":class: seealso\n",
    "Que dois-je écrire si je veux rajouter le nombre 3 à la liste ci-dessous entre le 4 et le 12 en utilisant une méthode de liste?\n",
    "```"
   ]
  },
  {
   "cell_type": "code",
   "execution_count": 1,
   "id": "b5284170-d766-4db8-b067-228040f76291",
   "metadata": {},
   "outputs": [],
   "source": [
    "L = [1, 5, 4, 12]"
   ]
  },
  {
   "cell_type": "code",
   "execution_count": 2,
   "id": "129814b3-ecbf-430b-8618-fa64f3b29c0b",
   "metadata": {
    "tags": [
     "hide-input"
    ]
   },
   "outputs": [
    {
     "name": "stdout",
     "output_type": "stream",
     "text": [
      "[1, 5, 4, 3, 12]\n"
     ]
    }
   ],
   "source": [
    "##SOLUTION\n",
    "L.insert(3, 3) \n",
    "print(L)"
   ]
  },
  {
   "cell_type": "markdown",
   "id": "2e942754-e193-412a-8fb2-795ff96f27d0",
   "metadata": {},
   "source": [
    "## Supprimer des objets d’une liste\n",
    "Il existe plusieurs manières de supprimer des objets dans une liste. Lorsque l'on connaît l'indice de l'objet à supprimer, il est possible d'utiliser `del`:"
   ]
  },
  {
   "cell_type": "code",
   "execution_count": 31,
   "id": "20f7bbc5-2ef4-487a-a2f4-1541fccb13ec",
   "metadata": {},
   "outputs": [
    {
     "name": "stdout",
     "output_type": "stream",
     "text": [
      "['cailloux', 'graviers', 'sables grossiers', 'boues', 'argiles', 'argiles', 'blocs', 'sables fins']\n"
     ]
    }
   ],
   "source": [
    "del(ma_liste[3]) # On supprime le quatrième élément de la liste\n",
    "print(ma_liste)"
   ]
  },
  {
   "cell_type": "markdown",
   "id": "ac3b45a7-5fb9-41ef-9adc-1319f2c222be",
   "metadata": {
    "tags": []
   },
   "source": [
    "Si l'on connaît la valeur de l'élément à supprimer, on peut également utiliser la méthode `remove` (en utilisant la syntaxe avec un `.`). \n",
    "La méthode `remove` supprimera le premier élément qui contient la valeur donné en argument :"
   ]
  },
  {
   "cell_type": "code",
   "execution_count": 32,
   "id": "e271234d-a419-4893-a1d2-36534581223b",
   "metadata": {},
   "outputs": [
    {
     "name": "stdout",
     "output_type": "stream",
     "text": [
      "['cailloux', 'graviers', 'boues', 'argiles', 'argiles', 'blocs', 'sables fins']\n"
     ]
    }
   ],
   "source": [
    "ma_liste.remove(\"sables grossiers\")\n",
    "print(ma_liste)"
   ]
  },
  {
   "cell_type": "markdown",
   "id": "9ce87979-1091-4027-9888-b2beac3e91b1",
   "metadata": {
    "tags": []
   },
   "source": [
    "```{admonition} Remarque\n",
    ":class: note\n",
    "Si la liste ne contient pas d'élément dont la valeur correspond à l'argument donné à la méthode `remove`, une erreur de type `ValueError` sera générée. Le détail de l'erreur est dans ce cas `list.remove(x): x not in list`\n",
    "```"
   ]
  },
  {
   "cell_type": "code",
   "execution_count": 29,
   "id": "e1e5441f-93a7-4181-a6ba-e4f05515647b",
   "metadata": {
    "tags": [
     "raises-exception"
    ]
   },
   "outputs": [
    {
     "ename": "ValueError",
     "evalue": "list.remove(x): x not in list",
     "output_type": "error",
     "traceback": [
      "\u001b[1;31m---------------------------------------------------------------------------\u001b[0m",
      "\u001b[1;31mValueError\u001b[0m                                Traceback (most recent call last)",
      "\u001b[1;32m~\\AppData\\Local\\Temp\\ipykernel_10356\\956275911.py\u001b[0m in \u001b[0;36m<module>\u001b[1;34m\u001b[0m\n\u001b[1;32m----> 1\u001b[1;33m \u001b[0mma_liste\u001b[0m\u001b[1;33m.\u001b[0m\u001b[0mremove\u001b[0m\u001b[1;33m(\u001b[0m\u001b[1;34m\"sables\"\u001b[0m\u001b[1;33m)\u001b[0m\u001b[1;33m\u001b[0m\u001b[1;33m\u001b[0m\u001b[0m\n\u001b[0m\u001b[0;32m      2\u001b[0m \u001b[0mprint\u001b[0m\u001b[1;33m(\u001b[0m\u001b[0mma_liste\u001b[0m\u001b[1;33m)\u001b[0m\u001b[1;33m\u001b[0m\u001b[1;33m\u001b[0m\u001b[0m\n",
      "\u001b[1;31mValueError\u001b[0m: list.remove(x): x not in list"
     ]
    }
   ],
   "source": [
    "ma_liste.remove(\"sables\")\n",
    "print(ma_liste)"
   ]
  },
  {
   "cell_type": "markdown",
   "id": "f9c2294a-e647-4b91-b749-8e839d17c487",
   "metadata": {
    "user_expressions": []
   },
   "source": [
    "## Concaténer des listes\n",
    "Il peut être intéressant de coller deux listes, l'une après l'autre, pour n'en faire plus qu'une seule. Pour cela, la méthode `extend` est parfaitement adaptée :"
   ]
  },
  {
   "cell_type": "code",
   "execution_count": 30,
   "id": "1016a369-7040-41e2-af62-87e932ec1305",
   "metadata": {},
   "outputs": [
    {
     "name": "stdout",
     "output_type": "stream",
     "text": [
      "['cailloux', 'graviers', 'boues', 'argiles', 'argiles', 'blocs', 'sables fins', 'feldspath', 'plagioclase']\n"
     ]
    }
   ],
   "source": [
    "ma_liste2 = [\"feldspath\", \"plagioclase\"]\n",
    "ma_liste.extend(ma_liste2)\n",
    "print(ma_liste)"
   ]
  },
  {
   "cell_type": "markdown",
   "id": "a531a0ff-6872-451e-a7da-d066172fd95d",
   "metadata": {
    "tags": [],
    "user_expressions": []
   },
   "source": [
    "```{admonition} Remarque\n",
    ":class: note\n",
    "Le fait de coller bout à bout deux objets, s'appelle la _concaténation_\n",
    "```"
   ]
  },
  {
   "cell_type": "markdown",
   "id": "1b5c96d5-c5cf-4e79-a7a0-3d3fc16485c2",
   "metadata": {
    "tags": [],
    "user_expressions": []
   },
   "source": [
    "Il est également possible d'utiliser, plus simplement, le symbole `+` pour concaténer deux listes:"
   ]
  },
  {
   "cell_type": "code",
   "execution_count": 31,
   "id": "92192afa-e5c9-460b-a861-0dee29e5ba24",
   "metadata": {},
   "outputs": [
    {
     "name": "stdout",
     "output_type": "stream",
     "text": [
      "['cailloux', 'graviers', 'sables', 'limons', 'argiles', 'feldspath', 'plagioclase']\n",
      "['cailloux', 'graviers', 'sables', 'limons', 'argiles']\n"
     ]
    }
   ],
   "source": [
    "ma_liste = ['cailloux', 'graviers', 'sables', 'limons', 'argiles']\n",
    "print(ma_liste + ma_liste2)\n",
    "print(ma_liste)"
   ]
  },
  {
   "cell_type": "markdown",
   "id": "e63b2785-10e3-4b53-8e4d-2926e7b42335",
   "metadata": {
    "tags": [],
    "user_expressions": []
   },
   "source": [
    "On peut voir ici que l'opération de concaténation avec le symbole `+` n'a pas modifié `ma_liste`. Une opérationne modifie rien, contrairement à une méthode, qui est elle est appliquée à un objet (la liste). `ma_liste + ma_liste2` n'est qu'une expression dont le résultat est une valeur. Cette valeur est une nouvelle liste de type `list`. Pour utiliser ultérieurement cette nouvelle liste, il faut affecter résultat de l'expression dans une variable."
   ]
  },
  {
   "cell_type": "code",
   "execution_count": 32,
   "id": "858ff469-d65f-44c2-926e-c1f89012551a",
   "metadata": {},
   "outputs": [
    {
     "name": "stdout",
     "output_type": "stream",
     "text": [
      "['cailloux', 'graviers', 'sables', 'limons', 'argiles', 'feldspath', 'plagioclase']\n"
     ]
    }
   ],
   "source": [
    "ma_liste3 = ma_liste + ma_liste2\n",
    "print(ma_liste3)"
   ]
  },
  {
   "cell_type": "markdown",
   "id": "7842181f-0712-4ed0-b6eb-8c46fcdb36b1",
   "metadata": {
    "tags": [],
    "user_expressions": []
   },
   "source": [
    "Dans le cas où l'on veut utiliser la variable `ma_liste` pour récupérer le résultat de la concaténation, il existe une alternative plus simple ([cf chapitre sur l'affectation](L_additionAffectation)):"
   ]
  },
  {
   "cell_type": "code",
   "execution_count": 33,
   "id": "2632756e-e332-419b-b044-41fabf174679",
   "metadata": {},
   "outputs": [
    {
     "name": "stdout",
     "output_type": "stream",
     "text": [
      "['cailloux', 'graviers', 'sables', 'limons', 'argiles', 'feldspath', 'plagioclase']\n"
     ]
    }
   ],
   "source": [
    "ma_liste += ma_liste2 # On modifie ma_liste en concaténant a elle ma_liste2.\n",
    "print(ma_liste)"
   ]
  },
  {
   "cell_type": "markdown",
   "id": "32a242d3-2b77-45c7-bb86-2d1b423ccab5",
   "metadata": {
    "tags": [],
    "user_expressions": []
   },
   "source": [
    "```{admonition} À vous de jouer\n",
    ":class: seealso\n",
    "Vous disposez d'une liste nommée `une_liste` qui contient les éléments suivants : `'cailloux', 'graviers', 'sables', 'limons', 'argiles'`. Vous souhaitez répéter les éléments de la manière suivante : `['cailloux', 'graviers', 'sables', 'limons', 'argiles', 'cailloux', 'graviers', 'sables', 'limons', 'argiles']`. Comment feriez-vous en utilisant la syntaxe vue précédemment ?\n",
    "```"
   ]
  },
  {
   "cell_type": "code",
   "execution_count": 51,
   "id": "ae6bc9f9-e345-4663-b87a-ba3e32b5d176",
   "metadata": {},
   "outputs": [],
   "source": [
    "une_liste = ['cailloux', 'graviers', 'sables', 'limons', 'argiles']"
   ]
  },
  {
   "cell_type": "code",
   "execution_count": 53,
   "id": "bc849a0b-8b71-469d-ac9b-aa923d219970",
   "metadata": {
    "tags": [
     "hide-input"
    ]
   },
   "outputs": [
    {
     "name": "stdout",
     "output_type": "stream",
     "text": [
      "['cailloux', 'graviers', 'sables', 'limons', 'argiles', 'cailloux', 'graviers', 'sables', 'limons', 'argiles', 'cailloux', 'graviers', 'sables', 'limons', 'argiles', 'cailloux', 'graviers', 'sables', 'limons', 'argiles']\n"
     ]
    }
   ],
   "source": [
    "##SOLUTION\n",
    "une_liste += une_liste\n",
    "print(une_liste)"
   ]
  },
  {
   "cell_type": "markdown",
   "id": "7e420b03-2643-492f-a2d4-23a53f5893dd",
   "metadata": {
    "user_expressions": []
   },
   "source": [
    "## Listes de listes\n",
    "Nous avons dit précédemment qu'une liste pouvait contenir de nombreux types différents. Il peut être intéressant d'imbriquer des listes dans des listes:"
   ]
  },
  {
   "cell_type": "code",
   "execution_count": 35,
   "id": "ebce51a3-c92e-4321-99c7-84313536103e",
   "metadata": {},
   "outputs": [
    {
     "name": "stdout",
     "output_type": "stream",
     "text": [
      "[['Albite', 'Anorthite'], ['Forstérite', 'Fayalite']]\n"
     ]
    }
   ],
   "source": [
    "ma_liste3 = [\"Albite\",\"Anorthite\"] # une liste\n",
    "ma_liste4 = [\"Forstérite\",\"Fayalite\"] # une seconde\n",
    "ma_liste_5 = [ma_liste3, ma_liste4] # une troisième, qui imbrique les deux premières\n",
    "print(ma_liste_5)"
   ]
  },
  {
   "cell_type": "code",
   "execution_count": 36,
   "id": "9c3fd3f1-7e51-4dc1-8b47-b55b4ebdc860",
   "metadata": {},
   "outputs": [
    {
     "name": "stdout",
     "output_type": "stream",
     "text": [
      "[['Albite', 'Anorthite'], ['Forstérite', 'Fayalite']]\n"
     ]
    }
   ],
   "source": [
    "ma_liste2 = [[\"Albite\",\"Anorthite\"], [\"Forstérite\",\"Fayalite\"]] # il est également possible d'atteindre ce résultat en une ligne\n",
    "print(ma_liste2)"
   ]
  },
  {
   "cell_type": "markdown",
   "id": "f7e8f956-7ce7-4dbf-ac21-4a57b8cbb531",
   "metadata": {
    "user_expressions": []
   },
   "source": [
    "## Longueur d’une liste\n",
    "Il est souvent utile de connaître la longueur une liste, c'est à dire combien d'éléments la composent:"
   ]
  },
  {
   "cell_type": "code",
   "execution_count": 37,
   "id": "89da48d1-2463-4a23-b442-8e1558cafaa7",
   "metadata": {},
   "outputs": [
    {
     "data": {
      "text/plain": [
       "7"
      ]
     },
     "execution_count": 37,
     "metadata": {},
     "output_type": "execute_result"
    }
   ],
   "source": [
    "len(ma_liste) # cette liste contient 5 éléments"
   ]
  },
  {
   "cell_type": "code",
   "execution_count": 38,
   "id": "8e980196-b102-4ad3-af4b-91a7b74395ca",
   "metadata": {},
   "outputs": [
    {
     "data": {
      "text/plain": [
       "2"
      ]
     },
     "execution_count": 38,
     "metadata": {},
     "output_type": "execute_result"
    }
   ],
   "source": [
    "len(ma_liste2) # celle-ci en contient 2 (une liste contenant deux listes)"
   ]
  },
  {
   "cell_type": "markdown",
   "id": "1a5b0a95-90bb-4d15-93e8-58275fee8e10",
   "metadata": {
    "tags": [],
    "user_expressions": []
   },
   "source": [
    "## 🚀 Pour aller plus loin \n",
    "(L_autresTypes)=\n",
    "### Quelques autres types intéressants\n",
    "\n",
    "Les listes sont des objets puissants permettant d'enregistrer et de classer facilement des variables. Ce sont des objets modifiables (on dit __mutable__) et ordonnés, mais d'autres types similaires existent."
   ]
  },
  {
   "cell_type": "markdown",
   "id": "2c6b885f-ed40-4c67-834d-22b3b66040c5",
   "metadata": {
    "tags": [],
    "user_expressions": []
   },
   "source": [
    "#### Les Tuples (n-uplets en français) \n",
    "Un tuple est une sorte de liste mais qui __ne peut plus être modifiée__ après sa création (on dit qu'ils sont _immutables_ ). De la même manière que les listes, les tuples sont __ordonnés__.\\\n",
    "On créé un tuple avec des parenthèses pour le distinguer des listes entre crochets. Les éléments sont là aussi séparés par les virgules. "
   ]
  },
  {
   "cell_type": "code",
   "execution_count": 39,
   "id": "f538baf3-59c4-49a1-a19f-a55407dcfd8e",
   "metadata": {},
   "outputs": [],
   "source": [
    "tupleint = (1, 2, 5)"
   ]
  },
  {
   "cell_type": "markdown",
   "id": "99ff5653-8cef-48a6-aa32-cb20b051b5c4",
   "metadata": {
    "tags": [],
    "user_expressions": []
   },
   "source": [
    "Souvent on n’utilise pas directement un tuple mais d’une manière un peu détournée, comme ici pour une ([affectation](L_syntaxeAffectation)) multiple :"
   ]
  },
  {
   "cell_type": "code",
   "execution_count": 40,
   "id": "00b4d694-869c-4709-a524-1396508faee2",
   "metadata": {},
   "outputs": [
    {
     "name": "stdout",
     "output_type": "stream",
     "text": [
      "3\n",
      "4\n"
     ]
    }
   ],
   "source": [
    "(a, b) = (3, 4) # ceci est un tuple! Il permet de créer deux variables en une seule ligne\n",
    "print(a)\n",
    "print(b)"
   ]
  },
  {
   "cell_type": "markdown",
   "id": "4e586cd3-1587-47b8-b7c5-d0e7bcf47140",
   "metadata": {
    "tags": [],
    "user_expressions": []
   },
   "source": [
    "```{admonition} Remarque\n",
    ":class: note\n",
    "Même si les paranthèses permettent de repérer facilement les tuples, celles-ci sont optionnelles.\\\n",
    "`a, b = 3, 4`\n",
    "```"
   ]
  },
  {
   "cell_type": "markdown",
   "id": "63ab03a9-16f4-4ac6-9ba0-bb9d4f7872f3",
   "metadata": {
    "tags": [],
    "user_expressions": []
   },
   "source": [
    "#### Les sets (ensembles en français)"
   ]
  },
  {
   "cell_type": "markdown",
   "id": "ddd489c2-5820-4c08-b680-820a4d250e57",
   "metadata": {
    "tags": [],
    "user_expressions": []
   },
   "source": [
    "Les sets, ou ensembles, sont comme des listes mais __sans ordre__. Ils __peuvent être modifiés__ (on dit qu'ils sont _mutables_). Ils ne peuvent pas contenir de répétitions (tous les éléments sont différents).\\\n",
    " Les sets se créent avec des accolades et les éléments, encore une fois, sont séparés par des virgules."
   ]
  },
  {
   "cell_type": "code",
   "execution_count": 41,
   "id": "677f57de-ca98-4d90-ba1f-7f2c3c8019f6",
   "metadata": {},
   "outputs": [
    {
     "name": "stdout",
     "output_type": "stream",
     "text": [
      "{'Anorthite', 'Albite'}\n",
      "{'Anorthite', 'Albite'}\n"
     ]
    }
   ],
   "source": [
    "mineraux1 = {\"Albite\",\"Anorthite\"}\n",
    "mineraux2={'Albite', 'Anorthite', 'Albite'}\n",
    "\n",
    "print(mineraux1)\n",
    "print(mineraux2)"
   ]
  },
  {
   "cell_type": "markdown",
   "id": "68ee5bd6-cd65-4cea-bf02-a6d0dfdb88c6",
   "metadata": {
    "tags": [],
    "user_expressions": []
   },
   "source": [
    "Il est possible de comparer les ensembles."
   ]
  },
  {
   "cell_type": "code",
   "execution_count": 42,
   "id": "95385af5-9a06-4071-8e13-de328eb79d79",
   "metadata": {},
   "outputs": [
    {
     "data": {
      "text/plain": [
       "True"
      ]
     },
     "execution_count": 42,
     "metadata": {},
     "output_type": "execute_result"
    }
   ],
   "source": [
    "mineraux1 == mineraux2 # renvoie True puisque les 2 objets sont identiques (il n'y a pas d'ordre et les répétitions sont enlevées)"
   ]
  },
  {
   "cell_type": "markdown",
   "id": "d44cd029-c410-4086-96ae-a63b281f3258",
   "metadata": {
    "tags": [],
    "user_expressions": []
   },
   "source": [
    " ou de réaliser des opérations entre ensembles"
   ]
  },
  {
   "cell_type": "code",
   "execution_count": 43,
   "id": "5f44ee2f-8c7c-4877-b057-c06bf72a6e1b",
   "metadata": {},
   "outputs": [
    {
     "name": "stdout",
     "output_type": "stream",
     "text": [
      "{'Anorthite'}\n",
      "{'Grossulaire', 'Muscovite'}\n"
     ]
    }
   ],
   "source": [
    "mineraux3 = {\"Fayalite\",\"Grossulaire\",\"Anorthite\",\"Muscovite\"}\n",
    "print(mineraux1.intersection(mineraux3))\n",
    "print(mineraux3.difference({\"Fayalite\",\"Anorthite\"}))"
   ]
  },
  {
   "cell_type": "markdown",
   "id": "6c12d264-80d7-41b3-be1c-4ed23224b75e",
   "metadata": {
    "tags": [],
    "user_expressions": []
   },
   "source": [
    "Ou de tester si un élément est présent dans un ensemble grâce à l'opérateur `in` :"
   ]
  },
  {
   "cell_type": "code",
   "execution_count": 44,
   "id": "67b49d63-6fe3-4706-a104-9d6f7f64d597",
   "metadata": {},
   "outputs": [
    {
     "name": "stdout",
     "output_type": "stream",
     "text": [
      "True\n"
     ]
    }
   ],
   "source": [
    "print(\"Albite\" in  mineraux1)\n"
   ]
  },
  {
   "cell_type": "code",
   "execution_count": 45,
   "id": "510d93ae-cdd3-4931-abef-b6d9a26d2898",
   "metadata": {},
   "outputs": [
    {
     "name": "stdout",
     "output_type": "stream",
     "text": [
      "False\n"
     ]
    }
   ],
   "source": [
    "print(\"Forsterite\" in mineraux1)"
   ]
  },
  {
   "cell_type": "markdown",
   "id": "e0899f33-2c77-4619-ae51-018cc1b1bd02",
   "metadata": {
    "tags": [],
    "user_expressions": []
   },
   "source": [
    "Il est possible d'ajouter un (et un seul) élément avec la méthode `add` :"
   ]
  },
  {
   "cell_type": "code",
   "execution_count": 46,
   "id": "ad473ebf-9442-4a7f-827d-aa6d5b72343e",
   "metadata": {},
   "outputs": [
    {
     "name": "stdout",
     "output_type": "stream",
     "text": [
      "{'Anorthite', 'Forsterite', 'Albite'}\n"
     ]
    }
   ],
   "source": [
    "mineraux1.add(\"Forsterite\")\n",
    "print(mineraux1)\n"
   ]
  },
  {
   "cell_type": "markdown",
   "id": "99f67d3e-958f-41af-b207-e85e4c80f5a5",
   "metadata": {
    "tags": [],
    "user_expressions": []
   },
   "source": [
    "Les sets (ou ensembles) servent aussi à d’autres types d’opérations que nous verrons plus tard. Vous trouverez plus de détails ainsi que d'autres méthodes liées aux sets sur [ce site](https://www.w3schools.com/python/python_sets_methods.asp)"
   ]
  },
  {
   "cell_type": "markdown",
   "id": "52269b20-a74f-4461-ba5d-005cc6983015",
   "metadata": {
    "tags": [],
    "user_expressions": []
   },
   "source": [
    "### Zones de la mémoire et listes\n",
    "Nous avons vu dans [le chapitre précedent](L_memoireVariables) que l'affectation permet de faire référence par un nom à une zone de la mémoire de l'ordinateur où est stockée une valeur. C'est la même chose pour les listes :"
   ]
  },
  {
   "cell_type": "code",
   "execution_count": 54,
   "id": "cc8ddc8c-7065-43ec-ad0f-e630ee62daab",
   "metadata": {},
   "outputs": [
    {
     "name": "stdout",
     "output_type": "stream",
     "text": [
      "['cailloux', 'graviers', 'sables', 'grenats', 'argiles', 'feldspath', 'plagioclase', 'grenats']\n",
      "2282952809600\n"
     ]
    }
   ],
   "source": [
    "print(ma_liste)\n",
    "print(id(ma_liste))"
   ]
  },
  {
   "cell_type": "markdown",
   "id": "9e4a2ccc-e0f6-44e8-b085-c50460da72cc",
   "metadata": {},
   "source": [
    "Même si on modiifie la liste, son id ne change pas :"
   ]
  },
  {
   "cell_type": "code",
   "execution_count": 59,
   "id": "48b50a00-2141-4c1d-9af2-89739c6e3ae2",
   "metadata": {},
   "outputs": [
    {
     "name": "stdout",
     "output_type": "stream",
     "text": [
      "2282952809600\n",
      "2282952809600\n"
     ]
    }
   ],
   "source": [
    "print(id(ma_liste))\n",
    "ma_liste[3]=\"grenats\"\n",
    "print(id(ma_liste))"
   ]
  },
  {
   "cell_type": "markdown",
   "id": "d591b8ef-f21f-4376-be6d-51925210d468",
   "metadata": {
    "tags": [],
    "user_expressions": []
   },
   "source": [
    "Il est possible de référencer une même zone de la mémoire par plusieurs noms :"
   ]
  },
  {
   "cell_type": "code",
   "execution_count": 55,
   "id": "08527522-6036-4008-86a1-aed5eeeb7fc3",
   "metadata": {},
   "outputs": [
    {
     "name": "stdout",
     "output_type": "stream",
     "text": [
      "2282952809600\n",
      "2282952809600\n"
     ]
    }
   ],
   "source": [
    "nouveau_nom=ma_liste\n",
    "print(id(ma_liste))\n",
    "print(id(nouveau_nom))"
   ]
  },
  {
   "cell_type": "markdown",
   "id": "c0405065-b15c-4b64-9b32-8cf2781351db",
   "metadata": {
    "tags": [],
    "user_expressions": []
   },
   "source": [
    "Il n'y a qu'une seule liste en mémoire, mais elle est référencée par 2 noms différents.\n",
    "```{admonition} Attention\n",
    ":class: warning\n",
    "Du coup une modification sur la liste à l'aide d'un nom de variable, s'effectue en mémoire et sera donc aussi répercutée sur l'autre variable.\n",
    "```"
   ]
  },
  {
   "cell_type": "code",
   "execution_count": 60,
   "id": "780a4540-4c47-42e5-982a-f13081ee3376",
   "metadata": {},
   "outputs": [
    {
     "name": "stdout",
     "output_type": "stream",
     "text": [
      "['cailloux', 'graviers', 'sables', 'grenats', 'argiles', 'feldspath', 'plagioclase', 'grenats']\n",
      "['cailloux', 'graviers', 'sables', 'grenats', 'argiles', 'feldspath', 'plagioclase', 'grenats']\n",
      "['cailloux', 'graviers', 'sables', 'graviers', 'argiles', 'feldspath', 'plagioclase', 'grenats']\n",
      "['cailloux', 'graviers', 'sables', 'graviers', 'argiles', 'feldspath', 'plagioclase', 'grenats']\n"
     ]
    }
   ],
   "source": [
    "print(ma_liste)\n",
    "print(nouveau_nom)\n",
    "ma_liste[3]=\"graviers\"\n",
    "print(ma_liste)\n",
    "print(nouveau_nom)"
   ]
  }
 ],
 "metadata": {
  "kernelspec": {
   "display_name": "Python 3 (ipykernel)",
   "language": "python",
   "name": "python3"
  },
  "language_info": {
   "codemirror_mode": {
    "name": "ipython",
    "version": 3
   },
   "file_extension": ".py",
   "mimetype": "text/x-python",
   "name": "python",
   "nbconvert_exporter": "python",
   "pygments_lexer": "ipython3",
   "version": "3.9.18"
  }
 },
 "nbformat": 4,
 "nbformat_minor": 5
}

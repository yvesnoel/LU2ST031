{
 "cells": [
  {
   "cell_type": "markdown",
   "id": "f6029584-2453-4014-8be5-785698c6b6fd",
   "metadata": {
    "tags": [],
    "user_expressions": []
   },
   "source": [
    "# `if` : l'instruction pour créer des branchements \n",
    "[![Binder](https://mybinder.org/badge_logo.svg)](https://mybinder.org/v2/gh/yvesnoel/LU2ST031.git/master?labpath=semaine4%2FCM3%2FLes_branchements.ipynb)\n",
    "```{admonition} Objectifs\n",
    ":class: hint\n",
    "A l'issue de ce chapître, vous serez capable de :\n",
    "- suivre le déroulement pas à pas d'un code Python contenant un ou plusieurs branchements\n",
    "- mettre en place un branchement (avec ou sans alternative) pour conditionner déroulement d'une partie de votre code Python\n",
    "- indenter votre code pour marquer des blocs (dont les blocs des branchements)\n",
    "- faire la différence entre des branchements imbriqués et des branchements consécutifs\n",
    "- mettre en place tous les tests nécessaires, correspondant à tous les chemins possibles, afin de verifier le bon déroulement de votre code Python\n",
    "```"
   ]
  },
  {
   "cell_type": "markdown",
   "id": "5c67a5a6-9e6d-4368-844b-2de0a68ac22e",
   "metadata": {
    "tags": [],
    "user_expressions": []
   },
   "source": [
    "```{admonition} Remarque\n",
    ":class: note\n",
    "Dans ce chapitre, des nuémros de ligne, sont insérés en tête de ligne à gauche de chaque morceau de code. Cela facilite les commentaires.\n",
    "```"
   ]
  },
  {
   "cell_type": "markdown",
   "id": "97d32572-e595-4770-a516-72918aa442f6",
   "metadata": {
    "tags": [],
    "user_expressions": []
   },
   "source": [
    "L'instruction `if` permet de créer des branchements dans votre code Python ; c'est à dire de conditionner l'execution d'une partie de votre code selon la valeur d'une [expression booléenne](L_expressionsBooleennes)."
   ]
  },
  {
   "cell_type": "code",
   "execution_count": 2,
   "id": "29cc2a3e-6662-4424-bea9-583b86a9a44a",
   "metadata": {},
   "outputs": [
    {
     "name": "stdout",
     "output_type": "stream",
     "text": [
      "x est strictement plus grand que 5\n"
     ]
    }
   ],
   "source": [
    "x = 10\n",
    "if x > 5 :\n",
    "    print(\"x est strictement plus grand que 5\")"
   ]
  },
  {
   "cell_type": "markdown",
   "id": "559a5593-1df3-4723-8a5a-04bca96f5fcf",
   "metadata": {
    "tags": [],
    "user_expressions": []
   },
   "source": [
    "Dans le code ci-dessus, l'instruction `if` apparait à la ligne 2. Le `if` est suivi d'une expression booléenne `x > 5` et terminée par un `:`. \n",
    "Le bloc d'instructions qui sera exécuté si l'expression booléenne vaut `True` est uniquement composé de la ligne 3. \n",
    "Afin de spécifier, que l'instruction de la ligne 3 fait partie du bloc soumis à la condition de la ligne 2, une indentation doit être appliquée. \n",
    "Pour ce faire, il faut insérer une tabulation ou 4 espaces. \n",
    "Décrivons maintenant ce qui se passe lors de l'exécution du code Python ci-dessus. A la ligne 1, la valeur 10 est affectée à la variable `x`.\n",
    "Ligne 2 l'expression booléenne `x > 5` est évaluée : l'expression se ramène à la valeur `True` puisque 10 est plus grand que 5. Le code exécutera donc le bloc conditionnel qui est constitué d'un simple appel à la fonction `print` ce qui affiche à l'écran `x est strictement plus grand que 5`."
   ]
  },
  {
   "cell_type": "code",
   "execution_count": null,
   "id": "6f51e435-a9b0-45d0-a2b0-22015592e7cd",
   "metadata": {},
   "outputs": [],
   "source": []
  }
 ],
 "metadata": {
  "kernelspec": {
   "display_name": "Python 3 (ipykernel)",
   "language": "python",
   "name": "python3"
  },
  "language_info": {
   "codemirror_mode": {
    "name": "ipython",
    "version": 3
   },
   "file_extension": ".py",
   "mimetype": "text/x-python",
   "name": "python",
   "nbconvert_exporter": "python",
   "pygments_lexer": "ipython3",
   "version": "3.9.13"
  }
 },
 "nbformat": 4,
 "nbformat_minor": 5
}

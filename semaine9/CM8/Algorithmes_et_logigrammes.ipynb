{
 "cells": [
  {
   "cell_type": "markdown",
   "id": "f6b89ea8-5e1f-4196-99b7-989e95e467cd",
   "metadata": {},
   "source": [
    "# Algorithmes et logigrammes\n",
    "\n",
    "```{admonition} Objectifs\n",
    ":class: hint\n",
    "A l'issue de ce chapitre, vous serez capable de : \n",
    "- convertir un problème exposé en language humain en algorithme.\n",
    "- lire et interpréter un logigramme du début à la fin et ses différentes structures: boucle , branchement.\n",
    "- construire un logigramme en utilisant boucles et branchements si nécessaire.\n",
    "- écrire un code informatique appliquant un algorithme représenté en logigramme: boucle (for), branchement (if).\n",
    "```\n",
    "\n",
    "## Qu'est-ce qu'un algorithme?\n",
    "Nous nous sommes au début de cette UE directement lancés dans la programmation Python. Il est temps de prendre un peu de recul sur notre pratique, au delà de l'écriture spécifique à Python. Ce que nous réalisons depuis le début de cours, c'est d'écrire une suite d'opérations qui est exécutée dans un ordre donné en vue de réaliser une action. C'est précisément la définition d'un **algorithme**!\n",
    "\n",
    "Vous utilisez déjà des algorithmes de manière omniprésente :\n",
    "- une recette de cuisine est un algorithme\n",
    "- une notice de montage de meuble est un algorithme\n",
    "- etc.\n",
    "\n",
    "Tout processus peut être exprimé en algorithme afin de mettre clairement en évidence les étapes. Voici un exemple d'algorithme permettant de se faire des tartines le matin écrit en language naturel et pas en Python:\n",
    "\n",
    "```\n",
    "ENTREE : pain, beurre, confiture\n",
    "SORTIE : tartine à la confiture\n",
    "1 : Etaler le beurre sur le pain\n",
    "2 : Etaler la confiture sur le pain beurré\n",
    "```\n",
    "\n",
    "Cet exemple nous permet de voir qu'un algorithme peut être exprimé dans notre language. On retrouve la suite d'opérations qui est réalisée dans un ordre donné (difficile de beurrer une tartine ou il y a déjà eu de la confiture). Remarquez la ligne Entrée qui indique les éléments nécessaires au départ à la réalisation de l'algorithme, et la ligne Sortie indiquant le produit final.\n",
    "\n",
    "```{admonition} Remarque\n",
    ":class: note\n",
    "Les algorithmes exprimés en language naturel comme ci-dessus sont écrits en ce qu'on appelle du **pseudo-code**. Prenez l'habitude de réfléchir a votre code en l'écrivant en pseudo-code avant de passer à Python peut vous permettre d'éviter de nombreuses erreurs de structure. Le pseudo-code n'est pas formalisé comme python; tant que les étapes sont clairement définies, la syntaxe n'importe pas.\n",
    "```\n",
    "\n",
    "Vous avez appris au chapitre précédent a créer des fonctions, qui sont des capsules autonomes de code avec des arguments d'entrée et des arguments de sortie. Cet algorithme peut être traduit en une fonction Python. Les arguments d'entrée sont pain, beurre, confiture, et l'argument ```return``` va renvoyer la tartine. Cependant, il convient de définir quel type d'objet sera la tartine. Celle-ci étant composée de plusieurs éléments (pain, beurre, confiture) dans un certain ordre, nous allons en faire une liste."
   ]
  },
  {
   "cell_type": "code",
   "execution_count": 25,
   "id": "8e676f9a-1d31-49a7-b45b-f4d11bc7aa9b",
   "metadata": {},
   "outputs": [],
   "source": [
    "def tartiner(pain, beurre, confiture): # trois arguments d'entrée tels \n",
    "                                       #qu'indiqués dans l'algorithme\n",
    "    \n",
    "    # initialisation de la tartine comme un objet \n",
    "    # de type liste comportant un élément (pain)\n",
    "    tartine = [pain] \n",
    "    \n",
    "    # étaler le beurre sur le pain\n",
    "    tartine.append(beurre)\n",
    "    \n",
    "    # étaler la confiture sur le pain beurré\n",
    "    tartine.append(confiture)\n",
    "    \n",
    "    return tartine  # un argument de sortie unique, la tartine à la confiture"
   ]
  },
  {
   "cell_type": "code",
   "execution_count": 26,
   "id": "0dafe91a-4e43-4958-b55b-c4173bc38c96",
   "metadata": {},
   "outputs": [
    {
     "data": {
      "text/plain": [
       "['pain', 'beurre', 'confiture']"
      ]
     },
     "execution_count": 26,
     "metadata": {},
     "output_type": "execute_result"
    }
   ],
   "source": [
    "tartiner(\"pain\", \"beurre\", \"confiture\")"
   ]
  },
  {
   "cell_type": "markdown",
   "id": "9ceb4549-7189-40db-8f3e-2eb964965904",
   "metadata": {},
   "source": [
    "## Logigrammes\n",
    "Dans les chapitres précédents, nous avons résolu des problèmes en créant directement des algorithmes dans un language de programmation donné, Python. Cependant, pour des problèmes complexes, il est utile de réflechir dans un premier temps aux étapes nécessaires pour réaliser une action (c'est l'étape de construction de l'algorithme), puis dans un second temps de traduire l'algorithme dans un language informatique donné. Cela permet de clarifier ce que l'on souhaite faire et d'éviter les erreurs, comme d'utiliser une variable qu'on n'a pas définie. Il est possible de réflechir à votre algorithme en écrivant les étapes en pseudo-code comme pour l'algorithme de la tartine ci-dessus. Il existe également une représentation graphique utile qui permet de réfléchir aux algorithmes de manière visuelle. Cette représentation schématique s'appelle un **logigramme**.\n",
    "\n",
    "```{admonition} Remarque\n",
    ":class: note\n",
    "On parle parfois également d'organigramme de programmation ou d'ordinogramme.\n",
    "```\n",
    "\n",
    "Essayons dans un premier temps d'écrire l'algorithme de la tartine sous forme de logigramme:\n",
    "\n",
    "![](https://github.com/yvesnoel/LU2ST031/blob/master/docs/assets/css/base.png?raw=true)\n",
    "\n",
    "Le schéma montre un point de départ, avec les arguments d'entrée nécessaires, les actions a effectuer dans l'ordre, puis le point de sortie avec les arguments renvoyés. Tirez profit du logigramme pour vérifier que tous les objets utilisés viennent de quelque part, que les étapes sont dans le bon ordre, et que chaque étape fonctionne de manière autonome. N'oubliez pas qu'un algorithme doit pouvoir être partagé. Alors relisez bien votre algorithme et vérifiez bien que celui-ci sera compréhensible par d'autres personnes.\n",
    "\n",
    "### Structures de contrôle: branchements et boucles\n",
    "\n",
    "Bien souvent, un algorithme n'est pas linéaire. Dans ce cas, on utilise deux types de **structures de contrôle**. Ces structures permettent de vérifier quelque chose à un moment donné et d'agir en conséquence. Vous avez déjà utilisé ces structures en Python: ce sont les branchements (if) et les boucles (for).\n",
    "\n",
    "#### Branchement (if)\n",
    "\n",
    "Reprenons notre exemple précédent. Le branchement implique de vérifier une condition. Si la condition est remplie, une étape supplémentaire se produit.\n",
    "\n",
    "![](https://github.com/yvesnoel/LU2ST031/blob/master/docs/assets/css/if.png?raw=true)\n",
    "\n",
    "Dans tous les cas, notre fonction renverra une tartine. Mais il devient plus flexible: la confiture est un argument optionnel."
   ]
  },
  {
   "cell_type": "code",
   "execution_count": 15,
   "id": "66ea9fae-ed58-4199-a817-8ab8c6b62b42",
   "metadata": {},
   "outputs": [],
   "source": [
    "def tartiner(pain, beurre, confiture=False): # trois arguments d'entrée \n",
    "    # tels qu'indiqués dans l'algorithme. \n",
    "    #  Si confiture n'est pas renseigné, elle prend la valeur par défaut indiquée ici.\n",
    "    \n",
    "    # initialisation de la tartine comme un objet \n",
    "    # de type liste comportant un élément (pain)\n",
    "    tartine = [pain] \n",
    "    \n",
    "    # étaler le beurre sur le pain\n",
    "    tartine.append(beurre)\n",
    "    \n",
    "    # S'il y a de la confiture (tout sauf False)\n",
    "    if confiture:   # strictement équivalent à if confiture == False\n",
    "        tartine.append(confiture)\n",
    "    \n",
    "    return tartine  # un argument de sortie unique, la tartine à la confiture"
   ]
  },
  {
   "cell_type": "code",
   "execution_count": 16,
   "id": "5002dbd9-a50c-4a42-bd77-4ac9186066ec",
   "metadata": {},
   "outputs": [
    {
     "data": {
      "text/plain": [
       "['pain', 'beurre', 'confiture']"
      ]
     },
     "execution_count": 16,
     "metadata": {},
     "output_type": "execute_result"
    }
   ],
   "source": [
    "tartiner(\"pain\", \"beurre\", \"confiture\")"
   ]
  },
  {
   "cell_type": "code",
   "execution_count": 17,
   "id": "0517f1cd-7892-4f73-8c7e-d4eadf132c89",
   "metadata": {},
   "outputs": [
    {
     "data": {
      "text/plain": [
       "['pain', 'beurre']"
      ]
     },
     "execution_count": 17,
     "metadata": {},
     "output_type": "execute_result"
    }
   ],
   "source": [
    "tartiner(\"pain\", \"beurre\")"
   ]
  },
  {
   "cell_type": "markdown",
   "id": "aaf2d5cf-87a4-484a-a2e1-e0dcf62c4d70",
   "metadata": {},
   "source": [
    "Avec cette ligne, la première fonction aurait renvoyé une erreur, ce qui n'est pas le cas ici.\n",
    "\n",
    "#### Branchement (if else)\n",
    "\n",
    "On peut également définir ce qui se passe dans un branchement si la réponse est oui, mais également si la réponse est non.\n",
    "\n",
    "![](https://github.com/yvesnoel/LU2ST031/blob/master/docs/assets/css/ifelse.png?raw=true)\n",
    "\n",
    "Cette structure correspond en Python au ```if else```."
   ]
  },
  {
   "cell_type": "code",
   "execution_count": 18,
   "id": "6a1b3fe7-f9c9-4287-b427-89c7a75f58d0",
   "metadata": {},
   "outputs": [],
   "source": [
    "def tartiner(beurre, confiture, pain=False): # trois arguments d'entrée \n",
    "    # tels qu'indiqués dans l'algorithme\n",
    "    # Notez que les arguments spécifiant une valeur par défaut doivent nécessairement être à la fin.\n",
    "    \n",
    "    # S'il y a du pain (tout sauf False)\n",
    "    if pain:  # strictement équivalent à if pain == False\n",
    "\n",
    "        # initialisation de la tartine comme un objet \n",
    "        # de type liste comportant un élément (pain)\n",
    "        tartine = [pain] \n",
    "\n",
    "        # étaler le beurre sur le pain\n",
    "        tartine.append(beurre)\n",
    "\n",
    "        # étaler la confiture sur le pain beurré\n",
    "        tartine.append(confiture)\n",
    "\n",
    "        return tartine  # un argument de sortie unique, la tartine à la confiture\n",
    "    \n",
    "    # Sinon, si pain == False\n",
    "    else:\n",
    "        \n",
    "        # tant pis, pas d'infogeol aujourd'hui\n",
    "        return \"rentrer chez soi et aller se coucher\""
   ]
  },
  {
   "cell_type": "code",
   "execution_count": 19,
   "id": "f0da2dfc-365a-467e-af8a-679d99d5bf7a",
   "metadata": {},
   "outputs": [
    {
     "data": {
      "text/plain": [
       "['confiture', 'pain', 'beurre']"
      ]
     },
     "execution_count": 19,
     "metadata": {},
     "output_type": "execute_result"
    }
   ],
   "source": [
    "tartiner(\"pain\", \"beurre\", \"confiture\")"
   ]
  },
  {
   "cell_type": "code",
   "execution_count": 20,
   "id": "eed162dc-35fa-4086-9ba2-8533d3255865",
   "metadata": {},
   "outputs": [
    {
     "data": {
      "text/plain": [
       "'rentrer chez soi et aller se coucher'"
      ]
     },
     "execution_count": 20,
     "metadata": {},
     "output_type": "execute_result"
    }
   ],
   "source": [
    "tartiner(\"beurre\", \"confiture\")"
   ]
  },
  {
   "cell_type": "markdown",
   "id": "ff876597-54c8-4630-8be2-1e4df877876f",
   "metadata": {},
   "source": [
    "Notez la présence de deux 'return' qui correspond aux deux sorties possibles indiquées sur le logigramme après le point de branchement.\n",
    "\n",
    "#### Boucle (for)\n",
    "\n",
    "La deuxième structure de contrôle est la boucle. La boucle permet de répéter une opération plusieurs fois, ce qui arrive typiquement avec ```for```.\n",
    "\n",
    "![](https://github.com/yvesnoel/LU2ST031/blob/master/docs/assets/css/for.png?raw=true)"
   ]
  },
  {
   "cell_type": "code",
   "execution_count": 21,
   "id": "7623a989-e6ed-4041-8ac1-1a06b7b480f6",
   "metadata": {},
   "outputs": [],
   "source": [
    "def tartiner(pain, confiture, qbeurre=0): # trois arguments d'entrée \n",
    "    # tels qu'indiqués dans l'algorithme\n",
    "    # cette fois-ci, qbeurre est une variable qui vaut 0 par défaut et doit être \n",
    "    # un entier qui correspond au nombre de fois que l'on veut rajouter du beurre.\n",
    "    \n",
    "    # initialisation de la tartine comme un objet \n",
    "    #de type liste comportant un élément (pain)\n",
    "    tartine = [pain] \n",
    "    \n",
    "    for i in range(qbeurre):  # on répète le bloc autant qbeurre fois\n",
    "\n",
    "        # étaler le beurre sur le pain\n",
    "        tartine.append(\"beurre\")\n",
    "\n",
    "    # étaler la confiture sur le pain beurré\n",
    "    tartine.append(confiture)\n",
    "    \n",
    "    return tartine  # un argument de sortie unique, la tartine à la confiture"
   ]
  },
  {
   "cell_type": "code",
   "execution_count": 22,
   "id": "e58cd4a3-7a2c-4041-a0ec-25d7f6ac5bbe",
   "metadata": {},
   "outputs": [
    {
     "data": {
      "text/plain": [
       "['pain',\n",
       " 'beurre',\n",
       " 'beurre',\n",
       " 'beurre',\n",
       " 'beurre',\n",
       " 'beurre',\n",
       " 'beurre',\n",
       " 'beurre',\n",
       " 'beurre',\n",
       " 'beurre',\n",
       " 'beurre',\n",
       " 'confiture']"
      ]
     },
     "execution_count": 22,
     "metadata": {},
     "output_type": "execute_result"
    }
   ],
   "source": [
    "tartiner(\"pain\", \"confiture\", 10)"
   ]
  },
  {
   "cell_type": "markdown",
   "id": "60bdd650-2f08-4e69-9fb4-c81e32db1316",
   "metadata": {},
   "source": [
    "L'opération a bien été répétée 10 fois grâce à notre boucle! 🏆"
   ]
  }
 ],
 "metadata": {
  "kernelspec": {
   "display_name": "Python 3 (ipykernel)",
   "language": "python",
   "name": "python3"
  },
  "language_info": {
   "codemirror_mode": {
    "name": "ipython",
    "version": 3
   },
   "file_extension": ".py",
   "mimetype": "text/x-python",
   "name": "python",
   "nbconvert_exporter": "python",
   "pygments_lexer": "ipython3",
   "version": "3.9.13"
  }
 },
 "nbformat": 4,
 "nbformat_minor": 5
}

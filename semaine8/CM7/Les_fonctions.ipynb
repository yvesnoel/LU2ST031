{
 "cells": [
  {
   "cell_type": "markdown",
   "id": "641c5345-c5fe-4d64-9e60-a90d314decaa",
   "metadata": {
    "user_expressions": []
   },
   "source": [
    "# Les fonctions\n",
    "[![Binder](https://mybinder.org/badge_logo.svg)](https://mybinder.org/v2/gh/yvesnoel/LU2ST031.git/master?labpath=semaine8%2FCM7%2FLes_fonctions.ipynb)\n",
    "```{admonition} Objectifs\n",
    ":class: hint\n",
    "A l'issue de ce chapître, vous serez capable de :\n",
    "- appeler une fonction déjà définie\n",
    "- récupérer ce qui est renvoyé par une fonction\n",
    "- expliquer la différence entre définition et appel d'une fonction\n",
    "- écrire la définition d'une fonction simple (moins de 20 lignes) à partir d'un cahier des charges\n",
    "- élaborer des tests pour vérifier le bon comportement d'une fonction\n",
    "```"
   ]
  },
  {
   "cell_type": "markdown",
   "id": "211c4b5f-4117-4586-a7dd-c012b5b3e4ee",
   "metadata": {
    "tags": [],
    "user_expressions": []
   },
   "source": [
    "## Introduction\n",
    "Nous avons déjà vu dans les chapîtres précédents des fonctions Python comme `len`, `round`, `type` ou encore `print`. Même si ces fonctions vous apparaissent certainement pour le moment comme des boites noires, nous pouvons quand même faire quelques remarques.\n",
    "A chaque fois, pour les utiliser, on dit **appeler**, nous avons utilisé leur nom suivi d'une paire de parenthèses. A l'intérieur de ces parenthèses, nous avons spécifié ce que devait utiliser ces fonctions ; on appellera cela un **argument**. \n",
    "Une fonction peut aussi n'avoir aucun argument, ou plusieurs arguments. Nous avons aussi constaté que les fonctions effectue une action et que la plupart (mais pas toutes) renvoie un objet (qui peut être de n'importe quel type).\n",
    "\n",
    "```{admonition} En résumé\n",
    ":class: tip\n",
    "Une fonction est un bloc d'instructions qui est exécuté quand la fonction est appelée. La fonction \"communique\" avec le programme principal grâce aux arguments (en entrée) et grâce à ce qui est renvoyé (en sortie).\n",
    "```\n",
    "## Appel de fonction\n",
    "Utilisons quelques exemples d'appels de fonctions et commentons les."
   ]
  },
  {
   "cell_type": "code",
   "execution_count": 1,
   "id": "8c06d797-8ae3-428b-8ae6-8a8af2e6d63a",
   "metadata": {},
   "outputs": [
    {
     "data": {
      "text/plain": [
       "6"
      ]
     },
     "execution_count": 1,
     "metadata": {},
     "output_type": "execute_result"
    }
   ],
   "source": [
    "len('coucou')"
   ]
  },
  {
   "cell_type": "markdown",
   "id": "c755bacc-6319-4edb-bea4-f3c3e4bf4b95",
   "metadata": {
    "tags": [],
    "user_expressions": []
   },
   "source": [
    "Ici, la fonction `len` a été appelée avec un seul argument de type `str`. \n",
    "Elle calcule la longueur de cette chaîne de caractères et renvoie ce nombre (type `int`)."
   ]
  },
  {
   "cell_type": "code",
   "execution_count": 10,
   "id": "6f58bedc-1ab1-4fc4-925d-fcb0fc6c1360",
   "metadata": {},
   "outputs": [
    {
     "data": {
      "text/plain": [
       "3.1416"
      ]
     },
     "execution_count": 10,
     "metadata": {},
     "output_type": "execute_result"
    }
   ],
   "source": [
    "import math\n",
    "round(math.pi,4)"
   ]
  },
  {
   "cell_type": "markdown",
   "id": "c194c3b4-09ac-40a8-ad1a-172ce1ca99b9",
   "metadata": {
    "tags": [],
    "user_expressions": []
   },
   "source": [
    "La fonction `round` est appelée **avec 2 arguments**. Le premier est de type `float` et le second est de type `int`. Elle calcule l'arrondi du premier argument où le nombre de chiffres après la virgule est indiqué par le deuxième argument. Elle renvoie le résultat sous la forme d'un `float`."
   ]
  },
  {
   "cell_type": "code",
   "execution_count": 17,
   "id": "dcc4607a-b978-496e-9e5e-96dde01c8a6e",
   "metadata": {},
   "outputs": [
    {
     "name": "stdout",
     "output_type": "stream",
     "text": [
      "True\n"
     ]
    }
   ],
   "source": [
    "print(math.pi>3)"
   ]
  },
  {
   "cell_type": "markdown",
   "id": "0d4a1a89-7c68-43ca-a24f-9f51fb385e79",
   "metadata": {
    "tags": [],
    "user_expressions": []
   },
   "source": [
    "La fonction `print` a été appelée avec un seul argument ; ici de type `bool`. \n",
    "Elle affiche à l'écran ce booléen et **ne renvoie rien**."
   ]
  },
  {
   "cell_type": "code",
   "execution_count": 16,
   "id": "644ee53f-bdbf-40e0-8114-c90ba878b204",
   "metadata": {},
   "outputs": [
    {
     "data": {
      "text/plain": [
       "0.3012841272105914"
      ]
     },
     "execution_count": 16,
     "metadata": {},
     "output_type": "execute_result"
    }
   ],
   "source": [
    "import random\n",
    "random.random()"
   ]
  },
  {
   "cell_type": "markdown",
   "id": "1b5334cd-ba85-4b2f-9e9e-d5eefd03c533",
   "metadata": {
    "tags": [],
    "user_expressions": []
   },
   "source": [
    "La fonction `random` (du module `random`) a été appelé **sans argument**. Elle génère un nombre aléatoire entre 0.0 et 1.0 et le renvoie (type `float`)."
   ]
  },
  {
   "cell_type": "markdown",
   "id": "93acece2-1914-479e-81be-36e9ac8145f6",
   "metadata": {
    "tags": [],
    "user_expressions": []
   },
   "source": [
    "## Définition d'une fonction\n",
    "Jusqu'à présent nous avons vu des fonctions de base de Python. Mais il est aussi possible d'en créer. On appelle cela **définir** une fonction. Pour définir une fonction il faut suivre la syntaxe suivante :\n",
    "la première ligne de la définition d'un fonction commence par le mot-clé `def`. Il est suivi, après un espace, par le nom de la fonction. On trouve ensuite les une paire de parenthèses encadrant une liste de paramètres (ils sont séparés par des virgules). Les paramètres sont des noms de variables qui seront utilisés dans le corps de la fonction. Lors de l'appel d'une fonction, ces paramètres prennent les valeurs données en arguments. Pour finir, la première ligne se termine par le symbole `:`\n",
    "Après la première ligne se trouve le bloc qui forme le corps de la fonction. Puisqu'il s'agit d'un bloc, il doit être indenté par rapport à la première ligne. Lorsue la fonction renvoie quelque chose, elle doit comporter une ligne avec l'instruction `return` suivie de l'expression dont la valeur doit être renvoyée."
   ]
  },
  {
   "cell_type": "markdown",
   "id": "6dd606cf-d28c-43ee-a965-64c7b30d80f6",
   "metadata": {
    "tags": [],
    "user_expressions": []
   },
   "source": [
    "```{admonition} En résumé\n",
    ":class: tip\n",
    "la syntaxe pour la définition d'une fonction est \n",
    "```python\n",
    "def nom_de_la_fonction ( parametre_1, parametre_2 ) :\n",
    "    # Ceci est un exemple pour 2 paramètres\n",
    "    corps_de_la_fonction\n",
    "    return a_renvoyer\n",
    "```"
   ]
  },
  {
   "cell_type": "code",
   "execution_count": 4,
   "id": "806ee9ac-e6aa-4789-b369-4c496e645c59",
   "metadata": {},
   "outputs": [],
   "source": [
    "def nom_de_la_fonction ( parametre_1, parametre_2 ) :\n",
    "    # Ceci est un exemple pour 2 paramètres\n",
    "    corps_de_la_fonction\n",
    "    return a_renvoyer"
   ]
  },
  {
   "cell_type": "markdown",
   "id": "7f3b4861-7dbf-4210-98d8-59dfe939595d",
   "metadata": {
    "user_expressions": []
   },
   "source": [
    "Dans l'exemple ci-dessous vous trouverez la définition d'une fonction `estpair` qui à partir d'un nombre, `nb`, renvoie `True` quand il est un entier pair et `False` dans le cas contraire (entier impair et non entier)."
   ]
  },
  {
   "cell_type": "code",
   "execution_count": 15,
   "id": "30c9f1b3-726c-413a-9b1f-4ee8b537a306",
   "metadata": {},
   "outputs": [],
   "source": [
    "def estpair(nb) :\n",
    "    if (type(nb) == int) and (nb % 2 == 0) :\n",
    "        return True\n",
    "    else :\n",
    "        return False"
   ]
  },
  {
   "cell_type": "markdown",
   "id": "09411400-fa07-4396-9fac-382c2b41de0e",
   "metadata": {
    "user_expressions": []
   },
   "source": [
    "Il était aussi possible de définir cette fonction de la manière suivante :"
   ]
  },
  {
   "cell_type": "code",
   "execution_count": 16,
   "id": "2023354b-b73e-454b-a52a-fa6ec4ecbd70",
   "metadata": {},
   "outputs": [],
   "source": [
    "def estpair(nb) :\n",
    "    return (type(nb)) == int and (nb % 2 == 0) "
   ]
  },
  {
   "cell_type": "markdown",
   "id": "f867ef65-9c81-4986-8ced-52f8c6156461",
   "metadata": {
    "user_expressions": []
   },
   "source": [
    "Une fois cette fonction définie, nous pouvons l'appeler."
   ]
  },
  {
   "cell_type": "code",
   "execution_count": 14,
   "id": "5a035668-2070-4919-923d-06dcdbe4e7c1",
   "metadata": {},
   "outputs": [
    {
     "name": "stdout",
     "output_type": "stream",
     "text": [
      "True\n",
      "False\n",
      "False\n"
     ]
    }
   ],
   "source": [
    "print(estpair(18))\n",
    "print(estpair(17))\n",
    "print(estpair(18.0))"
   ]
  },
  {
   "cell_type": "markdown",
   "id": "0cfa0a73-b785-4a0a-b3ad-84f811d044eb",
   "metadata": {
    "tags": [],
    "user_expressions": []
   },
   "source": [
    "## 🚀 Pour aller plus loin \n",
    "### Les fonctions `lambda`\n",
    "Il est possible de définir des fonctions à partir d'une autre fonction, appelée `lambda`, qui est composée d'une seul instruction (une seule ligne). La syntaxe est :\n",
    "```python\n",
    "nom_de_la_fonction = lambda parametre_1, parametre_2, ... : valeur_renvoyee"
   ]
  },
  {
   "cell_type": "code",
   "execution_count": 30,
   "id": "0e65305b-10c2-420c-85f9-a0405c2c4d47",
   "metadata": {},
   "outputs": [
    {
     "name": "stdout",
     "output_type": "stream",
     "text": [
      "[10, 50]\n",
      "[8, 10]\n"
     ]
    }
   ],
   "source": [
    "ordonne = lambda a,b : [a,b] if a<b else [b,a]\n",
    "print(ordonne(50,10))\n",
    "print(ordonne(8,10))"
   ]
  },
  {
   "cell_type": "code",
   "execution_count": 29,
   "id": "56f7201c-6b27-4b6b-9350-b00497e24dcf",
   "metadata": {},
   "outputs": [
    {
     "name": "stdout",
     "output_type": "stream",
     "text": [
      "(10, 50)\n"
     ]
    }
   ],
   "source": [
    "print(ordonne(50,10))"
   ]
  },
  {
   "cell_type": "code",
   "execution_count": null,
   "id": "5160824d-741f-470c-85df-447cf3ca82f9",
   "metadata": {},
   "outputs": [],
   "source": []
  }
 ],
 "metadata": {
  "kernelspec": {
   "display_name": "Python 3 (ipykernel)",
   "language": "python",
   "name": "python3"
  },
  "language_info": {
   "codemirror_mode": {
    "name": "ipython",
    "version": 3
   },
   "file_extension": ".py",
   "mimetype": "text/x-python",
   "name": "python",
   "nbconvert_exporter": "python",
   "pygments_lexer": "ipython3",
   "version": "3.9.13"
  }
 },
 "nbformat": 4,
 "nbformat_minor": 5
}

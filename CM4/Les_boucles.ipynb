{
 "cells": [
  {
   "cell_type": "markdown",
   "id": "503352e4-f517-4ee1-b472-c4578d5deb08",
   "metadata": {
    "user_expressions": []
   },
   "source": [
    "# Les boucles\n",
    "temps approximatif : 60min\n",
    "```{admonition} Objectifs\n",
    ":class: hint\n",
    "A l'issue de ce chapitre, vous serez capable de : \n",
    "- créer un programme contenant une boucle utilisant le mot-clef `while`.\n",
    "- créer un programme contenant une boucle utilisant le mot-clef `for`.\n",
    "- itérer sur une liste Python en utilisant `for`.\n",
    "- utiliser a fonction `range()` pour itérer un nombre prédéfini de fois.\n",
    "```\n",
    "\n",
    "## Une ... boucle?\n",
    "\n",
    "Un des intérêts majeurs des languages informatiques tels que Python est de réaliser des tâches répétitives et fastidieuses pour les humains. On appelle **itérer**, le fait de la répéter plusieurs fois une action.\n",
    "Ces actions étant dans une boucle, on dira aussi par extension  **boucler**. L'objectif de ce cours est de se familiariser avec les différents moyens pour réaliser des boucles en python.\n",
    "\n",
    "## Boucle While\n",
    "\n",
    "Commençons par une opération très répétitive à faire à la main. Nous allons afficher tous les nombres pairs de 0 à 20:"
   ]
  },
  {
   "cell_type": "code",
   "execution_count": 61,
   "id": "c412119b-e831-47ef-8b47-2f726597380b",
   "metadata": {},
   "outputs": [
    {
     "name": "stdout",
     "output_type": "stream",
     "text": [
      "0\n",
      "2\n",
      "4\n",
      "6\n",
      "8\n",
      "10\n",
      "12\n",
      "14\n",
      "16\n",
      "18\n",
      "20\n"
     ]
    }
   ],
   "source": [
    "print(0)\n",
    "print(2)\n",
    "print(4)\n",
    "print(6)\n",
    "print(8)\n",
    "print(10)\n",
    "print(12)\n",
    "print(14)\n",
    "print(16)\n",
    "print(18)\n",
    "print(20)"
   ]
  },
  {
   "cell_type": "markdown",
   "id": "79a33c56-df99-4bcb-b1c9-9539df555956",
   "metadata": {
    "tags": [
     "raises-exception"
    ],
    "user_expressions": []
   },
   "source": [
    "Ce code est valide mais il n'est pas pratique. Il est répétitif et difficile à modifier. Le mot clé `while` (\"tant que\" en anglais) est le premier mot clé que nous allons apprendre pour répéter une action en boucle. `while` permet de répéter une action **tant qu'** une condition n'est pas remplie. La syntaxe est la suivante:\n",
    "\n",
    "```\n",
    "while condition:\n",
    "    # instruction 1\n",
    "    # instruction 2\n",
    "```"
   ]
  },
  {
   "cell_type": "markdown",
   "id": "04f6c8a4-c40e-49ae-842b-15d6472a6b7a",
   "metadata": {
    "user_expressions": []
   },
   "source": [
    "On commence par le mot clé `while` suivi d'une condition à remplir, généralement un test, c'est à dire une expression valant `True` ou `False` (voir partie [expressions booléennes](https://yvesnoel.github.io/LU2ST031/semaine2/CM1/Les_expressions.html#les-expressions-booleennes)), puis de deux points `:`, obligatoires (s'ils manquent, une erreur de syntaxe est renvoyée). \n",
    "L'ensemble d'instructions qui va être répété forme un bloc. Ces instructions doivent donc être indentées par rapport au `while`.\n",
    "\n",
    "Voici un exemple d'utilisation du `while` pour résoudre le problème ci-dessus:"
   ]
  },
  {
   "cell_type": "code",
   "execution_count": 62,
   "id": "468731f3-c067-4fc4-9dd5-794997d292f2",
   "metadata": {},
   "outputs": [
    {
     "name": "stdout",
     "output_type": "stream",
     "text": [
      "0\n",
      "2\n",
      "4\n",
      "6\n",
      "8\n",
      "10\n",
      "12\n",
      "14\n",
      "16\n",
      "18\n",
      "20\n"
     ]
    }
   ],
   "source": [
    "x = 0 # On créé une variable x qui vaut 0\n",
    "\n",
    "while x <= 20:  # tant que x est inférieur ou égal à 20, répéter le bloc ci-dessous\n",
    "    print(x)\n",
    "    x += 2  # ajouter 2 à x"
   ]
  },
  {
   "cell_type": "markdown",
   "id": "f7d2ca2b-942a-4072-8456-6e53b638cca3",
   "metadata": {
    "user_expressions": []
   },
   "source": [
    "Les instructions sont répétées tant que `x <= 20` est vrai. Le résultat est exactement le même, mais le code est modifiable très aisément, et beaucoup plus court. Voici l'explication de ce code ligne par ligne:\n",
    "1. On créé la variable x qui vaut 0.\n",
    "2. On créé une boucle while: tant que x est inférieur ou égal à 20, on répète le bloc d'instructions.\n",
    "3. Bloc d'instructions. C'est l'indentation qui permet d'indiquer le bloc. Ici le bloc consiste à afficher x, puis à lui ajouter 2. Ce sont ces instructions qui vont \"boucler\", c'est à dire être répétées, jusqu'à ce que x soit strictement supérieur à 20 (évènement contraire à inférieur ou égal à 20).\n",
    "\n",
    "```{admonition} Remarque\n",
    ":class: note\n",
    "L'indentation est le seul moyen de signifier à Python un bloc d'instructions. \n",
    "Lorsque l'on veut sortir du bloc à répéter, il suffit d'écrire la ligne suivante sans indentation (en tout cas une de moins). \n",
    "Celle-ci n'est donc pas cosmétique : elle fait partie de la syntaxe. Par exemple, si on veut réinitialiser x à la fin:\n",
    "```"
   ]
  },
  {
   "cell_type": "code",
   "execution_count": 63,
   "id": "e64ef464-f534-4b10-8a6c-485ab262584d",
   "metadata": {},
   "outputs": [
    {
     "name": "stdout",
     "output_type": "stream",
     "text": [
      "2\n",
      "4\n",
      "6\n",
      "8\n",
      "10\n",
      "12\n",
      "14\n",
      "16\n",
      "18\n",
      "20\n"
     ]
    }
   ],
   "source": [
    "x = 0\n",
    "\n",
    "while x != 20:\n",
    "    x = x + 2\n",
    "    print(x)\n",
    "    \n",
    "x = 0 # x est remis à zéro après le bloc."
   ]
  },
  {
   "cell_type": "markdown",
   "id": "e501b2e1-f624-4930-873a-e9680be80055",
   "metadata": {
    "user_expressions": []
   },
   "source": [
    "Le résultat est une répétition de la procédure : 20 fois, x va être affiché puis incrémenté (sa valeur va augmenter) de 2.\n",
    "\n",
    "```{admonition} Attention\n",
    ":class: warning\n",
    "Si la condition ne devient jamais fausse, on génère alors une boucle infinie. Il faut alors manuellement arrêter l'exécution du programme. C'est toujours au programmeur de vérifier que la condition va finir par devenir fausse. Ce type de bug ne provoque même pas de message d'erreur et peut être difficile à détecter.\n",
    "```\n",
    "\n",
    "```{admonition} À vous de jouer\n",
    ":class: question\n",
    "Essayez maintenant d'écrire une variante du code vu précédemment pour afficher à la place tous les multiples de 7 jusqu'à 70.\n",
    "```"
   ]
  },
  {
   "cell_type": "code",
   "execution_count": 64,
   "id": "2464a307-f6f6-452b-9635-8a980c420dd0",
   "metadata": {
    "tags": [
     "hide-input"
    ]
   },
   "outputs": [
    {
     "name": "stdout",
     "output_type": "stream",
     "text": [
      "0\n",
      "7\n",
      "14\n",
      "21\n",
      "28\n",
      "35\n",
      "42\n",
      "49\n",
      "56\n",
      "63\n",
      "70\n"
     ]
    }
   ],
   "source": [
    "##SOLUTION\n",
    "x = 0\n",
    "\n",
    "while x <= 70 :\n",
    "    print(x)\n",
    "    x = x + 7"
   ]
  },
  {
   "cell_type": "markdown",
   "id": "a10d8f9e-23bf-465c-921d-d0044f29d677",
   "metadata": {
    "user_expressions": []
   },
   "source": [
    "Le module `random` de Python fournit des fonctions qui permettent de tirer aléatoirement des nombres. \n",
    "Par exemple, la fonction `randint` renvoie un entier tiré au hasard entre les deux bornes qu'on lui fournit. \n",
    "Dans l'exemple ci-dessous, la boucle `while` nous sert à compter le nombre de tirages d'entiers entre 0 et 100 qu'il aura fallu avant de tomber sur un entier supérieur ou égal à 95. `n` compte le nombre d'itérations de la boucle `while`. On ne sait pas a priori combien d'itérations on va faire. Si vous exécutez à nouveau cette cellule, vous obiendrez un nombre différent. "
   ]
  },
  {
   "cell_type": "code",
   "execution_count": 65,
   "id": "ff5d8df3-5853-49c2-9b15-69e64f86331b",
   "metadata": {},
   "outputs": [
    {
     "name": "stdout",
     "output_type": "stream",
     "text": [
      "4\n"
     ]
    }
   ],
   "source": [
    "import random\n",
    "n = 0\n",
    "while random.randint(0,100) < 95 :\n",
    "    n += 1\n",
    "print(n)"
   ]
  },
  {
   "cell_type": "markdown",
   "id": "21b71589-4ae4-4582-bc61-50261447008a",
   "metadata": {
    "user_expressions": []
   },
   "source": [
    "## Boucle For\n",
    "Le fait d'appliquer une même action à tous les éléments d'un ensemble d'objets, qu'on applera **itérable**, est une autre tâche répétitive qui peut être réalisée avec un autre mot clé : `for`.\n",
    "Nous avons vu précédemment les listes, qui sont des objets itérables. Nous pouvons donc utiliser une boucle `for` pour parcourir la liste et effectuer la même action pour chacun de ces éléments.\n",
    "\n",
    "Dans l'exemple ci-dessous, on a une liste de valeurs correspondant à des tailles d'ammonites en centimètres. Nous devons convertir ces valeurs en millimètres:"
   ]
  },
  {
   "cell_type": "code",
   "execution_count": 66,
   "id": "310379e0-55ba-4d62-980d-200e55b0fab9",
   "metadata": {},
   "outputs": [
    {
     "name": "stdout",
     "output_type": "stream",
     "text": [
      "[15.4, 58.7, 94.5, 42.5]\n"
     ]
    }
   ],
   "source": [
    "tailles_cm = [1.54, 5.87, 9.45, 4.25]  # Liste des tailles en cm\n",
    "tailles_mm = []                     # Nouvelle liste à remplir\n",
    "\n",
    "for taille in tailles_cm :           # pour chaque élément de liste_cm appelé i\n",
    "    tailles_mm.append(taille * 10)    # on multiplie par 10 taille et on l'ajoute à la fin de la nouvelle liste, tailles_mm. \n",
    "                                    # Cette action se répéte pour chaque valeur de taille de la liste tailles_cm\n",
    "print(tailles_mm)                   # Affiche la nouvelle liste des tailles en mm"
   ]
  },
  {
   "cell_type": "markdown",
   "id": "46448eb9-1b21-4715-96dc-26ec466daddb",
   "metadata": {
    "tags": [],
    "user_expressions": []
   },
   "source": [
    "Le code ci-dessus ressemble beaucoup au `while`, avec son indentation qui distingue le bloc d'instructions. Cependant, le fonctionnement y est ici différent. `taille_cm` est la liste sur laquelle nous itérons. `for taille in taille_cm :` peut être traduit en : **pour** chaque élément dénoté `taille` de `taille_cm`, réaliser le bloc d'instructions. Le code va répéter le bloc d'instructions pour chaque élément de la liste. A chaque itération, le nouvel élément courant de la liste sera affecté à la variable `taille` (la valeur contenue dans la variable `taille` va donc changer à chaque tour de boucle). C'est un outil puissant pour automatiser des actions à répéter!"
   ]
  },
  {
   "cell_type": "markdown",
   "id": "25b55494-d332-4113-85f6-3a49e5da2ff7",
   "metadata": {
    "user_expressions": []
   },
   "source": [
    "```{admonition} Attention\n",
    ":class: warning\n",
    "Il ne faut jamais modifier une liste lorsque l'on boucle dessus, car c'est une source majeure d'erreurs. Préférez toujours créer une nouvelle liste pour que les éléments de la liste ne soient pas modifiés et puissent continuer à être itérer.\n",
    "```\n",
    "\n",
    "A retenir: `while` sert à répéter une action jusqu'à ce qu'une condition ne soit plus satisfaite. `for` sert à répéter une action sur chaque élément d'une liste ou d'un autre objet itérable. En général, on utilise plutôt `for` quand on sait combien de fois il va falloir répéter le bloc d'instructions. Si ce nombre n'est pas connu, on se reporte vers `while`.\n",
    "\n",
    "On utilise souvent une variable qui va servir de **compteur** et qui est notée `i` par convention. Par exemple, si on veut répéter une action dix fois, il est possible d'utiliser un compteur avec une boucle `while` comme ci-dessous :"
   ]
  },
  {
   "cell_type": "code",
   "execution_count": 67,
   "id": "96c47a07-0c23-4d37-a928-85400fbe23d6",
   "metadata": {},
   "outputs": [
    {
     "name": "stdout",
     "output_type": "stream",
     "text": [
      "infogeol\n",
      "infogeol\n",
      "infogeol\n",
      "infogeol\n",
      "infogeol\n",
      "infogeol\n",
      "infogeol\n",
      "infogeol\n",
      "infogeol\n",
      "infogeol\n"
     ]
    }
   ],
   "source": [
    "i = 0  # en règle générale, on compte à partir de zéro en python\n",
    "\n",
    "while i < 10:  # tant que i plus petit que dix, répéter\n",
    "    print('infogeol')\n",
    "    i += 1  # incrémenter le compteur de 1"
   ]
  },
  {
   "cell_type": "markdown",
   "id": "d4c0725e-6912-4604-953c-ff1a528cb12e",
   "metadata": {
    "user_expressions": []
   },
   "source": [
    "Il est également possible d'utiliser l'instruction `range` pour générer une suite de nombres, ce qui est très utile pour itérer sans avoir de liste. Cette instruction s’utilise de la manière suivante :\n",
    "\n",
    "`range(start, stop, step)`\n",
    "\n",
    "`range` créé une suite de nombres allant de `start` (inclus) à `stop` (exclu) avec un pas de `step` (cet argument est optionnel). \n",
    "Si le paramètre `start` est homis, il prend la valeur 0. `range(0,1000)` est équivalent à `range(1000)` et permet de générer tous les entiers de 0 à 999. Il est possible d'utiliser ce résultat directement dans une boucle `for`. \n",
    "\n",
    "Par exemple, si l'on souhaite afficher dix fois un texte :"
   ]
  },
  {
   "cell_type": "code",
   "execution_count": 68,
   "id": "28013135-9450-4f08-8998-166c43dda890",
   "metadata": {},
   "outputs": [
    {
     "name": "stdout",
     "output_type": "stream",
     "text": [
      "infogeol\n",
      "infogeol\n",
      "infogeol\n",
      "infogeol\n",
      "infogeol\n",
      "infogeol\n",
      "infogeol\n",
      "infogeol\n",
      "infogeol\n",
      "infogeol\n"
     ]
    }
   ],
   "source": [
    "for i in range(10): # pour chaque élément i de 0 à 9\n",
    "    print('infogeol') # bloc d'instructions"
   ]
  },
  {
   "cell_type": "markdown",
   "id": "5782db39-afab-4405-8db2-f41ff3c3b17b",
   "metadata": {
    "tags": [],
    "user_expressions": []
   },
   "source": [
    "Dans l'exemple ci-desus, `i` va prendre toutes les valeurs de 0 à 9. Il peut être utilisé, mais ce n'est pas le cas ici, car on souhaite uniquement faire 10 tours de boucle (on aurait pu utiliser `range(1,11)` ou `range(0,20,2)` mais ça n'a pas vraiment d'intérêt).\n"
   ]
  },
  {
   "cell_type": "markdown",
   "id": "f85fd346-5a09-4ede-95ea-b8129a15754c",
   "metadata": {
    "tags": [],
    "user_expressions": []
   },
   "source": [
    ":::{admonition} Attention\n",
    ":class: warning\n",
    "`range` ne renvoie pas une liste de nombres à proprement parler mais un objet de type `range` sur lequel on peut itérer comme si c'était une liste. L'exemple ci-dessous illustre ça grâce à la fonction `type`.\n",
    ":::\n"
   ]
  },
  {
   "cell_type": "code",
   "execution_count": 69,
   "id": "0e295a2f-3517-4b19-bbd6-ab3963a1385c",
   "metadata": {},
   "outputs": [
    {
     "name": "stdout",
     "output_type": "stream",
     "text": [
      "<class 'range'>\n",
      "<class 'list'>\n"
     ]
    }
   ],
   "source": [
    "print(type(range(5)))\n",
    "print(type([0, 1, 2, 3, 4]))"
   ]
  },
  {
   "cell_type": "markdown",
   "id": "29c9d496-f119-4548-bc4d-0bb37539431d",
   "metadata": {
    "user_expressions": []
   },
   "source": [
    "```{admonition} À vous de jouer\n",
    ":class: question\n",
    "Essayez maintenant d'afficher tous les résultats de la table de multiplication de 8 (de 8 x 1 à 8 x 10) en utilisant `for` et `range`.\n",
    "```"
   ]
  },
  {
   "cell_type": "code",
   "execution_count": 70,
   "id": "48f991c5-e9d0-4b69-b873-9827c7dd0be6",
   "metadata": {
    "tags": [
     "hide-input"
    ]
   },
   "outputs": [
    {
     "name": "stdout",
     "output_type": "stream",
     "text": [
      "8\n",
      "16\n",
      "24\n",
      "32\n",
      "40\n",
      "48\n",
      "56\n",
      "64\n",
      "72\n",
      "80\n"
     ]
    }
   ],
   "source": [
    "##SOLUTION\n",
    "for i in range(1,11): # pour chaque élément i de 0 à 10\n",
    "    print(i*8) # bloc d'instructions"
   ]
  },
  {
   "cell_type": "markdown",
   "id": "f31e5241-3fdb-4014-b9ae-ef21d30b1755",
   "metadata": {
    "tags": [],
    "user_expressions": []
   },
   "source": [
    "## Les itérables\n",
    "Nous avons vu précédemment que les listes et les range sont des itérables. Les chaîne de caractères, [les tuples et les sets](#L_autresTypes) sont aussi des itérables. Par contre les `int`, les `float` et les `bool` ne le sont pas."
   ]
  },
  {
   "cell_type": "code",
   "execution_count": 78,
   "id": "27ba0d9c-2c3d-4099-bb8b-9b191dcd0b02",
   "metadata": {},
   "outputs": [
    {
     "name": "stdout",
     "output_type": "stream",
     "text": [
      "T\n",
      "o\n",
      "t\n",
      "o\n"
     ]
    }
   ],
   "source": [
    "for c in 'Toto' :\n",
    "    print(c)"
   ]
  },
  {
   "cell_type": "code",
   "execution_count": 79,
   "id": "93d9960c-d53a-46a5-9086-fb2552c2f2b2",
   "metadata": {
    "tags": [
     "raises-exception"
    ]
   },
   "outputs": [
    {
     "ename": "TypeError",
     "evalue": "'float' object is not iterable",
     "output_type": "error",
     "traceback": [
      "\u001b[1;31m---------------------------------------------------------------------------\u001b[0m",
      "\u001b[1;31mTypeError\u001b[0m                                 Traceback (most recent call last)",
      "\u001b[1;32m~\\AppData\\Local\\Temp\\ipykernel_300\\2047921023.py\u001b[0m in \u001b[0;36m<module>\u001b[1;34m\u001b[0m\n\u001b[1;32m----> 1\u001b[1;33m \u001b[1;32mfor\u001b[0m \u001b[0mi\u001b[0m \u001b[1;32min\u001b[0m \u001b[1;36m3.141\u001b[0m \u001b[1;33m:\u001b[0m\u001b[1;33m\u001b[0m\u001b[1;33m\u001b[0m\u001b[0m\n\u001b[0m\u001b[0;32m      2\u001b[0m     \u001b[0mprint\u001b[0m\u001b[1;33m(\u001b[0m\u001b[0mi\u001b[0m\u001b[1;33m)\u001b[0m\u001b[1;33m\u001b[0m\u001b[1;33m\u001b[0m\u001b[0m\n",
      "\u001b[1;31mTypeError\u001b[0m: 'float' object is not iterable"
     ]
    }
   ],
   "source": [
    "for i in 3.141 :\n",
    "    print(i)"
   ]
  },
  {
   "cell_type": "markdown",
   "id": "b02914f8-faac-4537-a076-dc3d00f1f42b",
   "metadata": {
    "user_expressions": []
   },
   "source": [
    "Une boucle `for` itère seulement sur le premier niveau d'itérable."
   ]
  },
  {
   "cell_type": "code",
   "execution_count": 82,
   "id": "52adc4c4-f7d6-4775-90b5-5ac94458aecc",
   "metadata": {},
   "outputs": [
    {
     "name": "stdout",
     "output_type": "stream",
     "text": [
      "[1, 2, 3]\n",
      "[4, 5]\n",
      "[6, 7, 8, 9]\n"
     ]
    }
   ],
   "source": [
    "for i in [[1, 2, 3],[4, 5],[6, 7, 8, 9]]:\n",
    "    print(i)"
   ]
  },
  {
   "cell_type": "markdown",
   "id": "4269bc07-50e4-4486-9a5c-f99f7df8a775",
   "metadata": {
    "user_expressions": []
   },
   "source": [
    "La solution est alors d'utiliser 2 boucles **imbriquées** ; c'est à dire une boucle `for` à l'intérieur d'une autre boucle `for`. On itère sur l'élément `i` de la première boucle car c'est lui même un itérable."
   ]
  },
  {
   "cell_type": "code",
   "execution_count": 83,
   "id": "bd2d2823-8dbe-4de6-b2f3-64c458eab2c9",
   "metadata": {},
   "outputs": [
    {
     "name": "stdout",
     "output_type": "stream",
     "text": [
      "1\n",
      "2\n",
      "3\n",
      "4\n",
      "5\n",
      "6\n",
      "7\n",
      "8\n",
      "9\n"
     ]
    }
   ],
   "source": [
    "for i in [[1, 2, 3],[4, 5],[6, 7, 8, 9]] :\n",
    "    for j in i :\n",
    "        print(j)"
   ]
  },
  {
   "cell_type": "markdown",
   "id": "189dcd15-74ee-4ce7-a963-88a028b34bd6",
   "metadata": {
    "tags": [],
    "user_expressions": []
   },
   "source": [
    "## 🚀 Pour aller plus loin: listes en intension"
   ]
  },
  {
   "cell_type": "markdown",
   "id": "e008233e-c02d-46c2-af14-fd5052fa546e",
   "metadata": {
    "user_expressions": []
   },
   "source": [
    "Les listes en intension (on dit aussi listes en compréhension) sont une forme encore plus puissante et synthétique de créer des listes. Reprenons l'exemple :"
   ]
  },
  {
   "cell_type": "code",
   "execution_count": 71,
   "id": "509a46bb-364c-4444-a44b-1cd786a30560",
   "metadata": {},
   "outputs": [
    {
     "name": "stdout",
     "output_type": "stream",
     "text": [
      "[15.4, 58.7, 94.5, 42.5]\n"
     ]
    }
   ],
   "source": [
    "tailles_cm = [1.54, 5.87, 9.45, 4.25]  # Liste des tailles en cm\n",
    "tailles_mm = []                     # Nouvelle liste à remplir\n",
    "\n",
    "for taille in tailles_cm :           # pour chaque élément de liste_cm appelé i\n",
    "    tailles_mm.append(taille * 10)    # on multiplie par 10 taille et on l'ajoute à la fin de la nouvelle liste, tailles_mm. \n",
    "                                    # Cette action se répéte pour chaque valeur de taille de la liste tailles_cm\n",
    "print(tailles_mm)                   # Affiche la nouvelle liste des tailles en mm"
   ]
  },
  {
   "cell_type": "markdown",
   "id": "3b17f889-1e24-4d3d-a170-3cba76519847",
   "metadata": {
    "user_expressions": []
   },
   "source": [
    "Cet exemple s'écrirait de la manière suivante avec des listes en intension "
   ]
  },
  {
   "cell_type": "code",
   "execution_count": 72,
   "id": "dc2782c3-e7f1-4e42-9c5e-06b37622abbb",
   "metadata": {},
   "outputs": [
    {
     "name": "stdout",
     "output_type": "stream",
     "text": [
      "[15.4, 58.7, 94.5, 42.5]\n"
     ]
    }
   ],
   "source": [
    "tailles_mm = [taille * 10 for taille in tailles_cm]\n",
    "print(tailles_mm)"
   ]
  },
  {
   "cell_type": "markdown",
   "id": "2f9bf0e1-266d-41ac-9e08-79f7bf1b8fdc",
   "metadata": {
    "user_expressions": []
   },
   "source": [
    "Ici, il n'y a plus de bloc ; la création de liste tient en une ligne, sans avoir à écrire toutes les valeurs. Il s'agit d'une **liste en intension**. Les listes en intension sont un moyen très efficace de transformer toute une liste. Il est possible par exemple de jouer avec les types:"
   ]
  },
  {
   "cell_type": "code",
   "execution_count": 73,
   "id": "7b52ab56-6ec0-452a-9534-34dda3417410",
   "metadata": {},
   "outputs": [
    {
     "name": "stdout",
     "output_type": "stream",
     "text": [
      "['15.4mm', '58.7mm', '94.5mm', '42.5mm']\n"
     ]
    }
   ],
   "source": [
    "tailles_mm = [str(taille * 10)+'mm' for taille in tailles_cm]\n",
    "print(tailles_mm)"
   ]
  },
  {
   "cell_type": "markdown",
   "id": "7931acd6-3629-4167-9ce2-f4428195cd8a",
   "metadata": {
    "user_expressions": []
   },
   "source": [
    "Et même de filtrer des éléments d'une liste en y ajoutant, de manière très intuitive, une condition:"
   ]
  },
  {
   "cell_type": "code",
   "execution_count": 74,
   "id": "be9dfb9f-f23a-41ad-ab75-4c31db9786a6",
   "metadata": {},
   "outputs": [
    {
     "name": "stdout",
     "output_type": "stream",
     "text": [
      "[58.7, 94.5]\n"
     ]
    }
   ],
   "source": [
    "tailles_mm = [taille * 10 for taille in tailles_cm if taille > 5]\n",
    "print(tailles_mm)"
   ]
  },
  {
   "cell_type": "markdown",
   "id": "b0691fc4-3a22-4551-a6a2-df964291401a",
   "metadata": {
    "user_expressions": []
   },
   "source": [
    "est équivalent à:"
   ]
  },
  {
   "cell_type": "code",
   "execution_count": 75,
   "id": "bf8643b2-377e-4112-9c86-9043a1a96dea",
   "metadata": {},
   "outputs": [
    {
     "name": "stdout",
     "output_type": "stream",
     "text": [
      "[58.7, 94.5]\n"
     ]
    }
   ],
   "source": [
    "tailles_mm = []\n",
    "for taille in tailles_cm : \n",
    "    if taille > 5:  # on filtre les valeurs supérieures à 5\n",
    "        tailles_mm.append(taille * 10) \n",
    "print(tailles_mm)"
   ]
  },
  {
   "cell_type": "markdown",
   "id": "272635c9-6836-4d8c-b36b-7a7261cea3eb",
   "metadata": {
    "tags": [],
    "user_expressions": []
   },
   "source": [
    ":::{admonition} Remarque\n",
    ":class:note\n",
    "L'utilisation de `append` nous oblige à initialliser avent la boucle la liste `tailles_mm` contrairement à la version avec la création de la liste en intension.\n",
    ":::"
   ]
  }
 ],
 "metadata": {
  "kernelspec": {
   "display_name": "Python 3 (ipykernel)",
   "language": "python",
   "name": "python3"
  },
  "language_info": {
   "codemirror_mode": {
    "name": "ipython",
    "version": 3
   },
   "file_extension": ".py",
   "mimetype": "text/x-python",
   "name": "python",
   "nbconvert_exporter": "python",
   "pygments_lexer": "ipython3",
   "version": "3.9.13"
  }
 },
 "nbformat": 4,
 "nbformat_minor": 5
}

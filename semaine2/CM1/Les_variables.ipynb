{
 "cells": [
  {
   "cell_type": "markdown",
   "id": "a2ceb98d-3a47-4032-8ad9-b7fb28f42000",
   "metadata": {
    "tags": [],
    "user_expressions": []
   },
   "source": [
    "# Les variables\n",
    "[![Binder](https://mybinder.org/badge_logo.svg)](https://mybinder.org/v2/gh/yvesnoel/LU2ST031.git/master?labpath=semaine1%2FCM1%2FLes_variables.ipynb)\n",
    "```{admonition} Objectifs\n",
    ":class: hint\n",
    "A l'issue de ce chapître, vous serez capable \n",
    "- d'affecter le résultat d'une expression à une variable\n",
    "- d'utiliser le contenu d'une variable dans une expression\n",
    "- de reconnaître le type d'une variable déjà existante\n",
    "- de modifier le contenu d'une variable déjà existante\n",
    "\n",
    "```"
   ]
  },
  {
   "cell_type": "markdown",
   "id": "8b4d1ac4-e247-410f-8f54-29d727a52c06",
   "metadata": {
    "tags": [],
    "user_expressions": []
   },
   "source": [
    "### Le principe\n",
    "Une variable permet de repérer, à l'aide d'un nom, des zones de la mémoire de l'ordinateur où sont stockées des valeurs. \n",
    "De la même façon que, chez soi, on peut ranger un objet dans dans une boîte, on peut écrire une valeur dans une variable ; on parle alors d'__affectation__. \n",
    "En Python, il n'est pas nécessaire de créer au préalable une variable (on appelle cela la déclaration) avant de lui affecter une valeur. La variable est créée au moment où on lui affecte une valeur pour la première fois. On appelle cela l'__initialisation__ d'une variable.\n",
    "\n",
    "Chez soi, on range les objets dans des boites pour les utiliser plus tard, au bon moment. En programmation, c'est la même chose : on affecte des valeurs dans des variables pour les utiliser plus tard, quand on en a besoin, dans une expression.\n",
    "\n",
    "Pour changer le contenu d'une variable, il suffit de lui réaffecter une nouvelle valeur. L'ancienne valeur est alors écrassée, perdue."
   ]
  },
  {
   "cell_type": "markdown",
   "id": "87848953-ef9f-45a8-9c4e-a5eaec9e717f",
   "metadata": {
    "user_expressions": []
   },
   "source": [
    "### Types de variables\n",
    "Les valeurs qui sont affectées dans des variables sont le résultat d'une expression.\n",
    "Le type de ces variables correspond donc au type de l'expression qu'elle contient. Comme nous l'avons vu précédemment, les quatre types principaux sont : les entiers (`integer`), les nombres à virgule (`float`), les chaines de caractères (`str`) et les booléens (`bool`)."
   ]
  },
  {
   "cell_type": "markdown",
   "id": "329e630b-60bf-4a52-bcd4-8392012b7dab",
   "metadata": {
    "user_expressions": []
   },
   "source": [
    "### Noms de variable\n",
    "Si l'on reprend l'analogie de la boîte de rangement, il est rapidement nécessaire de mettre des étiquettes sur les boîtes pour récupérer efficacement ce que l'on cherche. En programmation, c'est un peu pareil : les variables ont un nom et c'est grâce à ce nom que l'on peut affecter une valeur dedans et encore grâce à lui que l'on peut réutiliser son contenu dans une expression."
   ]
  },
  {
   "cell_type": "markdown",
   "id": "84baee88-7b9f-48ca-a09d-95d8b4c5a51c",
   "metadata": {
    "tags": [],
    "user_expressions": []
   },
   "source": [
    "## La syntaxe de l'affectation\n",
    "Le symbole indiquant à Python une affectation est le signe `=` \n",
    "Contrairement à sont aspect et à son utilisation en mathématique, cet opérateur n'est pas symétrique : à gauche du `=` on trouve le nom de la variable dans laquel on va affecter la valeur et à droite on trouve une expression qui se ramène à une valeur qui va être affectée."
   ]
  },
  {
   "cell_type": "code",
   "execution_count": 1,
   "id": "a97ccb55-1b5d-4e05-a790-41278d7d765f",
   "metadata": {},
   "outputs": [],
   "source": [
    "ma_variable = 3 * 4"
   ]
  },
  {
   "cell_type": "markdown",
   "id": "99a21aeb-0b94-4552-a1dc-2286e9763c93",
   "metadata": {
    "tags": [],
    "user_expressions": []
   },
   "source": [
    "Dans cet exemple on affecte la valeur 12 dans un variable dont le nom est `ma_variable` "
   ]
  },
  {
   "cell_type": "markdown",
   "id": "d02c0919-91c5-4144-b7c8-3659356645de",
   "metadata": {
    "tags": [],
    "user_expressions": []
   },
   "source": [
    "## L'utilisation du contenu d'une variable\n",
    "L'intéret d'affecter une valeur dans une variable, c'est à dire de la stocker, est de pouvoir la réutiliser plus tard, dans une nouvelle expression. Pour cela, dans une expression, il suffit d'utiliser le nom de la variable là où on voudrait utiliser sa valeur"
   ]
  },
  {
   "cell_type": "code",
   "execution_count": 2,
   "id": "5856a7a3-c817-4ad8-9526-6b0376a834ac",
   "metadata": {},
   "outputs": [
    {
     "name": "stdout",
     "output_type": "stream",
     "text": [
      "20\n"
     ]
    }
   ],
   "source": [
    "x = 10\n",
    "print(2*x)"
   ]
  },
  {
   "cell_type": "code",
   "execution_count": 4,
   "id": "45a15119-324e-43ef-8b0e-d713ea4f3750",
   "metadata": {},
   "outputs": [
    {
     "name": "stdout",
     "output_type": "stream",
     "text": [
      "8\n"
     ]
    }
   ],
   "source": [
    "y = x - 2\n",
    "print(y)"
   ]
  }
 ],
 "metadata": {
  "kernelspec": {
   "display_name": "Python 3 (ipykernel)",
   "language": "python",
   "name": "python3"
  },
  "language_info": {
   "codemirror_mode": {
    "name": "ipython",
    "version": 3
   },
   "file_extension": ".py",
   "mimetype": "text/x-python",
   "name": "python",
   "nbconvert_exporter": "python",
   "pygments_lexer": "ipython3",
   "version": "3.9.13"
  }
 },
 "nbformat": 4,
 "nbformat_minor": 5
}

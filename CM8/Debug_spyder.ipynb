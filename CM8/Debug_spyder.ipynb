{
 "cells": [
  {
   "cell_type": "markdown",
   "id": "24bc5235-075b-432a-ad91-2a480efc74ff",
   "metadata": {},
   "source": [
    "# Débuguer avec Spyder\n",
    "\n",
    "```{admonition} Objectifs\n",
    ":class: hint\n",
    "A l'issue de ce chapitre, vous serez capable de : \n",
    "- utiliser le mode debug de spyder pour localiser un bug dans un programme Python en exécutant le code ligne par ligne étape par étape.\n",
    "- utiliser la fonctionnalité `step into function` dans le mode debug de Spyder pour localiser un bug dans une fonction.\n",
    "```\n",
    "\n",
    "Régulièrement, quand on ecrit un code, on se retrouve dans une situation où ça ne fonctionne pas. Le problème, c'est qu'il peut être difficile de trouver ou se trouve l'erreur quand le code est complexe et dispose de nombreuses fonctions. On appuie sur `run`, le programme se lance, et puis... rien. Aucun indice sur à quel endroit du code il y a eu un problème. Pas de message d'erreur. Heureusement, des outils existent pour traquer et identifier rapidement les bugs. Dans Spyder, nous allons voir le débugueur. \n",
    "\n",
    "```{admonition} Remarque\n",
    ":class: note\n",
    "Il existe une fonctionnalité analogue dans Jupyterlab. [Plus d'informations ici](https://jupyterlab.readthedocs.io/en/latest/user/debugger.html)\n",
    "```\n",
    "## Debug file\n",
    "\n",
    "En ouvrant Spyder, vous pouvez voir dans les icones du haut un ensemble de plusieurs icones bleues.\n",
    "\n",
    "![](https://github.com/yvesnoel/LU2ST031/blob/master/docs/assets/css/debug_icones.png?raw=true)\n"
   ]
  },
  {
   "cell_type": "code",
   "execution_count": 1,
   "id": "55511511-f5a1-4aea-ab51-c188b7fd8803",
   "metadata": {},
   "outputs": [
    {
     "name": "stdout",
     "output_type": "stream",
     "text": [
      "1.70520001218e+17\n"
     ]
    }
   ],
   "source": [
    "# -*- coding: utf-8 -*-\n",
    "\"\"\"\n",
    "Circulation thermohaline\n",
    "\"\"\"\n",
    "\n",
    "# définition de la fonction circuthermo\n",
    "def circuthermo(S2, V2, C):\n",
    "    \"\"\"\n",
    "    Fonction calculant le volume d'un océan et sa salinité après débacle d'un\n",
    "    iceberg.\n",
    "    \n",
    "    Parameters\n",
    "    ----------\n",
    "    S2 : float\n",
    "        volume de l'océan avant débacle.\n",
    "    V2 : float\n",
    "        salinité de l'océan avant débacle.\n",
    "    C : float\n",
    "        volume de l'iceberg.\n",
    "\n",
    "    Returns\n",
    "    -------\n",
    "    V2_apres : float\n",
    "        volume de l'océan avant débacle.\n",
    "    V2_apres : float\n",
    "        salinité de l'océan après débacle.\n",
    "\n",
    "    \"\"\"\n",
    "    \n",
    "    V2_apres = V2 + C # volume dans l'Atlantique Nord après décharge \n",
    "                        # d’un iceberg de 0.5 millions de km^3\n",
    "\n",
    "    S2_apres = (S2 * V2) * V2_apres # salinité après décharge\n",
    "     \n",
    "    return V2_apres, S2_apres  # valeur renvoyée par la fonction\n",
    "\n",
    "    # fin de la fonction et de l'indentation\n",
    "\n",
    "S2 = 34.8 # salinité dans l’Atlantique Nord en psu\n",
    "V2 = 70*10**6 # volume d'eau de l’Atlantique Nord en km\n",
    "C = 0.5 # volume de l'iceberg\n",
    "\n",
    "V2_apres, S2_apres = circuthermo(S2, V2, C)  # appel de la fonction circuthermo\n",
    "\n",
    "print(S2_apres)  # print la valeur calculée"
   ]
  },
  {
   "cell_type": "markdown",
   "id": "9e83523e-bc58-4851-8f1b-c690d375068a",
   "metadata": {},
   "source": [
    "Il n'y a aucun message d'erreur, le script semble avoir fonctionné, mais... la salinité est beaucoup trop importante! Il faut localiser ou se trouve l'erreur.\n",
    "Reprenons ce code dans spyder. Collez le code ci-dessus dans un nouveau fichier et ouvrez le dans spyder. Ensuite, cliquez sur le bouton `Debug file` ![](https://github.com/yvesnoel/LU2ST031/blob/master/docs/assets/css/debug_run.png?raw=true). Vous devriez voir une flèche bleue en ligne 2 comme ci-dessous:\n",
    "\n",
    "![](https://github.com/yvesnoel/LU2ST031/blob/master/docs/assets/css/imprimecran_debug.png?raw=true)\n",
    "\n",
    "Vous êtes maintenant dans le mode debug. Il s'agit d'un mode spécial dans lequel vous allez pouvoir exécuter votre code pas à pas pour identifier l'endroit ou se situe l'erreur. \n",
    "\n",
    "```{admonition} Remarque\n",
    ":class: note\n",
    "A tout moment, vous pouvez sortir de ce mode en cliquant sur `Stop debugging` !![](https://github.com/yvesnoel/LU2ST031/blob/master/docs/assets/css/debug_stop.png?raw=true)\n",
    "```\n",
    "Pour exécuter la ligne et uniquement celle-ci, cliquez sur `Run current line` !![](https://github.com/yvesnoel/LU2ST031/blob/master/docs/assets/css/debug_next.png?raw=true). Vous arrivez maintenant ligne 7. CLiquez encore une fois et Spyder va charger la fonction, puis passer à la ligne 39. \n",
    "\n",
    "Cliquez encore pour arriver ligne 40. Vous pouvez regarder l'état des variables au fur et à mesure en ouvrant l'onglet `Variable explorer`:\n",
    "\n",
    "![](https://github.com/yvesnoel/LU2ST031/blob/master/docs/assets/css/imprimecran_debug40.png?raw=true)\n",
    "\n",
    "Vous constatez que seul S2 a été chargé. Pour l'instant, tout va bien, le bug ne semble pas être ici. Continuons !![](https://github.com/yvesnoel/LU2ST031/blob/master/docs/assets/css/debug_next.png?raw=true)\n",
    " progressivement.  Regardez l'évolution des variables. Tout va bien jusqu'à la ligne 41. Il semble que ce soit au moment de l'appel de la fonction `circuthermo()` qu'il y ait un problème. Il faut rentrer directement dans la fonction avec les bons arguments pour trouver l'erreur."
   ]
  },
  {
   "cell_type": "markdown",
   "id": "fdc87f0c-bcd0-4072-90ef-f3cd34c36f27",
   "metadata": {},
   "source": [
    "## Rentrer dans les fonctions avec \"step in\"\n",
    "\n",
    "Pour pouvoir rentrer \"à l'intérieur\" de la fonction pour la tester, vous devez être sur une ligne de code comportant un appel de la fonction. Si nécessaire, stoppez le mode debug, puis retourner dans le mode debug et revenez jusqu'à la ligne 43. A cet endroit, si vous cliquez sur !![](https://github.com/yvesnoel/LU2ST031/blob/master/docs/assets/css/debug_next.png?raw=true)\n",
    ", vous exécutez simplement la ligne et passez à la suivante. Nous voulons savoir précisément ce qui se passe dans cette ligne en rentrant dans la fonction. Pour ce faire, cliquez sur `Step into function` !![](https://github.com/yvesnoel/LU2ST031/blob/master/docs/assets/css/debug_stepin.png?raw=true)\n",
    ". Vous vous retrouvez maintenant dans la fonction `circuthermo()` et les variables `V2`, `S2` et `C` sont bien chargées comme indiqué dans le `Variable explorer`. Continuez a exécuter le code jusqu'à la ligne 33. Tout va bien. Exécutez cette ligne: `S2_apres` est calculé, et mal! C'est à cette ligne que se trouve le problème. En effet, il est nécessaire de remplacer"
   ]
  },
  {
   "cell_type": "code",
   "execution_count": 3,
   "id": "57c28e32-44ea-40b3-af5f-1de8723b752e",
   "metadata": {},
   "outputs": [],
   "source": [
    "    S2_apres = (S2 * V2) * V2_apres # salinité après décharge"
   ]
  },
  {
   "cell_type": "markdown",
   "id": "23e498c4-5d2c-47cc-b03d-44ed5f1d14d5",
   "metadata": {},
   "source": [
    "par"
   ]
  },
  {
   "cell_type": "code",
   "execution_count": 5,
   "id": "7c6b5ef8-8092-4afe-afc8-b8ab11848189",
   "metadata": {},
   "outputs": [],
   "source": [
    "    S2_apres = (S2 * V2) / V2_apres # salinité après décharge"
   ]
  },
  {
   "attachments": {
    "c75bc556-2841-4984-8686-82417d1c3b85.png": {
     "image/png": "[encoded data removed]"
    }
   },
   "cell_type": "markdown",
   "id": "c84b6c5a-f68b-46fd-b20a-71c7a85a9ba2",
   "metadata": {},
   "source": [
    "## 🚀 Pour aller plus loin: les breakpoints\n",
    "\n",
    "Parfois, on peut avoir une intuition sur la localisation du problème. Si le problème n'est certainement pas dans la première partie d'un code par exemple, il peut être laborieux de cliquez 50 fois sur ![](https://github.com/yvesnoel/LU2ST031/blob/master/docs/assets/css/debug_next.png?raw=true)\n",
    ". Dans ce cas, on peut établir des points de passage dans notre code et passer uniquement par ces points. A gauche du script, vous pouvez voir les numéros des différentes lignes. En passant la souris à droite des numéros, vous pouvez apercevoir un rond rouge. Cliquez:\n",
    "\n",
    "![](https://github.com/yvesnoel/LU2ST031/blob/master/docs/assets/css/imprimecran_breakpoint.png?raw=true)\n",
    "\n",
    "\n",
    "Vous avez défini un \"breakpoint\", un point de d'arret, sur la ligne indiquée. Retournez dans le mode debug. Vous arrivez directement à la ligne du breakpoint!\n",
    "\n",
    "```{admonition} Remarque\n",
    ":class: note\n",
    "Vous pouvez indiquer autant de points de d'arret que vous le souhaitez, aller au premier puis ensuite passer en ligne par ligne. Si vous indiquez plusieurs points de passage et que vous souhaitez aller au suivant, il suffit de cliquer sur `Continue execution until next breakpoint` ![debug_breakpoint.png](attachment:c75bc556-2841-4984-8686-82417d1c3b85.png).\n",
    "```"
   ]
  }
 ],
 "metadata": {
  "kernelspec": {
   "display_name": "Python 3 (ipykernel)",
   "language": "python",
   "name": "python3"
  },
  "language_info": {
   "codemirror_mode": {
    "name": "ipython",
    "version": 3
   },
   "file_extension": ".py",
   "mimetype": "text/x-python",
   "name": "python",
   "nbconvert_exporter": "python",
   "pygments_lexer": "ipython3",
   "version": "3.11.6"
  }
 },
 "nbformat": 4,
 "nbformat_minor": 5
}

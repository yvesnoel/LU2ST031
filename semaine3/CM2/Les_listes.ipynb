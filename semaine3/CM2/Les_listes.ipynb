{
 "cells": [
  {
   "cell_type": "markdown",
   "id": "70e54d6b-953d-432d-8ce8-b166cfe4b53a",
   "metadata": {
    "tags": []
   },
   "source": [
    "# Les listes\n",
    "## Créer des listes\n",
    "Nous avons vu au cours précédent plusieurs types d'objets différents: les <code>int</code>, les <code>float</code>, les <code>str</code>. Nous allons maintenant découvrir un nouveau type un peu plus complexe: les listes. Les listes sont des objets qui contiennent d'autres objets.\n",
    "\n",
    "Il existe un moyen simple de créer une liste en utilisant des crochets:"
   ]
  },
  {
   "cell_type": "code",
   "execution_count": 32,
   "id": "aa96232d-d4b4-48e6-be82-6cd727934144",
   "metadata": {},
   "outputs": [
    {
     "name": "stdout",
     "output_type": "stream",
     "text": [
      "[]\n"
     ]
    }
   ],
   "source": [
    "liste_vide = []\n",
    "print(liste_vide)"
   ]
  },
  {
   "cell_type": "markdown",
   "id": "add0ad10-aaa5-4e00-b8d4-0ccce8c9b927",
   "metadata": {},
   "source": [
    "Ici on instancie une nouvelle variable de type <code>list</code>, puis on l'affiche en utilisant <code>print</code>. Comme on ne lui a rien indiqué d'autre, la liste est vide. \n"
   ]
  },
  {
   "cell_type": "markdown",
   "id": "93c87ad3-ed43-4f05-9712-da8c0d8a78eb",
   "metadata": {},
   "source": [
    "```{admonition} À vous de jouer\n",
    ":class: example\n",
    "Essayez à votre tour de créer une liste vide nommée <code>liste_vide2</code>.\n",
    "```"
   ]
  },
  {
   "cell_type": "code",
   "execution_count": 33,
   "id": "bbcf1ad1-ade7-4bd1-b6df-b5d2958c462c",
   "metadata": {},
   "outputs": [],
   "source": [
    "### BEGIN SOLUTION\n",
    "liste_vide2 = []\n",
    "### END SOLUTION"
   ]
  },
  {
   "cell_type": "markdown",
   "id": "f0f1587c-be28-462b-bfab-dde7749a96bb",
   "metadata": {},
   "source": [
    "L'intérêt d'une liste est de pouvoir y mettre des objets, c'est à dire d'autres variables créées précédemment. On peut créer directement une liste avec des objets dedans. Pour cela, nous allons reprendre la notation entre crochets et lui indiquer quels objets on veut mettre dans notre liste. Voici un exemple avec 5 entiers:\n"
   ]
  },
  {
   "cell_type": "code",
   "execution_count": 34,
   "id": "06d05691-5a91-4f50-9d6e-e52a32b8ebfd",
   "metadata": {},
   "outputs": [
    {
     "name": "stdout",
     "output_type": "stream",
     "text": [
      "[1, 2, 3, 4, 5]\n"
     ]
    }
   ],
   "source": [
    "liste1 = [1, 2, 3, 4, 5] \n",
    "print(liste1)"
   ]
  },
  {
   "cell_type": "markdown",
   "id": "3a0e45ff-ff95-401a-9853-202cc46f64f1",
   "metadata": {},
   "source": [
    "Une liste est une séquence d'objets. Nous avons créé une premier liste contenant 0 objets, puis une seconde contenant 5 objets. C'est à vous de décider du contenu de la liste et de l'ordre des objets. En effet, la liste est un objet ordonné, l'ordre dans lequel on met les objets compte! L'exemple ci-dessous montre une autre liste contenant les mêmes objets mais dans un ordre différent :\n"
   ]
  },
  {
   "cell_type": "code",
   "execution_count": 35,
   "id": "24ff2343-395f-438e-aeb5-dc07c2c4cfb1",
   "metadata": {},
   "outputs": [
    {
     "name": "stdout",
     "output_type": "stream",
     "text": [
      "[5, 2, 4, 3, 1]\n"
     ]
    }
   ],
   "source": [
    "liste2 = [5, 2, 4, 3, 1]\n",
    "print(liste2)"
   ]
  },
  {
   "cell_type": "markdown",
   "id": "c40594f9-7552-4b24-a187-95083e586dbd",
   "metadata": {},
   "source": [
    "Les listes peuvent contenir de nombreux types d'objets: entiers, flottants, chaines de caractères, etc. Il est également possible de mixer les types. Une liste peut par exemple contenir des chaînes de caractères et des entiers. Enfin, il est possible de mettre dans une liste des variables précédemment créées."
   ]
  },
  {
   "cell_type": "code",
   "execution_count": 36,
   "id": "853c07bf-85be-475a-88ca-80e70e757d70",
   "metadata": {},
   "outputs": [
    {
     "name": "stdout",
     "output_type": "stream",
     "text": [
      "['a', 'b', 'c']\n",
      "['python', 2, 2, 2, 2, 4.51, []]\n",
      "[25, 4]\n"
     ]
    }
   ],
   "source": [
    "liste3 = ['a','b','c']  # liste de str\n",
    "print(liste3)\n",
    "\n",
    "liste4 = ['python', 2, 2, 2, 2, 4.51, []]  # liste contenant 4 types d'objets\n",
    "print(liste4)\n",
    "\n",
    "a = 25\n",
    "b = 4\n",
    "liste5 = [a, b]  # liste contenant deux variables a et b de type int (entiers)\n",
    "print(liste5)"
   ]
  },
  {
   "cell_type": "markdown",
   "id": "6f24033e-780e-4f0f-9071-fda20c03bc2d",
   "metadata": {},
   "source": [
    "Nous avons créé ici une liste contenant quatre objets de types différents : un entier, un flottant, une chaîne de caractères et… une autre liste."
   ]
  },
  {
   "cell_type": "markdown",
   "id": "5dde3abd-4551-4696-911a-49cf7aa0c5b3",
   "metadata": {},
   "source": [
    "```{admonition} À vous de jouer\n",
    ":class: example\n",
    "Essayez maintenant de créer une liste nommée <code>liste_6</code> contenant dans l'ordre toutes les listes crées précédemment (y compris les deux listes vides du début):\n",
    "```\n",
    "\n"
   ]
  },
  {
   "cell_type": "code",
   "execution_count": 37,
   "id": "3034e508-d871-4434-800d-7796ccb8c1b2",
   "metadata": {},
   "outputs": [],
   "source": [
    "### BEGIN SOLUTION\n",
    "liste_6 = [liste_vide, liste1, liste2, liste3, liste4, liste5]\n",
    "### END SOLUTION"
   ]
  },
  {
   "cell_type": "markdown",
   "id": "b7d9ab8e-3ca6-4a92-a09c-398da7392d20",
   "metadata": {},
   "source": [
    "## Accéder a un objet d’une liste\n",
    "Il est souvent nécessaire d'accéder à un élément particulier d'une liste. Pour accéder a un objet, il est possible d'utiliser son indice. Les objets contenus dans une liste possèdent chacun un indice. Le premier objet de la liste a pour indice 0, le second a pour indice 1, le troisième a pour indice 2, etc. L'indice peut-être utilisé pour accéder à un élément de la liste de la manière suivante:"
   ]
  },
  {
   "cell_type": "code",
   "execution_count": 38,
   "id": "bd521faa-7afd-43da-9074-b35325af3e15",
   "metadata": {},
   "outputs": [
    {
     "data": {
      "text/plain": [
       "'cailloux'"
      ]
     },
     "execution_count": 38,
     "metadata": {},
     "output_type": "execute_result"
    }
   ],
   "source": [
    "ma_liste = [\"cailloux\",\"graviers\",\"sables\",\"limons\",\"argiles\"]\n",
    "ma_liste[0] # On accède au premier élément de la liste"
   ]
  },
  {
   "cell_type": "markdown",
   "id": "5fcaf13f-c47c-4585-a7b8-6ac83000ae7c",
   "metadata": {},
   "source": [
    "L'objet ma_liste possède 4 objets associés à 4 indices:\n",
    "\n",
    "| Objet | Indice |\n",
    "| ----------|----|\n",
    "| cailloux    | 0  |   \n",
    "| graviers  | 1  |   \n",
    "| sables     | 2  |   \n",
    "| limons     | 3  |   \n",
    "\n",
    "```{admonition} Attention\n",
    ":class: warning\n",
    "Attention à ne pas confondre objet et indice quand les objets sont des entiers!\n",
    "```"
   ]
  },
  {
   "cell_type": "markdown",
   "id": "5037dbd8-fd9a-49c5-94be-8e576b5fcaaa",
   "metadata": {},
   "source": [
    "On peut également accéder à un élément via une expression:"
   ]
  },
  {
   "cell_type": "code",
   "execution_count": 39,
   "id": "48ae4782-315f-45b7-9450-b7333d79a45a",
   "metadata": {},
   "outputs": [
    {
     "data": {
      "text/plain": [
       "'sables'"
      ]
     },
     "execution_count": 39,
     "metadata": {},
     "output_type": "execute_result"
    }
   ],
   "source": [
    "i = 1\n",
    "ma_liste[i + 1] # On accède au troisième élément de la liste avec une expression"
   ]
  },
  {
   "cell_type": "markdown",
   "id": "7f846860-9ca1-4ed2-a251-f95417ed4564",
   "metadata": {},
   "source": [
    "Pour accéder au dernier élément de n'importe quelle liste, on peut utiliser l'indice -1. C'est assez pratique quand on ne connait pas la taille de la liste que l'on manipule:"
   ]
  },
  {
   "cell_type": "code",
   "execution_count": 9,
   "id": "4bd2b433-7e58-49ec-a217-ae4325bbccce",
   "metadata": {},
   "outputs": [
    {
     "data": {
      "text/plain": [
       "'argiles'"
      ]
     },
     "execution_count": 9,
     "metadata": {},
     "output_type": "execute_result"
    }
   ],
   "source": [
    "ma_liste[-1]  # dernier objet"
   ]
  },
  {
   "cell_type": "markdown",
   "id": "6030463a-6985-4202-b6e8-f12752e86e40",
   "metadata": {},
   "source": [
    "Plus généralement, on peut accéder à n'importe quel objet via un indice négatif. Ceux-ci s'écoulent en sens inverse, à partir de la fin de la liste\n",
    "\n",
    "| Objet | Indice positif | Indice négatif\n",
    "| --------- | -- | -- |\n",
    "| cailloux  | 0  |-4  |      \n",
    "| graviers  | 1  |-3  |      \n",
    "| sables    | 2  |-2  |      \n",
    "| limons    | 3  |-1  |      \n",
    "\n",
    "Analysons maintenant la ligne suivante:"
   ]
  },
  {
   "cell_type": "code",
   "execution_count": 10,
   "id": "9f63d46a-eb0e-47d5-9874-eb82f8358836",
   "metadata": {},
   "outputs": [
    {
     "ename": "IndexError",
     "evalue": "list index out of range",
     "output_type": "error",
     "traceback": [
      "\u001b[0;31m---------------------------------------------------------------------------\u001b[0m",
      "\u001b[0;31mIndexError\u001b[0m                                Traceback (most recent call last)",
      "\u001b[0;32m/tmp/ipykernel_12143/901313231.py\u001b[0m in \u001b[0;36m<module>\u001b[0;34m\u001b[0m\n\u001b[0;32m----> 1\u001b[0;31m \u001b[0mma_liste\u001b[0m\u001b[0;34m[\u001b[0m\u001b[0;36m5\u001b[0m\u001b[0;34m]\u001b[0m\u001b[0;34m\u001b[0m\u001b[0;34m\u001b[0m\u001b[0m\n\u001b[0m",
      "\u001b[0;31mIndexError\u001b[0m: list index out of range"
     ]
    }
   ],
   "source": [
    "ma_liste[5] "
   ]
  },
  {
   "cell_type": "markdown",
   "id": "31a347aa-6505-4e6d-b3c2-c2720f673200",
   "metadata": {},
   "source": [
    "Celle-ci renvoie une erreur. <code>IndexError</code> indique un problème de manipulation d'indices de listes (<code>list index out of range</code>). En l'occurence, on veut accéder au quatrième objet de ma_liste alors que celle-ci n'en contient pas. \n",
    "Remarquez que le message pointe également vers la ligne ou l'erreur a été détectée (<code>----> 1 ma_liste[3]</code>), ce qui va se révéler très utile lorsque vos scripts vont devenir plus longs"
   ]
  },
  {
   "cell_type": "markdown",
   "id": "9f23fbf1-90d7-4c9d-bd97-322fbc58ccdc",
   "metadata": {},
   "source": [
    "```{admonition} À vous de jouer\n",
    ":class: example\n",
    "Essayez maintenant d'accédez à l'entier <code>2</code> contenu dans la liste ci-dessous par son indice.\n",
    "```"
   ]
  },
  {
   "cell_type": "code",
   "execution_count": null,
   "id": "fea32086-4476-4a27-aea8-3daaea6eaa03",
   "metadata": {},
   "outputs": [],
   "source": [
    "int_liste = [1,2,3]"
   ]
  },
  {
   "cell_type": "code",
   "execution_count": null,
   "id": "fd2f8a7d-67c4-468c-b891-47bff641f05b",
   "metadata": {},
   "outputs": [],
   "source": [
    "### BEGIN SOLUTION\n",
    "int_liste[1]\n",
    "### END SOLUTION"
   ]
  },
  {
   "cell_type": "markdown",
   "id": "3489d327-b558-4c76-8964-211814156bab",
   "metadata": {},
   "source": [
    "## Accéder a une tranche d'objets\n",
    "\n",
    "Enfin, il est également possible à plusieurs objets d'un seul coup, en spécifiant un intervalle grâce aux <code>:</code>."
   ]
  },
  {
   "cell_type": "code",
   "execution_count": null,
   "id": "d1c29313-6b96-4827-9cc9-bf95e90c87bc",
   "metadata": {},
   "outputs": [],
   "source": [
    "ma_liste[:] #tout, équivalent à \"ma_liste\""
   ]
  },
  {
   "cell_type": "code",
   "execution_count": null,
   "id": "321589db-add3-4bb4-b067-89ea049fc29c",
   "metadata": {},
   "outputs": [],
   "source": [
    "ma_liste[:2] #tout jusqu’à l’indice 2 (exclu)"
   ]
  },
  {
   "cell_type": "code",
   "execution_count": null,
   "id": "b7e929fa-3a24-4417-94c6-ed38bda8d6e2",
   "metadata": {},
   "outputs": [],
   "source": [
    "ma_liste[2:] #tout à partir de l’indice 2 (inclus)"
   ]
  },
  {
   "cell_type": "code",
   "execution_count": null,
   "id": "6d43cdef-dc5a-4dc8-afcc-4fc7136f511d",
   "metadata": {},
   "outputs": [],
   "source": [
    "ma_liste[1:3] #tout à partir de l’indice 1 (inclus) jusqu’à l’indice 3 (exclu)"
   ]
  },
  {
   "cell_type": "markdown",
   "id": "dfc95031-ec3d-4f9e-bb7b-22ca93f58947",
   "metadata": {},
   "source": [
    "```{admonition} À vous de jouer\n",
    ":class: example\n",
    "Créez une liste appelée <code>pair</code> contenant tous les entiers pairs de 2 à 10. Puis, en utilisant <code>:</code>, extrayez les entiers 4, 6 et 8.\n",
    "```"
   ]
  },
  {
   "cell_type": "code",
   "execution_count": null,
   "id": "bbd03a02-cc43-426d-8852-d34cd321f20d",
   "metadata": {},
   "outputs": [],
   "source": [
    "### BEGIN SOLUTION\n",
    "pair = [2, 4, 6, 8, 10]\n",
    "pair[1:4]\n",
    "### END SOLUTION"
   ]
  },
  {
   "cell_type": "markdown",
   "id": "65a6aaa0-3f54-4b86-adbc-8cf2aaaa1f20",
   "metadata": {},
   "source": [
    "## Remplacer des objets dans une liste\n",
    "On peut assigner une nouvelle valeur aux objets de la liste:"
   ]
  },
  {
   "cell_type": "code",
   "execution_count": null,
   "id": "86c160eb-30d8-4b56-88e0-c190e43019e3",
   "metadata": {},
   "outputs": [],
   "source": [
    "ma_liste[2] = \"granulés\"\n",
    "print(ma_liste)"
   ]
  },
  {
   "cell_type": "markdown",
   "id": "51368609-656a-4f26-9512-5963326d1df2",
   "metadata": {},
   "source": [
    "Une liste n’est donc pas un objet figé, on peut modifier, supprimer, réorganiser les objets qu’elle contient. On dit alors que la liste est un type d’objet __mutable__ (pour modifiable)."
   ]
  },
  {
   "cell_type": "markdown",
   "id": "8814d895-2fd1-496e-ad4d-6a5be05ac9bb",
   "metadata": {
    "tags": []
   },
   "source": [
    "## Ajouter des objets dans une liste\n",
    "<code>append</code> est une méthode spécifique des listes. Elle permet d'ajouter un nouvel élément à la fin de la liste:"
   ]
  },
  {
   "cell_type": "code",
   "execution_count": null,
   "id": "970458e4-0eef-42bb-9dee-8d8f4361028d",
   "metadata": {},
   "outputs": [],
   "source": [
    "ma_liste.append(\"argiles\") # la chaîne de caractères \"argiles\" est placée en argument de la méthode append, ce qui l'ajoute à ma_liste\n",
    "print(ma_liste)"
   ]
  },
  {
   "cell_type": "markdown",
   "id": "242008c8-a56e-4d71-b89c-b1ac224bf999",
   "metadata": {},
   "source": [
    "```{admonition} Attention\n",
    ":class: warning\n",
    "Les méthodes de listes ne renvoient jamais rien mais modifient l'objet d'origine. En utilisant <code>append</code>, vous modifiez directement la liste, mais rien n'est renvoyé. Si on essaye de capturer le résultat dans une nouvelle variable <code>a</code> comme ceci: \n",
    "```"
   ]
  },
  {
   "cell_type": "code",
   "execution_count": null,
   "id": "32a88532-8436-466d-a92b-ee7fb118cc4f",
   "metadata": {},
   "outputs": [],
   "source": [
    "a = ma_liste.append(\"argiles\") # On capture le résultat de la méthode\n",
    "print(a)"
   ]
  },
  {
   "cell_type": "markdown",
   "id": "c6f2d544-9503-4ced-bd73-644048bfdb25",
   "metadata": {},
   "source": [
    "On voit que <code>a</code> ne contient rien car la méthode ne renvoie rien.\n",
    "Append permet d'ajouter un élément à la fin de la liste. La méthode <code>insert</code> permet elle d'insérer un élément à un endroit spécifique de la liste, et pas nécessairement à la fin. Cette méthode prend deux arguments, en premier l'indice où le nouvel objet doit être ajouté (les éléments suivants sont décalés et changent donc d'indice), et en second l'objet à ajouter:"
   ]
  },
  {
   "cell_type": "code",
   "execution_count": null,
   "id": "269c700e-b53c-469a-a2b7-f41aa6380a69",
   "metadata": {},
   "outputs": [],
   "source": [
    "ma_liste.insert(2, \"sables grossiers\") \n",
    "print(ma_liste)"
   ]
  },
  {
   "cell_type": "markdown",
   "id": "58e4cb0d-a3f4-4a8d-9dd2-69a98716da04",
   "metadata": {},
   "source": [
    "```{admonition} À vous de jouer\n",
    ":class: example\n",
    "Que dois-je écrire si je veux rajouter le nombre 3 à la liste ci-dessous entre le 4 et le 12 en utilisant une méthode de liste?\n",
    "```"
   ]
  },
  {
   "cell_type": "code",
   "execution_count": 11,
   "id": "b5284170-d766-4db8-b067-228040f76291",
   "metadata": {},
   "outputs": [],
   "source": [
    "L = [1, 5, 4, 12]"
   ]
  },
  {
   "cell_type": "code",
   "execution_count": 12,
   "id": "e600d021-dc98-4cea-82a5-f9048bc402ed",
   "metadata": {},
   "outputs": [],
   "source": [
    "### BEGIN SOLUTION\n",
    "L.insert(3, 3) \n",
    "### END SOLUTION"
   ]
  },
  {
   "cell_type": "markdown",
   "id": "2e942754-e193-412a-8fb2-795ff96f27d0",
   "metadata": {},
   "source": [
    "## Supprimer des objets d’une liste\n",
    "Il existe plusieurs manières de supprimer des objets dans une liste. Lorsque l'on connaît l'indice de l'objet à supprimer, il est possible d'utiliser <code>del</code>:"
   ]
  },
  {
   "cell_type": "code",
   "execution_count": null,
   "id": "20f7bbc5-2ef4-487a-a2f4-1541fccb13ec",
   "metadata": {},
   "outputs": [],
   "source": [
    "del ma_liste[3] # On supprime le quatrième élément de la liste\n",
    "print(ma_liste)"
   ]
  },
  {
   "cell_type": "markdown",
   "id": "ac3b45a7-5fb9-41ef-9adc-1319f2c222be",
   "metadata": {},
   "source": [
    "Si on connaît la valeur de l'objet à supprimer, on peut également utiliser la méthode <code>remove</code> en lui donnant la valeur de la variable en argument:"
   ]
  },
  {
   "cell_type": "code",
   "execution_count": null,
   "id": "e271234d-a419-4893-a1d2-36534581223b",
   "metadata": {},
   "outputs": [],
   "source": [
    "ma_liste.remove(\"sables grossiers\")\n",
    "print(ma_liste)"
   ]
  },
  {
   "cell_type": "markdown",
   "id": "9ce87979-1091-4027-9888-b2beac3e91b1",
   "metadata": {},
   "source": [
    "Notez que si \"sables grossiers\" existe plusieurs fois dans ma_liste, seule la première occurence sera supprimée."
   ]
  },
  {
   "cell_type": "markdown",
   "id": "f9c2294a-e647-4b91-b749-8e839d17c487",
   "metadata": {},
   "source": [
    "## Concaténer des listes\n",
    "Il peut être intéressant de fusionner plusieurs listes en une seule. Pour cela, la méthode <code>extend</code> est parfaitement adaptée:"
   ]
  },
  {
   "cell_type": "code",
   "execution_count": null,
   "id": "1016a369-7040-41e2-af62-87e932ec1305",
   "metadata": {},
   "outputs": [],
   "source": [
    "ma_liste2 = [\"feldspath\", \"plagioclase\"]\n",
    "ma_liste.extend(ma_liste2)\n",
    "print(ma_liste)"
   ]
  },
  {
   "cell_type": "markdown",
   "id": "1b5c96d5-c5cf-4e79-a7a0-3d3fc16485c2",
   "metadata": {},
   "source": [
    "Il est également possible de simplement additionner les deux listes:"
   ]
  },
  {
   "cell_type": "code",
   "execution_count": null,
   "id": "92192afa-e5c9-460b-a861-0dee29e5ba24",
   "metadata": {},
   "outputs": [],
   "source": [
    "ma_liste = ['cailloux', 'graviers', 'sables', 'limons', 'argiles']\n",
    "ma_liste + ma_liste2\n",
    "print(ma_liste)"
   ]
  },
  {
   "cell_type": "markdown",
   "id": "e63b2785-10e3-4b53-8e4d-2926e7b42335",
   "metadata": {},
   "source": [
    "On peut voir ici que le résultat n'a pas été enregistré. Une opération, contrairement à une méthode, ne modifie rien: elle renvoie un nouveau résultat. La concaténation à seulement renvoyé une nouvelle liste. Il faut donc la capturer dans une nouvelle variable:"
   ]
  },
  {
   "cell_type": "code",
   "execution_count": null,
   "id": "858ff469-d65f-44c2-926e-c1f89012551a",
   "metadata": {},
   "outputs": [],
   "source": [
    "ma_liste3 = ma_liste + ma_liste2\n",
    "print(ma_liste)"
   ]
  },
  {
   "cell_type": "markdown",
   "id": "7842181f-0712-4ed0-b6eb-8c46fcdb36b1",
   "metadata": {},
   "source": [
    "Une alternative plus simple peut s'écrire comme ceci:"
   ]
  },
  {
   "cell_type": "code",
   "execution_count": null,
   "id": "2632756e-e332-419b-b044-41fabf174679",
   "metadata": {},
   "outputs": [],
   "source": [
    "ma_liste += ma_liste2 # On modifie ma_liste en concaténant a elle ma_liste2.\n",
    "print(ma_liste)"
   ]
  },
  {
   "cell_type": "markdown",
   "id": "32a242d3-2b77-45c7-bb86-2d1b423ccab5",
   "metadata": {},
   "source": [
    "```{admonition} À vous de jouer\n",
    ":class: example\n",
    "A partir de <code>ma_liste</code>, vous devez doubler les variables comme ceci: <code>['cailloux', 'graviers', 'sables', 'limons', 'argiles', 'cailloux', 'graviers', 'sables', 'limons', 'argiles']</code>. Comment feriez-vous?\n",
    "```"
   ]
  },
  {
   "cell_type": "code",
   "execution_count": 25,
   "id": "ae6bc9f9-e345-4663-b87a-ba3e32b5d176",
   "metadata": {},
   "outputs": [],
   "source": [
    "ma_liste = ['cailloux', 'graviers', 'sables', 'limons', 'argiles']"
   ]
  },
  {
   "cell_type": "code",
   "execution_count": 24,
   "id": "09858147-50a8-4162-bdd1-f11fd54c3719",
   "metadata": {},
   "outputs": [],
   "source": [
    "### BEGIN SOLUTION\n",
    "ma_liste += ma_liste\n",
    "### END SOLUTION"
   ]
  },
  {
   "cell_type": "markdown",
   "id": "7e420b03-2643-492f-a2d4-23a53f5893dd",
   "metadata": {},
   "source": [
    "## Listes de listes\n",
    "Nous avons dit précédemment qu'une liste pouvait contenir de nombreux types différents. Il peut être intéressant d'imbriquer des listes dans des listes:"
   ]
  },
  {
   "cell_type": "code",
   "execution_count": 18,
   "id": "ebce51a3-c92e-4321-99c7-84313536103e",
   "metadata": {},
   "outputs": [
    {
     "name": "stdout",
     "output_type": "stream",
     "text": [
      "[['Albite', 'Anorthite'], ['Forstérite', 'Fayalite']]\n"
     ]
    }
   ],
   "source": [
    "ma_liste3 = [\"Albite\",\"Anorthite\"] # une liste\n",
    "ma_liste4 = [\"Forstérite\",\"Fayalite\"] # une seconde\n",
    "ma_liste_5 = [ma_liste3, ma_liste4] # une troisième, qui imbrique les deux premières\n",
    "print(ma_liste_5)"
   ]
  },
  {
   "cell_type": "code",
   "execution_count": 19,
   "id": "9c3fd3f1-7e51-4dc1-8b47-b55b4ebdc860",
   "metadata": {},
   "outputs": [
    {
     "name": "stdout",
     "output_type": "stream",
     "text": [
      "[['Albite', 'Anorthite'], ['Forstérite', 'Fayalite']]\n"
     ]
    }
   ],
   "source": [
    "ma_liste2 = [[\"Albite\",\"Anorthite\"], [\"Forstérite\",\"Fayalite\"]] # il est également possible d'atteindre ce résultat en une ligne\n",
    "print(ma_liste2)"
   ]
  },
  {
   "cell_type": "markdown",
   "id": "f7e8f956-7ce7-4dbf-ac21-4a57b8cbb531",
   "metadata": {},
   "source": [
    "## Taille d’une liste\n",
    "Il est souvent important de savoir quelle taille fait une liste, c'est à dire combien d'objets la composent:"
   ]
  },
  {
   "cell_type": "code",
   "execution_count": 16,
   "id": "89da48d1-2463-4a23-b442-8e1558cafaa7",
   "metadata": {},
   "outputs": [
    {
     "data": {
      "text/plain": [
       "5"
      ]
     },
     "execution_count": 16,
     "metadata": {},
     "output_type": "execute_result"
    }
   ],
   "source": [
    "len(ma_liste) # cette liste contient 9 éléments"
   ]
  },
  {
   "cell_type": "code",
   "execution_count": 17,
   "id": "8e980196-b102-4ad3-af4b-91a7b74395ca",
   "metadata": {},
   "outputs": [
    {
     "data": {
      "text/plain": [
       "2"
      ]
     },
     "execution_count": 17,
     "metadata": {},
     "output_type": "execute_result"
    }
   ],
   "source": [
    "len(ma_liste2) # celle-ci en contient 2 (une liste contenant deux listes)"
   ]
  },
  {
   "cell_type": "markdown",
   "id": "02d50f72-4d9e-43a2-8497-b2cff00a2f30",
   "metadata": {},
   "source": [
    "```{admonition} À vous de jouer\n",
    ":class: example\n",
    "Créez une liste appelée <code>pair</code> contenant tous les entiers pairs de 2 à 10. Puis, en utilisant <code>:</code>, extrayez les entiers 4, 6 et 8.\n",
    "```💻 Créez une nouvelle liste <code>elements</code> contenant dans l'ordre les éléments Mg, Na, et Fe dans l'ordre. Puis ajouter à la fin de la liste sa taille que vous aurez obtenu avec <code>len</code>."
   ]
  },
  {
   "cell_type": "code",
   "execution_count": 31,
   "id": "ae6f0eb9-8cbb-45e2-b9f2-923bc004fac9",
   "metadata": {},
   "outputs": [],
   "source": [
    "### BEGIN SOLUTION\n",
    "elements = [\"Mg\", \"Na\", \"Fe\"]\n",
    "elements.append(len(elements))\n",
    "### END SOLUTION"
   ]
  },
  {
   "cell_type": "markdown",
   "id": "1a5b0a95-90bb-4d15-93e8-58275fee8e10",
   "metadata": {},
   "source": [
    "## 🚀 Pour aller plus loin: quelques autres types intéressants\n",
    "\n",
    "Les listes sont des objets puissants permettant d'enregistrer et de classer facilement des variables. Mais d'autres types similaires existent:\n",
    "- Une liste mais qui ne peut plus être modifiée après sa création ? Il s'agit des __tuples__!"
   ]
  },
  {
   "cell_type": "code",
   "execution_count": null,
   "id": "f538baf3-59c4-49a1-a19f-a55407dcfd8e",
   "metadata": {},
   "outputs": [],
   "source": [
    "tupleint = (1, 2, 5)"
   ]
  },
  {
   "cell_type": "markdown",
   "id": "99ff5653-8cef-48a6-aa32-cb20b051b5c4",
   "metadata": {},
   "source": [
    "On créé un tuple avec des parenthèses pour le distinguer des listes entre crochets. Le tuple est la version immutable de la la liste.\n",
    "Souvent on n’utilise pas directement un tuple mais d’une manière un peu détournée, comme ici:"
   ]
  },
  {
   "cell_type": "code",
   "execution_count": 21,
   "id": "00b4d694-869c-4709-a524-1396508faee2",
   "metadata": {},
   "outputs": [],
   "source": [
    "a, b = 3, 4 # ceci est un tuple! Il permet de créer deux variables en une seule ligne"
   ]
  },
  {
   "cell_type": "markdown",
   "id": "63ab03a9-16f4-4ac6-9ba0-bb9d4f7872f3",
   "metadata": {},
   "source": [
    "- Une liste mais sans ordre? Le __set__ (un ensemble) est la version non-ordonnée de la liste. Un set contient plusieurs éléments, mais ceux-ci ne sont pas ordonnés et n’ont pas d’indices. Ils servent à d’autres types d’opérations que nous verrons plus tard. Les ensembles se créent avec des accolades."
   ]
  },
  {
   "cell_type": "code",
   "execution_count": 29,
   "id": "677f57de-ca98-4d90-ba1f-7f2c3c8019f6",
   "metadata": {},
   "outputs": [
    {
     "data": {
      "text/plain": [
       "True"
      ]
     },
     "execution_count": 29,
     "metadata": {},
     "output_type": "execute_result"
    }
   ],
   "source": [
    "mineraux1 = {\"Albite\",\"Anorthite\"}\n",
    "\n",
    "mineraux2 = {\"Anorthite\",\"Albite\"}\n",
    "\n",
    "mineraux1 == mineraux2 # renvoie True si les objets sont identiques"
   ]
  },
  {
   "cell_type": "markdown",
   "id": "68ee5bd6-cd65-4cea-bf02-a6d0dfdb88c6",
   "metadata": {},
   "source": [
    "Les deux sets sont identiques: l'ordre n'importe pas."
   ]
  }
 ],
 "metadata": {
  "kernelspec": {
   "display_name": "Python 3 (ipykernel)",
   "language": "python",
   "name": "python3"
  },
  "language_info": {
   "codemirror_mode": {
    "name": "ipython",
    "version": 3
   },
   "file_extension": ".py",
   "mimetype": "text/x-python",
   "name": "python",
   "nbconvert_exporter": "python",
   "pygments_lexer": "ipython3",
   "version": "3.9.13"
  }
 },
 "nbformat": 4,
 "nbformat_minor": 5
}

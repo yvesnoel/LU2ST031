{
 "cells": [
  {
   "cell_type": "markdown",
   "id": "5c61ac7a-6a5a-4864-bafe-8e66f47067a4",
   "metadata": {
    "tags": [],
    "user_expressions": []
   },
   "source": [
    "# TP 1"
   ]
  },
  {
   "cell_type": "markdown",
   "id": "dabe7a4e-8df0-45ee-adab-ef501f9bc120",
   "metadata": {
    "tags": [],
    "user_expressions": []
   },
   "source": [
    "## Introduction\n",
    "Bienvenue sur JupyterHub. Vous êtes dans le notebook du TP n°1. \n",
    "[Nous avons vu](https://yvesnoel.github.io/LU2ST031/semaine1/CM0/Introduction.html) qu'un notebook est constitué de cellules. \n",
    "Ces cellules peuvent contenir du code Python ou bien du text Markdown ([mémo Markdown ici](https://www.markdownguide.org/cheat-sheet/)). \n",
    "Dans les notebooks de cours, vous trouverez une alternance de textes (introduction, énoncés, explications) \n",
    "et de code Python (exemples, code à compléter ou modifier, ou code à créer complètement.\n",
    "Certaines cellules ne sont pas modifiables, d'autres le sont si vous le désirez et d'autres encore DOIVENT être complétez (et seront évaluées).\n",
    "Lorsque vous aurez terminé ce TP, vous le soumettrez grâce à Jupyterhub (cf procédure ici). \n",
    "Votre enseignant pourra alors le récupérer, le corriger si besoin et faire des remarques éventuelles. \n",
    "\n",
    "Lors de cette séance vous allez découvrir l'environement que nous utiliserons tout au long du semestre.\n",
    "Vous êt"
   ]
  },
  {
   "cell_type": "markdown",
   "id": "4eb0a5d2-f103-443b-880b-533f8a3baabb",
   "metadata": {
    "tags": [],
    "user_expressions": []
   },
   "source": [
    "```{admonition} Objectifs\n",
    ":class: hint\n",
    "A l'issue de ce TP, vous serez capable de :\n",
    "- reconnaître le type d'une expression\n",
    "- évaluer une expression comme le ferait Python en appliquant les règles de priorité\n",
    "- traduire une expression mathématique relativement simple en une expression Python\n",
    "- affecter le résultat d'une expression à une variable\n",
    "- utiliser le contenu d'une variable dans une expression\n",
    "- reconnaître le type d'une variable déjà existante\n",
    "- modifier le contenu d'une variable déjà existante\n",
    "```"
   ]
  },
  {
   "cell_type": "markdown",
   "id": "3bd695bf-19a8-497a-85f6-48793cf13f89",
   "metadata": {
    "tags": [],
    "user_expressions": []
   },
   "source": [
    "## Exercice 1\n",
    "Ecrire une expression qui effectue le calcul suivant : $$\\frac{4+3\\times 5^2}{2\\times 4-6}$$"
   ]
  },
  {
   "cell_type": "code",
   "execution_count": null,
   "id": "0ccc6bf9-8f2d-47a5-8c59-481cb8663f7a",
   "metadata": {},
   "outputs": [],
   "source": [
    "# Exercice 1\n"
   ]
  },
  {
   "cell_type": "markdown",
   "id": "0950dbcd-68b6-42b2-ab9d-ade92cc047cb",
   "metadata": {
    "tags": [],
    "user_expressions": []
   },
   "source": [
    "## Exercice 2\n",
    "Ecrire le code correspondant à la description suivante. \n",
    "- Affecter 8 à la variable `x`.\n",
    "- Affecter le carré de la valeur contenue dans  `x` à la variable `y` (sans écrire explicitement 64).\n",
    "- Augmenter le contenu de `x` de 3\n",
    "- Diviser le contenu de `y` par 6\n",
    "- Imprimer à l'écran le contenu de `x`\n",
    "- Imprimer à l'écran le type de `y`\n",
    "- Imprimer à l'écran le type de l'expression `x > y + 1`"
   ]
  },
  {
   "cell_type": "code",
   "execution_count": 1,
   "id": "cc96fefb-a4f2-4ab5-95b8-9c5b878741e8",
   "metadata": {},
   "outputs": [],
   "source": [
    "# Exercice 2\n",
    "\n",
    "\n",
    "\n",
    "\n",
    "\n"
   ]
  },
  {
   "cell_type": "markdown",
   "id": "5efd7eea-38be-4296-bfec-c8fb0c6144aa",
   "metadata": {
    "tags": [],
    "user_expressions": []
   },
   "source": [
    "## Exercice 3\n",
    "Compléter le code ci-dessous pour qu'il imprime le message :\\\n",
    "Sorbonne Université - Sorbonne Université - Sorbonne Université - Sorbonne Université"
   ]
  },
  {
   "cell_type": "code",
   "execution_count": null,
   "id": "967d0caa-c862-4d28-90d6-922210212efc",
   "metadata": {
    "tags": [
     "remove-output"
    ]
   },
   "outputs": [],
   "source": [
    "# Exercice 3\n",
    "chaine1 = \"Sorbonne\"\n",
    "Chaine2 = \"Université\"\n",
    "chaines_concatenees = \n",
    "séparateur = \n",
    "chaine_repetee = \n",
    "message_final =\n",
    "print(message_final)"
   ]
  },
  {
   "cell_type": "code",
   "execution_count": 12,
   "id": "facbae02-bd88-4871-babd-d7c748f495e6",
   "metadata": {},
   "outputs": [
    {
     "data": {
      "text/plain": [
       "' Yeah ! Yeah ! Yeah !'"
      ]
     },
     "execution_count": 12,
     "metadata": {},
     "output_type": "execute_result"
    }
   ],
   "source": [
    "\" Yeah !\"*3"
   ]
  }
 ],
 "metadata": {
  "kernelspec": {
   "display_name": "Python 3 (ipykernel)",
   "language": "python",
   "name": "python3"
  },
  "language_info": {
   "codemirror_mode": {
    "name": "ipython",
    "version": 3
   },
   "file_extension": ".py",
   "mimetype": "text/x-python",
   "name": "python",
   "nbconvert_exporter": "python",
   "pygments_lexer": "ipython3",
   "version": "3.9.13"
  }
 },
 "nbformat": 4,
 "nbformat_minor": 5
}
